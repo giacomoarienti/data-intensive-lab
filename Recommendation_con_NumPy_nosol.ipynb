{
  "cells": [
    {
      "cell_type": "markdown",
      "metadata": {
        "id": "view-in-github",
        "colab_type": "text"
      },
      "source": [
        "<a href=\"https://colab.research.google.com/github/giacomoarienti/data-intensive-lab/blob/master/Recommendation_con_NumPy_nosol.ipynb\" target=\"_parent\"><img src=\"https://colab.research.google.com/assets/colab-badge.svg\" alt=\"Open In Colab\"/></a>"
      ]
    },
    {
      "cell_type": "markdown",
      "metadata": {
        "id": "5XjOeSHpPgUs"
      },
      "source": [
        "# Laboratorio: Recommendation con Algebra Lineare e NumPy\n",
        "\n",
        "**Programmazione di Applicazioni Data Intensive**  \n",
        "Laurea in Ingegneria e Scienze Informatiche  \n",
        "DISI - Università di Bologna, Cesena\n",
        "\n",
        "Proff. Gianluca Moro, Roberto Pasolini  \n",
        "nome.cognome@unibo.it"
      ]
    },
    {
      "cell_type": "markdown",
      "metadata": {
        "id": "-sip52R-PgUt"
      },
      "source": [
        "## Introduzione a Jupyter/Colab\n",
        "\n",
        "Questo è un file notebook Jupyter (`.ipynb`), composto da una sequenza di:\n",
        "\n",
        "- celle contenenti testo formattato, come questa\n",
        "- celle contenenti codice Python eseguibile\n",
        "\n",
        "Questo è un esempio di cella di codice:"
      ]
    },
    {
      "cell_type": "code",
      "execution_count": 1,
      "metadata": {
        "id": "YtXmx2JjPgUu",
        "outputId": "5f9c789d-f9a0-4095-e0f6-39fef67dd783",
        "colab": {
          "base_uri": "https://localhost:8080/"
        }
      },
      "outputs": [
        {
          "output_type": "execute_result",
          "data": {
            "text/plain": [
              "42"
            ]
          },
          "metadata": {},
          "execution_count": 1
        }
      ],
      "source": [
        "20 + 20 + 2"
      ]
    },
    {
      "cell_type": "markdown",
      "metadata": {
        "id": "5cxqDKumPgUv"
      },
      "source": [
        "Le celle di codice possono essere eseguite una alla volta: eseguendo una cella viene riportato sotto la stessa il risultato dell'espressione inserita e/o qualsiasi output ottenuto da `print` o simili.\n",
        "\n",
        "Cliccare sulla cella e premere **Maiusc + Invio** per eseguirla: il risultato dell'espressione comparirà sotto.\n",
        "\n",
        "Tutte le celle di codice all'interno di un notebook possono essere modificate e rieseguite liberamente.\n",
        "\n",
        "_**Importante!** Al contrario di quanto accade nei fogli di calcolo, in Jupyter modificando e rieseguendo una cella **NON** vengono automaticamente aggiornati i risultati delle altre! Ad esempio, se nella prima cella di un notebook si cambia il valore di una variabile da cui dipendono le celle sotto, queste dovranno essere rieseguite esplicitamente per aggiornarne i risultati. Per questo i menu in alto contengono comandi per eseguire in sequenza tutte le celle sopra o sotto quella selezionata._\n",
        "\n",
        "Si può aggiungere una nuova cella di codice sotto a quella corrente\n",
        "  - cliccando sul pulsante \"+ Code\" che appare tra le celle in Colab\n",
        "  - cliccando sul pulsante \"+\" in alto in Jupyter"
      ]
    },
    {
      "cell_type": "markdown",
      "metadata": {
        "id": "gMnLNMO2PgUw"
      },
      "source": [
        "### Comandi principali da tastiera\n",
        "\n",
        "- **Ctrl + Invio**: esegui cella corrente\n",
        "- **Maiusc + Invio**: esegui cella corrente e seleziona la successiva\n",
        "- **Esc**: termina modifica (senza eseguire)\n",
        "\n",
        "I comandi sotto funzionano sulla cella selezionata solo se non se ne sta modificando il contenuto:\n",
        "- **Invio**: modifica contenuto\n",
        "- **A/B**: crea nuova cella sopra/sotto\n",
        "- **Ctrl+M** seguito da **D**: elimina cella (due volte D in Jupyter)"
      ]
    },
    {
      "cell_type": "markdown",
      "metadata": {
        "tags": [],
        "id": "ZoxWwP1OPgUw"
      },
      "source": [
        "### Autocompletamento e inline help\n",
        "\n",
        "Nelle celle di codice sono forniti suggerimenti sul completamento di un nome di variabile, funzione, ecc.\n",
        "- si provi ad es. a creare una cella di codice (tasto B), e digitare \"so\"\n",
        "- attivare l'autocompletamento con Ctrl+Invio su Colab o con Tab su Jupyter\n",
        "- l'autocompletamento suggerisce ad es. la funzione `sorted`\n",
        "\n",
        "Per ottenere informazioni in linea su una funzione o metodo `foo`, eseguire una cella con `foo?`\n",
        "- in alternativa, usare la funzione `help` di Python: `help(foo)`"
      ]
    },
    {
      "cell_type": "code",
      "execution_count": 2,
      "metadata": {
        "id": "Dck4U0JLPgUx"
      },
      "outputs": [],
      "source": [
        "len?"
      ]
    },
    {
      "cell_type": "code",
      "execution_count": 3,
      "metadata": {
        "id": "8n158TW8PgUy"
      },
      "outputs": [],
      "source": [
        "list.append?"
      ]
    },
    {
      "cell_type": "markdown",
      "metadata": {
        "id": "KJO_1kuBPgUy"
      },
      "source": [
        "## Test librerie\n",
        "\n",
        "NumPy si trova preinstallato su Colab e Anaconda. Eseguire la seguente cella per verificare il corretto funzionamento di NumPy."
      ]
    },
    {
      "cell_type": "code",
      "execution_count": 4,
      "metadata": {
        "id": "gGtugDmtPgUz",
        "outputId": "5327c720-f170-4086-ee2e-937ccf9265f9",
        "colab": {
          "base_uri": "https://localhost:8080/"
        }
      },
      "outputs": [
        {
          "output_type": "execute_result",
          "data": {
            "text/plain": [
              "42"
            ]
          },
          "metadata": {},
          "execution_count": 4
        }
      ],
      "source": [
        "import numpy as np\n",
        "np.array([2, 6, 10, 24]).sum()"
      ]
    },
    {
      "cell_type": "markdown",
      "metadata": {
        "id": "K7FQ8meiPgU0"
      },
      "source": [
        "- In caso di errore, verificare di stare utilizzando il kernel corretto e che NumPy sia installato in esso\n",
        "- Per installare NumPy all'interno dell'ambiente virtuale corrente (può dare errore per permessi insufficienti in caso non si stia utilizzando un ambiente virtuale):"
      ]
    },
    {
      "cell_type": "code",
      "execution_count": 5,
      "metadata": {
        "id": "xctS7JqvPgU0"
      },
      "outputs": [],
      "source": [
        "# rimuovere il \"#\" nella riga sotto per abilitare il comando\n",
        "#pip install numpy"
      ]
    },
    {
      "cell_type": "markdown",
      "metadata": {
        "id": "cFWnDMgVPgU0"
      },
      "source": [
        "## Recommendation: Prevedere le propensioni di acquisto dei clienti\n",
        "\n",
        "Ogni azienda ha i dati storici di acquisto di ciascun cliente/utente.\n",
        "\n",
        "Vogliamo **raccomandare/suggerire ai singoli utenti quali prodotti acquistare**, proponendo a ciascuno i prodotti acquistati da altri utenti che in precedenza hanno effettuato acquisti comuni ad esso.\n",
        "\n",
        "Vediamo come risolvere questo problema utilizzando i concetti dell'**algebra lineare**, rappresentando i dati come **vettori e matrici** ed eseguendo operazioni tra essi.\n",
        "\n",
        "Usiamo come esempio un set di dati ricavato da vendite su Amazon."
      ]
    },
    {
      "cell_type": "markdown",
      "metadata": {
        "id": "iEluku7iPgU0"
      },
      "source": [
        "## Scaricamento file dati\n",
        "\n",
        "Un archivio ZIP con i file necessari per l'esercitazione si trova all'URL https://git.io/fhxQh\n",
        "\n",
        "Come passaggi preliminari per lavorare sul problema dovremmo:\n",
        "- verificare i dati sono già presenti nella directory di lavoro;\n",
        "- se non lo sono, scaricare il file ZIP che li contiene ed estrarne i file nella cartella corrente.\n",
        "\n",
        "La libreria standard di Python fornisce funzioni per eseguire agevolmente tutte queste operazioni. Eseguire la cella sotto per ottenere i file da utilizzare per l'esercitazione."
      ]
    },
    {
      "cell_type": "code",
      "execution_count": 6,
      "metadata": {
        "id": "Y9R15RTXPgU1"
      },
      "outputs": [],
      "source": [
        "# importo moduli e funzioni necessarie dalla libreria standard\n",
        "import os.path\n",
        "from urllib.request import urlretrieve\n",
        "from zipfile import ZipFile\n",
        "\n",
        "# se il file \"purchases_data.zip\" non esiste\n",
        "if not os.path.exists(\"purchases_data.zip\"):\n",
        "    # scarica il file dall'URL indicato\n",
        "    urlretrieve(\"https://git.io/fhxQh\", \"purchases_data.zip\")\n",
        "    # apri il file zip ed estrai tutto il contenuto nella directory corrente\n",
        "    with ZipFile(\"purchases_data.zip\") as f:\n",
        "        f.extractall()"
      ]
    },
    {
      "cell_type": "markdown",
      "metadata": {
        "id": "DXV_ryYuPgU1"
      },
      "source": [
        "## Caricamento dati\n",
        "\n",
        "Il file `users.csv` contiene un elenco degli utenti coinvolti nell'analisi, quelli con almeno 30 acquisti nello storico.\n",
        "\n",
        "È un file CSV (_Comma Separated Values_) contenente una riga per ogni utente nel formato `IdUtente;Nome`.\n",
        "\n",
        "Possiamo leggere tali file usando il modulo `csv` della libreria standard di Python."
      ]
    },
    {
      "cell_type": "code",
      "execution_count": 7,
      "metadata": {
        "id": "uikiO8WUPgU1"
      },
      "outputs": [],
      "source": [
        "import csv"
      ]
    },
    {
      "cell_type": "markdown",
      "metadata": {
        "id": "hkPyq9XYPgU3"
      },
      "source": [
        "Vogliamo creare un dizionario `users` e inserire in esso un elemento per ogni utente, la cui chiave sia l'ID e il cui valore sia il nome.\n",
        "\n",
        "1. Usiamo il costrutto `with` e la funzione `open` per aprire il file e chiuderlo automaticamente dopo l'utilizzo.\n",
        "2. All'interno di `with` creiamo un oggetto `csv.reader` che interpreta il file passato come CSV e ne restituisce le righe scomposte in valori.\n",
        "3. Usiamo una _comprehension_ per definire un dizionario con una coppia chiave-valore per ogni riga letta dal file, usando `int` per convertire gli ID da stringhe a numeri."
      ]
    },
    {
      "cell_type": "code",
      "execution_count": 8,
      "metadata": {
        "id": "MQ0z2pXjPgU3"
      },
      "outputs": [],
      "source": [
        "with open(\"users.csv\", \"r\") as f:                     # 1\n",
        "    reader = csv.reader(f, delimiter=\";\")             # 2\n",
        "    users = {int(uid): name for uid, name in reader}  # 3"
      ]
    },
    {
      "cell_type": "code",
      "source": [
        "users"
      ],
      "metadata": {
        "id": "Fv8T7ywTRxh2",
        "outputId": "b7cbd372-3c53-4972-c727-22a4c4734e0e",
        "colab": {
          "base_uri": "https://localhost:8080/"
        }
      },
      "execution_count": 9,
      "outputs": [
        {
          "output_type": "execute_result",
          "data": {
            "text/plain": [
              "{84: 'malachix',\n",
              " 7661: 'Kevin Alphonso',\n",
              " 22759: 'tropic_of_criticism',\n",
              " 27153: 'Joe Owen \"Joe\"',\n",
              " 42298: 'Zane',\n",
              " 44082: 'David Robson',\n",
              " 48144: 'Alan R. Holyoak',\n",
              " 52797: 'Mr N Forbes-warren \"author of RESURGENCE and ...',\n",
              " 58135: 'Jacques COULARDEAU \"A soul doctor, so to say\"',\n",
              " 62023: 'Martin Turner \"book reviewer\"',\n",
              " 63776: 'brent been',\n",
              " 81819: 'dsrussell \"greyhater\"',\n",
              " 82397: 'juno2',\n",
              " 83632: 'MOVIE_NUT74@HOTMAIL.COM',\n",
              " 93938: 'laddie5',\n",
              " 109403: 'Studebaker Hoch, billythemtn@geocities.com',\n",
              " 110576: 'LUCIEN LESSARD',\n",
              " 116105: 'Michael J. Berquist',\n",
              " 116614: 'behet@stud.uni-frankfurt.de',\n",
              " 125462: 'Alex Udvary',\n",
              " 125883: 'flickjunkie',\n",
              " 126922: 'Sean Ares Hirsch',\n",
              " 130054: 'lecorel@hotmail.com',\n",
              " 138128: 'zara_azari',\n",
              " 140844: 'yygsgsdrassil \"yygsgsdrassil\"',\n",
              " 158428: 'Vincent Tesi \"Vinny\"',\n",
              " 158855: 'NEO-CS- \"Cyber Soldier\"',\n",
              " 164121: 'Dustin J. Hetke',\n",
              " 165618: 'Scott T. Rivers',\n",
              " 172716: 'Aaron Amos',\n",
              " 187485: 'jakelamotta',\n",
              " 188455: 'A. Andersen',\n",
              " 190242: 'snlkidsinhall',\n",
              " 192779: 'S. Schell',\n",
              " 218221: 'Dennis Littrell',\n",
              " 218789: 'N. Schoenfeld',\n",
              " 224067: 'R. Penola',\n",
              " 229993: 'Hayley',\n",
              " 231204: 'Seifer',\n",
              " 239871: 'Mark Twain \"Sam\"',\n",
              " 260996: 'Sam Damon Jr.',\n",
              " 261279: 'Dennis A. Amith (kndy)',\n",
              " 274676: 'carolyn5000',\n",
              " 279452: 'scotsladdie',\n",
              " 281883: 'Victor Drysel',\n",
              " 293553: 'thomas angelo zunich',\n",
              " 296466: 'M.M. \"Muppet Fan\"',\n",
              " 339981: 'Becky',\n",
              " 360171: 'Daisy Ghostly',\n",
              " 362142: 'movie_freak',\n",
              " 365071: 'Daniel S. \"Daniel\"',\n",
              " 365712: 'James Day',\n",
              " 368839: 'patrick peralta',\n",
              " 390353: 'Linda Linguvic',\n",
              " 391690: 'chad edwards',\n",
              " 393881: 'daniel',\n",
              " 395248: 'Dianne Foster \"Di\"',\n",
              " 399035: 'skipmccoy',\n",
              " 424169: 'Tasha D. Staggers',\n",
              " 426926: 'Ross McKenzie \"ross\"',\n",
              " 429177: 'TheIrrationalMan',\n",
              " 431084: 'Long Island, East, member',\n",
              " 431136: 'Bob Waskiewicz',\n",
              " 439900: 'Michael Daly \"Monkeesfan\"',\n",
              " 442793: 'gastoryrguffa',\n",
              " 446291: 'masonx',\n",
              " 452809: 'urbanlegend23',\n",
              " 458094: 'pitchoun',\n",
              " 464319: 'Robert S. Clay Jr.',\n",
              " 483531: 'Armando M. Mesa',\n",
              " 493152: 'Matt Howe \"outloud98\"',\n",
              " 502896: 'Candace Scott',\n",
              " 503195: 'charles pope',\n",
              " 508200: 'ianphillips@uk.dreamcast.com',\n",
              " 512280: 'Tim Lieder \"Founder of Dybbuk Press\"',\n",
              " 516868: 'gotstuff',\n",
              " 529431: 'amazon__18',\n",
              " 533414: 'Barron Laycock \"Labradorman\"',\n",
              " 536662: 'AJ \"AJ\"',\n",
              " 541672: 'Banshee \"Beeyotch\"',\n",
              " 580709: 'Gergellor',\n",
              " 582187: 'John A. Kuczma \"RogueUlfric\"',\n",
              " 586812: 'donnee',\n",
              " 607363: 'Bhanu Dhir \"bnu3358@aol.com\"',\n",
              " 609818: 'Anthony Hinde',\n",
              " 620746: 'Sam Bethune',\n",
              " 624547: 'Roland E. Zwick',\n",
              " 625472: 'Thomas Kearney',\n",
              " 638025: 'D. Mok',\n",
              " 639998: 'D. Litton',\n",
              " 641520: 'Mark A Jamison',\n",
              " 646087: 'J. Brittman \"The Bottom Line\"',\n",
              " 652570: 'Lawrance M. Bernabo',\n",
              " 660019: 'CaptHowdy \"Tell us about yourself!\"',\n",
              " 665876: 'Luis Hernandez',\n",
              " 667125: 'Justin',\n",
              " 669512: 'frisky2000',\n",
              " 676405: 'Sean Patterson',\n",
              " 683007: 'Orff',\n",
              " 690099: 'Sandra L. Rigas',\n",
              " 693120: 'Melvin Hunt',\n",
              " 720060: 'kaijuking54',\n",
              " 721138: 'Mike Stone',\n",
              " 724868: 'Rosemary Thornton \"Niece of Murder Victim, Ad...',\n",
              " 733434: 'Gus Mauro \"coolbrezze\"',\n",
              " 743388: 'Ryan Costantino',\n",
              " 744355: 'Mr. A. Pomeroy',\n",
              " 749894: 'Ed N \"Ed\"',\n",
              " 753999: 'The Bluto \"adncjs3\"',\n",
              " 757804: 'gobirds2',\n",
              " 760122: 'Bjorn Clasen',\n",
              " 770638: 'Mike Freed',\n",
              " 771431: 'carol irvin \"carol irvin\"',\n",
              " 774984: 'Steve',\n",
              " 776528: 'Darragh Murray',\n",
              " 780698: 'Nigel D.',\n",
              " 781295: 'KO Smith',\n",
              " 785177: 'R. G. Myers',\n",
              " 791603: 'C. Manson',\n",
              " 801923: 'Mark McKinney',\n",
              " 811933: 'Ben Elliss',\n",
              " 815745: 'PATHERSON',\n",
              " 817135: 'tee-vee-stevie',\n",
              " 822138: 'Mitchell R. Alegre',\n",
              " 827287: 'Robert Blake',\n",
              " 837149: 'Alexander Suraev',\n",
              " 845125: 'Alejandra Vernon \"artist & illustrator\"',\n",
              " 858056: 'J. R. Reynolds',\n",
              " 865352: 'Mr. Cairene',\n",
              " 867901: 'Johnny S Geddes \"OC\"',\n",
              " 873863: 'YVETTE MOHILL \"teefus\"',\n",
              " 877426: 'Shelley Gammon \"Geek\"',\n",
              " 885334: 'Eric James Cooper \"ejames43\"',\n",
              " 889499: 'dude',\n",
              " 891040: 'casualsuede',\n",
              " 906953: 'frankenberry',\n",
              " 913001: 'mistermaxxx08 \"mistermaxxx08\"',\n",
              " 919243: 'Golden Girls fan \"Adam\"',\n",
              " 935601: 'P. Ferrigno \"firehouse444\"',\n",
              " 939245: 'David Bonesteel',\n",
              " 946673: 'Michael Dyckman',\n",
              " 956669: 'Robert Beveridge \"xterminal\"',\n",
              " 958462: 'Daniel B. Waldman \"Film Guru\"',\n",
              " 964312: 'rhino86oo',\n",
              " 968238: 'Todd Gray',\n",
              " 970622: 'M. Fonseca \"carmarthen\"',\n",
              " 992975: 'Anthony Damato \"Law professor\"',\n",
              " 993076: 'thecynicalcritic',\n",
              " 999745: 'Eat The Rich Books',\n",
              " 1001561: 'D. Wetzel',\n",
              " 1001958: 'Neural Clone \"zarran67\"',\n",
              " 1003282: 'CHI-TOWN',\n",
              " 1007279: 'James L.',\n",
              " 1012166: 'Bertin Ramirez \"justareviewer\"',\n",
              " 1025221: 'David Rogers',\n",
              " 1029826: 'unhelpful',\n",
              " 1044118: 'crazylil_partygurl',\n",
              " 1047631: 'moviefreak',\n",
              " 1056591: 'walter  flakus',\n",
              " 1073342: 'Bradley Tobin',\n",
              " 1091373: 'Bruce Lee Pullen',\n",
              " 1092996: 'Reviewer',\n",
              " 1095730: 'Babushka \"pd69bq\"',\n",
              " 1098934: 'John',\n",
              " 1102867: 'bernie \"xyzzy\"',\n",
              " 1114481: 'clanwolf@clds.net',\n",
              " 1117512: 'John K. Reed',\n",
              " 1124810: 'John Noodles',\n",
              " 1147230: 'Nathan',\n",
              " 1169585: 'Brooke276',\n",
              " 1185145: 'Aaron Newlands \"Sithgod\"',\n",
              " 1187775: 'sauerkraut',\n",
              " 1194368: 'hockhamb@hotmail.com',\n",
              " 1200961: 'Inspector Gadget \"Go Go Gadget Reviews\"',\n",
              " 1201103: 'Benjamin J Burgraff',\n",
              " 1201295: 'Reginald D. Garrard \"the G-man\"',\n",
              " 1228076: 'G.Spider',\n",
              " 1234283: 'Christopher Ware'}"
            ]
          },
          "metadata": {},
          "execution_count": 9
        }
      ]
    },
    {
      "cell_type": "markdown",
      "metadata": {
        "id": "HyLnhLr5PgU3"
      },
      "source": [
        "Il file `items.csv` contiene i prodotti distinti acquistati dagli utenti in formato analogo al file `users.csv`, con righe `IdProdotto;Nome`.\n",
        "\n",
        "Ne vogliamo salvare il contenuto in un dizionario `items`, ottenuto come fatto sopra con `users`."
      ]
    },
    {
      "cell_type": "code",
      "execution_count": 10,
      "metadata": {
        "id": "-PkvI35sPgU3"
      },
      "outputs": [],
      "source": [
        "with open(\"items.csv\", \"r\") as f:\n",
        "    reader = csv.reader(f, delimiter=\";\")\n",
        "    items = {int(iid): name for iid, name in reader}"
      ]
    },
    {
      "cell_type": "code",
      "source": [
        "items"
      ],
      "metadata": {
        "id": "M6KLTY46R3oF",
        "outputId": "e8004600-f8fc-4810-a5e7-54ebf624f75a",
        "colab": {
          "base_uri": "https://localhost:8080/"
        }
      },
      "execution_count": 11,
      "outputs": [
        {
          "output_type": "execute_result",
          "data": {
            "text/plain": [
              "{20: 'Age of Innocence [VHS]',\n",
              " 44: 'Detour [VHS]',\n",
              " 46: 'Strange Love of Martha Ivers [VHS]',\n",
              " 66: 'Cool Runnings [VHS]',\n",
              " 73: 'Lost World [VHS]',\n",
              " 79: 'The Day the Earth Caught Fire [VHS]',\n",
              " 87: 'Blood & Sand [VHS]',\n",
              " 115: 'Band of Angels [VHS]',\n",
              " 142: 'The Autobiography of Miss Jane Pittman [VHS]',\n",
              " 170: 'Death Wish - The Face Of Death [VHS]',\n",
              " 173: 'The Longest Day [VHS]',\n",
              " 174: 'Doctor Who - Robot [VHS]',\n",
              " 204: 'Doctor Who - City of Death [VHS]',\n",
              " 228: 'Frances [VHS]',\n",
              " 236: '5 Fingers [VHS]',\n",
              " 244: 'Call Northside 777 [VHS]',\n",
              " 263: 'Heaven & Earth [VHS]',\n",
              " 264: 'The Egg and I (The Ma & Pa Kettle Collection) [VHS]',\n",
              " 272: 'Crash Dive [VHS]',\n",
              " 276: 'Pinky [VHS]',\n",
              " 286: 'The Seventh Seal [VHS]',\n",
              " 296: 'Tombstone [VHS]',\n",
              " 333: \"Tim Burton's The Nightmare Before Christmas [VHS]\",\n",
              " 381: 'Drugstore Cowboy [VHS]',\n",
              " 386: 'Thumbelina [VHS]',\n",
              " 395: 'My Girl 2 [VHS]',\n",
              " 440: 'Wicker Man [VHS]',\n",
              " 448: 'D2 - The Mighty Ducks [VHS]',\n",
              " 457: 'A Charlie Brown Christmas',\n",
              " 481: 'Blue [VHS]',\n",
              " 524: 'The Crow [VHS]',\n",
              " 555: 'Dersu Uzala [VHS]',\n",
              " 579: 'The Secret of NIMH [VHS]',\n",
              " 585: 'Phantasm 3:Lord of the Dead [VHS]',\n",
              " 586: 'Young at Heart [VHS]',\n",
              " 601: 'Simon of the Desert [VHS]',\n",
              " 606: 'Superman the Movie [VHS]',\n",
              " 612: 'Hannah & Her Sisters [VHS]',\n",
              " 684: 'Curse of the Demon [VHS]',\n",
              " 712: 'Elvira: Mistress of the Dark [VHS]',\n",
              " 715: 'Speed [VHS]',\n",
              " 721: 'Odessa File [VHS]',\n",
              " 724: 'When a Man Loves a Woman [VHS]',\n",
              " 738: 'Wyatt Earp [VHS]',\n",
              " 741: 'Endless Summer [VHS]',\n",
              " 750: 'The Client [VHS]',\n",
              " 773: 'Aerosmith: Big Ones You Can Look at [VHS]',\n",
              " 842: 'Angels in the Outfield [VHS]',\n",
              " 895: \"Razor's Edge [VHS]\",\n",
              " 903: 'The Lion King [VHS]',\n",
              " 909: 'Dead Heat [VHS]',\n",
              " 913: 'The Monkees - Head [VHS]',\n",
              " 915: 'Next Karate Kid [VHS]',\n",
              " 926: 'I Love Trouble [VHS]',\n",
              " 935: 'Fresh [VHS]',\n",
              " 958: 'Leave Her to Heaven [VHS]',\n",
              " 1005: 'Sign of the Cross [VHS]',\n",
              " 1008: 'Force of Evil [VHS]',\n",
              " 1033: 'Simple Twist of Fate [VHS]',\n",
              " 1041: 'Rhinestone [VHS]',\n",
              " 1048: 'The Man with One Red Shoe [VHS]',\n",
              " 1051: 'Titanic [VHS]',\n",
              " 1063: '20 Million Miles to Earth [VHS]',\n",
              " 1083: 'Ed Wood [VHS]',\n",
              " 1086: 'Terminal Velocity [VHS]',\n",
              " 1119: 'Jesse James [VHS]',\n",
              " 1129: 'Creepshow 2 [VHS]',\n",
              " 1139: 'Clerks [VHS]',\n",
              " 1176: 'The Santa Clause [VHS]',\n",
              " 1230: 'Phantom of the Opera [VHS]',\n",
              " 1235: 'The Fall of the House of Usher [VHS]',\n",
              " 1255: 'I.Q. [VHS]',\n",
              " 1275: 'Blow Out [VHS]',\n",
              " 1278: 'The Third Man (50th Anniversary Edition) [VHS]',\n",
              " 1288: 'Nell [VHS]',\n",
              " 1291: 'Wings of Honneamise [VHS]',\n",
              " 1307: 'Doctor Who - The Invasion [VHS]',\n",
              " 1312: 'Dressed to Kill [VHS]',\n",
              " 1319: 'Mad Max [VHS]',\n",
              " 1320: 'Something Wild [VHS]',\n",
              " 1335: 'The Bounty [VHS]',\n",
              " 1362: 'The Brady Bunch Movie [VHS]',\n",
              " 1368: 'Circle of Friends [VHS]',\n",
              " 1382: 'Higher Learning [VHS]',\n",
              " 1412: 'A Goofy Movie (Walt Disney Pictures Presents) [VHS]',\n",
              " 1430: 'Wrong Trousers [VHS]',\n",
              " 1438: 'Star Is Born & Til the Clouds Roll By [VHS]',\n",
              " 1470: 'Remember the Night [VHS]',\n",
              " 1484: 'Basketball Diaries [VHS]',\n",
              " 1531: 'Once Were Warriors [VHS]',\n",
              " 1549: 'Breathless (A Bout de Souffle) [VHS]',\n",
              " 1573: 'Triumph of the Will [VHS]',\n",
              " 1574: 'Children of the Corn 3 [VHS]',\n",
              " 1582: 'Tommy Boy [VHS]',\n",
              " 1600: 'Old Dark House [VHS]',\n",
              " 1633: 'Surviving the Game [VHS]',\n",
              " 1641: 'Doctor Who: The Curse of Peladon [VHS]',\n",
              " 1643: 'Thunderball [VHS]',\n",
              " 1649: 'Doctor Who:  Time and The Rani [VHS]',\n",
              " 1669: \"National Lampoon's Loaded Weapon 1 [VHS]\",\n",
              " 1670: 'Fail Safe [VHS]',\n",
              " 1676: 'Earth vs the Flying Saucers [VHS]',\n",
              " 1697: 'Design of a Decade: G.H. [VHS]',\n",
              " 1717: '8 Seconds [VHS]',\n",
              " 1727: 'Down By Law [VHS]',\n",
              " 1741: 'Secret of Roan Inish [VHS]',\n",
              " 1745: 'State Fair [VHS]',\n",
              " 1797: 'The Official Story [VHS]',\n",
              " 1804: 'The Usual Suspects, Letterbox Edition  [VHS]',\n",
              " 1810: 'Amityville II: The Possession [VHS]',\n",
              " 1854: 'Mute Witness [VHS]',\n",
              " 1873: 'Man of the House [VHS]',\n",
              " 1887: 'Lady On A Train [VHS]',\n",
              " 1909: 'Ben Hur [VHS]',\n",
              " 1950: 'Corpse Vanishes [VHS]',\n",
              " 1955: 'Prophecy [VHS]',\n",
              " 1969: \"Flesh Gordon (Unrated Collector's Edition) [VHS]\",\n",
              " 1977: 'Assassins [VHS]',\n",
              " 2003: 'House II: The Second Story [VHS]',\n",
              " 2016: 'The Innocents [VHS]',\n",
              " 2020: 'The Scarlet Letter [VHS]',\n",
              " 2028: 'Judgment at Nuremberg [VHS]',\n",
              " 2044: 'Mallrats [VHS]',\n",
              " 2049: 'The King of Comedy [VHS]',\n",
              " 2057: 'I, Claudius [VHS]',\n",
              " 2068: 'Short Cuts [VHS]',\n",
              " 2085: 'Rocky 3 [VHS]',\n",
              " 2098: 'Doctor Who - Ghost Light [VHS]',\n",
              " 2101: 'Powder [VHS]',\n",
              " 2110: 'The Cabinet of Dr. Caligari [VHS]',\n",
              " 2112: 'The Ghost and Mr. Chicken [VHS]',\n",
              " 2120: 'Rocky 2 [VHS]',\n",
              " 2121: 'Nick of Time [VHS]',\n",
              " 2123: 'Lover Come Back [VHS]',\n",
              " 2129: 'The Wasp Woman [VHS]',\n",
              " 2134: 'Birth of a Nation [VHS]',\n",
              " 2137: 'Tom & Huck [VHS]',\n",
              " 2139: 'Three Lives of Thomasina [VHS]',\n",
              " 2165: 'Rocky Gift Set [VHS]',\n",
              " 2190: 'Mighty Aphrodite [VHS]',\n",
              " 2198: 'Sabrina [VHS]',\n",
              " 2205: 'License (Licence) to Kill [VHS]',\n",
              " 2209: 'Bloodsucking Freaks [VHS]',\n",
              " 2219: 'Doctor Who - The Visitation / Black Orchid [VHS]',\n",
              " 2239: 'Misfits [VHS]',\n",
              " 2263: 'Doctor Who - Kinda [VHS]',\n",
              " 2273: 'Haunted [VHS]',\n",
              " 2276: 'Hawaii [VHS]',\n",
              " 2279: 'Othello [VHS]',\n",
              " 2286: 'Broken Arrow [VHS]',\n",
              " 2302: 'Four Rooms [VHS]',\n",
              " 2336: 'Toy Story [VHS]',\n",
              " 2355: 'Girl 6 [VHS]',\n",
              " 2360: 'Odds Against Tomorrow [VHS]',\n",
              " 2364: 'She [VHS]',\n",
              " 2379: 'House of Games [VHS]',\n",
              " 2386: 'The Sound of Music [VHS]',\n",
              " 2398: 'Bad Day at Black Rock [VHS]',\n",
              " 2399: 'Kids in the Hall - Brain Candy [VHS]',\n",
              " 2440: \"Redneck Zombies - Director's Cut [VHS]\",\n",
              " 2453: 'Drunken Master 2 [VHS]',\n",
              " 2462: 'The Truth About Cats & Dogs [VHS]',\n",
              " 2473: 'Up Close & Personal [VHS]',\n",
              " 2510: 'A Flintstones Christmas Carol [VHS]',\n",
              " 2519: 'Beautiful Girls [VHS]',\n",
              " 2538: 'Children of the Corn 4 [VHS]',\n",
              " 2580: \"Sweet Sweetback's Baadasssss Song [VHS]\",\n",
              " 2588: 'Willy Wonka & Chocolate Factory [VHS]',\n",
              " 2624: 'Defiant Ones [VHS]',\n",
              " 2651: 'Dawn of the Dead [VHS]',\n",
              " 2669: 'Independence Day [VHS]',\n",
              " 2680: 'Crossfire [VHS]',\n",
              " 2703: 'Lone Star [VHS]',\n",
              " 2745: 'The Rock [VHS]',\n",
              " 2753: 'Giant (Special Widescreen Edition) [VHS]',\n",
              " 2774: 'Death Warrant [VHS]',\n",
              " 2785: 'A Very Brady Sequel [VHS]',\n",
              " 2788: 'Julie [VHS]',\n",
              " 2789: 'The Hunchback of Notre Dame (A Walt Disney Masterpiece) [VHS]',\n",
              " 2792: 'Overboard [VHS]',\n",
              " 2797: 'Halloween 2 [VHS]',\n",
              " 2814: 'Doctor Who - The Mark of the Rani [VHS]',\n",
              " 2818: 'Trainspotting [VHS]',\n",
              " 2821: 'Jack [VHS]',\n",
              " 2838: 'Harriet the Spy',\n",
              " 2841: 'Meatballs [VHS]',\n",
              " 2843: 'Dinner at Eight [VHS]',\n",
              " 2851: 'Leprechaun 4 in Space [VHS]',\n",
              " 2880: 'Flirting With Disaster [VHS]',\n",
              " 2882: 'That Thing You Do [VHS]',\n",
              " 2889: 'The Spirit of St. Louis [VHS]',\n",
              " 2895: 'Lord of the Dance [VHS]',\n",
              " 2901: 'Captain From Castile [VHS]',\n",
              " 2903: 'Basquiat [VHS]',\n",
              " 2908: 'Heathers [VHS]',\n",
              " 2915: 'Trespass [VHS]',\n",
              " 2927: '1984 [VHS]',\n",
              " 2931: 'Cannonball Run [VHS]',\n",
              " 2964: 'Thinner [VHS]',\n",
              " 2983: 'Johnny Tremain [VHS]',\n",
              " 2999: \"Sleeping Beauty (Fully Restored Limited Edition) (Walt Disney's Masterpiece)  [VHS]\",\n",
              " 3001: 'Heavy [VHS]',\n",
              " 3017: 'The Evening Star [VHS]',\n",
              " 3026: 'Untamed Heart [VHS]',\n",
              " 3028: 'Star Trek - First Contact [VHS]',\n",
              " 3034: 'Beautiful Thing [VHS]',\n",
              " 3035: 'Ransom [VHS]',\n",
              " 3046: 'Stanley & Iris [VHS]',\n",
              " 3055: 'King Kong Lives [VHS]',\n",
              " 3057: 'Die Hard With a Vengeance (Widescreen Edition) [VHS]',\n",
              " 3066: 'Red River [VHS]',\n",
              " 3075: 'Beavis & Butthead Do America [VHS]',\n",
              " 3079: 'The Giant Behemoth [VHS]',\n",
              " 3081: 'Lethal Weapon 3 (Widescreen Edition) [VHS]',\n",
              " 3082: 'One Fine Day [VHS]',\n",
              " 3084: 'Breaking the Waves [VHS]',\n",
              " 3086: 'Doctor Who - The Leisure Hive [VHS]',\n",
              " 3094: 'Ridicule [VHS]',\n",
              " 3096: 'Cowboys [VHS]',\n",
              " 3098: 'Stepford Wives [VHS]',\n",
              " 3100: 'Stagecoach [VHS]',\n",
              " 3114: 'Jeremiah Johnson [VHS]',\n",
              " 3115: 'Mean Streets [VHS]',\n",
              " 3137: 'Twelfth Night [VHS]',\n",
              " 3151: 'In Love and War (1996) [VHS]',\n",
              " 3204: 'The Saint [VHS]',\n",
              " 3225: 'Live a Little Love a Little [VHS]',\n",
              " 3251: 'Oklahoma! [VHS]',\n",
              " 3252: 'Platinum Blonde [VHS]',\n",
              " 3254: 'Total Recall',\n",
              " 3260: 'Bitter Tea of General Yen [VHS]',\n",
              " 3262: 'Elvis / Girl Happy [VHS]',\n",
              " 3278: 'Elvis / Kissin Cousins [VHS]',\n",
              " 3282: 'Crow: City of Angels [VHS]',\n",
              " 3286: 'Fist of Legend [VHS]',\n",
              " 3297: 'The Relic [VHS]',\n",
              " 3314: 'Lost Highway [VHS]',\n",
              " 3328: 'Evita [VHS]',\n",
              " 3358: 'Repulsion [VHS]',\n",
              " 3363: \"Romy & Michelle's High School Reunion [VHS]\",\n",
              " 3418: 'The Heroic Trio',\n",
              " 3421: 'Wuthering Heights [VHS]',\n",
              " 3448: 'Subway',\n",
              " 3499: 'Kronos [VHS]',\n",
              " 3508: 'Gamera - The Guardian of The Universe [VHS]',\n",
              " 3512: 'Chasing Amy [VHS]',\n",
              " 3513: 'Fleetwood Mac: The Dance   [VHS]',\n",
              " 3521: 'Menace II Society',\n",
              " 3525: 'Con Air [VHS]',\n",
              " 3528: 'Last Man Standing',\n",
              " 3529: 'Plan 9 from Outer Space [VHS]',\n",
              " 3536: 'How the Grinch Stole Christmas / Horton Hears a Who',\n",
              " 3538: 'Dangerous Liaisons',\n",
              " 3542: 'Horror Express',\n",
              " 3551: 'Temptress Moon [VHS]',\n",
              " 3568: 'Grumpier Old Men',\n",
              " 3574: 'Halloween',\n",
              " 3581: 'Brassed Off [VHS]',\n",
              " 3588: 'Tequila Sunrise',\n",
              " 3611: 'Event Horizon [VHS]',\n",
              " 3628: 'The Game [VHS]',\n",
              " 3633: 'Masquerade [VHS]',\n",
              " 3638: 'The Matchmaker [VHS]',\n",
              " 3640: 'Happy Together [VHS]',\n",
              " 3650: 'Cobra',\n",
              " 3654: 'The Specialist',\n",
              " 3662: 'Human Monster [VHS]',\n",
              " 3679: 'Life Less Ordinary [VHS]',\n",
              " 3687: 'Rocketman [VHS]',\n",
              " 3691: 'Full Monty [VHS]',\n",
              " 3696: 'Black Sabbath [VHS]',\n",
              " 3702: 'In & Out [VHS]',\n",
              " 3713: 'Sleuth',\n",
              " 3733: 'Wing Chun',\n",
              " 3735: 'Mrs. Brown [VHS]',\n",
              " 3755: 'Custer of the West [VHS]',\n",
              " 3772: 'Anastasia (Widescreen Edition) [VHS]',\n",
              " 3782: 'Meet John Doe (with special introduction by Frank Capra Jr.) [VHS]',\n",
              " 3858: 'Gargoyles [VHS]',\n",
              " 3875: 'Home Alone 3 [VHS]',\n",
              " 3882: 'Patton [VHS]',\n",
              " 3885: 'Firestorm [VHS]',\n",
              " 3894: 'Passenger 57',\n",
              " 3897: 'Children of the Corn V: Field of Terror [VHS]',\n",
              " 3901: 'Terror of Mechagodzilla [VHS]',\n",
              " 3918: 'The Satanic Rites Of Dracula [VHS]',\n",
              " 3926: 'Rainmaker [VHS]',\n",
              " 3932: 'The Night Strangler [VHS]',\n",
              " 3938: 'Godzilla: King of Monsters [VHS]',\n",
              " 3955: 'Evil Dead (Limited Edition) [VHS]',\n",
              " 3964: 'In the Heat of the Night [VHS]',\n",
              " 3993: 'Retroactive [VHS]',\n",
              " 3999: 'Lost World [VHS]',\n",
              " 4016: 'Night of the Living Dead',\n",
              " 4021: 'Santa Claus: Movie [VHS]',\n",
              " 4056: 'A Chinese Ghost Story',\n",
              " 4087: 'Made for Each Other',\n",
              " 4088: 'Nightwatch [VHS]',\n",
              " 4121: 'Crimes and Misdemeanors',\n",
              " 4128: 'Planet of the Apes Collection (Widescreen Edition) [VHS]',\n",
              " 4139: 'Frankenstein Created Woman [VHS]',\n",
              " 4157: 'Tales From Crypt: Bordello of Blood',\n",
              " 4159: 'Open City',\n",
              " 4161: 'Shivers [VHS]',\n",
              " 4162: 'Fallen Angels [VHS]',\n",
              " 4167: 'Cross of Iron [VHS]',\n",
              " 4170: 'Two Girls & A Guy [VHS]',\n",
              " 4210: 'Deep Rising [VHS]',\n",
              " 4221: 'Sabrina',\n",
              " 4278: 'The Devil Rides Out',\n",
              " 4288: 'Sliding Doors [VHS]',\n",
              " 4291: 'The American President [VHS]',\n",
              " 4312: 'Horse Whisperer [VHS]',\n",
              " 4330: 'Dr Giggles',\n",
              " 4341: 'Man with the Movie Camera',\n",
              " 4355: 'Clean & Sober',\n",
              " 4359: 'Basket Case',\n",
              " 4362: \"Prizzi's Honor [VHS]\",\n",
              " 4371: 'Dead Calm',\n",
              " 4372: 'Henry: Portrait of a Serial Killer [VHS]',\n",
              " 4373: 'Needful Things',\n",
              " 4395: 'Subspecies 4: Bloodstorm',\n",
              " 4400: 'Truman Show [VHS]',\n",
              " 4417: 'Madonna - The Immaculate Collection',\n",
              " 4477: 'Cube',\n",
              " 4499: 'Rounders [VHS]',\n",
              " 4509: 'Slums of Beverly Hills [VHS]',\n",
              " 4524: 'A Man for All Seasons',\n",
              " 4529: 'Bad Boys',\n",
              " 4535: 'Ever After - A Cinderella Story [VHS]',\n",
              " 4571: 'Die Hard Trilogy',\n",
              " 4572: 'All I Wanna Do [VHS]',\n",
              " 4576: 'Nosferatu the Vampyre [VHS]',\n",
              " 4603: 'Celebrity [VHS]',\n",
              " 4605: 'Dances with Wolves - DTS',\n",
              " 4606: 'A Night at the Roxbury [VHS]',\n",
              " 4640: 'Shaolin Master Killer [VHS]',\n",
              " 4654: 'Sunday in the Park with George',\n",
              " 4701: \"You've Got Mail [VHS]\",\n",
              " 4711: 'Vampyros Lesbos',\n",
              " 4713: 'Alice in Wonderland [VHS]',\n",
              " 4715: 'The Black Hole [VHS]',\n",
              " 4719: 'Orgazmo (Unrated Version) [VHS]',\n",
              " 4742: 'Nights of Cabiria [VHS]',\n",
              " 4744: 'Insomnia (The Criterion Collection)',\n",
              " 4766: 'Lost Horizon',\n",
              " 4767: 'Down in the Delta [VHS]',\n",
              " 4772: 'A Civil Action [VHS]',\n",
              " 4773: 'Life Is Beautiful (La Vita E Bella) [VHS]',\n",
              " 4774: 'His Girl Friday',\n",
              " 4775: \"She's All That [VHS]\",\n",
              " 4788: 'The Faculty',\n",
              " 4795: 'Hi-Lo Country',\n",
              " 4797: 'The Thin Red Line [VHS]',\n",
              " 4802: 'Hilary & Jackie',\n",
              " 4804: 'Horror Classics, Vol. 3: The Bat/House on Haunted Hill',\n",
              " 4809: 'Little Voice',\n",
              " 4820: 'Mr. Wong Collection (Mr. Wong, Detective / Mystery Of Mr. Wong / Mr. Wong In Chinatown / The Fatal Hour / Doomed To Die / Phantom Of Chinatown) (2DVD)',\n",
              " 4839: 'Playing By Heart [VHS]',\n",
              " 4862: 'The Other Sister [VHS]',\n",
              " 4867: 'Lock, Stock, and Two Smoking Barrels [VHS]',\n",
              " 4872: 'Corruptor [VHS]',\n",
              " 4875: 'Shakespeare in Love [VHS]',\n",
              " 4880: 'Children of Heaven [VHS]',\n",
              " 4882: 'Office Space [VHS]',\n",
              " 4897: 'The Players Club',\n",
              " 4903: \"There's Something About Mary (Special Edition) [VHS]\",\n",
              " 4923: 'Inspector Gadget',\n",
              " 4925: 'Payback [VHS]',\n",
              " 4935: 'Deep Cover',\n",
              " 4949: 'Joan of Arc [VHS]',\n",
              " 4973: '10 Things I Hate About You [VHS]',\n",
              " 4974: 'A Walk on the Moon [VHS]',\n",
              " 4980: 'Never Been Kissed [VHS]',\n",
              " 5008: 'Tea With Mussolini [VHS]',\n",
              " 5018: 'Piranha (20th Anniversary Special Edition)',\n",
              " 5026: 'Madonna - Video Collection 1993-99',\n",
              " 5027: 'Sarah Brightman - One Night in Eden',\n",
              " 5033: 'Candyman 3: Day of the Dead [VHS]',\n",
              " 5037: 'Ravenous [VHS]',\n",
              " 5048: 'Entrapment [VHS]',\n",
              " 5052: 'Baron Blood',\n",
              " 5065: 'Ladies and Gentlemen: The Best of George Michael',\n",
              " 5079: 'Wood [VHS]',\n",
              " 5082: 'My Son the Fanatic',\n",
              " 5088: 'Clockwatchers [VHS]',\n",
              " 5099: 'Brokedown Palace',\n",
              " 5111: 'Breakfast of Champions [VHS]',\n",
              " 5114: 'Stigmata [VHS]',\n",
              " 5141: 'Outside Providence [VHS]',\n",
              " 5151: 'Plunkett & Macleane [VHS]',\n",
              " 5162: 'Star Wars - Episode I, The Phantom Menace [VHS]',\n",
              " 5176: 'Drive Me Crazy [VHS]',\n",
              " 5215: 'Flawless [VHS]',\n",
              " 5235: 'Happy, Texas [VHS]',\n",
              " 5245: 'Mumford [VHS]',\n",
              " 5267: 'The Abominable Snowman',\n",
              " 5270: 'Mighty Peking Man',\n",
              " 5274: 'Torso',\n",
              " 5276: 'Ilsa - The Wicked Warden [VHS]',\n",
              " 5281: 'The World Is Not Enough [VHS]',\n",
              " 5284: \"The Mummy's Shroud\",\n",
              " 5288: 'Being John Malkovich',\n",
              " 5290: 'Ilsa - She Wolf of the SS [VHS]',\n",
              " 5294: 'The Straight Story [VHS]',\n",
              " 5304: \"Jackie Chan's Project A\",\n",
              " 5310: 'The 10th Kingdom [VHS]',\n",
              " 5323: 'Cradle Will Rock [VHS]',\n",
              " 5339: 'Down to You [VHS]',\n",
              " 5379: 'Steely Dan - Two Against Nature - DTS 5.1',\n",
              " 5384: 'The House of Exorcism / Lisa and the Devil (Double Feature)',\n",
              " 5396: 'Hatchet for the Honeymoon (The Mario Bava Collection)',\n",
              " 5407: 'Rocketship X-M',\n",
              " 5408: 'Topsy Turvy [VHS]',\n",
              " 5417: 'Play it to the Bone',\n",
              " 5444: 'Mansfield Park [VHS]',\n",
              " 5462: 'The Ninth Gate',\n",
              " 5508: 'Scream 3',\n",
              " 5514: 'The Tigger Movie  [VHS]',\n",
              " 5535: 'Ghost Dog - The Way of the Samurai [VHS]',\n",
              " 5546: 'The Big Kahuna [VHS]',\n",
              " 5548: 'Let Sleeping Corpses Lie',\n",
              " 5551: 'Toy Story 2 [VHS]',\n",
              " 5564: 'Passion of Mind [VHS]',\n",
              " 5567: 'Reindeer Games [VHS]',\n",
              " 5577: 'East Is East [VHS]',\n",
              " 5581: 'Waking the Dead [VHS]',\n",
              " 5586: 'Snow Day [VHS]',\n",
              " 5590: 'Return to Me [VHS]',\n",
              " 5593: 'Mission to Mars',\n",
              " 5599: 'Slumber Party Massacre',\n",
              " 5965: 'The Parent Trap [VHS]',\n",
              " 5972: 'The Martian Chronicles [VHS]',\n",
              " 6025: 'Christmas in Connecticut  [VHS]',\n",
              " 6050: 'The Stupids [VHS]',\n",
              " 6053: 'The Godfather [VHS]',\n",
              " 6059: 'Beverly Hills Cop 2 [VHS]',\n",
              " 6089: 'Gilda [VHS]',\n",
              " 6091: 'Mr Deeds Goes to Town [VHS]',\n",
              " 6111: 'Watership Down [VHS]',\n",
              " 6115: 'Vanishing Point [VHS]',\n",
              " 6160: 'Captain Kronos: Vampire Hunter [VHS]',\n",
              " 6161: 'Atlantic City [VHS]',\n",
              " 6195: 'January Man [VHS]',\n",
              " 6221: 'Barry Lyndon [VHS]',\n",
              " 6232: 'The Three Musketeers/The Four Musketeers [VHS]',\n",
              " 6260: 'Legend of Hell House [VHS]',\n",
              " 6275: 'The Seven-Ups [VHS]',\n",
              " 6284: 'The Last Dragon [VHS]',\n",
              " 6444: \"Alice's Adventures in Wonderland [VHS]\",\n",
              " 6483: 'Cannibal! The Musical [VHS]',\n",
              " 6523: 'I Spit on Your Grave',\n",
              " 6574: 'Doctor Who - Horror of Fang Rock [VHS]',\n",
              " 6626: 'The Fighting Sullivans [VHS]',\n",
              " 6666: 'Dead and Buried [VHS]',\n",
              " 6697: 'Blue Streak [VHS]',\n",
              " 6767: 'I Know What You Did Last Summer/I Still Know What You Did Last Summer',\n",
              " 6827: 'Teenage Mutant Ninja Turtles III [VHS]',\n",
              " 6873: 'Mrs Miniver / Movie [VHS]',\n",
              " 6967: 'Lethal Weapon: The Complete Series',\n",
              " 6990: 'Swimmer [VHS]',\n",
              " 7065: 'Demons 2 - The Nightmare Returns',\n",
              " 7096: 'Goodbye Charlie [VHS]',\n",
              " 7104: 'Mother Wore Tights [VHS]',\n",
              " 7110: 'Happiness [VHS]',\n",
              " 7188: 'Portrait of Jennie [VHS]',\n",
              " 7266: 'Virus [VHS]',\n",
              " 7307: 'Ghostbusters 2',\n",
              " 7310: 'Lolita',\n",
              " 7315: 'Baby Geniuses [VHS]',\n",
              " 7333: 'Payback',\n",
              " 7368: 'King Cobra [VHS]',\n",
              " 7449: 'Return to Oz [VHS]',\n",
              " 7484: 'Saturday Night Live - The Best of Eddie Murphy [VHS]',\n",
              " 7517: 'Great Ziegfeld [VHS]',\n",
              " 7520: \"Scooby Doo: Witch's Ghost [VHS]\",\n",
              " 7551: 'Wallace & Gromit: The First Three Adventures (1990-1995)',\n",
              " 7598: 'Trilogy of Terror',\n",
              " 7629: 'I Saw What You Did [VHS]',\n",
              " 7637: 'The James Bond Collection [VHS]',\n",
              " 7653: 'The Raven [VHS]',\n",
              " 7658: 'Something Wicked This Way Comes (Widescreen Edition) [VHS]',\n",
              " 7664: 'The Stendhal Syndrome',\n",
              " 7688: 'Xiu Xiu: The Sent Down Girl [VHS]',\n",
              " 7696: 'Fitzcarraldo [VHS]',\n",
              " 7698: 'Werewolf in a Girls Dormitory [VHS]',\n",
              " 7725: 'The Transformers - The Movie (International Version) [VHS]',\n",
              " 7761: 'New Rose Hotel',\n",
              " 7774: 'The Living Dead Girl',\n",
              " 7782: 'Anywhere But Here [VHS]',\n",
              " 7784: 'Saturday Night Live: 25 Years Of Laughs [VHS]',\n",
              " 7791: 'Now, Voyager [VHS]',\n",
              " 7797: 'Dick [VHS]',\n",
              " 7799: 'The Shop Around the Corner [VHS]',\n",
              " 7800: 'Run Lola Run [VHS]',\n",
              " 7803: 'Universal Soldier: The Return',\n",
              " 7849: 'Chill Factor [VHS]',\n",
              " 7856: 'Tower of Terror',\n",
              " 7858: 'Teaching Mrs Tingle [VHS]',\n",
              " 7919: 'The Red Violin',\n",
              " 7930: 'Friday Foster [VHS]',\n",
              " 7932: 'Cooley High',\n",
              " 7933: 'Blacula [VHS]',\n",
              " 7942: 'Dudley Do-Right [VHS]',\n",
              " 7958: 'Love Stinks [VHS]',\n",
              " 7961: 'Papillon',\n",
              " 7980: 'The Leopard (The Criterion Collection)',\n",
              " 7982: \"Felicia's Journey [VHS]\",\n",
              " 7985: 'The Insider',\n",
              " 7989: 'Fight Club',\n",
              " 7990: 'Eraserhead',\n",
              " 7991: 'Fantasia 2000 (Walt Disney Pictures Presents) [VHS]',\n",
              " 7999: 'Me, Myself & Irene (Special Edition)',\n",
              " 8000: 'X-Men [VHS]',\n",
              " 8004: 'The In Crowd',\n",
              " 8005: 'The Legend of Bagger Vance',\n",
              " 8006: 'Shanghai Noon',\n",
              " 8007: 'The Cell (New Line Platinum Series)',\n",
              " 8009: 'Where the Money Is [VHS]',\n",
              " 8010: 'Keeping the Faith',\n",
              " 8012: 'The Perfect Storm [VHS]',\n",
              " 8016: 'The Eyes of Tammy Faye',\n",
              " 8021: 'The Watcher',\n",
              " 8024: \"Nutty Professor II - The Klumps (Collector's Edition) [VHS]\",\n",
              " 8026: 'The Sopranos - The Complete First Season [VHS]',\n",
              " 8029: 'Men of Honor',\n",
              " 8030: 'Titan A.E. [VHS]',\n",
              " 8031: 'Meet the Parents [VHS]',\n",
              " 8032: 'Rules of Engagement',\n",
              " 8033: 'Where the Heart Is [VHS]',\n",
              " 8034: 'What Lies Beneath [VHS]',\n",
              " 8038: 'Little Nicky (New Line Platinum Series)',\n",
              " 8039: \"Boys Don't Cry [VHS]\",\n",
              " 8041: 'Hollow Man [VHS]',\n",
              " 8046: 'Bring It on [VHS]',\n",
              " 8047: \"The Emperor's New Groove [VHS]\",\n",
              " 8056: 'Billy Elliot [VHS]',\n",
              " 8060: 'Cast Away (Two-Disc Special Edition)',\n",
              " 8080: 'Small Time Crooks [VHS]',\n",
              " 8101: 'Erin Brockovich [VHS]',\n",
              " 8154: \"Tom and Jerry's Greatest Chases\",\n",
              " 8155: 'Romance [VHS]',\n",
              " 8200: 'Watch on the Rhine [VHS]',\n",
              " 8203: 'The Shoes of the Fisherman [VHS]',\n",
              " 8212: 'Network [VHS]',\n",
              " 8241: 'The Amazing Dr. Clitterhouse [VHS]',\n",
              " 8242: 'The Big Combo',\n",
              " 8358: 'The Rescuers Down Under [VHS]',\n",
              " 8405: 'The Slipper and the Rose [VHS]',\n",
              " 8413: 'The Omega Code',\n",
              " 8445: 'The Dirty Dozen',\n",
              " 8574: 'The Emperor and the Assassin',\n",
              " 8598: 'The Third Miracle',\n",
              " 8603: 'Sweet and Lowdown (Fullscreen)',\n",
              " 8658: 'The Night Stalker [VHS]',\n",
              " 8691: \"The Big Blue - Director's Cut [VHS]\",\n",
              " 8706: 'Woman of the Year',\n",
              " 8851: 'Toy Story & Toy Story 2 (2 Pack)',\n",
              " 8853: 'A Map of the World [VHS]',\n",
              " 8868: '28 Days (Special Edition)',\n",
              " 8921: 'Me Myself I',\n",
              " 8967: 'The Vicar of Dibley, Vol. 5 - Autumn & Winter [VHS]',\n",
              " 8987: 'Tentacles [VHS]',\n",
              " 9042: 'James Bond 007 Collection Volume 3 [VHS]',\n",
              " 9108: \"River's Edge [VHS]\",\n",
              " 9175: 'Earth [VHS]',\n",
              " 9201: \"Don't Tell Mom The Babysitter's Dead\",\n",
              " 9234: 'The Cup [VHS]',\n",
              " 9373: 'Frequency',\n",
              " 9396: 'Boys & Girls [VHS]',\n",
              " 9433: 'Left Behind - The Movie',\n",
              " 9466: 'Shaft',\n",
              " 9503: 'Gone in 60 Seconds',\n",
              " 9642: 'The Adventures of Buckaroo Banzai [VHS]',\n",
              " 9750: 'Doctor Who - Revelation of the Daleks [VHS]',\n",
              " 9760: 'The Way of the Gun',\n",
              " 9836: 'Beautiful',\n",
              " 9945: 'Nurse Betty [VHS]',\n",
              " 9978: 'Cherry Falls [VHS]',\n",
              " 10043: 'North  / Movie [VHS]',\n",
              " 10135: 'Book of Shadows - Blair Witch 2 (DVD + CD)',\n",
              " 10267: 'Bounce',\n",
              " 10498: 'Best in Show',\n",
              " 10672: 'Shadow of the Vampire (Widescreen Edition)',\n",
              " 10740: 'Proof of Life',\n",
              " 11795: 'Closely Watched Trains (The Criterion Collection)',\n",
              " 12087: 'Halls of Montezuma',\n",
              " 16668: 'Hellcats of the Navy',\n",
              " 42494: 'Hurlyburly [VHS]',\n",
              " 42695: 'The Lion in Winter [VHS]',\n",
              " 42730: 'Godzilla: Ghidrah - The Three Headed Monster [VHS]',\n",
              " 42743: 'Tenebre [VHS]',\n",
              " 42746: 'North Avenue Irregulars [VHS]',\n",
              " 42748: 'Take the Money and Run [VHS]',\n",
              " 42752: 'One Magic Christmas [VHS]',\n",
              " 42863: 'The Crossing [VHS]',\n",
              " 42867: 'Emma',\n",
              " 42873: \"Avengers '66: Vol. 1\",\n",
              " 42879: 'The Planets [VHS]',\n",
              " 42894: \"Men in Black (Collector's Series)\",\n",
              " 42896: 'Big Night',\n",
              " 42901: 'Velocity of Gary [VHS]',\n",
              " 42904: 'Spice World',\n",
              " 42905: 'Gattaca',\n",
              " 42911: \"Das Boot - The Director's Cut\",\n",
              " 42913: \"Boyz 'N The Hood\",\n",
              " 42914: 'Fifth Element [VHS]',\n",
              " 42915: 'Knute Rockne All American DVD',\n",
              " 42916: 'Close Encounters of the Third Kind (Widescreen Edition) [VHS]',\n",
              " 42917: 'Striking Distance',\n",
              " 42921: 'Jason and the Argonauts',\n",
              " 42926: 'The Assignment',\n",
              " 42928: 'Henry Fool [VHS]',\n",
              " 42929: 'Double Team',\n",
              " 42930: 'Maximum Risk',\n",
              " 42931: 'As Good As It Gets',\n",
              " 42932: 'Seven Years in Tibet',\n",
              " 42933: 'The Freshman',\n",
              " 42935: \"Thank God It's Friday [VHS]\",\n",
              " 42936: 'The Spanish Prisoner [VHS]',\n",
              " 42939: 'OLIVER! 30th Tribute Edition',\n",
              " 42941: \"Howard's End\",\n",
              " 42946: 'Cruel Intentions [VHS]',\n",
              " 42948: 'Blue Thunder',\n",
              " 42949: 'The Opposite of Sex [VHS]',\n",
              " 42950: 'To Die For',\n",
              " 42952: 'Remains of the Day [VHS]',\n",
              " 42953: 'Godzilla Vs King Ghidora [VHS]',\n",
              " 42954: 'Godzilla',\n",
              " 42955: 'Godzilla & Mothra: The Battle for Earth (1992) [VHS]',\n",
              " 42957: 'The Seventh Sign',\n",
              " 42958: 'Wild Things',\n",
              " 42960: 'The Quick and the Dead',\n",
              " 42963: '8mm [VHS]',\n",
              " 42965: 'Jagged Edge',\n",
              " 42968: 'Midnight Express',\n",
              " 42969: 'Stripes',\n",
              " 42971: 'The Deep End of the Ocean',\n",
              " 42976: 'Bugsy',\n",
              " 42979: \"John Carpenter's Vampires [VHS]\",\n",
              " 42980: 'Central Station [VHS]',\n",
              " 42981: 'The Juror',\n",
              " 42982: 'My Stepmother Is An Alien',\n",
              " 42985: 'Fright Night',\n",
              " 42987: 'The Deep',\n",
              " 42988: 'Crazy in Alabama',\n",
              " 42993: 'Revenge',\n",
              " 42995: 'Godzilla VS. Mechagodzilla II [VHS]',\n",
              " 42998: 'The Thirteenth Floor [VHS]',\n",
              " 43005: 'Immortal Beloved [VHS]',\n",
              " 43006: 'Apt Pupil',\n",
              " 43007: 'Ghostbusters [VHS]',\n",
              " 43008: 'Dancer, Texas - Pop 81',\n",
              " 43009: 'Taxi Driver (Special Edition) [VHS]',\n",
              " 43010: 'Candyman',\n",
              " 43012: 'The Thief [VHS]',\n",
              " 43013: 'Awakenings [VHS]',\n",
              " 43014: 'Arlington Road',\n",
              " 43015: 'Hard Times',\n",
              " 43018: 'About Last Night',\n",
              " 43022: \"Silverado (Collector's Edition) [VHS]\",\n",
              " 43023: 'Lethal Weapon 2',\n",
              " 43036: 'The End of the Affair [VHS]',\n",
              " 43039: 'Go (Special Edition)',\n",
              " 43045: 'American Movie [VHS]',\n",
              " 43047: \"Little Women (Collector's Series)\",\n",
              " 43048: 'I Still Know What You Did Last Summer [VHS]',\n",
              " 43049: 'Annie (Widescreen Edition)',\n",
              " 43051: 'The Net [VHS]',\n",
              " 43052: 'Texas Chainsaw Massacre: The Next Generation',\n",
              " 43054: 'Bad Boys [VHS]',\n",
              " 43055: \"Who's Harry Crumb?\",\n",
              " 43057: 'All About My Mother [VHS]',\n",
              " 43059: 'What Planet Are You From? [VHS]',\n",
              " 43070: 'Magnolia [VHS]',\n",
              " 43099: 'The Worst Witch (The Movie) [VHS]',\n",
              " 43108: 'M [VHS]',\n",
              " 43113: 'Autumn Sonata (The Criterion Collection)',\n",
              " 43116: 'Cleo From 5 to 7 [VHS]',\n",
              " 43123: 'Beauty and The Beast (The Criterion Collection)',\n",
              " 43133: 'Lord of the Flies (The Criterion Collection)',\n",
              " 43137: 'The Lady Vanishes (The Criterion Collection)',\n",
              " 43140: 'Grand Illusion (The Criterion Collection)',\n",
              " 43141: 'Hamlet (The Criterion Collection)',\n",
              " 43142: 'Teenage Mutant Ninja Turtles - The Original Movie [VHS]',\n",
              " 43146: 'The 39 Steps (The Criterion Collection)',\n",
              " 43147: 'Sanjuro (The Criterion Collection)',\n",
              " 43149: 'The Wages of Fear (The Criterion Collection)',\n",
              " 43150: 'Good Morning (The Criterion Collection)',\n",
              " 43156: '...And God Created Woman (The Criterion Collection)',\n",
              " 43159: 'The Passion of Joan of Arc (The Criterion Collection)',\n",
              " 43167: 'Charade (The Criterion Collection)',\n",
              " 43169: 'Pygmalion (The Criterion Collection)',\n",
              " 43191: 'Nightmare on Elm Street [VHS]',\n",
              " 43194: 'Money Talks [VHS]',\n",
              " 43197: 'Bachelor Mother [VHS]',\n",
              " 43200: 'Austin Powers - International Man of Mystery [VHS]',\n",
              " 43203: 'Friday [VHS]',\n",
              " 43204: \"The Island of Dr. Moreau (Unrated Director's Cut)\",\n",
              " 43206: 'Deconstructing Harry [VHS]',\n",
              " 43210: 'The Sweet Hereafter [VHS]',\n",
              " 43211: 'Mortal Kombat 2 [VHS]',\n",
              " 43219: 'Lewis & Clark - The Journey of the Corps of Discovery [VHS]',\n",
              " 43221: 'Woo [VHS]',\n",
              " 43222: 'Wag the Dog (New Line Platinum Series)',\n",
              " 43223: 'Zero Effect [VHS]',\n",
              " 43224: 'She Wore a Yellow Ribbon [VHS]',\n",
              " 43234: 'The Wedding Singer',\n",
              " 43235: 'The Long Kiss Goodnight',\n",
              " 43240: 'Fallen (Snap Case Packaging)',\n",
              " 43242: 'The Mask',\n",
              " 43245: 'Mickey Blue Eyes',\n",
              " 43247: 'Dark City [VHS]',\n",
              " 43248: 'Lost in Space [VHS]',\n",
              " 43253: 'Besieged [VHS]',\n",
              " 43255: 'One Night Stand [VHS]',\n",
              " 43258: 'In the Mouth of Madness',\n",
              " 43259: 'Trick [VHS]',\n",
              " 43260: \"The Astronaut's Wife\",\n",
              " 43261: 'Embrace of the Vampire (Unrated and R-rated versions of the feature)',\n",
              " 43262: 'Bachelor [VHS]',\n",
              " 43263: 'American History X [VHS]',\n",
              " 43271: 'Next Friday',\n",
              " 43273: 'Hamlet (Widescreen Edition) [VHS]',\n",
              " 43276: 'Simpatico [VHS]',\n",
              " 43280: 'King Kong (Special 60th Anniversary Edition with Documentary) [VHS]',\n",
              " 43282: 'Drop Dead Gorgeous',\n",
              " 43283: 'Blade [VHS]',\n",
              " 43284: \"Wes Craven's New Nightmare\",\n",
              " 43285: 'A Nightmare on Elm Street 5 - The Dream Child',\n",
              " 43288: 'Blast From the Past [VHS]',\n",
              " 43290: 'The Green Mile [VHS]',\n",
              " 43292: 'Absolute Power [VHS]',\n",
              " 43297: 'A Nightmare on Elm Street 4: The Dream Master',\n",
              " 43301: \"Highlander: Director's Cut 10th Anniversary Edition\",\n",
              " 43303: 'Amityville Dollhouse [VHS]',\n",
              " 43304: 'Father Goose [VHS]',\n",
              " 43306: 'Highlander II: Renegade Version',\n",
              " 43311: 'Sands of Iwo Jima',\n",
              " 43316: 'The Grass Is Greener [VHS]',\n",
              " 43323: 'Invasion of the Body Snatchers',\n",
              " 43328: 'The Boogens [VHS]',\n",
              " 43329: 'Night Falls on Manhattan [VHS]',\n",
              " 43333: 'Godzilla Vs Biollante [VHS]',\n",
              " 43339: 'Night Flier [VHS]',\n",
              " 43341: 'Scent of a Woman [VHS]',\n",
              " 43344: 'Pentagon Wars [VHS]',\n",
              " 43347: 'Cher - Live in Concert',\n",
              " 43354: 'Gia (unrated edition) [VHS]',\n",
              " 43356: 'Introducing Dorothy Dandridge',\n",
              " 43363: 'Citizen X',\n",
              " 43371: 'Kickboxer',\n",
              " 43373: \"Mchale's Navy [VHS]\",\n",
              " 43376: 'The Deer Hunter',\n",
              " 43379: 'Criss Cross [VHS]',\n",
              " 43380: 'Apollo 13 (Widescreen 2-Disc Anniversary Edition)',\n",
              " 43384: 'The Shadow',\n",
              " 43385: 'Sudden Death',\n",
              " 43388: 'Which Way Is Up [VHS]',\n",
              " 43389: 'The World At War - 9 Volume Gift Set [VHS]',\n",
              " 43391: 'Jurassic Park (Widescreen Edition) [VHS]',\n",
              " 43392: 'Blue Dahlia [VHS]',\n",
              " 43396: 'The Hitcher',\n",
              " 43403: 'The Beast [VHS]',\n",
              " 43404: 'Timecop',\n",
              " 43407: 'The Major and the Minor [VHS]',\n",
              " 43408: 'The River Wild',\n",
              " 43410: 'The Little Rascals',\n",
              " 43411: 'Centennial Vols 1-12 [VHS]',\n",
              " 43412: 'Dune (Widescreen Edition) [VHS]',\n",
              " 43413: 'Liar Liar [VHS]',\n",
              " 43417: 'Happy Gilmore [VHS]',\n",
              " 43420: 'Born on the Fourth of July',\n",
              " 43421: 'Casino',\n",
              " 43422: 'Parenthood',\n",
              " 43426: '12 Monkeys (Widescreen Edition) [VHS]',\n",
              " 43427: 'To Kill a Mockingbird (Widescreen) [VHS]',\n",
              " 43428: 'The Jerk',\n",
              " 43430: 'Mercury Rising [VHS]',\n",
              " 43434: \"Tremors (Collector's Edition)\",\n",
              " 43435: 'Frighteners [VHS]',\n",
              " 43436: 'Black Angel [VHS]',\n",
              " 43437: 'Blues Brothers [VHS]',\n",
              " 43438: 'Rooster Cogburn (..and the Lady)',\n",
              " 43441: 'The Chamber',\n",
              " 43442: 'Spartacus',\n",
              " 43444: 'The Breakfast Club',\n",
              " 43445: \"Scarface (Collector's Edition)\",\n",
              " 43447: \"Psycho (Collector's Edition)\",\n",
              " 43448: 'High Plains Drifter',\n",
              " 43449: 'American Graffiti [VHS]',\n",
              " 43450: 'Conan the Barbarian',\n",
              " 43452: 'The Nutty Professor',\n",
              " 43453: \"Dragon: The Bruce Lee Story - Collector's Edition\",\n",
              " 43454: 'Uncle Buck',\n",
              " 43456: 'Blues Brothers 2000 [VHS]',\n",
              " 43457: 'Housesitter',\n",
              " 43461: 'The Sting (Full Screen Edition)',\n",
              " 43462: 'Streets of Fire',\n",
              " 43463: \"The Thing - Collector's Edition\",\n",
              " 43464: 'Amistad (Widescreen Edition) [VHS]',\n",
              " 43465: 'The Quest',\n",
              " 43468: 'Ministry of Fear [VHS]',\n",
              " 43470: 'Six Days Seven Nights [VHS]',\n",
              " 43476: 'Havana',\n",
              " 43477: \"Carlito's Way (Widescreen Edition) [VHS]\",\n",
              " 43478: 'Rumble Fish',\n",
              " 43481: 'Fear and Loathing in Las Vegas',\n",
              " 43485: 'Fletch',\n",
              " 43489: 'Buffalo 66 [VHS]',\n",
              " 43491: 'Bird on a Wire',\n",
              " 43492: \"The Flintstones (Collector's Edition)\",\n",
              " 43495: 'Videodrome',\n",
              " 43502: 'If I Were King [VHS]',\n",
              " 43503: 'Darkman II: The Return of Durant',\n",
              " 43508: 'The Prince of Egypt [VHS]',\n",
              " 43510: 'How to Make an American Quilt',\n",
              " 43515: 'The Birds (The Alfred Hitchcock Collection) [VHS]',\n",
              " 43517: \"Child's Play 2\",\n",
              " 43518: 'Henry & June',\n",
              " 43520: 'The Hunted',\n",
              " 43521: 'Out of Sight [VHS]',\n",
              " 43524: 'All Quiet on the Western Front',\n",
              " 43526: 'The Trouble With Harry [VHS]',\n",
              " 43531: 'Joseph and the Amazing Technicolor Dreamcoat',\n",
              " 43534: 'The Wiz',\n",
              " 43535: 'Baseketball [VHS]',\n",
              " 43536: 'The Story of Us',\n",
              " 43537: 'Abbott & Costello Meet Frankenstein',\n",
              " 43542: 'Abbott & Costello: Hold That Ghost [VHS]',\n",
              " 43546: 'The Mummy [VHS]',\n",
              " 43548: 'Man on the Moon [VHS]',\n",
              " 43550: 'Creature From the Black Lagoon (Universal Studios Classic Monster Collection)',\n",
              " 43551: 'The Bone Collector',\n",
              " 43552: 'American Psycho [VHS]',\n",
              " 43553: 'Universal Studios Classic Monster Collection (Dracula / Frankenstein / The Mummy / The Invisible Man / The Bride of Frankenstein / The Wolf Man / Phantom of the Opera / Creature from the Black Lagoon)',\n",
              " 43554: 'Love Letter [VHS]',\n",
              " 43556: 'The Haunting',\n",
              " 43557: 'Shadow of a Doubt [VHS]',\n",
              " 43558: 'Forces of Nature',\n",
              " 43564: 'Shocker',\n",
              " 43565: 'Mystery Men [VHS]',\n",
              " 43566: 'Beyond the Mat VHS',\n",
              " 43569: \"Isn't She Great [VHS]\",\n",
              " 43570: 'Last Night',\n",
              " 43571: 'The Hurricane [VHS]',\n",
              " 43575: 'October Sky [VHS]',\n",
              " 43579: 'Patch Adams - DTS',\n",
              " 43580: 'Notting Hill [VHS]',\n",
              " 43582: 'Mystery Men [VHS]',\n",
              " 43586: 'Galaxy Quest [VHS]',\n",
              " 43598: 'Literary Masterpieces: The Count of Monte Cristo [VHS]',\n",
              " 43600: 'The Crying Game [VHS]',\n",
              " 43606: 'Dirty Dancing',\n",
              " 43608: 'The Piano',\n",
              " 43611: 'Angel Heart',\n",
              " 43612: \"Sophie's Choice\",\n",
              " 43618: 'Air America',\n",
              " 43624: 'L.A. Story',\n",
              " 43633: 'Young Guns',\n",
              " 43640: 'The Fabulous Baker Boys',\n",
              " 43642: 'Reservoir Dogs [VHS]',\n",
              " 43644: 'The Arrival / The Arrival II',\n",
              " 43646: 'Suicide Kings',\n",
              " 43662: 'Above the Law [VHS]',\n",
              " 43668: 'Flubber [VHS]',\n",
              " 43673: 'Good Will Hunting',\n",
              " 43675: 'The Wings of the Dove',\n",
              " 43676: 'Sirens',\n",
              " 43677: 'Snow White and the Seven Dwarfs - Platinum Edition',\n",
              " 43680: \"Muriel's Wedding\",\n",
              " 43684: 'Lady and the Tramp [VHS]',\n",
              " 43686: 'Nuts [VHS]',\n",
              " 43687: 'George of the Jungle [VHS]',\n",
              " 43693: 'Greyfriars Bobby [VHS]',\n",
              " 43695: 'From Dusk Till Dawn 2 - Texas Blood Money [VHS]',\n",
              " 43699: 'Pretty Woman [VHS]',\n",
              " 43700: 'Beloved',\n",
              " 43701: 'The English Patient [VHS]',\n",
              " 43705: 'My Favorite Martian',\n",
              " 43708: 'Velvet Goldmine',\n",
              " 43720: 'Honeymoon in Vegas [VHS]',\n",
              " 43734: 'The Return of the King',\n",
              " 43735: 'The Glimmer Man',\n",
              " 43736: 'The Fugitive',\n",
              " 43737: 'A Clockwork Orange',\n",
              " 43738: \"A Streetcar Named Desire (Original Director's Version)\",\n",
              " 43739: 'Eraser',\n",
              " 43741: 'Batman (1989)',\n",
              " 43742: 'The Exorcist',\n",
              " 43745: 'Michael Collins',\n",
              " 43746: 'Seven (Widescreen)',\n",
              " 43748: '10',\n",
              " 43749: 'Tin Cup',\n",
              " 43754: 'Mortal Kombat',\n",
              " 43756: 'Grumpy Old Men',\n",
              " 43758: 'Beetlejuice',\n",
              " 43760: 'Blazing Saddles',\n",
              " 43762: 'Mars Attacks!',\n",
              " 43763: 'E.T. the Extra-Terrestrial',\n",
              " 43765: 'Lethal Weapon',\n",
              " 43766: 'Ace Ventura: Pet Detective',\n",
              " 43768: \"Who's Afraid of Virginia Woolf?\",\n",
              " 43769: \"National Lampoon's Christmas Vacation [VHS]\",\n",
              " 43771: \"One Flew Over the Cuckoo's Nest\",\n",
              " 43772: 'Mad Max Beyond Thunderdome',\n",
              " 43774: 'The Pelican Brief',\n",
              " 43775: 'The Bridges of Madison County (Full Screen Edition)',\n",
              " 43776: 'Waiting for Guffman [VHS]',\n",
              " 43778: 'Vegas Vacation (Full Screen Edition)',\n",
              " 43780: \"National Lampoon's Vacation (Full Screen Edition)\",\n",
              " 43782: 'The Postman Always Rings Twice',\n",
              " 43783: 'My Fellow Americans',\n",
              " 43786: 'Midnight in the Garden of Good & Evil [VHS]',\n",
              " 43787: 'Amadeus [VHS]',\n",
              " 43788: \"All the President's Men [VHS]\",\n",
              " 43791: 'Victory [VHS]',\n",
              " 43792: 'A Time to Kill',\n",
              " 43793: 'Batman & Robin [VHS]',\n",
              " 43795: 'The Witches of Eastwick',\n",
              " 43796: 'Wolfen [VHS]',\n",
              " 43797: 'Bullitt [VHS]',\n",
              " 43798: 'Dog Day Afternoon [VHS]',\n",
              " 43799: 'Last Boy Scout [VHS]',\n",
              " 43800: 'Conspiracy Theory [VHS]',\n",
              " 43801: 'Maverick (Snap Case Packaging)',\n",
              " 43802: 'A Night in Casablanca [VHS]',\n",
              " 43806: 'Postman [VHS]',\n",
              " 43807: \"The Wild Bunch - The Original Director's Cut\",\n",
              " 43810: 'The Bodyguard (Full Screen Edition)',\n",
              " 43812: 'The Searchers [VHS]',\n",
              " 43813: 'Magnum Force [VHS]',\n",
              " 43814: 'Under Siege',\n",
              " 43816: 'Enter the Dragon [VHS]',\n",
              " 43818: 'Frankenstein Must Be Destroyed [VHS]',\n",
              " 43820: 'The Bride Came C.O.D. [VHS]',\n",
              " 43821: 'Ladyhawke [VHS]',\n",
              " 43822: 'The Butcher Boy [VHS]',\n",
              " 43824: 'A Perfect World [VHS]',\n",
              " 43827: 'The Music Man [VHS]',\n",
              " 43828: 'Cabaret (25th Anniversary Special Edition) [VHS]',\n",
              " 43830: 'The Right Stuff',\n",
              " 43831: \"Stephen King's It [VHS]\",\n",
              " 43835: 'Dracula Ad 1972 [VHS]',\n",
              " 43841: 'Joe Versus the Volcano [VHS]',\n",
              " 43842: 'Copycat [VHS]',\n",
              " 43844: 'Funny Farm (1988)',\n",
              " 43846: 'A Perfect Murder (Widescreen Edition) [VHS]',\n",
              " 43848: 'Wrongfully Accused [VHS]',\n",
              " 43849: \"The Devil's Advocate [VHS]\",\n",
              " 43851: 'Fandango [VHS]',\n",
              " 43854: 'Horror of Dracula [VHS]',\n",
              " 43855: 'Caddyshack - 19th Anniversary Edition [VHS]',\n",
              " 43857: 'Lost in America [VHS]',\n",
              " 43859: 'What Ever Happened to Baby Jane?',\n",
              " 43860: 'The Exorcist III [VHS]',\n",
              " 43862: 'Before Sunrise [VHS]',\n",
              " 43866: 'Barcelona [VHS]',\n",
              " 43867: 'On Deadly Ground [VHS]',\n",
              " 43870: 'Sleepers',\n",
              " 43871: 'Mccabe & Mrs. Miller [VHS]',\n",
              " 43875: 'Altered States [VHS]',\n",
              " 43877: 'The Bonfire of the Vanities',\n",
              " 43878: 'Fair Game [VHS]',\n",
              " 43879: 'Key Largo [VHS]',\n",
              " 43884: 'City of Angels',\n",
              " 43885: 'The Philadelphia Story [VHS]',\n",
              " 43886: 'Falling Down',\n",
              " 43887: 'Body Snatchers: The Invasion Continues',\n",
              " 43888: 'The Treasure of the Sierra Madre [VHS]',\n",
              " 43893: 'White Heat [VHS]',\n",
              " 43896: 'Why Do Fools Fall in Love [VHS]',\n",
              " 43898: 'Stage Fright [VHS]',\n",
              " 43899: \"Salem's Lot\",\n",
              " 43903: 'House on Haunted Hill [VHS]',\n",
              " 43904: 'Objective Burma [VHS]',\n",
              " 43905: 'Quo Vadis [VHS]',\n",
              " 43907: 'Dark Passage [VHS]',\n",
              " 43908: \"A Midsummer Night's Dream [VHS]\",\n",
              " 43909: 'Petrified Forest [VHS]',\n",
              " 43911: 'Eyes Wide Shut [VHS]',\n",
              " 43914: 'Action in the North Atlantic [VHS]',\n",
              " 43915: 'Romeo & Juliet [VHS]',\n",
              " 43916: 'Batman Beyond - Return of the Joker [VHS]',\n",
              " 43917: 'To Have & Have Not [VHS]',\n",
              " 43918: 'Roberta [VHS]',\n",
              " 43919: 'The Big Sleep (Theatrical Version) [VHS]',\n",
              " 43921: 'The Matrix',\n",
              " 43924: 'Love Me Or Leave Me [VHS]',\n",
              " 43926: \"Pee-Wee's Big Adventure  [VHS]\",\n",
              " 43929: 'Creepshow (Snap Case Packaging)',\n",
              " 43934: 'The Whole Nine Yards [VHS]',\n",
              " 43938: 'Coma',\n",
              " 43939: 'Pokémon: The First Movie [VHS]',\n",
              " 43941: 'Analyze This [VHS]',\n",
              " 43946: 'Get Carter [VHS]',\n",
              " 43948: 'Calamity Jane [VHS]',\n",
              " 43949: 'Meet Me in St Louis [VHS]',\n",
              " 43951: 'Casablanca [VHS]',\n",
              " 43952: 'Gigi [VHS]',\n",
              " ...}"
            ]
          },
          "metadata": {},
          "execution_count": 11
        }
      ]
    },
    {
      "cell_type": "markdown",
      "metadata": {
        "id": "xpwdnIPvPgU4"
      },
      "source": [
        "Il file CSV `purchases-2000.csv` contiene i dati sugli acquisti effettuati dagli utenti analizzati fino alla fine del 2000: per ciascun acquisto registrato, il file contiene una riga `IdUtente;IdProdotto`.\n",
        "\n",
        "Usiamo le funzioni viste sopra per leggere il file, creando stavolta un insieme `purchases` di tuple `(uid, iid)`."
      ]
    },
    {
      "cell_type": "code",
      "execution_count": 12,
      "metadata": {
        "id": "3k7Ruz19PgU5"
      },
      "outputs": [],
      "source": [
        "with open(\"purchases-2000.csv\", \"r\") as f:\n",
        "    reader = csv.reader(f, delimiter=\";\")\n",
        "    purchases_set = set(\n",
        "        (int(uid), int(iid))\n",
        "        for uid, iid in reader\n",
        "    )"
      ]
    },
    {
      "cell_type": "code",
      "source": [
        "purchases_set"
      ],
      "metadata": {
        "id": "gCqQGWpLR8MW",
        "outputId": "e81bc0a8-130a-40f7-ee78-e3cd11418553",
        "colab": {
          "base_uri": "https://localhost:8080/"
        }
      },
      "execution_count": 13,
      "outputs": [
        {
          "output_type": "execute_result",
          "data": {
            "text/plain": [
              "{(641520, 44037),\n",
              " (279452, 100933),\n",
              " (865352, 96240),\n",
              " (390353, 57780),\n",
              " (138128, 43885),\n",
              " (190242, 51231),\n",
              " (1228076, 54695),\n",
              " (188455, 99904),\n",
              " (365071, 44176),\n",
              " (774984, 43771),\n",
              " (442793, 57190),\n",
              " (1098934, 46016),\n",
              " (1228076, 102172),\n",
              " (426926, 42913),\n",
              " (502896, 44312),\n",
              " (889499, 44163),\n",
              " (580709, 2302),\n",
              " (116105, 95933),\n",
              " (362142, 48709),\n",
              " (811933, 43447),\n",
              " (1092996, 95302),\n",
              " (1092996, 57395),\n",
              " (889499, 49532),\n",
              " (1234283, 5462),\n",
              " (63776, 47759),\n",
              " (753999, 56561),\n",
              " (827287, 96022),\n",
              " (1091373, 43911),\n",
              " (48144, 43407),\n",
              " (63776, 104096),\n",
              " (743388, 43824),\n",
              " (464319, 55317),\n",
              " (533414, 43420),\n",
              " (390353, 8101),\n",
              " (140844, 42950),\n",
              " (999745, 51683),\n",
              " (125883, 4572),\n",
              " (116105, 7637),\n",
              " (365712, 43283),\n",
              " (116614, 43206),\n",
              " (138128, 44356),\n",
              " (502896, 1278),\n",
              " (771431, 8853),\n",
              " (130054, 43982),\n",
              " (164121, 49606),\n",
              " (58135, 96450),\n",
              " (827287, 3525),\n",
              " (964312, 43262),\n",
              " (724868, 6873),\n",
              " (464319, 103962),\n",
              " (791603, 101696),\n",
              " (533414, 47971),\n",
              " (774984, 5288),\n",
              " (1201103, 8009),\n",
              " (399035, 50331),\n",
              " (218221, 96761),\n",
              " (1012166, 43290),\n",
              " (827287, 263),\n",
              " (1001561, 62384),\n",
              " (281883, 9503),\n",
              " (503195, 44328),\n",
              " (218221, 95714),\n",
              " (458094, 98251),\n",
              " (279452, 47524),\n",
              " (52797, 95406),\n",
              " (365071, 43263),\n",
              " (743388, 97730),\n",
              " (483531, 9433),\n",
              " (639998, 8000),\n",
              " (774984, 4362),\n",
              " (63776, 43921),\n",
              " (877426, 95979),\n",
              " (503195, 44220),\n",
              " (865352, 95448),\n",
              " (368839, 95731),\n",
              " (1147230, 47987),\n",
              " (44082, 55981),\n",
              " (399035, 2049),\n",
              " (906953, 4161),\n",
              " (431084, 47819),\n",
              " (743388, 54925),\n",
              " (125883, 43552),\n",
              " (224067, 100974),\n",
              " (1073342, 95379),\n",
              " (224067, 50235),\n",
              " (84, 43391),\n",
              " (503195, 47724),\n",
              " (125462, 4797),\n",
              " (239871, 333),\n",
              " (1169585, 57458),\n",
              " (885334, 43911),\n",
              " (125883, 43673),\n",
              " (1012166, 96499),\n",
              " (1169585, 43579),\n",
              " (218221, 52922),\n",
              " (452809, 4923),\n",
              " (919243, 43701),\n",
              " (935601, 54509),\n",
              " (1012166, 104083),\n",
              " (1187775, 44037),\n",
              " (639998, 60041),\n",
              " (279452, 1470),\n",
              " (44082, 96237),\n",
              " (516868, 96794),\n",
              " (125883, 95472),\n",
              " (753999, 100105),\n",
              " (913001, 104509),\n",
              " (1092996, 5288),\n",
              " (1029826, 100296),\n",
              " (424169, 44118),\n",
              " (913001, 51784),\n",
              " (641520, 56561),\n",
              " (935601, 1676),\n",
              " (1234283, 60202),\n",
              " (1044118, 100120),\n",
              " (529431, 96250),\n",
              " (110576, 96020),\n",
              " (744355, 43248),\n",
              " (190242, 2399),\n",
              " (641520, 4775),\n",
              " (426926, 53222),\n",
              " (360171, 51008),\n",
              " (431084, 96598),\n",
              " (801923, 53775),\n",
              " (1025221, 42995),\n",
              " (873863, 96465),\n",
              " (1047631, 51638),\n",
              " (426926, 96498),\n",
              " (1201103, 57151),\n",
              " (609818, 524),\n",
              " (279452, 43820),\n",
              " (639998, 5114),\n",
              " (109403, 103868),\n",
              " (81819, 43015),\n",
              " (1001561, 96479),\n",
              " (999745, 95698),\n",
              " (913001, 7932),\n",
              " (293553, 95754),\n",
              " (811933, 43489),\n",
              " (1201295, 47643),\n",
              " (1201295, 43442),\n",
              " (935601, 43797),\n",
              " (889499, 95883),\n",
              " (956669, 5462),\n",
              " (891040, 101569),\n",
              " (442793, 95849),\n",
              " (760122, 43536),\n",
              " (1095730, 42987),\n",
              " (44082, 96600),\n",
              " (780698, 1063),\n",
              " (1001958, 96071),\n",
              " (1029826, 101477),\n",
              " (439900, 42948),\n",
              " (429177, 57354),\n",
              " (865352, 59435),\n",
              " (609818, 43921),\n",
              " (1007279, 43820),\n",
              " (956669, 100416),\n",
              " (827287, 57339),\n",
              " (158855, 44037),\n",
              " (1102867, 96563),\n",
              " (125883, 44049),\n",
              " (845125, 95316),\n",
              " (889499, 49466),\n",
              " (1044118, 51730),\n",
              " (426926, 47987),\n",
              " (63776, 96217),\n",
              " (639998, 43263),\n",
              " (624547, 5546),\n",
              " (365712, 54881),\n",
              " (1117512, 43551),\n",
              " (22759, 43380),\n",
              " (1187775, 43245),\n",
              " (1012166, 43921),\n",
              " (464319, 101560),\n",
              " (721138, 55291),\n",
              " (158428, 48551),\n",
              " (138128, 96786),\n",
              " (116614, 42911),\n",
              " (815745, 56413),\n",
              " (81819, 58425),\n",
              " (774984, 59933),\n",
              " (827287, 101675),\n",
              " (296466, 52888),\n",
              " (733434, 60230),\n",
              " (906953, 43746),\n",
              " (586812, 57110),\n",
              " (452809, 44037),\n",
              " (1056591, 4775),\n",
              " (224067, 50974),\n",
              " (390353, 97741),\n",
              " (483531, 42494),\n",
              " (424169, 43447),\n",
              " (93938, 102392),\n",
              " (360171, 99908),\n",
              " (192779, 56657),\n",
              " (126922, 100212),\n",
              " (516868, 43290),\n",
              " (774984, 57021),\n",
              " (1091373, 103349),\n",
              " (865352, 8012),\n",
              " (190242, 5111),\n",
              " (63776, 43855),\n",
              " (913001, 724),\n",
              " (760122, 95698),\n",
              " (1147230, 96674),\n",
              " (958462, 101468),\n",
              " (424169, 51152),\n",
              " (1012166, 100392),\n",
              " (913001, 43771),\n",
              " (771431, 8921),\n",
              " (158855, 5567),\n",
              " (1124810, 100296),\n",
              " (676405, 5048),\n",
              " (992975, 5408),\n",
              " (48144, 96321),\n",
              " (365071, 98379),\n",
              " (63776, 95654),\n",
              " (770638, 44159),\n",
              " (1012166, 56190),\n",
              " (660019, 55359),\n",
              " (1012166, 47559),\n",
              " (365071, 95346),\n",
              " (279452, 115),\n",
              " (260996, 102332),\n",
              " (749894, 48030),\n",
              " (906953, 5384),\n",
              " (279452, 51793),\n",
              " (218789, 95943),\n",
              " (1001958, 97736),\n",
              " (1047631, 43746),\n",
              " (158428, 49156),\n",
              " (231204, 100712),\n",
              " (62023, 57372),\n",
              " (720060, 56801),\n",
              " (785177, 48670),\n",
              " (1102867, 44106),\n",
              " (956669, 2818),\n",
              " (582187, 99907),\n",
              " (906953, 5276),\n",
              " (1007279, 4774),\n",
              " (261279, 96362),\n",
              " (956669, 58926),\n",
              " (365071, 7989),\n",
              " (296466, 51507),\n",
              " (837149, 57249),\n",
              " (187485, 43739),\n",
              " (293553, 43768),\n",
              " (365071, 55695),\n",
              " (360171, 44176),\n",
              " (439900, 43916),\n",
              " (140844, 44320),\n",
              " (837149, 100296),\n",
              " (1012166, 4875),\n",
              " (919243, 4802),\n",
              " (48144, 43959),\n",
              " (224067, 44116),\n",
              " (811933, 94859),\n",
              " (669512, 96353),\n",
              " (503195, 47792),\n",
              " (1012166, 45936),\n",
              " (660019, 57708),\n",
              " (1185145, 55108),\n",
              " (760122, 55242),\n",
              " (1147230, 95882),\n",
              " (158855, 96454),\n",
              " (439900, 100963),\n",
              " (224067, 5162),\n",
              " (749894, 101118),\n",
              " (913001, 95933),\n",
              " (187485, 97753),\n",
              " (365712, 97728),\n",
              " (261279, 58926),\n",
              " (693120, 43998),\n",
              " (676405, 57210),\n",
              " (827287, 55984),\n",
              " (48144, 95758),\n",
              " (1056591, 96025),\n",
              " (1001561, 96184),\n",
              " (1095730, 43739),\n",
              " (187485, 95888),\n",
              " (190242, 43515),\n",
              " (993076, 54360),\n",
              " (1185145, 96290),\n",
              " (116105, 5048),\n",
              " (224067, 57190),\n",
              " (293553, 42963),\n",
              " (913001, 101652),\n",
              " (158855, 57621),\n",
              " (503195, 96558),\n",
              " (63776, 47506),\n",
              " (753999, 47677),\n",
              " (362142, 42979),\n",
              " (365712, 3955),\n",
              " (512280, 8007),\n",
              " (580709, 44278),\n",
              " (541672, 5162),\n",
              " (956669, 5288),\n",
              " (889499, 95938),\n",
              " (231204, 101906),\n",
              " (1092996, 57263),\n",
              " (442793, 95904),\n",
              " (390353, 61741),\n",
              " (791603, 47550),\n",
              " (464319, 3278),\n",
              " (724868, 48728),\n",
              " (158428, 1008),\n",
              " (970622, 61488),\n",
              " (743388, 43463),\n",
              " (771431, 5567),\n",
              " (1092996, 45370),\n",
              " (993076, 96710),\n",
              " (1012166, 95762),\n",
              " (1200961, 57099),\n",
              " (913001, 43571),\n",
              " (188455, 7985),\n",
              " (1102867, 96389),\n",
              " (483531, 57354),\n",
              " (665876, 47413),\n",
              " (770638, 2669),\n",
              " (279452, 43888),\n",
              " (683007, 50331),\n",
              " (1187775, 96025),\n",
              " (239871, 95718),\n",
              " (867901, 96672),\n",
              " (1117512, 43606),\n",
              " (1025221, 42955),\n",
              " (1147230, 43412),\n",
              " (399035, 47984),\n",
              " (493152, 48828),\n",
              " (393881, 95918),\n",
              " (116614, 5288),\n",
              " (84, 96789),\n",
              " (1185145, 8007),\n",
              " (231204, 43007),\n",
              " (785177, 43919),\n",
              " (877426, 104128),\n",
              " (946673, 1727),\n",
              " (164121, 3057),\n",
              " (609818, 43989),\n",
              " (44082, 42896),\n",
              " (274676, 97901),\n",
              " (44082, 96789),\n",
              " (239871, 95731),\n",
              " (452809, 95999),\n",
              " (439900, 45352),\n",
              " (362142, 43463),\n",
              " (665876, 61655),\n",
              " (665876, 103763),\n",
              " (753999, 96456),\n",
              " (239871, 5099),\n",
              " (993076, 51582),\n",
              " (993076, 95676),\n",
              " (1098934, 96649),\n",
              " (116614, 44026),\n",
              " (785177, 3100),\n",
              " (885334, 95444),\n",
              " (743388, 60041),\n",
              " (365712, 43285),\n",
              " (429177, 43893),\n",
              " (1029826, 43464),\n",
              " (140844, 94859),\n",
              " (913001, 104014),\n",
              " (827287, 43420),\n",
              " (360171, 53775),\n",
              " (771431, 96454),\n",
              " (774984, 60230),\n",
              " (224067, 47888),\n",
              " (1012166, 47722),\n",
              " (1234283, 96567),\n",
              " (281883, 60244),\n",
              " (190242, 100120),\n",
              " (229993, 43746),\n",
              " (158855, 96025),\n",
              " (791603, 8033),\n",
              " (913001, 60041),\n",
              " (913001, 95733),\n",
              " (239871, 60281),\n",
              " (503195, 236),\n",
              " (125883, 7849),\n",
              " (770638, 103355),\n",
              " (858056, 43571),\n",
              " (231204, 55155),\n",
              " (464319, 104085),\n",
              " (296466, 104045),\n",
              " (390353, 8574),\n",
              " (827287, 95448),\n",
              " (993076, 48562),\n",
              " (1092996, 57760),\n",
              " (1187775, 96630),\n",
              " (424169, 56468),\n",
              " (368839, 48256),\n",
              " (724868, 55870),\n",
              " (7661, 5162),\n",
              " (970622, 104093),\n",
              " (586812, 54266),\n",
              " (458094, 52294),\n",
              " (845125, 43961),\n",
              " (44082, 56212),\n",
              " (693120, 51503),\n",
              " (992975, 6523),\n",
              " (1185145, 59351),\n",
              " (609818, 43426),\n",
              " (1114481, 43283),\n",
              " (791603, 59953),\n",
              " (360171, 47493),\n",
              " (62023, 43548),\n",
              " (281883, 4499),\n",
              " (1001561, 44319),\n",
              " (188455, 55141),\n",
              " (889499, 56555),\n",
              " (1007279, 3782),\n",
              " (503195, 95432),\n",
              " (586812, 42494),\n",
              " (125462, 48075),\n",
              " (858056, 43934),\n",
              " (1001958, 43911),\n",
              " (63776, 95843),\n",
              " (190242, 4603),\n",
              " (1200961, 97731),\n",
              " (999745, 52061),\n",
              " (218221, 4400),\n",
              " (582187, 52498),\n",
              " (279452, 48828),\n",
              " (624547, 44018),\n",
              " (393881, 95718),\n",
              " (889499, 97737),\n",
              " (260996, 43380),\n",
              " (665876, 42904),\n",
              " (873863, 57729),\n",
              " (721138, 53870),\n",
              " (624547, 42971),\n",
              " (224067, 58292),\n",
              " (365071, 95656),\n",
              " (231204, 43517),\n",
              " (365712, 95689),\n",
              " (1003282, 96379),\n",
              " (638025, 43450),\n",
              " (224067, 4291),\n",
              " (939245, 57372),\n",
              " (44082, 96589),\n",
              " (620746, 96247),\n",
              " (744355, 53049),\n",
              " (261279, 60041),\n",
              " (1092996, 53935),\n",
              " (483531, 43288),\n",
              " (1169585, 49421),\n",
              " (1012166, 95696),\n",
              " (188455, 7919),\n",
              " (426926, 3882),\n",
              " (393881, 43006),\n",
              " (424169, 100120),\n",
              " (774984, 43586),\n",
              " (1201295, 55108),\n",
              " (609818, 96756),\n",
              " (365712, 48454),\n",
              " (83632, 96454),\n",
              " (84, 4923),\n",
              " (365712, 100132),\n",
              " (690099, 48256),\n",
              " (493152, 44332),\n",
              " (817135, 56846),\n",
              " (83632, 57729),\n",
              " (502896, 49496),\n",
              " (516868, 4312),\n",
              " (63776, 59817),\n",
              " (891040, 5462),\n",
              " (541672, 45352),\n",
              " (733434, 104084),\n",
              " (743388, 57410),\n",
              " (188455, 1745),\n",
              " (261279, 57021),\n",
              " (889499, 43052),\n",
              " (44082, 96723),\n",
              " (781295, 43284),\n",
              " (858056, 7800),\n",
              " (239871, 5033),\n",
              " (429177, 6967),\n",
              " (391690, 57573),\n",
              " (1095730, 44278),\n",
              " (390353, 96454),\n",
              " (639998, 46648),\n",
              " (999745, 60250),\n",
              " (781295, 4330),\n",
              " (774984, 96674),\n",
              " (138128, 4170),\n",
              " (390353, 57729),\n",
              " (390353, 95407),\n",
              " (190242, 43007),\n",
              " (865352, 43464),\n",
              " (958462, 59349),\n",
              " (125883, 57354),\n",
              " (665876, 100556),\n",
              " (126922, 49583),\n",
              " (109403, 44045),\n",
              " (512280, 57780),\n",
              " (261279, 57263),\n",
              " (431084, 104439),\n",
              " (426926, 44030),\n",
              " (529431, 43903),\n",
              " (1201295, 101901),\n",
              " (536662, 44002),\n",
              " (424169, 43449),\n",
              " (638025, 60041),\n",
              " (365712, 48709),\n",
              " (360171, 99910),\n",
              " (776528, 49532),\n",
              " (110576, 95351),\n",
              " (431084, 103392),\n",
              " (224067, 43742),\n",
              " (229993, 100956),\n",
              " (638025, 96672),\n",
              " (190242, 104605),\n",
              " (1003282, 96647),\n",
              " (1001561, 95689),\n",
              " (224067, 42695),\n",
              " (464319, 3938),\n",
              " (877426, 60223),\n",
              " (1194368, 96672),\n",
              " (190242, 57249),\n",
              " (1201103, 103020),\n",
              " (970622, 95396),\n",
              " (424169, 101893),\n",
              " (1102867, 1048),\n",
              " (885334, 97727),\n",
              " (516868, 43413),\n",
              " (116614, 47477),\n",
              " (512280, 3082),\n",
              " (446291, 43263),\n",
              " (774984, 44312),\n",
              " (110576, 43686),\n",
              " (190242, 1033),\n",
              " (743388, 103156),\n",
              " (1012166, 57239),\n",
              " (1012166, 48837),\n",
              " (218221, 49583),\n",
              " (865352, 60042),\n",
              " (48144, 43598),\n",
              " (261279, 96122),\n",
              " (63776, 95656),\n",
              " (130054, 100160),\n",
              " (192779, 96794),\n",
              " (873863, 54977),\n",
              " (743388, 95693),\n",
              " (1001561, 60239),\n",
              " (1001561, 95931),\n",
              " (641520, 96148),\n",
              " (873863, 9836),\n",
              " (365071, 286),\n",
              " (138128, 96454),\n",
              " (1003282, 96071),\n",
              " (429177, 49451),\n",
              " (279452, 96347),\n",
              " (1200961, 3650),\n",
              " (458094, 96335),\n",
              " (885334, 60062),\n",
              " (365071, 45777),\n",
              " (999745, 96318),\n",
              " (889499, 96503),\n",
              " (1114481, 96184),\n",
              " (125883, 96455),\n",
              " (140844, 6523),\n",
              " (439900, 43797),\n",
              " (109403, 53870),\n",
              " (452809, 43705),\n",
              " (458094, 96456),\n",
              " (390353, 61488),\n",
              " (749894, 55737),\n",
              " (1117512, 47662),\n",
              " (293553, 56602),\n",
              " (638025, 57263),\n",
              " (1007279, 96347),\n",
              " (187485, 43741),\n",
              " (261279, 59854),\n",
              " (891040, 60202),\n",
              " (889499, 43899),\n",
              " (913001, 96043),\n",
              " (999745, 95392),\n",
              " (293553, 42952),\n",
              " (48144, 50377),\n",
              " (641520, 3772),\n",
              " (801923, 103282),\n",
              " (365071, 56636),\n",
              " (774984, 47829),\n",
              " (125883, 95758),\n",
              " (452809, 60041),\n",
              " (919243, 56940),\n",
              " (165618, 55426),\n",
              " (424169, 43007),\n",
              " (620746, 43456),\n",
              " (1092996, 43023),\n",
              " (431136, 43999),\n",
              " (279452, 100911),\n",
              " (889499, 2851),\n",
              " (165618, 99870),\n",
              " (125883, 60187),\n",
              " (639998, 42957),\n",
              " (607363, 57372),\n",
              " (733434, 96542),\n",
              " (1025221, 97992),\n",
              " (1092996, 45359),\n",
              " (446291, 1531),\n",
              " (877426, 47659),\n",
              " (1102867, 49840),\n",
              " (665876, 5065),\n",
              " (999745, 45834),\n",
              " (753999, 48618),\n",
              " (109403, 43737),\n",
              " (1044118, 5586),\n",
              " (1201295, 101593),\n",
              " (885334, 3512),\n",
              " (229993, 57372),\n",
              " (125883, 45153),\n",
              " (279452, 99877),\n",
              " (1102867, 4820),\n",
              " (1194368, 55532),\n",
              " (780698, 73),\n",
              " (939245, 47991),\n",
              " (1098934, 104101),\n",
              " (218221, 96510),\n",
              " (293553, 3314),\n",
              " (1102867, 8203),\n",
              " (609818, 42931),\n",
              " (946673, 96670),\n",
              " (296466, 54100),\n",
              " (541672, 52762),\n",
              " (7661, 4788),\n",
              " (660019, 102288),\n",
              " (125883, 43059),\n",
              " (502896, 59242),\n",
              " (1025221, 56018),\n",
              " (261279, 60230),\n",
              " (817135, 42914),\n",
              " (956669, 98379),\n",
              " (503195, 95755),\n",
              " (780698, 48489),\n",
              " (339981, 95364),\n",
              " (1092996, 104045),\n",
              " (84, 103207),\n",
              " (1012166, 42931),\n",
              " (365071, 59456),\n",
              " (1185145, 43701),\n",
              " (624547, 96356),\n",
              " (785177, 43921),\n",
              " (224067, 2386),\n",
              " (239871, 49532),\n",
              " (22759, 43558),\n",
              " (93938, 51589),\n",
              " (224067, 43447),\n",
              " (365071, 43133),\n",
              " (665876, 96181),\n",
              " (218789, 2669),\n",
              " (1044118, 96352),\n",
              " (757804, 102149),\n",
              " (190242, 53800),\n",
              " (780698, 47792),\n",
              " (125462, 95996),\n",
              " (721138, 100731),\n",
              " (125462, 5593),\n",
              " (158855, 7368),\n",
              " (683007, 44159),\n",
              " (424169, 95411),\n",
              " (1169585, 3314),\n",
              " (827287, 4576),\n",
              " (360171, 96703),\n",
              " (1001561, 60281),\n",
              " (1234283, 8031),\n",
              " (889499, 1362),\n",
              " (1200961, 100511),\n",
              " (877426, 49432),\n",
              " (391690, 99870),\n",
              " (638025, 5048),\n",
              " (431136, 59664),\n",
              " (771431, 8039),\n",
              " (652570, 47389),\n",
              " (620746, 95981),\n",
              " (919243, 54296),\n",
              " (757804, 100176),\n",
              " (365071, 57375),\n",
              " (360171, 44099),\n",
              " (393881, 53357),\n",
              " (431136, 101893),\n",
              " (431084, 44319),\n",
              " (817135, 59613),\n",
              " (1047631, 1574),\n",
              " (760122, 57151),\n",
              " (1012166, 5508),\n",
              " (638025, 44244),\n",
              " (760122, 44319),\n",
              " (483531, 42914),\n",
              " (399035, 49638),\n",
              " (1044118, 2821),\n",
              " (368839, 43010),\n",
              " (293553, 8012),\n",
              " (274676, 58494),\n",
              " (956669, 43586),\n",
              " (1092996, 95790),\n",
              " (815745, 738),\n",
              " (609818, 47629),\n",
              " (770638, 43290),\n",
              " (22759, 54780),\n",
              " (429177, 100137),\n",
              " (993076, 49853),\n",
              " (239871, 7800),\n",
              " (224067, 103193),\n",
              " (231204, 51198),\n",
              " (660019, 50060),\n",
              " (293553, 56657),\n",
              " (362142, 95398),\n",
              " (913001, 6284),\n",
              " (1012166, 1549),\n",
              " (1012166, 43428),\n",
              " (279452, 55354),\n",
              " (1001561, 95999),\n",
              " (1201295, 100346),\n",
              " (110576, 43875),\n",
              " (1200961, 96565),\n",
              " (109403, 100355),\n",
              " (749894, 6221),\n",
              " (811933, 43009),\n",
              " (502896, 55659),\n",
              " (801923, 96692),\n",
              " (889499, 2785),\n",
              " (858056, 60151),\n",
              " (125462, 51231),\n",
              " (126922, 96673),\n",
              " (164121, 95356),\n",
              " (116614, 43586),\n",
              " (158428, 96703),\n",
              " (82397, 44030),\n",
              " (1124810, 7761),\n",
              " (22759, 56190),\n",
              " (125883, 9503),\n",
              " (1124810, 57453),\n",
              " (801923, 95995),\n",
              " (503195, 99877),\n",
              " (83632, 7797),\n",
              " (858056, 57239),\n",
              " (42298, 95412),\n",
              " (190242, 3679),\n",
              " (365712, 100121),\n",
              " (919243, 60041),\n",
              " (393881, 55948),\n",
              " (638025, 7989),\n",
              " (109403, 43442),\n",
              " (391690, 95937),\n",
              " (279452, 6025),\n",
              " (296466, 47268),\n",
              " (660019, 97900),\n",
              " (743388, 47829),\n",
              " (733434, 50180),\n",
              " (360171, 51012),\n",
              " (889499, 44088),\n",
              " (483531, 43290),\n",
              " (452809, 103156),\n",
              " (867901, 99870),\n",
              " (964312, 54730),\n",
              " (913001, 47708),\n",
              " (1169585, 7315),\n",
              " (1007279, 3100),\n",
              " (690099, 95843),\n",
              " (720060, 43463),\n",
              " (365071, 44222),\n",
              " (362142, 100083),\n",
              " (452809, 60230),\n",
              " (744355, 59817),\n",
              " (125883, 95718),\n",
              " (452809, 95693),\n",
              " (188455, 48982),\n",
              " (665876, 50503),\n",
              " (393881, 44176),\n",
              " (83632, 8039),\n",
              " (1001958, 57458),\n",
              " (607363, 46005),\n",
              " (1102867, 56553),\n",
              " (845125, 53320),\n",
              " (801923, 52853),\n",
              " (865352, 5546),\n",
              " (1092996, 286),\n",
              " (44082, 96604),\n",
              " (906953, 57616),\n",
              " (22759, 7800),\n",
              " (776528, 95938),\n",
              " (224067, 96335),\n",
              " (785177, 95762),\n",
              " (693120, 43371),\n",
              " (1200961, 43048),\n",
              " (885334, 61782),\n",
              " (1012166, 60248),\n",
              " (744355, 96569),\n",
              " (231204, 100219),\n",
              " (968238, 9396),\n",
              " (609818, 51509),\n",
              " (639998, 95992),\n",
              " (646087, 96567),\n",
              " (192779, 95373),\n",
              " (676405, 4797),\n",
              " (993076, 51518),\n",
              " (125462, 42976),\n",
              " (913001, 2580),\n",
              " (224067, 96456),\n",
              " (224067, 8039),\n",
              " (279452, 53636),\n",
              " (424169, 48807),\n",
              " (873863, 50523),\n",
              " (390353, 8039),\n",
              " (743388, 99870),\n",
              " (743388, 5037),\n",
              " (109403, 48127),\n",
              " (1003282, 43911),\n",
              " (913001, 715),\n",
              " (165618, 43146),\n",
              " (837149, 53494),\n",
              " (512280, 52642),\n",
              " (586812, 95839),\n",
              " (946673, 5288),\n",
              " (130054, 9396),\n",
              " (913001, 43762),\n",
              " (1092996, 104113),\n",
              " (464319, 103082),\n",
              " (913001, 104300),\n",
              " (760122, 43903),\n",
              " (63776, 47939),\n",
              " (827287, 43477),\n",
              " (218221, 43156),\n",
              " (483531, 96620),\n",
              " (365071, 96384),\n",
              " (690099, 101696),\n",
              " (770638, 43921),\n",
              " (224067, 43515),\n",
              " (190242, 2190),\n",
              " (858056, 57736),\n",
              " (187485, 96213),\n",
              " (48144, 95494),\n",
              " (638025, 96674),\n",
              " (1200961, 44350),\n",
              " (889499, 43417),\n",
              " (187485, 95395),\n",
              " (158428, 96274),\n",
              " (641520, 43412),\n",
              " (192779, 4875),\n",
              " (1073342, 55532),\n",
              " (785177, 96017),\n",
              " (1102867, 49574),\n",
              " (970622, 95398),\n",
              " (586812, 43356),\n",
              " (279452, 3260),\n",
              " (218789, 9503),\n",
              " (885334, 4882),\n",
              " (365712, 3691),\n",
              " (774984, 8851),\n",
              " (188455, 96017),\n",
              " (362142, 52285),\n",
              " (1047631, 2797),\n",
              " (733434, 95121),\n",
              " (81819, 45960),\n",
              " (190242, 57372),\n",
              " (44082, 95933),\n",
              " (116105, 96247),\n",
              " (785177, 101507),\n",
              " (516868, 43536),\n",
              " (693120, 42929),\n",
              " (919243, 43518),\n",
              " (429177, 44084),\n",
              " (140844, 57372),\n",
              " (224067, 42939),\n",
              " (749894, 96558),\n",
              " (239871, 96043),\n",
              " (116105, 4797),\n",
              " (224067, 96603),\n",
              " (1025221, 59953),\n",
              " (889499, 56612),\n",
              " (1056591, 51572),\n",
              " (845125, 98032),\n",
              " (93938, 55174),\n",
              " (919243, 99747),\n",
              " (365071, 96639),\n",
              " (224067, 43999),\n",
              " (365712, 96672),\n",
              " (130054, 43478),\n",
              " (48144, 49440),\n",
              " (638025, 55050),\n",
              " (279452, 104054),\n",
              " (721138, 42960),\n",
              " (743388, 7520),\n",
              " (660019, 2651),\n",
              " (757804, 49976),\n",
              " (365712, 59933),\n",
              " (845125, 59428),\n",
              " (1200961, 3894),\n",
              " (58135, 66),\n",
              " (158855, 57612),\n",
              " (365071, 43806),\n",
              " (426926, 104128),\n",
              " (968238, 10135),\n",
              " (743388, 49749),\n",
              " (512280, 96186),\n",
              " (609818, 47818),\n",
              " (483531, 5546),\n",
              " (1201295, 47460),\n",
              " (1102867, 60567),\n",
              " (483531, 57224),\n",
              " (757804, 57681),\n",
              " (785177, 96393),\n",
              " (620746, 96304),\n",
              " (293553, 56846),\n",
              " (296466, 45337),\n",
              " (279452, 102081),\n",
              " (919243, 44002),\n",
              " (968238, 8041),\n",
              " (757804, 100728),\n",
              " (512280, 45797),\n",
              " (360171, 4529),\n",
              " (395248, 44018),\n",
              " (516868, 95698),\n",
              " (109403, 96572),\n",
              " (992975, 43924),\n",
              " (1092996, 63791),\n",
              " (683007, 101061),\n",
              " (720060, 54135),\n",
              " (946673, 43934),\n",
              " (822138, 1741),\n",
              " (493152, 43450),\n",
              " (44082, 3691),\n",
              " (125883, 5141),\n",
              " (1098934, 96398),\n",
              " (529431, 4980),\n",
              " (781295, 52898),\n",
              " (801923, 1230),\n",
              " (164121, 54834),\n",
              " (22759, 4701),\n",
              " (1044118, 95991),\n",
              " (889499, 42988),\n",
              " (580709, 43464),\n",
              " (503195, 56790),\n",
              " (992975, 95723),\n",
              " (362142, 49749),\n",
              " (165618, 5281),\n",
              " (529431, 60041),\n",
              " (867901, 48489),\n",
              " (785177, 55695),\n",
              " (760122, 5099),\n",
              " (1007279, 43879),\n",
              " (822138, 5245),\n",
              " (365071, 5444),\n",
              " (913001, 49991),\n",
              " (753999, 57372),\n",
              " (1201295, 47823),\n",
              " (721138, 4719),\n",
              " (1012166, 47471),\n",
              " (1234283, 47792),\n",
              " (757804, 101909),\n",
              " (502896, 49445),\n",
              " (464319, 47955),\n",
              " (1185145, 43582),\n",
              " (999745, 103233),\n",
              " (503195, 48280),\n",
              " (426926, 100182),\n",
              " (1169585, 4121),\n",
              " (125883, 43290),\n",
              " (279452, 49490),\n",
              " (279452, 51476),\n",
              " (483531, 43708),\n",
              " (42298, 53843),\n",
              " (125462, 50844),\n",
              " (279452, 103383),\n",
              " (279452, 101168),\n",
              " (231204, 95736),\n",
              " (424169, 96339),\n",
              " (757804, 51520),\n",
              " (865352, 47722),\n",
              " (906953, 60128),\n",
              " (424169, 49801),\n",
              " (529431, 5114),\n",
              " (365071, 96089),\n",
              " (224067, 43449),\n",
              " (439900, 57249),\n",
              " (774984, 5281),\n",
              " (1201295, 52266),\n",
              " (360171, 96584),\n",
              " (84, 57021),\n",
              " (771431, 95169),\n",
              " (1073342, 7989),\n",
              " (52797, 54567),\n",
              " (362142, 3574),\n",
              " (446291, 101401),\n",
              " (368839, 55710),\n",
              " (503195, 47475),\n",
              " (865352, 96717),\n",
              " (533414, 95333),\n",
              " (970622, 43775),\n",
              " (508200, 48881),\n",
              " (360171, 100088),\n",
              " (529431, 43263),\n",
              " (845125, 52583),\n",
              " (1169585, 96284),\n",
              " (365071, 3713),\n",
              " (946673, 43263),\n",
              " (1114481, 96228),\n",
              " (1124810, 54864),\n",
              " ...}"
            ]
          },
          "metadata": {},
          "execution_count": 13
        }
      ]
    },
    {
      "cell_type": "markdown",
      "metadata": {
        "id": "i1y_JL8UPgU5"
      },
      "source": [
        "## Algebra Lineare e NumPy\n",
        "\n",
        "Oggetto di studio dell'**algebra lineare** sono i vettori, le matrici e le principali operazioni tra di essi:\n",
        "\n",
        "- con vettori e matrici si possono rappresentare dati da analizzare,\n",
        "- informazioni d'interesse si possono estrarre con operazioni come il prodotto tra matrici.\n",
        "\n",
        "**NumPy** è una libreria Python molto usata per lavorare con vettori, matrici e array N-dimensionali in generale. È alla base di altre librerie, ad es. _pandas_ che utilizzeremo nei prossimi laboratori.\n",
        "\n",
        "Sugli array NumPy si possono compiere efficientemente operazioni elemento per elemento, aggregazioni, operazioni di algebra lineare, ecc.\n",
        "\n",
        "Iniziando importando il package `numpy` e assegnandogli l'alias convenzionale `np`."
      ]
    },
    {
      "cell_type": "code",
      "execution_count": 14,
      "metadata": {
        "id": "Hs3NPqmOPgU6"
      },
      "outputs": [],
      "source": [
        "import numpy as np"
      ]
    },
    {
      "cell_type": "markdown",
      "metadata": {
        "id": "c9L2KtgxPgU6"
      },
      "source": [
        "## Rappresentare gli acquisti in forma di matrice\n",
        "\n",
        "L'insieme `purchases` degli acquisti degli utenti analizzati può essere rappresentato in una matrice **P** binaria, ovvero di valori 0 e 1 dove\n",
        "- ogni **riga** corrisponde ad un **utente**,\n",
        "- ogni **colonna** corrisponde ad un **prodotto** distinto,\n",
        "- il valore della cella _i,j_ è 1 se l'utente i ha acquistato il prodotto j, 0 altrimenti.\n",
        "\n",
        "$$\\mathbf{P} = \\begin{bmatrix}0&1&0&1&0&\\cdots\\\\1&0&0&1&0&\\cdots\\\\0&0&1&0&1&\\ldots\\\\\\vdots&\\vdots&\\vdots&\\vdots&\\vdots&\\ddots\\end{bmatrix}$$\n",
        "\n",
        "Vediamo come costruire tale matrice."
      ]
    },
    {
      "cell_type": "markdown",
      "metadata": {
        "id": "609sAtIIPgU7"
      },
      "source": [
        "### Assegnazione di indici a utenti e prodotti\n",
        "\n",
        "Iniziamo definendo **a quali utenti e prodotti corrispondano** rispettivamente **righe e colonne** della matrice.\n",
        "\n",
        "Costruiamo un dizionario `user_indices` che associ ad ognuno degli N ID utente (`uid`) un numero tra 0 e N-1 (`index`).\n",
        "\n",
        "Usiamo `enumerate` per ottenere tuple `(index, uid)`, dove _index_ è un numero progressivo da 0 a N-1.\n",
        "\n",
        "`enumerate([X, Y, Z])` $\\Rightarrow$ `(0, X), (1, Y), (2, Z)`\n",
        "\n",
        "Usiamo `sorted` per ottenere le chiavi in ordine crescente _(non è strettamente necessario, ma garantisce la piena riproducibilità dei passaggi)_."
      ]
    },
    {
      "cell_type": "code",
      "execution_count": 89,
      "metadata": {
        "id": "Bar3uO-IPgU7"
      },
      "outputs": [],
      "source": [
        "user_indices = {uid: index for index, uid in enumerate(sorted(users.keys()))}"
      ]
    },
    {
      "cell_type": "markdown",
      "metadata": {
        "id": "uTiWsd71PgU7"
      },
      "source": [
        "Eseguiamo un'operazione simile per ottenere un dizionario `item_indices` con la numerazione degli oggetti."
      ]
    },
    {
      "cell_type": "code",
      "execution_count": 90,
      "metadata": {
        "id": "HKi_XrF0PgU7"
      },
      "outputs": [],
      "source": [
        "item_indices = {iid: index for index, iid in enumerate(sorted(items.keys()))}"
      ]
    },
    {
      "cell_type": "markdown",
      "metadata": {
        "id": "XTzo7nB3PgU8"
      },
      "source": [
        "Abbiamo così ottenuto dizionari che mappano ID utenti e prodotti a righe e colonne della matrice.\n",
        "\n",
        "Ad esempio, la riga corrispondente all'utente con ID 63776 ha indice..."
      ]
    },
    {
      "cell_type": "code",
      "execution_count": 91,
      "metadata": {
        "id": "3TY1ip8VPgU8",
        "outputId": "a9005e44-70a6-47d5-bcfc-977a01c6aae0",
        "colab": {
          "base_uri": "https://localhost:8080/"
        }
      },
      "outputs": [
        {
          "output_type": "execute_result",
          "data": {
            "text/plain": [
              "10"
            ]
          },
          "metadata": {},
          "execution_count": 91
        }
      ],
      "source": [
        "user_indices[63776]"
      ]
    },
    {
      "cell_type": "markdown",
      "metadata": {
        "id": "VWRmuyMKPgU8"
      },
      "source": [
        "### Inizializzazione della matrice\n",
        "\n",
        "Per allocare la matrice degli acquisti, definiamone dapprima la _forma_, ovvero il numero di righe e di colonne.\n",
        "\n",
        "Questi sono pari rispettivamente al numero di utenti e di prodotti, che salviamo in due variabili per comodità."
      ]
    },
    {
      "cell_type": "code",
      "execution_count": 92,
      "metadata": {
        "id": "_BvgKfjqPgU8",
        "outputId": "f1039474-cd16-4957-df10-f6cd5c48b6cc",
        "colab": {
          "base_uri": "https://localhost:8080/"
        }
      },
      "outputs": [
        {
          "output_type": "stream",
          "name": "stdout",
          "text": [
            "178 utenti, 3384 prodotti\n"
          ]
        }
      ],
      "source": [
        "n_users = len(users)\n",
        "n_items = len(items)\n",
        "print(f\"{n_users} utenti, {n_items} prodotti\")"
      ]
    },
    {
      "cell_type": "markdown",
      "metadata": {
        "id": "_DgqERYPPgU9"
      },
      "source": [
        "Creiamo ora la matrice `purchases` inizializzando tutti i valori a 0, ovvero senza alcun acquisto.\n",
        "\n",
        "Usiamo per questo la funzione `zeros` passando la forma desiderata della matrice.\n",
        "\n",
        "Dato che la matrice conterrà solo valori interi (0 e 1), specifichiamo `int` come datatype\n",
        "\n",
        "- `int` verrà convertito ad un dtype con una precisione specifica, es. `int64`"
      ]
    },
    {
      "cell_type": "code",
      "execution_count": 19,
      "metadata": {
        "id": "tm0-vsq9PgU9"
      },
      "outputs": [],
      "source": [
        "purchases = np.zeros((n_users, n_items), dtype=int)"
      ]
    },
    {
      "cell_type": "markdown",
      "metadata": {
        "id": "jkSL2PtmPgU9"
      },
      "source": [
        "### Esercizio 1: Scrittura acquisti nella matrice\n",
        "\n",
        "Per ottenere la matrice degli acquisti effettiva, impostare a 1 gli elementi corrispondenti alle coppie utente-oggetto nell'insieme `purchases_set`\n",
        "\n",
        "- usare opportunamente i dizionari `user_indices` e `item_indices` creati sopra\n",
        "- per impostare un valore nella matrice: `matrice[indice_riga, indice_colonna] = valore`"
      ]
    },
    {
      "cell_type": "code",
      "source": [
        "for user_id, item_id in purchases_set:\n",
        "    user_idx = user_indices[user_id]\n",
        "    item_idx = item_indices[item_id]\n",
        "    purchases[user_idx, item_idx] = 1"
      ],
      "metadata": {
        "id": "RId0TMJlSaJN"
      },
      "execution_count": 20,
      "outputs": []
    },
    {
      "cell_type": "markdown",
      "metadata": {
        "id": "hZqMCxZfPgU9"
      },
      "source": [
        "Eseguire la cella TEST sotto per verificare la correttezza. Se la condizione data è soddisfatta viene stampato \"OK\", altrimenti `assert` genera un errore."
      ]
    },
    {
      "cell_type": "code",
      "execution_count": 21,
      "metadata": {
        "id": "qq01vguXPgU9"
      },
      "outputs": [],
      "source": [
        "# TEST\n",
        "assert purchases[0, 0] == 0\n",
        "assert purchases[-4, 10] == 1\n",
        "assert purchases[-2, 12] == 1\n",
        "assert purchases[-1, -1] == 0"
      ]
    },
    {
      "cell_type": "markdown",
      "metadata": {
        "id": "JgpphotaPgVC"
      },
      "source": [
        "Visualizziamo una porzione della matrice ottenuta..."
      ]
    },
    {
      "cell_type": "code",
      "execution_count": 22,
      "metadata": {
        "id": "faIOmwyyPgVC",
        "outputId": "7a398bca-f9df-430b-eadb-634c31653148",
        "colab": {
          "base_uri": "https://localhost:8080/"
        }
      },
      "outputs": [
        {
          "output_type": "execute_result",
          "data": {
            "text/plain": [
              "array([[0, 0, 0, 0, 0, 0, 0, 0, 0, 0, 0, 0, 0, 0, 0],\n",
              "       [0, 0, 0, 0, 0, 0, 0, 0, 0, 0, 1, 0, 0, 0, 0],\n",
              "       [0, 0, 0, 0, 0, 0, 0, 0, 0, 0, 0, 0, 0, 0, 0],\n",
              "       [0, 0, 0, 0, 0, 0, 0, 0, 0, 0, 0, 1, 1, 0, 0],\n",
              "       [0, 0, 0, 0, 0, 0, 0, 0, 0, 0, 0, 0, 0, 0, 0]])"
            ]
          },
          "metadata": {},
          "execution_count": 22
        }
      ],
      "source": [
        "purchases[-5:, :15]   # ultime 5 righe, prime 15 colonne"
      ]
    },
    {
      "cell_type": "markdown",
      "metadata": {
        "id": "qp0qONwcPgVC"
      },
      "source": [
        "Vediamo ad esempio che l'utente della penultima riga ha acquistato i prodotti di indice 11 e 12"
      ]
    },
    {
      "cell_type": "markdown",
      "metadata": {
        "id": "5YxXZOk6PgVC"
      },
      "source": [
        "### Array booleani\n",
        "\n",
        "Oltre ai comuni array numerici, NumPy supporta array booleani, contenenti come unici valori possibili `False` e `True`\n",
        "\n",
        "Abbiamo rappresentato `purchases` con valori 0 e 1 perché è una notazione comune, ma può essere rappresentata anche come array booleano.\n",
        "\n",
        "Usiamo il metodo `astype` per ottenere una copia della matrice convertendone il datatype.\n",
        "\n",
        "Viene seguita la convenzione di Python per cui 0 diventa `False` e ogni altro numero `True`."
      ]
    },
    {
      "cell_type": "code",
      "execution_count": 23,
      "metadata": {
        "id": "7d6IIByEPgVD"
      },
      "outputs": [],
      "source": [
        "purchases_bool = purchases.astype(bool)"
      ]
    },
    {
      "cell_type": "markdown",
      "metadata": {
        "id": "Ag4JAtoFPgVD"
      },
      "source": [
        "Otteniamo una matrice con 0 e 1 convertiti rispettivamente in `False` e `True`."
      ]
    },
    {
      "cell_type": "code",
      "execution_count": 24,
      "metadata": {
        "id": "tmb2BLC-PgVD",
        "outputId": "ea5bfb0d-437c-4fa6-cf13-44b557c102b6",
        "colab": {
          "base_uri": "https://localhost:8080/"
        }
      },
      "outputs": [
        {
          "output_type": "execute_result",
          "data": {
            "text/plain": [
              "array([[False, False, False, False, False, False, False, False, False,\n",
              "        False, False, False, False, False, False],\n",
              "       [False, False, False, False, False, False, False, False, False,\n",
              "        False,  True, False, False, False, False],\n",
              "       [False, False, False, False, False, False, False, False, False,\n",
              "        False, False, False, False, False, False],\n",
              "       [False, False, False, False, False, False, False, False, False,\n",
              "        False, False,  True,  True, False, False],\n",
              "       [False, False, False, False, False, False, False, False, False,\n",
              "        False, False, False, False, False, False]])"
            ]
          },
          "metadata": {},
          "execution_count": 24
        }
      ],
      "source": [
        "purchases_bool[-5:, :15]   # ultime 5 righe, prime 15 colonne"
      ]
    },
    {
      "cell_type": "markdown",
      "metadata": {
        "id": "9RMa7WjePgVD"
      },
      "source": [
        "Questa versione booleana della matrice ci servirà per alcune operazioni."
      ]
    },
    {
      "cell_type": "markdown",
      "metadata": {
        "id": "jv6INrn6PgVD"
      },
      "source": [
        "## Associare nomi a righe e colonne\n",
        "\n",
        "I dizionari `*_indices` permettono, dato l'ID di un utente o prodotto, di risalire alla riga o colonna corrispondente della matrice.\n",
        "\n",
        "Creiamo ora un vettore `user_names` che contenga i nomi degli utenti nelle posizioni corrispondenti alle righe della matrice.\n",
        "\n",
        "Allochiamo un vettore vuoto con lunghezza pari al numero di utenti e tipo di elementi `object`, ovvero oggetti Python arbitrari\n",
        "\n",
        "Come forma dell'array indichiamo `n_users` (valore singolo), che equivale a `(n_users, )` (tupla di un elemento, quindi vettore)"
      ]
    },
    {
      "cell_type": "code",
      "execution_count": 25,
      "metadata": {
        "id": "vkXh_XZMPgVE"
      },
      "outputs": [],
      "source": [
        "user_names = np.empty(n_users, dtype=object)"
      ]
    },
    {
      "cell_type": "markdown",
      "metadata": {
        "id": "2G9w_p7MPgVE"
      },
      "source": [
        "### Esercizio 2: Creazione vettori nomi\n",
        "\n",
        "- **(2a)** Riempire il vettore `user_names` con i nomi degli utenti corrispondenti alle righe di `purchases`\n",
        "  - usare i dizionari `users` e `user_indices`\n",
        "- **(2b)** Creare e riempire in modo simile un vettore `item_names` con i nomi degli oggetti corrispondenti alle colonne di `purchases`"
      ]
    },
    {
      "cell_type": "code",
      "source": [
        "user_names = np.array([users[i] for i in user_indices.keys()])\n",
        "user_names[:10]"
      ],
      "metadata": {
        "collapsed": true,
        "id": "8P7EnstiTpou",
        "outputId": "98606450-ffd8-4b67-cd74-9474a33becfd",
        "colab": {
          "base_uri": "https://localhost:8080/"
        }
      },
      "execution_count": 26,
      "outputs": [
        {
          "output_type": "execute_result",
          "data": {
            "text/plain": [
              "array(['malachix', 'Kevin Alphonso', 'tropic_of_criticism',\n",
              "       'Joe Owen \"Joe\"', 'Zane', 'David Robson', 'Alan R. Holyoak',\n",
              "       'Mr N Forbes-warren \"author of RESURGENCE and ...',\n",
              "       'Jacques COULARDEAU \"A soul doctor, so to say\"',\n",
              "       'Martin Turner \"book reviewer\"'], dtype='<U48')"
            ]
          },
          "metadata": {},
          "execution_count": 26
        }
      ]
    },
    {
      "cell_type": "code",
      "source": [
        "item_names  = np.array([items[i] for i in item_indices.keys()])\n",
        "item_names[:10]"
      ],
      "metadata": {
        "collapsed": true,
        "id": "U_vS3CI-UFG9",
        "outputId": "01dc4598-2ad1-418f-9d2c-b330044f8bfe",
        "colab": {
          "base_uri": "https://localhost:8080/"
        }
      },
      "execution_count": 27,
      "outputs": [
        {
          "output_type": "execute_result",
          "data": {
            "text/plain": [
              "array(['Age of Innocence [VHS]', 'Detour [VHS]',\n",
              "       'Strange Love of Martha Ivers [VHS]', 'Cool Runnings [VHS]',\n",
              "       'Lost World [VHS]', 'The Day the Earth Caught Fire [VHS]',\n",
              "       'Blood & Sand [VHS]', 'Band of Angels [VHS]',\n",
              "       'The Autobiography of Miss Jane Pittman [VHS]',\n",
              "       'Death Wish - The Face Of Death [VHS]'], dtype='<U200')"
            ]
          },
          "metadata": {},
          "execution_count": 27
        }
      ]
    },
    {
      "cell_type": "code",
      "execution_count": 28,
      "metadata": {
        "id": "Iptip8gMPgVE"
      },
      "outputs": [],
      "source": [
        "# TEST\n",
        "assert user_names[0] == \"malachix\"\n",
        "assert item_names[0] == \"Age of Innocence [VHS]\""
      ]
    },
    {
      "cell_type": "markdown",
      "metadata": {
        "id": "rB96FZFpPgVE"
      },
      "source": [
        "Possiamo accedere a singoli elementi o intervalli dell'array come nelle liste di Python, indicando un indice o un intervallo `inizio:fine` tra parentesi quadre.\n",
        "\n",
        "Possiamo ad esempio ottenere il nome di un singolo prodotto dato l'indice della colonna."
      ]
    },
    {
      "cell_type": "code",
      "execution_count": 29,
      "metadata": {
        "id": "JVBzLuEgPgVE",
        "outputId": "079ef37b-e87c-4d33-b849-ef7b0f6681f0",
        "colab": {
          "base_uri": "https://localhost:8080/",
          "height": 35
        }
      },
      "outputs": [
        {
          "output_type": "execute_result",
          "data": {
            "text/plain": [
              "'Doctor Who - Robot [VHS]'"
            ],
            "application/vnd.google.colaboratory.intrinsic+json": {
              "type": "string"
            }
          },
          "metadata": {},
          "execution_count": 29
        }
      ],
      "source": [
        "item_names[11]"
      ]
    },
    {
      "cell_type": "markdown",
      "metadata": {
        "id": "3yL3LIlBPgVF"
      },
      "source": [
        "In più, rispetto alle liste di Python, possiamo estrarre molteplici valori dal vettore passando una **lista di indici**."
      ]
    },
    {
      "cell_type": "code",
      "execution_count": 30,
      "metadata": {
        "id": "8y37AnsMPgVF",
        "outputId": "98503a47-23a7-4aa8-8cef-3c550a95f781",
        "colab": {
          "base_uri": "https://localhost:8080/"
        }
      },
      "outputs": [
        {
          "output_type": "execute_result",
          "data": {
            "text/plain": [
              "array(['Star Wars - Episode IV, A New Hope [VHS]',\n",
              "       'Star Wars - Episode V, The Empire Strikes Back [VHS]',\n",
              "       'Star Wars - Episode VI, Return of the Jedi [VHS]'], dtype='<U200')"
            ]
          },
          "metadata": {},
          "execution_count": 30
        }
      ],
      "source": [
        "item_names[[3112, 1417, 3109]]"
      ]
    },
    {
      "cell_type": "markdown",
      "metadata": {
        "id": "cBlvcqm0PgVF"
      },
      "source": [
        "## Selezione elementi tramite array booleani\n",
        "\n",
        "Possiamo usare l'**indicizzazione booleana** per estrarre elementi che corrispondano ad una condizione.\n",
        "\n",
        "Consideriamo ad esempio la riga 176 della matrice, che indica gli acquisti dell'utente..."
      ]
    },
    {
      "cell_type": "code",
      "execution_count": 31,
      "metadata": {
        "id": "W06M-6eLPgVF",
        "outputId": "154510bb-642a-4dc9-c462-4a5cc1e7d0ff",
        "colab": {
          "base_uri": "https://localhost:8080/",
          "height": 35
        }
      },
      "outputs": [
        {
          "output_type": "execute_result",
          "data": {
            "text/plain": [
              "'G.Spider'"
            ],
            "application/vnd.google.colaboratory.intrinsic+json": {
              "type": "string"
            }
          },
          "metadata": {},
          "execution_count": 31
        }
      ],
      "source": [
        "user_names[176]"
      ]
    },
    {
      "cell_type": "markdown",
      "metadata": {
        "id": "LsetnOAPPgVG"
      },
      "source": [
        "Estraiamo la riga corrispondente dalla matrice `purchases_bool` per ottenere un vettore in forma booleana.\n",
        "\n",
        "Per estrarre uno o più valori da una matrice, usiamo la forma `matrice[righe, colonne]`, dove per `righe` e `colonne` specifichiamo valori singoli, intervalli o liste.\n",
        "\n",
        "Per ottenere una riga intera al posto di `colonne` indichiamo `:`, che è una forma breve per `0:numero_colonne`."
      ]
    },
    {
      "cell_type": "code",
      "execution_count": 32,
      "metadata": {
        "id": "suesBl-gPgVG"
      },
      "outputs": [],
      "source": [
        "purchased_by_user_176 = purchases_bool[176, :]"
      ]
    },
    {
      "cell_type": "markdown",
      "metadata": {
        "id": "nBl3N3eSPgVI"
      },
      "source": [
        "A sua volta, `[N, :]` si può abbreviare in `[N]`"
      ]
    },
    {
      "cell_type": "code",
      "execution_count": 33,
      "metadata": {
        "id": "z5AFK5OGPgVI"
      },
      "outputs": [],
      "source": [
        "purchased_by_user_176 = purchases_bool[176]"
      ]
    },
    {
      "cell_type": "markdown",
      "metadata": {
        "id": "VVstSPncPgVJ"
      },
      "source": [
        "Avendo selezionato una singola riga di una matrice (2 dimensioni), l'oggetto che otteniamo è un vettore (1 dimensione)."
      ]
    },
    {
      "cell_type": "code",
      "execution_count": 34,
      "metadata": {
        "id": "0gmZuK_3PgVJ",
        "outputId": "8b89d4a9-f748-4ad0-d06d-75b45656cc90",
        "colab": {
          "base_uri": "https://localhost:8080/"
        }
      },
      "outputs": [
        {
          "output_type": "execute_result",
          "data": {
            "text/plain": [
              "array([False, False, False, False, False, False, False, False, False,\n",
              "       False, False,  True,  True, False, False, False, False, False,\n",
              "       False, False])"
            ]
          },
          "metadata": {},
          "execution_count": 34
        }
      ],
      "source": [
        "# visualizzo i primi 20 valori\n",
        "purchased_by_user_176[:20]"
      ]
    },
    {
      "cell_type": "markdown",
      "metadata": {
        "id": "oKo0KJdQPgVJ"
      },
      "source": [
        "Possiamo usare questo vettore booleano come selettore del vettore `item_names` per estrarre i soli valori di `item_names` corrispondenti a valori `True`.\n",
        "\n",
        "In questo modo otteniamo un vettore con i **nomi** dei soli **prodotti acquistati dall'utente**."
      ]
    },
    {
      "cell_type": "code",
      "execution_count": 35,
      "metadata": {
        "id": "akoxL8sLPgVJ",
        "outputId": "a783c2aa-5be2-454d-9a7f-c3bb138d3bda",
        "colab": {
          "base_uri": "https://localhost:8080/"
        }
      },
      "outputs": [
        {
          "output_type": "execute_result",
          "data": {
            "text/plain": [
              "array(['Doctor Who - Robot [VHS]', 'Doctor Who - City of Death [VHS]',\n",
              "       'Doctor Who: The Curse of Peladon [VHS]',\n",
              "       'Doctor Who:  Time and The Rani [VHS]',\n",
              "       'Doctor Who - Ghost Light [VHS]',\n",
              "       'Doctor Who - The Visitation / Black Orchid [VHS]',\n",
              "       'Doctor Who - Kinda [VHS]',\n",
              "       'Doctor Who - The Mark of the Rani [VHS]',\n",
              "       'Doctor Who - The Leisure Hive [VHS]',\n",
              "       'Star Wars - Episode I, The Phantom Menace [VHS]'], dtype='<U200')"
            ]
          },
          "metadata": {},
          "execution_count": 35
        }
      ],
      "source": [
        "item_names_purchased_by_user_176 = item_names[purchased_by_user_176]\n",
        "\n",
        "# visualizzo i primi 10 elementi\n",
        "item_names_purchased_by_user_176[:10]"
      ]
    },
    {
      "cell_type": "markdown",
      "metadata": {
        "id": "acoWHF9NPgVJ"
      },
      "source": [
        "Si noti che per questa operazione **è necessario usare l'array booleano** come selettore. Usando quello binario si avrebbe un risultato errato, in quanto i numeri 0 e 1 sarebbero interpretati come indici di valori da selezionare più volte all'interno di `item_names`."
      ]
    },
    {
      "cell_type": "code",
      "execution_count": 36,
      "metadata": {
        "id": "z81DiZaJPgVK",
        "outputId": "de518782-8230-43ec-ccc9-55858b421c44",
        "colab": {
          "base_uri": "https://localhost:8080/"
        }
      },
      "outputs": [
        {
          "output_type": "execute_result",
          "data": {
            "text/plain": [
              "array(['Age of Innocence [VHS]', 'Age of Innocence [VHS]',\n",
              "       'Age of Innocence [VHS]', ..., 'Age of Innocence [VHS]',\n",
              "       'Age of Innocence [VHS]', 'Age of Innocence [VHS]'], dtype='<U200')"
            ]
          },
          "metadata": {},
          "execution_count": 36
        }
      ],
      "source": [
        "item_names[purchases[176, :]]"
      ]
    },
    {
      "cell_type": "markdown",
      "metadata": {
        "id": "7-UnZ0SVPgVK"
      },
      "source": [
        "## Statistiche sugli acquisti\n",
        "\n",
        "Gli array forniscono metodi per calcolare valori aggregati: somma, media, min/max, ecc.\n",
        "\n",
        "Ad esempio il metodo `sum` calcola la somma di tutti gli elementi di un array.\n",
        "\n",
        "Possiamo utilizzarlo per ottenere il numero totale di acquisti analizzati."
      ]
    },
    {
      "cell_type": "code",
      "execution_count": 37,
      "metadata": {
        "id": "MgcRkrsCPgVL",
        "outputId": "dbc75e7f-de65-46c3-e519-668ed82f9370",
        "colab": {
          "base_uri": "https://localhost:8080/"
        }
      },
      "outputs": [
        {
          "output_type": "execute_result",
          "data": {
            "text/plain": [
              "9683"
            ]
          },
          "metadata": {},
          "execution_count": 37
        }
      ],
      "source": [
        "purchases.sum()"
      ]
    },
    {
      "cell_type": "markdown",
      "metadata": {
        "id": "P-a1dE0wPgVL"
      },
      "source": [
        "Posso ottenere lo stesso risultato effettuando la somma sulla matrice booleana, in quanto `False` e `True` trattati come numeri valgono 0 e 1 rispettivamente.\n",
        "\n",
        "In generale, `sum` può essere usato per contare quanti sono i valori `True` in un array booleano."
      ]
    },
    {
      "cell_type": "code",
      "execution_count": 38,
      "metadata": {
        "id": "m4IH_TomPgVL",
        "outputId": "507d0658-9347-43fe-b55f-b7c150f3b13f",
        "colab": {
          "base_uri": "https://localhost:8080/"
        }
      },
      "outputs": [
        {
          "output_type": "execute_result",
          "data": {
            "text/plain": [
              "9683"
            ]
          },
          "metadata": {},
          "execution_count": 38
        }
      ],
      "source": [
        "purchases_bool.sum()"
      ]
    },
    {
      "cell_type": "markdown",
      "metadata": {
        "id": "CpoPa9NCPgVL"
      },
      "source": [
        "Oltre ad aggregare tutti i valori, possiamo compiere aggregazioni per righe (asse 0) o per colonne (asse 1).\n",
        "\n",
        "Applichiamo la somma per righe e per colonne alla matrice degli acquisti.\n",
        "\n",
        "- `sum(1)` -> sommo tra loro le colonne -> ottengo il numero di prodotti acquistati per ogni utente (riga)\n",
        "- `sum(0)` -> sommo tra loro le righe -> ottengo il numero di utenti che hanno acquistato ciascun prodotto (colonna)"
      ]
    },
    {
      "cell_type": "code",
      "execution_count": 39,
      "metadata": {
        "id": "RXYhLvUUPgVL"
      },
      "outputs": [],
      "source": [
        "user_purchases = purchases.sum(1)\n",
        "item_purchases = purchases.sum(0)"
      ]
    },
    {
      "cell_type": "code",
      "execution_count": 40,
      "metadata": {
        "id": "3RNaSc7tPgVM",
        "outputId": "56d6ef60-151a-42c4-8695-7884e2c67585",
        "colab": {
          "base_uri": "https://localhost:8080/"
        }
      },
      "outputs": [
        {
          "output_type": "execute_result",
          "data": {
            "text/plain": [
              "array([38, 32, 50, 41, 34, 47, 72, 40, 33, 51])"
            ]
          },
          "metadata": {},
          "execution_count": 40
        }
      ],
      "source": [
        "# numero di acquisti dei primi 10 clienti\n",
        "user_purchases[:10]"
      ]
    },
    {
      "cell_type": "code",
      "execution_count": 41,
      "metadata": {
        "id": "PIwHdf9sPgVM",
        "outputId": "9a1c985c-9e7c-40d0-8fd8-d74938ddb928",
        "colab": {
          "base_uri": "https://localhost:8080/"
        }
      },
      "outputs": [
        {
          "output_type": "execute_result",
          "data": {
            "text/plain": [
              "array([1, 2, 1, 4, 1, 1, 1, 1, 1, 2])"
            ]
          },
          "metadata": {},
          "execution_count": 41
        }
      ],
      "source": [
        "# numero di clienti che hanno acquistato i primi 10 oggetti\n",
        "item_purchases[:10]"
      ]
    },
    {
      "cell_type": "markdown",
      "metadata": {
        "id": "WZ0atxlFPgVM"
      },
      "source": [
        "Oltre a `sum` si ricordano tra i metodi più comuni:\n",
        "\n",
        "- `mean` per la media,\n",
        "- `min` e `max` per ottenere **i valori** minimo e massimo dell'array,\n",
        "- `argmin` e `argmax` per ottenere **gli indici** all'interno di un vettore del valori minimo e massimo.\n",
        "\n",
        "Nota: per ognuno di questi metodi, ad es. `X.sum()`, esiste una funzione equivalente `np.sum(X)` che si può applicare anche ad oggetti _array-like_, ad es. le normali `list` di Python."
      ]
    },
    {
      "cell_type": "code",
      "execution_count": 42,
      "metadata": {
        "id": "6STCg3WQPgVM",
        "outputId": "e1b06a53-6ea0-44cd-8de4-6132d9dd3763",
        "colab": {
          "base_uri": "https://localhost:8080/"
        }
      },
      "outputs": [
        {
          "output_type": "execute_result",
          "data": {
            "text/plain": [
              "6"
            ]
          },
          "metadata": {},
          "execution_count": 42
        }
      ],
      "source": [
        "# applico np.sum ad un array NumPy\n",
        "np.sum( np.array([1, 2, 3]) )"
      ]
    },
    {
      "cell_type": "code",
      "execution_count": 43,
      "metadata": {
        "id": "9JXnhFocPgVN",
        "outputId": "8307de5f-6953-425c-be78-d72133a26a08",
        "colab": {
          "base_uri": "https://localhost:8080/"
        }
      },
      "outputs": [
        {
          "output_type": "execute_result",
          "data": {
            "text/plain": [
              "6"
            ]
          },
          "metadata": {},
          "execution_count": 43
        }
      ],
      "source": [
        "# applico np.sum ad una lista Python\n",
        "np.sum([1, 2, 3])"
      ]
    },
    {
      "cell_type": "markdown",
      "metadata": {
        "id": "1w7Lsi5vPgVO"
      },
      "source": [
        "### Esercizio 3: Estrazione informazioni dai vettori\n",
        "\n",
        "Utilizzando i vettori `user_purchases`, `item_purchases`, `user_names` e `item_names` ricavare:\n",
        "- **(3a)** il numero di acquisti medio per ogni utente\n",
        "- **(3b)** il numero di acquisti del prodotto più acquistato\n",
        "- **(3c)** il nome dell'utente che ha effettuato più acquisti\n",
        "- **(3d)** il numero di utenti che hanno acquistato almeno 50 prodotti\n",
        "- **(3e)** i nomi dei prodotti acquistati da almeno 35 utenti\n",
        "\n",
        "_**Suggerimento:** per risolvere i punti 3d e 3e, usare operatori di confronto (`>`, `>=`, ...) per ricavare array booleani da quelli numerici._"
      ]
    },
    {
      "cell_type": "code",
      "source": [
        "np.mean(user_purchases)"
      ],
      "metadata": {
        "colab": {
          "base_uri": "https://localhost:8080/"
        },
        "id": "wey6NpxqWwSi",
        "outputId": "90c24de8-fb0c-4b29-d8b9-22a10c5756df"
      },
      "execution_count": 44,
      "outputs": [
        {
          "output_type": "execute_result",
          "data": {
            "text/plain": [
              "54.39887640449438"
            ]
          },
          "metadata": {},
          "execution_count": 44
        }
      ]
    },
    {
      "cell_type": "code",
      "source": [
        "np.max(item_purchases)"
      ],
      "metadata": {
        "colab": {
          "base_uri": "https://localhost:8080/"
        },
        "id": "-tUZ7o13XHlX",
        "outputId": "3dcec2f7-f89d-4229-cf4b-baf08c26af0e"
      },
      "execution_count": 45,
      "outputs": [
        {
          "output_type": "execute_result",
          "data": {
            "text/plain": [
              "50"
            ]
          },
          "metadata": {},
          "execution_count": 45
        }
      ]
    },
    {
      "cell_type": "code",
      "source": [
        "user_names[np.argmax(user_purchases)]"
      ],
      "metadata": {
        "colab": {
          "base_uri": "https://localhost:8080/",
          "height": 35
        },
        "id": "_4f4cEI-XI2m",
        "outputId": "24839af4-2da4-42e8-df50-de4d5cd95b13"
      },
      "execution_count": 46,
      "outputs": [
        {
          "output_type": "execute_result",
          "data": {
            "text/plain": [
              "'Bertin Ramirez \"justareviewer\"'"
            ],
            "application/vnd.google.colaboratory.intrinsic+json": {
              "type": "string"
            }
          },
          "metadata": {},
          "execution_count": 46
        }
      ]
    },
    {
      "cell_type": "code",
      "source": [
        "np.sum(user_purchases >= 50)"
      ],
      "metadata": {
        "colab": {
          "base_uri": "https://localhost:8080/"
        },
        "id": "Y_lM5f00Yd1P",
        "outputId": "a2c197a4-6def-4e1d-dd2a-ed0ae6f3d851"
      },
      "execution_count": 47,
      "outputs": [
        {
          "output_type": "execute_result",
          "data": {
            "text/plain": [
              "68"
            ]
          },
          "metadata": {},
          "execution_count": 47
        }
      ]
    },
    {
      "cell_type": "code",
      "source": [
        "item_names[item_purchases >= 35]"
      ],
      "metadata": {
        "colab": {
          "base_uri": "https://localhost:8080/"
        },
        "id": "3tfrZgmXZKLX",
        "outputId": "cc71d4e6-3272-4769-8089-b6e7adfa691e"
      },
      "execution_count": 48,
      "outputs": [
        {
          "output_type": "execute_result",
          "data": {
            "text/plain": [
              "array(['Star Wars - Episode I, The Phantom Menace [VHS]', 'The Matrix',\n",
              "       'Sleepy Hollow', 'Curse of the Blair Witch [VHS]',\n",
              "       'The Sixth Sense [VHS]'], dtype='<U200')"
            ]
          },
          "metadata": {},
          "execution_count": 48
        }
      ]
    },
    {
      "cell_type": "markdown",
      "metadata": {
        "id": "A0roiIkIPgVO"
      },
      "source": [
        "## Similarità tra utenti\n",
        "\n",
        "Vogliamo suggerire prodotti agli utenti in base a **cos'hanno acquistato utenti simili**.\n",
        "\n",
        "Per determinare quanto due utenti siano \"simili\" possiamo contare **quanti sono i prodotti che entrambi hanno acquistato**.\n",
        "\n",
        "Per far ciò, verifichiamo il numero di elementi nell'**intersezione** degli insiemi $P_u$ (operatore `&`) dei prodotti acquistati da ciascun utente $u$.\n",
        "\n",
        "$$ S_{u,v} = \\lvert P_u \\wedge P_v \\rvert $$\n",
        "\n",
        "Avendo un vettore (riga della matrice) booleano per ogni utente, possiamo trovare quali sono gli acquisti comuni tra due utenti tramite l'AND elemento per elemento.\n",
        "\n",
        "Estraiamo ad esempio gli acquisti comuni tra i primi due utenti nella matrice."
      ]
    },
    {
      "cell_type": "code",
      "execution_count": 49,
      "metadata": {
        "id": "IbgwSRkMPgVO",
        "outputId": "e686ceec-cc5d-4c10-eaeb-06607683ffa6",
        "colab": {
          "base_uri": "https://localhost:8080/"
        }
      },
      "outputs": [
        {
          "output_type": "execute_result",
          "data": {
            "text/plain": [
              "array([False, False, False, ..., False, False, False])"
            ]
          },
          "metadata": {},
          "execution_count": 49
        }
      ],
      "source": [
        "purchases_bool[0] & purchases_bool[1]"
      ]
    },
    {
      "cell_type": "markdown",
      "metadata": {
        "id": "PH69AABBPgVP"
      },
      "source": [
        "Nella rappresentazione binaria (0 e 1), questo corrisponde alla **moltiplicazione elemento per elemento**, in quanto il prodotto elemento per elemento è 1 solo dove in entrambi i vettori c'è 1, altrimenti è 0."
      ]
    },
    {
      "cell_type": "code",
      "execution_count": 50,
      "metadata": {
        "id": "17GuG6gVPgVP",
        "outputId": "6fac2dc8-8886-4b78-92b9-5dcbbe781f38",
        "colab": {
          "base_uri": "https://localhost:8080/"
        }
      },
      "outputs": [
        {
          "output_type": "execute_result",
          "data": {
            "text/plain": [
              "array([0, 0, 0, ..., 0, 0, 0])"
            ]
          },
          "metadata": {},
          "execution_count": 50
        }
      ],
      "source": [
        "purchases[0] * purchases[1]"
      ]
    },
    {
      "cell_type": "markdown",
      "metadata": {
        "id": "fa70c7aDPgVP"
      },
      "source": [
        "Per sapere quanti sono i prodotti acquistati in comune posso contare i `True` o gli 1 nell'array col metodo `sum`."
      ]
    },
    {
      "cell_type": "code",
      "execution_count": 51,
      "metadata": {
        "id": "BwoKOJF8PgVP",
        "outputId": "0d9955b3-d6ee-4b6b-db23-a13b157748e1",
        "colab": {
          "base_uri": "https://localhost:8080/"
        }
      },
      "outputs": [
        {
          "output_type": "execute_result",
          "data": {
            "text/plain": [
              "4"
            ]
          },
          "metadata": {},
          "execution_count": 51
        }
      ],
      "source": [
        "np.sum( purchases[0] * purchases[1] )"
      ]
    },
    {
      "cell_type": "markdown",
      "metadata": {
        "id": "A0fc8oUwPgVQ"
      },
      "source": [
        "Il numero di prodotti acquistati in comune è quindi pari alla **somma dei prodotti** tra le corrispondenti righe della matrice.\n",
        "\n",
        "Questo corrisponde al **prodotto scalare** (_dot product_) tra le due righe, che può essere estratto efficientemente con la funzione/metodo `dot` o l'operatore `@`."
      ]
    },
    {
      "cell_type": "code",
      "execution_count": 52,
      "metadata": {
        "id": "x7q0jy0IPgVQ",
        "outputId": "e4a2a7bf-0ed3-4fe0-b247-98040185e9d2",
        "colab": {
          "base_uri": "https://localhost:8080/"
        }
      },
      "outputs": [
        {
          "output_type": "execute_result",
          "data": {
            "text/plain": [
              "4"
            ]
          },
          "metadata": {},
          "execution_count": 52
        }
      ],
      "source": [
        "np.dot(purchases[0], purchases[1])"
      ]
    },
    {
      "cell_type": "code",
      "execution_count": 53,
      "metadata": {
        "id": "WMppqFiRPgVQ",
        "outputId": "6e7f5791-29fd-465d-b966-02e875d51b80",
        "colab": {
          "base_uri": "https://localhost:8080/"
        }
      },
      "outputs": [
        {
          "output_type": "execute_result",
          "data": {
            "text/plain": [
              "4"
            ]
          },
          "metadata": {},
          "execution_count": 53
        }
      ],
      "source": [
        "purchases[0].dot(purchases[1])"
      ]
    },
    {
      "cell_type": "code",
      "execution_count": 54,
      "metadata": {
        "id": "cgo3fdY0PgVQ",
        "outputId": "e696846f-54cd-4feb-8135-f1f9e3ad9f23",
        "colab": {
          "base_uri": "https://localhost:8080/"
        }
      },
      "outputs": [
        {
          "output_type": "execute_result",
          "data": {
            "text/plain": [
              "4"
            ]
          },
          "metadata": {},
          "execution_count": 54
        }
      ],
      "source": [
        "purchases[0] @ purchases[1]"
      ]
    },
    {
      "cell_type": "markdown",
      "metadata": {
        "id": "tfJAtWlmPgVR"
      },
      "source": [
        "### Matrice di similarità\n",
        "\n",
        "Vogliamo ottenere in una matrice `similarity` NxN tutte le similarità reciproche tra gli N utenti, ovvero i prodotti scalari tra tutte le righe di `purchases`.\n",
        "\n",
        "```\n",
        "similarity[i, j] == purchases[i, :] @ purchases[j, :]\n",
        "```\n",
        "\n",
        "Il **prodotto tra matrici** restituisce una matrice di prodotti scalari tra le righe di una matrice e le colonne di un'altra.\n",
        "\n",
        "```\n",
        "(A @ B)[i, j] == A[i, :] @ B[:, j]\n",
        "```\n",
        "\n",
        "Se vogliamo calcolare i prodotti tra le righe di A e le righe di B, possiamo calcolare il prodotto tra A e la **trasposta** di B, estraibile con `B.T`.\n",
        "\n",
        "```\n",
        "(A @ B.T)[i, j] == A[i, :] @ B[j, :]\n",
        "```\n",
        "\n",
        "Per ottenere i prodotti scalari tra tutte le righe di `purchases` possiamo quindi **moltiplicarla per la sua trasposta**."
      ]
    },
    {
      "cell_type": "code",
      "execution_count": 55,
      "metadata": {
        "id": "yVOtu_8sPgVR"
      },
      "outputs": [],
      "source": [
        "similarity = purchases @ purchases.T"
      ]
    },
    {
      "cell_type": "markdown",
      "metadata": {
        "id": "-XOI8ZUWPgVR"
      },
      "source": [
        "Otteniamo una matrice quadrata, di ordine pari al numero di utenti."
      ]
    },
    {
      "cell_type": "code",
      "execution_count": 56,
      "metadata": {
        "id": "P86yGJzZPgVR",
        "outputId": "21df5b7d-0d96-4263-cffe-dcf56575a19a",
        "colab": {
          "base_uri": "https://localhost:8080/"
        }
      },
      "outputs": [
        {
          "output_type": "execute_result",
          "data": {
            "text/plain": [
              "(178, 178)"
            ]
          },
          "metadata": {},
          "execution_count": 56
        }
      ],
      "source": [
        "similarity.shape"
      ]
    },
    {
      "cell_type": "markdown",
      "metadata": {
        "id": "xvt8ajGaPgVT"
      },
      "source": [
        "Visualizziamo un estratto della matrice..."
      ]
    },
    {
      "cell_type": "code",
      "execution_count": 57,
      "metadata": {
        "id": "cNOz3lISPgVT",
        "outputId": "a67c3300-4764-48b0-9d4a-7c5bc338a564",
        "colab": {
          "base_uri": "https://localhost:8080/"
        }
      },
      "outputs": [
        {
          "output_type": "execute_result",
          "data": {
            "text/plain": [
              "array([[38,  4,  1,  0,  1,  2,  1,  1,  0,  2],\n",
              "       [ 4, 32,  1,  0,  0,  2,  0,  1,  2,  4],\n",
              "       [ 1,  1, 50,  1,  4,  2,  1,  2,  1,  7],\n",
              "       [ 0,  0,  1, 41,  1,  1,  3,  1,  1,  2],\n",
              "       [ 1,  0,  4,  1, 34,  1,  0,  2,  1,  2],\n",
              "       [ 2,  2,  2,  1,  1, 47,  1,  0,  2,  1],\n",
              "       [ 1,  0,  1,  3,  0,  1, 72,  1,  1,  2],\n",
              "       [ 1,  1,  2,  1,  2,  0,  1, 40,  1,  6],\n",
              "       [ 0,  2,  1,  1,  1,  2,  1,  1, 33,  3],\n",
              "       [ 2,  4,  7,  2,  2,  1,  2,  6,  3, 51]])"
            ]
          },
          "metadata": {},
          "execution_count": 57
        }
      ],
      "source": [
        "similarity[:10, :10]"
      ]
    },
    {
      "cell_type": "markdown",
      "metadata": {
        "id": "Z-vgrb3LPgVU"
      },
      "source": [
        "Possiamo ad esempio notare che\n",
        "\n",
        "- tra i primi due utenti ci sono 4 oggetti acquistati in comune (come visto sopra),\n",
        "- il primo ed il quarto utente non hanno alcun acquisto in comune."
      ]
    },
    {
      "cell_type": "code",
      "execution_count": 58,
      "metadata": {
        "id": "QgegDcXzPgVU",
        "outputId": "024ac7ee-1263-43e7-80e7-cc71c7a9767f",
        "colab": {
          "base_uri": "https://localhost:8080/"
        }
      },
      "outputs": [
        {
          "output_type": "execute_result",
          "data": {
            "text/plain": [
              "4"
            ]
          },
          "metadata": {},
          "execution_count": 58
        }
      ],
      "source": [
        "similarity[0, 1]"
      ]
    },
    {
      "cell_type": "code",
      "execution_count": 59,
      "metadata": {
        "id": "ZX6kqsV9PgVU",
        "outputId": "4de80e01-c319-4643-dbf8-5618e256d0bd",
        "colab": {
          "base_uri": "https://localhost:8080/"
        }
      },
      "outputs": [
        {
          "output_type": "execute_result",
          "data": {
            "text/plain": [
              "0"
            ]
          },
          "metadata": {},
          "execution_count": 59
        }
      ],
      "source": [
        "similarity[0, 3]"
      ]
    },
    {
      "cell_type": "markdown",
      "metadata": {
        "id": "lRsKCbjTPgVV"
      },
      "source": [
        "Possiamo verificare che la matrice sia simmetrica controllando se è uguale alla sua trasposta.\n",
        "\n",
        "L'operatore `==` applicato tra matrici restituisce una matrice booleana con il confronto elemento per elemento: usiamo il metodo `all` (o la funzione `np.all`) per verificare che tutti i valori siano `True`."
      ]
    },
    {
      "cell_type": "code",
      "execution_count": 60,
      "metadata": {
        "id": "sF77m8pyPgVV",
        "outputId": "aa0ccfe9-1980-499c-973b-db40935652be",
        "colab": {
          "base_uri": "https://localhost:8080/"
        }
      },
      "outputs": [
        {
          "output_type": "execute_result",
          "data": {
            "text/plain": [
              "True"
            ]
          },
          "metadata": {},
          "execution_count": 60
        }
      ],
      "source": [
        "(similarity == similarity.T).all()"
      ]
    },
    {
      "cell_type": "code",
      "execution_count": 61,
      "metadata": {
        "id": "vee0F4BBPgVW",
        "outputId": "2ed1da63-efbb-4045-d614-2b096696e705",
        "colab": {
          "base_uri": "https://localhost:8080/"
        }
      },
      "outputs": [
        {
          "output_type": "execute_result",
          "data": {
            "text/plain": [
              "True"
            ]
          },
          "metadata": {},
          "execution_count": 61
        }
      ],
      "source": [
        "np.all(similarity == similarity.T)"
      ]
    },
    {
      "cell_type": "markdown",
      "metadata": {
        "id": "p_Yjy57dPgVW"
      },
      "source": [
        "In alternativa NumPy offre una funzione `array_equal` per verificare l'uguaglianza tra due array: questa evita errori in caso si comparino array di dimensioni incompatibili"
      ]
    },
    {
      "cell_type": "code",
      "execution_count": 62,
      "metadata": {
        "id": "6wT-hfp_PgVW",
        "outputId": "3288db75-8944-4d21-897e-8c28bf07c3bc",
        "colab": {
          "base_uri": "https://localhost:8080/"
        }
      },
      "outputs": [
        {
          "output_type": "execute_result",
          "data": {
            "text/plain": [
              "True"
            ]
          },
          "metadata": {},
          "execution_count": 62
        }
      ],
      "source": [
        "np.array_equal(similarity, similarity.T)"
      ]
    },
    {
      "cell_type": "markdown",
      "metadata": {
        "id": "gwe3-AoXPgVW"
      },
      "source": [
        "### Diagonale della matrice\n",
        "\n",
        "La diagonale della matrice creata contiene i prodotti scalari di ciascuna riga della matrice originale con se stessa.\n",
        "\n",
        "Si può verificare che sono uguali al numero di acquisti per colonne calcolato sopra."
      ]
    },
    {
      "cell_type": "code",
      "execution_count": 63,
      "metadata": {
        "id": "jNL1Ay09PgVW",
        "outputId": "c75bb00d-717c-4287-a50b-2d492e6a8062",
        "colab": {
          "base_uri": "https://localhost:8080/"
        }
      },
      "outputs": [
        {
          "output_type": "execute_result",
          "data": {
            "text/plain": [
              "True"
            ]
          },
          "metadata": {},
          "execution_count": 63
        }
      ],
      "source": [
        "np.array_equal(np.diag(similarity), user_purchases)"
      ]
    },
    {
      "cell_type": "markdown",
      "metadata": {
        "id": "nOJWYVVmPgVX"
      },
      "source": [
        "Prima di procedere, **impostiamo a 0 tutti i valori sulla diagonale** per far sì che tra i simili di ciascun utente non sia incluso lui stesso.\n",
        "\n",
        "La funzione `fill_diagonal` imposta gli elementi della diagonale al valore dato."
      ]
    },
    {
      "cell_type": "code",
      "execution_count": 64,
      "metadata": {
        "id": "4aXcqMunPgVX",
        "outputId": "09c4963f-41ea-4581-f860-d075bbed7060",
        "colab": {
          "base_uri": "https://localhost:8080/"
        }
      },
      "outputs": [
        {
          "output_type": "execute_result",
          "data": {
            "text/plain": [
              "array([[0, 4, 1, 0, 1],\n",
              "       [4, 0, 1, 0, 0],\n",
              "       [1, 1, 0, 1, 4],\n",
              "       [0, 0, 1, 0, 1],\n",
              "       [1, 0, 4, 1, 0]])"
            ]
          },
          "metadata": {},
          "execution_count": 64
        }
      ],
      "source": [
        "np.fill_diagonal(similarity, 0)\n",
        "similarity[:5, :5]"
      ]
    },
    {
      "cell_type": "markdown",
      "metadata": {
        "id": "DqLB5zMcPgVX"
      },
      "source": [
        "### Esercizio 4: Estrazione informazioni dalla matrice similarità\n",
        "\n",
        "- **(4a)** Qual è il numero massimo di prodotti in comune tra due utenti?\n",
        "- **(4b)** Qual è il nome dell'utente che ha più acquisti in comune con l'utente con ID 7661?"
      ]
    },
    {
      "cell_type": "code",
      "source": [
        "np.max(similarity, axis=1)"
      ],
      "metadata": {
        "colab": {
          "base_uri": "https://localhost:8080/"
        },
        "id": "dVG4jSrHbOkd",
        "outputId": "597e4d3b-da91-4beb-e641-3fa66481a9f3"
      },
      "execution_count": 65,
      "outputs": [
        {
          "output_type": "execute_result",
          "data": {
            "text/plain": [
              "array([11,  7, 15,  6, 10,  5, 13,  8,  6, 27, 11, 11, 19, 17, 10,  5, 17,\n",
              "        9, 15, 15, 53,  7,  4, 10, 12,  6, 23,  7,  7,  9, 13, 15, 15, 15,\n",
              "       13, 25, 22,  8, 32, 13,  9,  9,  6, 33, 15, 14, 10,  8,  5, 40, 21,\n",
              "       40, 16, 21,  3, 11, 10,  7, 16, 17,  8,  4,  7,  7,  7,  8, 18, 11,\n",
              "       10, 19, 10,  8, 18,  5,  7, 13, 23,  6,  8,  4, 17,  5, 11, 23, 12,\n",
              "       11, 53,  8, 12, 16, 12, 11,  3,  5,  6, 13,  6, 10, 11, 16,  5, 17,\n",
              "        8,  8,  5, 21, 13,  5, 17,  6, 14, 14, 25, 19, 25, 12, 24, 14,  7,\n",
              "        9,  6, 13, 13,  8, 14, 10,  7, 21, 21,  6,  7, 18, 12, 38,  9,  5,\n",
              "       26,  8,  4,  7,  9, 15, 12, 10, 13, 17,  9, 27,  8, 19, 18, 15, 33,\n",
              "       30, 17, 10, 14, 19,  8,  7, 21, 23,  5,  6,  4,  8, 10,  9, 10,  6,\n",
              "       11, 14,  9, 13,  9, 15, 14, 10])"
            ]
          },
          "metadata": {},
          "execution_count": 65
        }
      ]
    },
    {
      "cell_type": "code",
      "source": [
        "user_id = 7661\n",
        "user_idx = user_indices[user_id]\n",
        "max_user_idx = np.argmax(similarity[user_idx])\n",
        "user_names[max_user_idx]"
      ],
      "metadata": {
        "colab": {
          "base_uri": "https://localhost:8080/",
          "height": 35
        },
        "id": "yx2Oezo3bc6D",
        "outputId": "f0e63734-454d-4599-82a1-afd8158bea26"
      },
      "execution_count": 66,
      "outputs": [
        {
          "output_type": "execute_result",
          "data": {
            "text/plain": [
              "'brent been'"
            ],
            "application/vnd.google.colaboratory.intrinsic+json": {
              "type": "string"
            }
          },
          "metadata": {},
          "execution_count": 66
        }
      ]
    },
    {
      "cell_type": "markdown",
      "metadata": {
        "id": "2dpajkf4PgVX"
      },
      "source": [
        "## Stimare il potenziale interesse nei prodotti\n",
        "\n",
        "Vogliamo stimare **quanto ciascun utente sia potenzialmente interessato** in ciascun prodotto non ancora acquistato.\n",
        "\n",
        "Possiamo stimarlo in base a quanto il prodotto **sia stato acquistato da utenti simili**.\n",
        "\n",
        "Associamo per ogni utente U e prodotto P un _punteggio d'interesse_ pari alla **somma delle similarità degli altri utenti** che hanno acquistato P.\n",
        "\n",
        "$$ I_{u,i} = \\sum_{v \\in \\mathbf{U}: i \\in P_v \\wedge u \\neq v} S_{u,v} $$"
      ]
    },
    {
      "cell_type": "markdown",
      "metadata": {
        "id": "Z913-RJ5PgVY"
      },
      "source": [
        "Questa somma equivale in pratica al prodotto scalare tra:\n",
        "\n",
        "- la riga relativa a U di `similarity` che indica i punteggi di similarità con gli altri utenti e\n",
        "- la colonna relativa a P di `purchases` che indica quali utenti lo hanno acquistato.\n",
        "\n",
        "Ad esempio, l'interesse stimato del 1° utente verso il 2° prodotto è:"
      ]
    },
    {
      "cell_type": "code",
      "execution_count": 67,
      "metadata": {
        "id": "eaYrcfPSPgVY",
        "outputId": "1c541022-acdc-44cf-8fb8-d349c8c85f4d",
        "colab": {
          "base_uri": "https://localhost:8080/"
        }
      },
      "outputs": [
        {
          "output_type": "execute_result",
          "data": {
            "text/plain": [
              "5"
            ]
          },
          "metadata": {},
          "execution_count": 67
        }
      ],
      "source": [
        "similarity[0, :] @ purchases[:, 1]"
      ]
    },
    {
      "cell_type": "markdown",
      "metadata": {
        "id": "e0u15X-HPgVY"
      },
      "source": [
        "### Esercizio 5: calcolo matrice punteggi d'interesse\n",
        "\n",
        "- **(5a)** Costruire una matrice `interest` contenente in ciascuna cella di riga _i_ e colonna _j_ l'interesse stimato dell'utente _i_-esimo verso il prodotto _j_-esimo secondo la formula indicata sopra.\n",
        "- **(5b)** Verificare che la forma di `interest` sia la stessa di quella di `purchases` (utenti x prodotti).\n",
        "- **(5c)** Impostare a 0 i valori nella matrice `interest` relativi a coppie utente-prodotto _(U, P)_ in cui _U_ ha già acquistato _P_."
      ]
    },
    {
      "cell_type": "code",
      "source": [
        "interest = similarity @ purchases\n",
        "interest"
      ],
      "metadata": {
        "colab": {
          "base_uri": "https://localhost:8080/"
        },
        "id": "RwMaVd8pck3q",
        "outputId": "25249f47-32ce-402a-bab4-c594b09fef3a"
      },
      "execution_count": 68,
      "outputs": [
        {
          "output_type": "execute_result",
          "data": {
            "text/plain": [
              "array([[ 0,  5,  0, ...,  5,  8, 10],\n",
              "       [ 3,  7,  1, ...,  7,  5,  6],\n",
              "       [ 6,  9,  0, ...,  9,  9,  5],\n",
              "       ...,\n",
              "       [ 2,  8,  5, ...,  8, 11, 11],\n",
              "       [ 0,  1,  0, ...,  1,  1,  0],\n",
              "       [ 3,  6,  0, ...,  6,  8,  5]])"
            ]
          },
          "metadata": {},
          "execution_count": 68
        }
      ]
    },
    {
      "cell_type": "code",
      "source": [
        "interest.shape == purchases.shape"
      ],
      "metadata": {
        "colab": {
          "base_uri": "https://localhost:8080/"
        },
        "id": "C7oLBHsgc8M0",
        "outputId": "06f30568-0903-4bc1-98eb-685ac2abf747"
      },
      "execution_count": 69,
      "outputs": [
        {
          "output_type": "execute_result",
          "data": {
            "text/plain": [
              "True"
            ]
          },
          "metadata": {},
          "execution_count": 69
        }
      ]
    },
    {
      "cell_type": "code",
      "source": [
        "interest[purchases_bool] = 0"
      ],
      "metadata": {
        "id": "fRO5YDM4c_cD"
      },
      "execution_count": 70,
      "outputs": []
    },
    {
      "cell_type": "code",
      "execution_count": 71,
      "metadata": {
        "id": "iEUQFzqdPgVY",
        "colab": {
          "base_uri": "https://localhost:8080/"
        },
        "outputId": "38991937-d04e-4035-eb2a-c85e43765469"
      },
      "outputs": [
        {
          "output_type": "stream",
          "name": "stdout",
          "text": [
            "OK\n"
          ]
        }
      ],
      "source": [
        "# TEST\n",
        "assert interest[0, 0] == 0\n",
        "assert interest[3, 3] == 8\n",
        "assert interest[-4, 10] == 0\n",
        "assert interest[-2, 12] == 0\n",
        "assert interest[-1, -1] == 5\n",
        "print(\"OK\")"
      ]
    },
    {
      "cell_type": "markdown",
      "metadata": {
        "id": "rQaEH3lePgVY"
      },
      "source": [
        "Visualizziamo un estratto della matrice..."
      ]
    },
    {
      "cell_type": "code",
      "execution_count": 72,
      "metadata": {
        "id": "04RdGdRIPgVY",
        "outputId": "1775c436-8985-4ec8-a398-e3a7a84ba075",
        "colab": {
          "base_uri": "https://localhost:8080/"
        }
      },
      "outputs": [
        {
          "output_type": "execute_result",
          "data": {
            "text/plain": [
              "array([[ 0,  5,  0,  4,  4,  3,  1,  0,  4,  3],\n",
              "       [ 3,  7,  1,  6,  1,  1,  2,  1,  2,  0],\n",
              "       [ 6,  9,  0, 12,  0,  0,  1,  0,  9,  0],\n",
              "       [ 1,  2,  2,  8,  0,  0,  0,  2,  5,  2],\n",
              "       [ 3,  2,  0,  5,  0,  0,  0,  0,  2,  0],\n",
              "       [ 2,  5,  0, 10,  0,  0,  1,  0,  5,  0],\n",
              "       [ 0,  5,  5,  5,  1,  2,  1,  5,  2,  3],\n",
              "       [ 1,  5,  0,  7,  0,  0,  0,  0,  0,  3],\n",
              "       [ 2,  4,  0,  0,  0,  0,  1,  0,  4,  4],\n",
              "       [ 6, 17,  0, 25,  0,  0,  0,  0,  9,  2]])"
            ]
          },
          "metadata": {},
          "execution_count": 72
        }
      ],
      "source": [
        "interest[:10, :10]"
      ]
    },
    {
      "cell_type": "markdown",
      "metadata": {
        "id": "rSDZpQ6yPgVZ"
      },
      "source": [
        "Ad esempio si ritiene che il 10° utente (ultima riga) sia molto interessato al 4° prodotto"
      ]
    },
    {
      "cell_type": "markdown",
      "metadata": {
        "id": "NZFM7hiJPgVZ"
      },
      "source": [
        "## Ottenere _N_ suggerimenti di acquisto per ogni utente\n",
        "\n",
        "Da migliaia di prodotti nel catalogo, vogliamo suggerirne **un numero limitato ad ogni utente** massimizzando la probabilità di acquisto.\n",
        "\n",
        "Fissiamo un numero _N_ di prodotti da suggerire..."
      ]
    },
    {
      "cell_type": "code",
      "execution_count": 73,
      "metadata": {
        "id": "q6qe7r75PgVZ"
      },
      "outputs": [],
      "source": [
        "N = 20"
      ]
    },
    {
      "cell_type": "markdown",
      "metadata": {
        "id": "l2BbUd1VPgVZ"
      },
      "source": [
        "Vogliamo selezionare per ogni utente gli **_N_ prodotti con \"potenziale interesse\" maggiore**.\n",
        "\n",
        "Possiamo procedere per ciascun utente assegnando un \"ranking\" a ciascun prodotto in base al punteggio d'interesse.\n",
        "\n",
        "Una volta fatto questo, selezioniamo per ogni cliente gli _N_ prodotti col ranking migliore."
      ]
    },
    {
      "cell_type": "markdown",
      "metadata": {
        "id": "nXmylSvaPgVZ"
      },
      "source": [
        "### Estrarre l'ordine dei valori: il metodo `argsort`\n",
        "\n",
        "Il metodo `argsort` su un vettore restituisce un vettore con i suoi **indici** (da 0 a N-1) **ordinati** secondo i valori."
      ]
    },
    {
      "cell_type": "code",
      "execution_count": 74,
      "metadata": {
        "id": "_HDiG-a6PgVZ",
        "outputId": "84c64666-c083-4905-f8f4-47ba4c91f646",
        "colab": {
          "base_uri": "https://localhost:8080/"
        }
      },
      "outputs": [
        {
          "output_type": "execute_result",
          "data": {
            "text/plain": [
              "array([6, 2, 3, 1, 4, 0, 5])"
            ]
          },
          "metadata": {},
          "execution_count": 74
        }
      ],
      "source": [
        "# indici:       0   1   2   3    4    5   6\n",
        "x = np.array([320, 80, 20, 40, 160, 640, 10])\n",
        "x.argsort()"
      ]
    },
    {
      "cell_type": "markdown",
      "metadata": {
        "id": "B-9OhIL0PgVa"
      },
      "source": [
        "Significa che l'elemento minimo è quello di indice 6 (10), seguito da quello di indice 2 (20) e così via fino al massimo di indice 5 (640).\n",
        "\n",
        "In pratica, selezionando gli elementi dell'array nell'ordine dato da `argsort`, otteniamo un array con gli elementi in ordine crescente."
      ]
    },
    {
      "cell_type": "code",
      "execution_count": 75,
      "metadata": {
        "id": "6s0ZK1rLPgVa",
        "outputId": "9bc50add-fd12-4af2-9581-015bc3380fdd",
        "colab": {
          "base_uri": "https://localhost:8080/"
        }
      },
      "outputs": [
        {
          "output_type": "execute_result",
          "data": {
            "text/plain": [
              "array([ 10,  20,  40,  80, 160, 320, 640])"
            ]
          },
          "metadata": {},
          "execution_count": 75
        }
      ],
      "source": [
        "x[x.argsort()]"
      ]
    },
    {
      "cell_type": "markdown",
      "metadata": {
        "id": "Sp93sVJEPgVb"
      },
      "source": [
        "Nel caso di una matrice, l'operazione va eseguita **lungo una dimensione** a scelta (riga per riga o colonna per colonna)."
      ]
    },
    {
      "cell_type": "code",
      "execution_count": 76,
      "metadata": {
        "id": "iqMdvvL4PgVb",
        "outputId": "4d8b95ab-d6ad-4c2f-edc2-c1350327a003",
        "colab": {
          "base_uri": "https://localhost:8080/"
        }
      },
      "outputs": [
        {
          "output_type": "execute_result",
          "data": {
            "text/plain": [
              "array([[6, 2, 3, 1, 4, 0, 5],\n",
              "       [5, 6, 2, 0, 1, 4, 3]])"
            ]
          },
          "metadata": {},
          "execution_count": 76
        }
      ],
      "source": [
        "np.array([[32,  8,  2,  4, 16, 64,  1],\n",
        "          [ 8, 16,  4, 64, 32,  1,  2]]).argsort(1)   # 1 = riga per riga"
      ]
    },
    {
      "cell_type": "markdown",
      "metadata": {
        "id": "o-DtCWSNPgVb"
      },
      "source": [
        "### Calcolare il \"ranking\" dei prodotti\n",
        "\n",
        "Applicando l'operazione `argsort` due volte otteniamo il \"ranking\" dei valore, ovvero l'indice che ogni elemento avrebbe nell'array ordinato.\n",
        "\n",
        "Otteniamo quindi un array che associa **0 all'elemento più basso, 1 al secondo e così via**."
      ]
    },
    {
      "cell_type": "code",
      "execution_count": 77,
      "metadata": {
        "id": "qGHaGf9vPgVb",
        "outputId": "3280cb81-8913-46ce-ee16-a370b857a4fe",
        "colab": {
          "base_uri": "https://localhost:8080/"
        }
      },
      "outputs": [
        {
          "output_type": "execute_result",
          "data": {
            "text/plain": [
              "array([320,  80,  20,  40, 160, 640,  10])"
            ]
          },
          "metadata": {},
          "execution_count": 77
        }
      ],
      "source": [
        "x"
      ]
    },
    {
      "cell_type": "code",
      "execution_count": 78,
      "metadata": {
        "id": "JsqwbpNyPgVc",
        "outputId": "3b45c6e1-c402-4436-bb6a-be0a89f5e612",
        "colab": {
          "base_uri": "https://localhost:8080/"
        }
      },
      "outputs": [
        {
          "output_type": "execute_result",
          "data": {
            "text/plain": [
              "array([6, 2, 3, 1, 4, 0, 5])"
            ]
          },
          "metadata": {},
          "execution_count": 78
        }
      ],
      "source": [
        "x.argsort()"
      ]
    },
    {
      "cell_type": "markdown",
      "metadata": {
        "id": "thFpWklWPgVc"
      },
      "source": [
        "Da leggersi: l'elemento più basso di `x` ha indice 6, il secondo ha indice 2, ..."
      ]
    },
    {
      "cell_type": "code",
      "execution_count": 79,
      "metadata": {
        "id": "y8vlI5r1PgVc",
        "outputId": "8fc07ef2-2ec3-4358-c10a-2e82e0094f26",
        "colab": {
          "base_uri": "https://localhost:8080/"
        }
      },
      "outputs": [
        {
          "output_type": "execute_result",
          "data": {
            "text/plain": [
              "array([5, 3, 1, 2, 4, 6, 0])"
            ]
          },
          "metadata": {},
          "execution_count": 79
        }
      ],
      "source": [
        "x.argsort().argsort()"
      ]
    },
    {
      "cell_type": "markdown",
      "metadata": {
        "id": "sZ6XIA8xPgVc"
      },
      "source": [
        "Da leggersi: il primo elemento di `x` è il 5° (contando da 0°) più basso, il secondo è il 3°, ...\n",
        "\n",
        "_(chi fosse curioso può leggere [questa dimostrazione formale](https://www.berkayantmen.com/rank.html) che spiega perché si ottiene questo risultato)_\n",
        "\n",
        "Normalmente l'array risultante contiene 0 per l'elemento più basso e N-1 per quello più alto. Per invertire gli indici, restituendo quindi 0 per l'elemento più alto, è possibile applicare la stessa operazione all'array inverso."
      ]
    },
    {
      "cell_type": "code",
      "execution_count": 80,
      "metadata": {
        "id": "EHoDJrikPgVx",
        "outputId": "b9ac913b-3163-4a48-fd7d-72b1072b2a58",
        "colab": {
          "base_uri": "https://localhost:8080/"
        }
      },
      "outputs": [
        {
          "output_type": "execute_result",
          "data": {
            "text/plain": [
              "array([1, 3, 5, 4, 2, 0, 6])"
            ]
          },
          "metadata": {},
          "execution_count": 80
        }
      ],
      "source": [
        "(-x).argsort().argsort()"
      ]
    },
    {
      "cell_type": "markdown",
      "metadata": {
        "id": "IARUW8iBPgVx"
      },
      "source": [
        "Da leggersi: il primo elemento di `x` è il 1° (contando da 0°) più alto, il secondo è il 3°, ..."
      ]
    },
    {
      "cell_type": "markdown",
      "metadata": {
        "id": "WHpPK3lMPgVx"
      },
      "source": [
        "### Esercizio 6: Selezionare i prodotti da suggerire\n",
        "\n",
        "- **(6a)** Estrarre un vettore `interest_ranking_user_0` con il ranking dal più alto al più basso (cioè assegnando 0 a quello più alto) dei punteggi di interesse verso ciascun prodotto per l'utente con indice 0 (prima riga di `purchases` e `interest`).\n",
        "- **(6b)** Dal vettore sopra, usando un operatore di confronto, estrarre un vettore booleano `suggestions_for_user_0` di pari forma con valori `True` in corrispondenza dei 20 punteggi d'interesse più alti.\n",
        "- **(6c)** Generalizzando le soluzioni dei punti sopra, estrarre una matrice `interest_ranking` con i ranking dei punteggi di interesse di ciascun utente (righe) verso ciascun prodotto (colonne) e una matrice `suggestions` di pari forma con valori `True` in corrispondenza dei 20 punteggi d'interesse più alti per ciascun utente.\n",
        "- **(6d)** Estrarre i nomi dei 20 prodotti suggeriti per l'utente con indice 0."
      ]
    },
    {
      "cell_type": "code",
      "source": [
        "interest_ranking_user_0 = (-interest[0]).argsort().argsort()\n",
        "interest_ranking_user_0"
      ],
      "metadata": {
        "colab": {
          "base_uri": "https://localhost:8080/"
        },
        "id": "I2Ifiov_euTL",
        "outputId": "bebc4000-b890-4706-b797-92838adeca2a"
      },
      "execution_count": 81,
      "outputs": [
        {
          "output_type": "execute_result",
          "data": {
            "text/plain": [
              "array([3383, 1259, 2771, ..., 1260,  753,  582])"
            ]
          },
          "metadata": {},
          "execution_count": 81
        }
      ]
    },
    {
      "cell_type": "code",
      "source": [
        "suggestions_for_user_0 = interest_ranking_user_0 < N\n",
        "suggestions_for_user_0"
      ],
      "metadata": {
        "colab": {
          "base_uri": "https://localhost:8080/"
        },
        "id": "zWZIBKrLe4N5",
        "outputId": "8e353f99-7deb-4fb8-bc6f-085cfd93fd8d"
      },
      "execution_count": 82,
      "outputs": [
        {
          "output_type": "execute_result",
          "data": {
            "text/plain": [
              "array([False, False, False, ..., False, False, False])"
            ]
          },
          "metadata": {},
          "execution_count": 82
        }
      ]
    },
    {
      "cell_type": "code",
      "source": [
        "interest_ranking = (-interest).argsort(1).argsort()\n",
        "interest_ranking"
      ],
      "metadata": {
        "colab": {
          "base_uri": "https://localhost:8080/"
        },
        "id": "oy99-7-0fUWJ",
        "outputId": "fc45044e-7505-4a20-fc14-49b75028fb1d"
      },
      "execution_count": 83,
      "outputs": [
        {
          "output_type": "execute_result",
          "data": {
            "text/plain": [
              "array([[3383, 1259, 2771, ..., 1260,  753,  582],\n",
              "       [1585,  853, 2324, ...,  865, 1277, 1029],\n",
              "       [1214,  930, 2777, ...,  928,  811, 1272],\n",
              "       ...,\n",
              "       [2647, 1105, 1537, ..., 1101, 3163,  858],\n",
              "       [2392, 1880, 2730, ..., 1881, 1388, 3383],\n",
              "       [1524,  944, 2544, ...,  945,  652, 1079]])"
            ]
          },
          "metadata": {},
          "execution_count": 83
        }
      ]
    },
    {
      "cell_type": "code",
      "source": [
        "suggestions = interest_ranking < N"
      ],
      "metadata": {
        "id": "75qjmxOFfjBY"
      },
      "execution_count": 84,
      "outputs": []
    },
    {
      "cell_type": "code",
      "execution_count": 85,
      "metadata": {
        "id": "Pqpo5fJDPgVx",
        "colab": {
          "base_uri": "https://localhost:8080/"
        },
        "outputId": "07f600a3-dd07-4234-960c-6d03b4b71e19"
      },
      "outputs": [
        {
          "output_type": "stream",
          "name": "stdout",
          "text": [
            "OK\n"
          ]
        }
      ],
      "source": [
        "# TEST\n",
        "assert suggestions[0, 0] == False\n",
        "assert suggestions[0, 170] == True\n",
        "assert suggestions[1, 400] == True\n",
        "assert suggestions[1, 570] == False\n",
        "print(\"OK\")"
      ]
    },
    {
      "cell_type": "markdown",
      "metadata": {
        "id": "dW8IrOGKPgVx"
      },
      "source": [
        "## Accuratezza dei suggerimenti di acquisto\n",
        "\n",
        "Come valutare se i suggerimenti ottenuti in questo modo siano azzeccati?\n",
        "\n",
        "Una possibilità consiste nel verificare **se gli oggetti suggeriti siano stati effettivamente acquistati** in un successivo momento.\n",
        "\n",
        "Nel file `purchases-2014.csv` è fornita una seconda lista di acquisti aggiornata, che include anche quelli successivi al 2000 per gli stessi insiemi di utenti e prodotti. Possiamo confrontare questi nuovi acquisti con i suggerimenti.\n",
        "\n",
        "Come abbiamo fatto per il primo file, creiamo una matrice binaria che indichi quali utenti hanno acquistato quali prodotti.\n",
        "\n",
        "`zeros_like` crea una matrice di zeri di tipo e forma identiche a una data _(esistono anche `empty_like` e `ones_like`)_."
      ]
    },
    {
      "cell_type": "code",
      "execution_count": 86,
      "metadata": {
        "id": "oJV3pto-PgVx"
      },
      "outputs": [],
      "source": [
        "purchases_updated = np.zeros_like(purchases)"
      ]
    },
    {
      "cell_type": "markdown",
      "metadata": {
        "id": "say6GAeOPgVy"
      },
      "source": [
        "### Esercizio 7: Caricamento dati in matrice\n",
        "\n",
        "Impostare a 1 gli elementi di `purchases_updated` corrispondenti alle coppie utente-prodotto nel file CSV `purchases-2014.csv`.\n",
        "\n",
        "- Non usare una struttura dati intermedia (es. l'insieme `purchases_set` usato sopra).\n",
        "- Riutilizzare gli stessi dizionari `user_indices` e `item_indices` di prima per garantire che righe e colonne delle matrici combacino."
      ]
    },
    {
      "cell_type": "code",
      "source": [
        "ui = 0\n",
        "ii = 0\n",
        "\n",
        "with open(\"purchases-2014.csv\", \"r\") as f:\n",
        "    reader = csv.reader(f, delimiter=\";\")\n",
        "    for uid, iid in reader:\n",
        "      purchases_updated[user_indices[int(uid)], item_indices[int(iid)]] = 1"
      ],
      "metadata": {
        "id": "2GiNkG0qfsLY"
      },
      "execution_count": 95,
      "outputs": []
    },
    {
      "cell_type": "code",
      "source": [
        "purchases_updated"
      ],
      "metadata": {
        "colab": {
          "base_uri": "https://localhost:8080/"
        },
        "id": "ff-xzI3ygyCn",
        "outputId": "8bc8c0f9-d3cb-4745-9af2-0ca5d08348f4"
      },
      "execution_count": 96,
      "outputs": [
        {
          "output_type": "execute_result",
          "data": {
            "text/plain": [
              "array([[0, 0, 0, ..., 0, 0, 0],\n",
              "       [0, 0, 0, ..., 0, 0, 0],\n",
              "       [0, 0, 0, ..., 0, 0, 0],\n",
              "       ...,\n",
              "       [0, 0, 0, ..., 0, 1, 0],\n",
              "       [0, 0, 0, ..., 0, 0, 0],\n",
              "       [0, 0, 0, ..., 0, 0, 0]])"
            ]
          },
          "metadata": {},
          "execution_count": 96
        }
      ]
    },
    {
      "cell_type": "markdown",
      "metadata": {
        "id": "QAYAc_jZPgVy"
      },
      "source": [
        "### Esercizio 8: Selezionare solo i nuovi acquisti\n",
        "\n",
        "La nuova matrice riporta **tutti** gli acquisti, compresi quelli già indicati nella matrice precedente.\n",
        "\n",
        "Vogliamo una matrice `new_purchases` in cui siano indicati con 1 **solo gli acquisti successivi** all'analisi svolta sopra.\n",
        "\n",
        "Quale operazione tra le matrici `purchases` e `purchases_updated` ci permette di ottenere tale risultato?\n",
        "\n",
        "Estrarre la matrice binaria `new_purchases` da tale operazione e convertirla in matrice booleana."
      ]
    },
    {
      "cell_type": "code",
      "execution_count": 100,
      "metadata": {
        "id": "eSbTrwhpPgVy",
        "colab": {
          "base_uri": "https://localhost:8080/"
        },
        "outputId": "8d187f72-d729-4b49-9f7d-47cac46f1214"
      },
      "outputs": [
        {
          "output_type": "execute_result",
          "data": {
            "text/plain": [
              "array([[0, 0, 0, 0, 0, 0, 0, 0, 0, 0],\n",
              "       [0, 0, 0, 0, 0, 0, 0, 0, 0, 0],\n",
              "       [0, 0, 0, 0, 0, 0, 0, 0, 0, 0],\n",
              "       [0, 0, 0, 0, 0, 0, 0, 0, 0, 0],\n",
              "       [0, 0, 0, 0, 0, 0, 0, 0, 0, 0],\n",
              "       [0, 0, 0, 0, 0, 0, 0, 0, 0, 0],\n",
              "       [0, 0, 0, 0, 0, 0, 0, 0, 0, 0],\n",
              "       [0, 0, 0, 0, 0, 0, 0, 0, 0, 0],\n",
              "       [0, 0, 0, 0, 0, 0, 0, 0, 0, 0],\n",
              "       [0, 0, 0, 0, 0, 0, 0, 0, 0, 0]])"
            ]
          },
          "metadata": {},
          "execution_count": 100
        }
      ],
      "source": [
        "new_purchases = purchases_updated - purchases\n",
        "new_purchases[:10, :10]"
      ]
    },
    {
      "cell_type": "markdown",
      "metadata": {
        "id": "RmYB9a9aPgVy"
      },
      "source": [
        "### Esercizio 9: Quali nuovi acquisti sono stati suggeriti?\n",
        "\n",
        "Abbiamo ora le matrici booleane `suggestions` con gli acquisti _suggeriti_ e `new_purchases` con i nuovi acquisti _effettivi_.\n",
        "\n",
        "Da queste possiamo estrarre una matrice `hits` che indichi quali sono i suggerimenti **validi**, quelli a cui dopo l'analisi è corrisposto un acquisto.\n",
        "\n",
        "Quale operazione tra le due matrici ci fa ottenere tale risultato?"
      ]
    },
    {
      "cell_type": "code",
      "execution_count": 101,
      "metadata": {
        "id": "ozXrmt6uPgVy",
        "colab": {
          "base_uri": "https://localhost:8080/"
        },
        "outputId": "2f051a99-5fb0-4a51-d095-5abeec0fdb1d"
      },
      "outputs": [
        {
          "output_type": "execute_result",
          "data": {
            "text/plain": [
              "array([[0, 0, 0, ..., 0, 0, 0],\n",
              "       [0, 0, 0, ..., 0, 0, 0],\n",
              "       [0, 0, 0, ..., 0, 0, 0],\n",
              "       ...,\n",
              "       [0, 0, 0, ..., 0, 0, 0],\n",
              "       [0, 0, 0, ..., 0, 0, 0],\n",
              "       [0, 0, 0, ..., 0, 0, 0]])"
            ]
          },
          "metadata": {},
          "execution_count": 101
        }
      ],
      "source": [
        "hits = suggestions * new_purchases\n",
        "hits"
      ]
    },
    {
      "cell_type": "markdown",
      "metadata": {
        "id": "WK2h8luBPgVy"
      },
      "source": [
        "### Esercizio 10: Quanti utenti hanno ricevuto almeno un suggerimento valido?\n",
        "\n",
        "- **(10a)** Ottenere un vettore booleano `satisfied_users` che indichi quali utenti hanno ottenuto almeno un suggerimento valido, cioè almeno un `True` nella riga corrispondente di `hits`\n",
        "- **(10b)** Ricavare dal vettore stesso il numero di tali utenti\n",
        "- **(10c)** Ricavare dal vettore stesso la percentuale di tali utenti rispetto al numero totale"
      ]
    },
    {
      "cell_type": "code",
      "execution_count": 107,
      "metadata": {
        "id": "GKK6p1itPgVz",
        "colab": {
          "base_uri": "https://localhost:8080/"
        },
        "outputId": "75c25649-094f-4cef-82b4-416a6d3d350c"
      },
      "outputs": [
        {
          "output_type": "execute_result",
          "data": {
            "text/plain": [
              "34.26966292134831"
            ]
          },
          "metadata": {},
          "execution_count": 107
        }
      ],
      "source": [
        "satisfied_users = np.sum(hits, axis=1) > 0\n",
        "np.sum(satisfied_users) / satisfied_users.size * 100"
      ]
    },
    {
      "cell_type": "markdown",
      "metadata": {
        "id": "YTStDr3NPgVz"
      },
      "source": [
        "Si dovrebbe ottenere una percentuale del **34,3%** di utenti soddisfatti."
      ]
    },
    {
      "cell_type": "markdown",
      "metadata": {
        "id": "FPI5BXRIPgVz"
      },
      "source": [
        "## Esercizio avanzato: Confronto con una selezione casuale di prodotti\n",
        "\n",
        "_(si propone come esercizio da svolgere opzionalmente dopo la lezione)_\n",
        "\n",
        "Per valutare quanto il risultato ottenuto sia buono, possiamo misurare cosa otterremmo **suggerendo _N_ prodotti a caso** a ciascun utente.\n",
        "\n",
        "Con questa procedura, si verifica che si otterrebbe una percentuale di clienti soddisfatti intorno al **13%**, contro il **35%** ottenuto sopra.\n",
        "\n",
        "Per ottenere risultati riproducibili, impostare un seed per la generazione di numeri casuali tramite la seguente funzione."
      ]
    },
    {
      "cell_type": "code",
      "execution_count": 108,
      "metadata": {
        "id": "mcJDfqauPgVz"
      },
      "outputs": [],
      "source": [
        "np.random.seed(123)"
      ]
    },
    {
      "cell_type": "markdown",
      "metadata": {
        "id": "BMvVvGCwPgVz"
      },
      "source": [
        "- **(a)** generare una matrice `random_interest` di forma pari ad `interest` con valori casuali\n",
        "  - usare una funzione per generare valori casuali in un intervallo continuo, ad es `np.random.random`, indicando la forma desiderata"
      ]
    },
    {
      "cell_type": "code",
      "execution_count": 109,
      "metadata": {
        "id": "yfNmRf5DPgV0"
      },
      "outputs": [],
      "source": [
        "random_interest = np.random.random(interest.shape)"
      ]
    },
    {
      "cell_type": "markdown",
      "metadata": {
        "id": "JNOJkGa1PgV0"
      },
      "source": [
        "- **(b)** impostare a 0 i valori della matrice corrispondenti a prodotti già acquistati"
      ]
    },
    {
      "cell_type": "code",
      "source": [
        "random_interest[purchases_bool] = 0"
      ],
      "metadata": {
        "id": "KY68Df2Ljc-1"
      },
      "execution_count": 110,
      "outputs": []
    },
    {
      "cell_type": "markdown",
      "metadata": {
        "id": "YzZaqXqWPgV0"
      },
      "source": [
        "- **(c)** selezionare gli _N_ prodotti di maggiore interesse per ogni utente\n",
        "  - come sopra, generare la matrice con i ranking lungo ciascuna riga, quindi selezionare i ranking appropriati"
      ]
    },
    {
      "cell_type": "code",
      "execution_count": 111,
      "metadata": {
        "id": "c1H0za49PgV0"
      },
      "outputs": [],
      "source": [
        "random_interest_ranking = (-random_interest).argsort(1).argsort()\n",
        "random_suggestions = random_interest_ranking < N"
      ]
    },
    {
      "cell_type": "markdown",
      "metadata": {
        "id": "nglz7tk2PgV0"
      },
      "source": [
        "- **(d)** eseguire il confronto con i prodotti effettivamente acquistati ed estrarre il vettore che indica gli utenti con almeno un suggerimento valido"
      ]
    },
    {
      "cell_type": "code",
      "execution_count": 112,
      "metadata": {
        "id": "r_Uf59KAPgV0"
      },
      "outputs": [],
      "source": [
        "random_hits = random_suggestions * new_purchases\n",
        "randomly_satisfied_users = np.sum(random_hits, axis=1) > 0"
      ]
    },
    {
      "cell_type": "markdown",
      "metadata": {
        "id": "E163jz9nPgV1"
      },
      "source": [
        "- **(e)** calcolare la percentuale di tali utenti rispetto al totale"
      ]
    },
    {
      "cell_type": "code",
      "source": [
        "np.sum(randomly_satisfied_users) / randomly_satisfied_users.size * 100"
      ],
      "metadata": {
        "colab": {
          "base_uri": "https://localhost:8080/"
        },
        "id": "H2e4UWavjww9",
        "outputId": "10466bcb-57c8-4f43-d7b4-bcc993e42c4c"
      },
      "execution_count": 114,
      "outputs": [
        {
          "output_type": "execute_result",
          "data": {
            "text/plain": [
              "12.921348314606742"
            ]
          },
          "metadata": {},
          "execution_count": 114
        }
      ]
    }
  ],
  "metadata": {
    "kernelspec": {
      "display_name": "Python 3 (ipykernel)",
      "language": "python",
      "name": "python3"
    },
    "language_info": {
      "codemirror_mode": {
        "name": "ipython",
        "version": 3
      },
      "file_extension": ".py",
      "mimetype": "text/x-python",
      "name": "python",
      "nbconvert_exporter": "python",
      "pygments_lexer": "ipython3",
      "version": "3.9.15"
    },
    "colab": {
      "provenance": [],
      "include_colab_link": true
    }
  },
  "nbformat": 4,
  "nbformat_minor": 0
}