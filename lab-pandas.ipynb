{
  "cells": [
    {
      "cell_type": "markdown",
      "metadata": {
        "id": "view-in-github",
        "colab_type": "text"
      },
      "source": [
        "<a href=\"https://colab.research.google.com/github/giacomoarienti/data-intensive-lab/blob/master/lab-pandas.ipynb\" target=\"_parent\"><img src=\"https://colab.research.google.com/assets/colab-badge.svg\" alt=\"Open In Colab\"/></a>"
      ]
    },
    {
      "cell_type": "markdown",
      "metadata": {
        "id": "p0XGcNtWNR7Y"
      },
      "source": [
        "# Laboratorio: Analisi Flussi di Popolazione con pandas e matplotlib\n",
        "\n",
        "**Programmazione di Applicazioni Data Intensive**  \n",
        "Laurea in Ingegneria e Scienze Informatiche  \n",
        "DISI - Università di Bologna, Cesena\n",
        "\n",
        "Proff. Gianluca Moro, Roberto Pasolini  \n",
        "`nome.cognome@unibo.it`"
      ]
    },
    {
      "cell_type": "code",
      "execution_count": 79,
      "metadata": {
        "colab": {
          "base_uri": "https://localhost:8080/"
        },
        "id": "vmX8g96PNR7f",
        "outputId": "d795c1f2-820c-46df-aee8-c71f9a4268d7"
      },
      "outputs": [
        {
          "output_type": "stream",
          "name": "stdout",
          "text": [
            "numpy 1.26.4\n",
            "pandas 2.2.2\n",
            "matplotlib 3.10.0\n"
          ]
        }
      ],
      "source": [
        "# verifico che le librerie siano installate e ne stampo le versioni\n",
        "import numpy\n",
        "print(\"numpy\", numpy.__version__)\n",
        "import pandas\n",
        "print(\"pandas\", pandas.__version__)\n",
        "import matplotlib\n",
        "print(\"matplotlib\", matplotlib.__version__)"
      ]
    },
    {
      "cell_type": "markdown",
      "metadata": {
        "id": "3fU9V7dhNR7n"
      },
      "source": [
        "## Caso di studio: Analisi flussi tra stati USA\n",
        "\n",
        "L'ufficio del censimento degli Stati Uniti d'America pubblica annualmente un riepilogo dei flussi della popolazione tra stati\n",
        "\n",
        "I dataset per ogni anno in formato XLS (Excel) possono essere reperiti alla pagina https://www.census.gov/data/tables/time-series/demo/geographic-mobility/state-to-state-migration.html\n",
        "\n",
        "In questa esercitazione, lavoriamo sui dati dei flussi tra gli stati relativi al 2016\n",
        "\n",
        "Eseguire la seguente cella per scaricare il file con i dati dell'esercitazione, se non presente"
      ]
    },
    {
      "cell_type": "code",
      "execution_count": 80,
      "metadata": {
        "id": "d-1QvnM9NR7p"
      },
      "outputs": [],
      "source": [
        "DATA_URL = \"https://github.com/datascienceunibo/dialab2024/raw/main/Preprocessing_con_pandas/usa_census.npz\"\n",
        "\n",
        "import os.path\n",
        "if not os.path.exists(\"usa_census.npz\"):\n",
        "    from urllib.request import urlretrieve\n",
        "    urlretrieve(DATA_URL, \"usa_census.npz\")"
      ]
    },
    {
      "cell_type": "markdown",
      "metadata": {
        "id": "4yo1X4omNR7r"
      },
      "source": [
        "### Caricamento dei dati\n",
        "\n",
        "Abbiamo raccolto i dati da analizzare in un _archivio NumPy_, un file contenente un insieme di array con nomi associati: usiamo la funzione `load` di NumPy per caricarlo"
      ]
    },
    {
      "cell_type": "code",
      "execution_count": 81,
      "metadata": {
        "id": "aqi_6PlRNR7v"
      },
      "outputs": [],
      "source": [
        "import numpy as np\n",
        "data = np.load(\"usa_census.npz\")"
      ]
    },
    {
      "cell_type": "markdown",
      "metadata": {
        "id": "ybaXke2lNR7w"
      },
      "source": [
        "L'oggetto `data` ottenuto è simile ad un dizionario, i cui valori sono le matrici e le cui chiavi sono i loro nomi\n",
        "\n",
        "Otteniamo una lista dei nomi delle matrici caricate"
      ]
    },
    {
      "cell_type": "code",
      "execution_count": 82,
      "metadata": {
        "colab": {
          "base_uri": "https://localhost:8080/"
        },
        "id": "GZw707MlNR7z",
        "outputId": "b1af951d-1db7-475d-c577-f5b6f18a347d"
      },
      "outputs": [
        {
          "output_type": "stream",
          "name": "stdout",
          "text": [
            "states, population, area, same_house, same_state, other_state, state_to_state, from_abroad\n"
          ]
        }
      ],
      "source": [
        "print(\", \".join(data.keys()))"
      ]
    },
    {
      "cell_type": "markdown",
      "metadata": {
        "id": "XNTPkI6CNR70"
      },
      "source": [
        "### Dati disponibili\n",
        "\n",
        "I dati contenuti nel file sono i seguenti:\n",
        "- `states`: vettore con i nomi degli stati\n",
        "- `population`: vettore con la popolazione totale attuale di ogni stato\n",
        "- `area`: vettore con la superficie di terra di ciascuno stato in miglia quadrate\n",
        "- `same_house`: vettore con numero di abitanti per stato che non hanno cambiato residenza nell'ultimo anno\n",
        "- `same_state`: vettore con numero di abitanti per stato che hanno cambiato residenza nell'ultimo anno, ma non lo stato\n",
        "- `other_state`: vettore con numero di abitanti per stato che si sono trasferiti da un altro stato nell'ultimo anno\n",
        "- `state_to_state`: matrice col numero di abitanti trasferitisi nell'ultimo anno da ciascuno stato ad un altro\n",
        "- `from_abroad`: vettore con numero di abitanti per stato trasferitisi negli USA dall'estero nell'ultimo anno"
      ]
    },
    {
      "cell_type": "markdown",
      "metadata": {
        "id": "aIJ1S2HYNR76"
      },
      "source": [
        "Possiamo stampare nome, tipo e forma di ciascun array"
      ]
    },
    {
      "cell_type": "code",
      "execution_count": 83,
      "metadata": {
        "colab": {
          "base_uri": "https://localhost:8080/"
        },
        "id": "ufiS-escNR76",
        "outputId": "7753af4a-0d2f-4470-be6d-028c024a14e8"
      },
      "outputs": [
        {
          "output_type": "stream",
          "name": "stdout",
          "text": [
            "states <U20 (51,)\n",
            "population int64 (51,)\n",
            "area float64 (51,)\n",
            "same_house int64 (51,)\n",
            "same_state int64 (51,)\n",
            "other_state int64 (51,)\n",
            "state_to_state int64 (51, 51)\n",
            "from_abroad int64 (51,)\n"
          ]
        }
      ],
      "source": [
        "# modo semplice: passo i valori a print che li separa con uno spazio\n",
        "for name, array in data.items():\n",
        "    print(name, array.dtype, array.shape)"
      ]
    },
    {
      "cell_type": "code",
      "execution_count": 84,
      "metadata": {
        "colab": {
          "base_uri": "https://localhost:8080/"
        },
        "id": "FGPP9vk_NR77",
        "outputId": "8f750221-d18f-45dd-f46e-b833472a203b"
      },
      "outputs": [
        {
          "output_type": "stream",
          "name": "stdout",
          "text": [
            "         states:     <U20 (51,)\n",
            "     population:    int64 (51,)\n",
            "           area:  float64 (51,)\n",
            "     same_house:    int64 (51,)\n",
            "     same_state:    int64 (51,)\n",
            "    other_state:    int64 (51,)\n",
            " state_to_state:    int64 (51, 51)\n",
            "    from_abroad:    int64 (51,)\n"
          ]
        }
      ],
      "source": [
        "# per maggiore leggibilità posso usare una f-string\n",
        "for name, array in data.items():\n",
        "    print(f\"{name:>15}: {array.dtype!s:>8} {array.shape}\")\n",
        "    # \"!s\" = converti in stringa con str(x) in modo da poter applicare formato\n",
        "    # \">N\" = riserva N caratteri e allinea a destra"
      ]
    },
    {
      "cell_type": "markdown",
      "metadata": {
        "id": "YGtl98Z7NR79"
      },
      "source": [
        "Vediamo ad esempio l'array con i nomi degli stati, che sono in ordine alfabetico"
      ]
    },
    {
      "cell_type": "code",
      "execution_count": 85,
      "metadata": {
        "colab": {
          "base_uri": "https://localhost:8080/"
        },
        "id": "SG0D3dJ7NR8A",
        "outputId": "3f003c86-8152-4fc0-da6c-409d9c3ccfe1"
      },
      "outputs": [
        {
          "output_type": "execute_result",
          "data": {
            "text/plain": [
              "array(['Alabama', 'Alaska', 'Arizona', 'Arkansas', 'California',\n",
              "       'Colorado', 'Connecticut', 'Delaware', 'District of Columbia',\n",
              "       'Florida', 'Georgia', 'Hawaii', 'Idaho', 'Illinois', 'Indiana',\n",
              "       'Iowa', 'Kansas', 'Kentucky', 'Louisiana', 'Maine', 'Maryland',\n",
              "       'Massachusetts', 'Michigan', 'Minnesota', 'Mississippi',\n",
              "       'Missouri', 'Montana', 'Nebraska', 'Nevada', 'New Hampshire',\n",
              "       'New Jersey', 'New Mexico', 'New York', 'North Carolina',\n",
              "       'North Dakota', 'Ohio', 'Oklahoma', 'Oregon', 'Pennsylvania',\n",
              "       'Rhode Island', 'South Carolina', 'South Dakota', 'Tennessee',\n",
              "       'Texas', 'Utah', 'Vermont', 'Virginia', 'Washington',\n",
              "       'West Virginia', 'Wisconsin', 'Wyoming'], dtype='<U20')"
            ]
          },
          "metadata": {},
          "execution_count": 85
        }
      ],
      "source": [
        "data[\"states\"]"
      ]
    },
    {
      "cell_type": "markdown",
      "metadata": {
        "id": "03FxRwkfNR8B"
      },
      "source": [
        "In tutti i vettori, i dati relativi ad uno **stesso stato** si trovano nella **stessa posizione**\n",
        "\n",
        "Ad esempio i dati relativi all'Alabama (`states[0]`) si trovano nella posizione 0 di ciascun array (`population[0]`, `area[0]`, ...)"
      ]
    },
    {
      "cell_type": "markdown",
      "metadata": {
        "id": "Ub_lvI0YNR8B"
      },
      "source": [
        "Per comodità, importiamo gli array su cui lavoreremo come variabili locali"
      ]
    },
    {
      "cell_type": "code",
      "execution_count": 86,
      "metadata": {
        "id": "uzeV5QYpNR8C"
      },
      "outputs": [],
      "source": [
        "states = data[\"states\"]\n",
        "population = data[\"population\"]\n",
        "area = data[\"area\"]"
      ]
    },
    {
      "cell_type": "code",
      "execution_count": 87,
      "metadata": {
        "colab": {
          "base_uri": "https://localhost:8080/"
        },
        "id": "g8HH8xmnNR8F",
        "outputId": "bc85de08-17f5-4201-e29a-89038d85d09a"
      },
      "outputs": [
        {
          "output_type": "execute_result",
          "data": {
            "text/plain": [
              "array(['Alabama', 'Alaska', 'Arizona', 'Arkansas', 'California'],\n",
              "      dtype='<U20')"
            ]
          },
          "metadata": {},
          "execution_count": 87
        }
      ],
      "source": [
        "states[:5]"
      ]
    },
    {
      "cell_type": "markdown",
      "metadata": {
        "id": "-OqhmlEJNR8G"
      },
      "source": [
        "### Esercizio 1: Ripasso NumPy\n",
        "\n",
        "Usando sugli array `states` e `population` le operazioni viste nello scorso laboratorio, estrarre:\n",
        "\n",
        "- **(1a)** il numero di abitanti del 5° stato in ordine alfabetico (California)\n",
        "- **(1b)** i nomi degli ultimi tre stati in ordine alfabetico\n",
        "- **(1c)** il numero di abitanti in Florida (senza sapere a priori la sua posizione)\n",
        "- **(1d)** i nomi degli stati con almeno 20 milioni di abitanti\n",
        "- **(1e)** il numero totale di abitanti in tutti gli stati\n",
        "- **(1f)** il nome dello stato con meno abitanti"
      ]
    },
    {
      "cell_type": "code",
      "source": [
        "population[4]"
      ],
      "metadata": {
        "colab": {
          "base_uri": "https://localhost:8080/"
        },
        "id": "YlDQ42QXPaBi",
        "outputId": "a1ee0d76-7138-464d-aeee-23f392ce7b1e"
      },
      "execution_count": 88,
      "outputs": [
        {
          "output_type": "execute_result",
          "data": {
            "text/plain": [
              "38783436"
            ]
          },
          "metadata": {},
          "execution_count": 88
        }
      ]
    },
    {
      "cell_type": "code",
      "source": [
        "states[-3:]"
      ],
      "metadata": {
        "colab": {
          "base_uri": "https://localhost:8080/"
        },
        "id": "_vwIPQtSPq0Y",
        "outputId": "e3781b0b-d271-43e8-ed6d-92808731137b"
      },
      "execution_count": 89,
      "outputs": [
        {
          "output_type": "execute_result",
          "data": {
            "text/plain": [
              "array(['West Virginia', 'Wisconsin', 'Wyoming'], dtype='<U20')"
            ]
          },
          "metadata": {},
          "execution_count": 89
        }
      ]
    },
    {
      "cell_type": "code",
      "source": [
        "population[states == \"Florida\"]"
      ],
      "metadata": {
        "colab": {
          "base_uri": "https://localhost:8080/"
        },
        "id": "MgzCSkR0PuZb",
        "outputId": "c6f4c8b9-99c0-4bc5-e164-3d8022a37cb4"
      },
      "execution_count": 90,
      "outputs": [
        {
          "output_type": "execute_result",
          "data": {
            "text/plain": [
              "array([20401575])"
            ]
          },
          "metadata": {},
          "execution_count": 90
        }
      ]
    },
    {
      "cell_type": "code",
      "source": [
        "states[population > 20*10**6]"
      ],
      "metadata": {
        "colab": {
          "base_uri": "https://localhost:8080/"
        },
        "id": "bVFXHudpQD6z",
        "outputId": "d0464017-3b20-4a20-9417-254568102d26"
      },
      "execution_count": 91,
      "outputs": [
        {
          "output_type": "execute_result",
          "data": {
            "text/plain": [
              "array(['California', 'Florida', 'Texas'], dtype='<U20')"
            ]
          },
          "metadata": {},
          "execution_count": 91
        }
      ]
    },
    {
      "cell_type": "code",
      "source": [
        "population.sum()"
      ],
      "metadata": {
        "colab": {
          "base_uri": "https://localhost:8080/"
        },
        "id": "HsvUTgh_QSjQ",
        "outputId": "ab1ee94d-62d2-4484-8bef-05b9eec09891"
      },
      "execution_count": 92,
      "outputs": [
        {
          "output_type": "execute_result",
          "data": {
            "text/plain": [
              "319361956"
            ]
          },
          "metadata": {},
          "execution_count": 92
        }
      ]
    },
    {
      "cell_type": "code",
      "source": [
        "states[population.argmin()]"
      ],
      "metadata": {
        "colab": {
          "base_uri": "https://localhost:8080/",
          "height": 35
        },
        "id": "I0t42PQCQV-H",
        "outputId": "3f718ed7-60ee-4cb5-f1e7-80525256edb6"
      },
      "execution_count": 93,
      "outputs": [
        {
          "output_type": "execute_result",
          "data": {
            "text/plain": [
              "'Wyoming'"
            ],
            "application/vnd.google.colaboratory.intrinsic+json": {
              "type": "string"
            }
          },
          "metadata": {},
          "execution_count": 93
        }
      ]
    },
    {
      "cell_type": "markdown",
      "metadata": {
        "id": "vEqPdTIJNR8H"
      },
      "source": [
        "## pandas\n",
        "\n",
        "**pandas** è una libreria Python di uso comune per lavorare con dati in forma tabulare\n",
        "\n",
        "pandas definisce le strutture dati _serie_ e _data frame_, simili agli array di NumPy ma dotate di _indici_ che etichettano i dati: questo rende semplice reperire dati specifici, ad esempio la popolazione di uno stato data l'etichetta (il nome)\n",
        "\n",
        "Iniziamo importando il package `pandas` con l'alias convenzionale `pd`"
      ]
    },
    {
      "cell_type": "code",
      "execution_count": 94,
      "metadata": {
        "id": "NRQghiD5NR8K"
      },
      "outputs": [],
      "source": [
        "import pandas as pd"
      ]
    },
    {
      "cell_type": "markdown",
      "metadata": {
        "id": "yO0hQbvRNR8K"
      },
      "source": [
        "## Serie\n",
        "\n",
        "Una **_serie_** pandas è un vettore di valori simile ad un array 1D NumPy con un'etichetta associata a ciascuno\n",
        "\n",
        "La sequenza di etichette costituisce l'_indice_ della serie, anch'esso un array 1D\n",
        "\n",
        "Il costruttore `Series` permette di creare una serie di cui sono forniti i dati e l'indice (`index`) in due vettori di uguale lunghezza\n",
        "\n",
        "Creiamo la serie `population` (sovrascrivendo l'array NumPy con lo stesso nome) con il numero di abitanti di ogni stato\n",
        "- i dati della serie sono i numeri di abitanti contenuti nell'array `population`\n",
        "- le etichette sono i nomi degli stati contenuti nell'array `states`"
      ]
    },
    {
      "cell_type": "code",
      "execution_count": 95,
      "metadata": {
        "id": "NBDm-dTkNR8L"
      },
      "outputs": [],
      "source": [
        "population = pd.Series(data[\"population\"], index=data[\"states\"])"
      ]
    },
    {
      "cell_type": "markdown",
      "metadata": {
        "id": "QqUDZZ1sNR8L"
      },
      "source": [
        "- Visualizziamo la serie, utilizzando il metodo `head` per estrarne solo i primi N elementi"
      ]
    },
    {
      "cell_type": "code",
      "execution_count": 96,
      "metadata": {
        "colab": {
          "base_uri": "https://localhost:8080/",
          "height": 303
        },
        "id": "Ij1L425ONR8L",
        "outputId": "304bf617-accb-485e-b77a-090f80eff36a"
      },
      "outputs": [
        {
          "output_type": "execute_result",
          "data": {
            "text/plain": [
              "Alabama         4810126\n",
              "Alaska           731760\n",
              "Arizona         6851836\n",
              "Arkansas        2949650\n",
              "California     38783436\n",
              "Colorado        5476928\n",
              "Connecticut     3541758\n",
              "dtype: int64"
            ],
            "text/html": [
              "<div>\n",
              "<style scoped>\n",
              "    .dataframe tbody tr th:only-of-type {\n",
              "        vertical-align: middle;\n",
              "    }\n",
              "\n",
              "    .dataframe tbody tr th {\n",
              "        vertical-align: top;\n",
              "    }\n",
              "\n",
              "    .dataframe thead th {\n",
              "        text-align: right;\n",
              "    }\n",
              "</style>\n",
              "<table border=\"1\" class=\"dataframe\">\n",
              "  <thead>\n",
              "    <tr style=\"text-align: right;\">\n",
              "      <th></th>\n",
              "      <th>0</th>\n",
              "    </tr>\n",
              "  </thead>\n",
              "  <tbody>\n",
              "    <tr>\n",
              "      <th>Alabama</th>\n",
              "      <td>4810126</td>\n",
              "    </tr>\n",
              "    <tr>\n",
              "      <th>Alaska</th>\n",
              "      <td>731760</td>\n",
              "    </tr>\n",
              "    <tr>\n",
              "      <th>Arizona</th>\n",
              "      <td>6851836</td>\n",
              "    </tr>\n",
              "    <tr>\n",
              "      <th>Arkansas</th>\n",
              "      <td>2949650</td>\n",
              "    </tr>\n",
              "    <tr>\n",
              "      <th>California</th>\n",
              "      <td>38783436</td>\n",
              "    </tr>\n",
              "    <tr>\n",
              "      <th>Colorado</th>\n",
              "      <td>5476928</td>\n",
              "    </tr>\n",
              "    <tr>\n",
              "      <th>Connecticut</th>\n",
              "      <td>3541758</td>\n",
              "    </tr>\n",
              "  </tbody>\n",
              "</table>\n",
              "</div><br><label><b>dtype:</b> int64</label>"
            ]
          },
          "metadata": {},
          "execution_count": 96
        }
      ],
      "source": [
        "population.head(7)"
      ]
    },
    {
      "cell_type": "markdown",
      "metadata": {
        "id": "Z-oHZXEyNR8N"
      },
      "source": [
        "- Sulla sinistra vediamo le **etichette** che formano l'indice: i nomi degli stati\n",
        "- Sulla destra vediamo i **valori**: la popolazione di ciascuno stato\n",
        "- In fondo vediamo il **tipo** (_dtype_) dei valori, in questo caso numeri interi"
      ]
    },
    {
      "cell_type": "markdown",
      "metadata": {
        "id": "RO-Z7p7PNR8O"
      },
      "source": [
        "### Attributi di base di una serie\n",
        "\n",
        "Una serie è composta dai dati e dalle etichette: gli attributi `values` e `index` restituiscono questi elementi in forma di vettori"
      ]
    },
    {
      "cell_type": "code",
      "execution_count": 97,
      "metadata": {
        "colab": {
          "base_uri": "https://localhost:8080/"
        },
        "id": "dDRAlSV8NR8O",
        "outputId": "4520d9a5-4797-4dc3-f705-008674ec19e6"
      },
      "outputs": [
        {
          "output_type": "execute_result",
          "data": {
            "text/plain": [
              "array([ 4810126,   731760,  6851836,  2949650, 38783436])"
            ]
          },
          "metadata": {},
          "execution_count": 97
        }
      ],
      "source": [
        "population.values   [:5]"
      ]
    },
    {
      "cell_type": "code",
      "execution_count": 98,
      "metadata": {
        "colab": {
          "base_uri": "https://localhost:8080/"
        },
        "id": "8GOx4AvtNR8Q",
        "outputId": "dd096f74-2b9f-4491-de13-8be6c0483db0"
      },
      "outputs": [
        {
          "output_type": "execute_result",
          "data": {
            "text/plain": [
              "Index(['Alabama', 'Alaska', 'Arizona', 'Arkansas', 'California'], dtype='object')"
            ]
          },
          "metadata": {},
          "execution_count": 98
        }
      ],
      "source": [
        "population.index    [:5]"
      ]
    },
    {
      "cell_type": "markdown",
      "metadata": {
        "id": "fRMQ07vgNR8R"
      },
      "source": [
        "Il numero di valori si può ottenere con la funzione `len` di Python o (per analogia con gli array) con l'attributo `size`"
      ]
    },
    {
      "cell_type": "code",
      "execution_count": 99,
      "metadata": {
        "colab": {
          "base_uri": "https://localhost:8080/"
        },
        "id": "e6kBv1KJNR8R",
        "outputId": "a79d2c40-0d1d-4c60-e273-5b0e962abd44"
      },
      "outputs": [
        {
          "output_type": "execute_result",
          "data": {
            "text/plain": [
              "51"
            ]
          },
          "metadata": {},
          "execution_count": 99
        }
      ],
      "source": [
        "len(population)\n",
        "# oppure\n",
        "population.size"
      ]
    },
    {
      "cell_type": "markdown",
      "metadata": {
        "id": "aYmrDoEqNR8R"
      },
      "source": [
        "### Selezionare dati da una serie\n",
        "\n",
        "Le serie supportano in pratica le stesse tecniche di selezione degli array, ma usando le **etichette al posto degli indici numerici**\n",
        "\n",
        "Per cui ad es. per ottenere la popolazione della California si scrive semplicemente:"
      ]
    },
    {
      "cell_type": "code",
      "execution_count": 100,
      "metadata": {
        "colab": {
          "base_uri": "https://localhost:8080/"
        },
        "id": "JNAGf1ItNR8T",
        "outputId": "5dea7740-89cd-43b1-f47a-01ee31e6678e"
      },
      "outputs": [
        {
          "output_type": "execute_result",
          "data": {
            "text/plain": [
              "38783436"
            ]
          },
          "metadata": {},
          "execution_count": 100
        }
      ],
      "source": [
        "population[\"California\"]"
      ]
    },
    {
      "cell_type": "markdown",
      "metadata": {
        "id": "10czhCGTNR8V"
      },
      "source": [
        "Se si seleziona un'etichetta inesistente, si ha un `KeyError` come per i dizionari `{...}`"
      ]
    },
    {
      "cell_type": "markdown",
      "metadata": {
        "id": "iVvnLL7NNR8W"
      },
      "source": [
        "Si può selezionare un intervallo tra due etichette: in questo caso sono **inclusi entrambi gli estremi**, a differenza di altre strutture dati"
      ]
    },
    {
      "cell_type": "code",
      "execution_count": 101,
      "metadata": {
        "colab": {
          "base_uri": "https://localhost:8080/",
          "height": 209
        },
        "id": "8kNr8d5FNR8W",
        "outputId": "09ad36d4-e3de-4eec-ff69-fe25eeb688de"
      },
      "outputs": [
        {
          "output_type": "execute_result",
          "data": {
            "text/plain": [
              "Arizona        6851836\n",
              "Arkansas       2949650\n",
              "California    38783436\n",
              "Colorado       5476928\n",
              "dtype: int64"
            ],
            "text/html": [
              "<div>\n",
              "<style scoped>\n",
              "    .dataframe tbody tr th:only-of-type {\n",
              "        vertical-align: middle;\n",
              "    }\n",
              "\n",
              "    .dataframe tbody tr th {\n",
              "        vertical-align: top;\n",
              "    }\n",
              "\n",
              "    .dataframe thead th {\n",
              "        text-align: right;\n",
              "    }\n",
              "</style>\n",
              "<table border=\"1\" class=\"dataframe\">\n",
              "  <thead>\n",
              "    <tr style=\"text-align: right;\">\n",
              "      <th></th>\n",
              "      <th>0</th>\n",
              "    </tr>\n",
              "  </thead>\n",
              "  <tbody>\n",
              "    <tr>\n",
              "      <th>Arizona</th>\n",
              "      <td>6851836</td>\n",
              "    </tr>\n",
              "    <tr>\n",
              "      <th>Arkansas</th>\n",
              "      <td>2949650</td>\n",
              "    </tr>\n",
              "    <tr>\n",
              "      <th>California</th>\n",
              "      <td>38783436</td>\n",
              "    </tr>\n",
              "    <tr>\n",
              "      <th>Colorado</th>\n",
              "      <td>5476928</td>\n",
              "    </tr>\n",
              "  </tbody>\n",
              "</table>\n",
              "</div><br><label><b>dtype:</b> int64</label>"
            ]
          },
          "metadata": {},
          "execution_count": 101
        }
      ],
      "source": [
        "population[\"Arizona\":\"Colorado\"]"
      ]
    },
    {
      "cell_type": "markdown",
      "metadata": {
        "id": "79p8UgFdNR8a"
      },
      "source": [
        "Gli estremi dell'intervallo _A:B_ possono non esistere, vengono comunque presi gli elementi inclusi con _A <= etichetta <= B_ (funziona se le etichette sono in ordine)\n",
        "\n",
        "Ad esempio per selezionare gli stati con iniziali da S a U (incluse) selezioniamo le etichette nell'intervallo `\"S\":\"V\"` (con `\"S\":\"U\"` verrebbe escluso \"Utah\" perché tale stringa è maggiore di \"U\")"
      ]
    },
    {
      "cell_type": "code",
      "execution_count": 102,
      "metadata": {
        "colab": {
          "base_uri": "https://localhost:8080/",
          "height": 241
        },
        "id": "yLC_qwfFNR8a",
        "outputId": "a18dd404-a87c-4375-f339-a89d520606e5"
      },
      "outputs": [
        {
          "output_type": "execute_result",
          "data": {
            "text/plain": [
              "South Carolina     4903788\n",
              "South Dakota        853832\n",
              "Tennessee          6580953\n",
              "Texas             27472626\n",
              "Utah               3002244\n",
              "dtype: int64"
            ],
            "text/html": [
              "<div>\n",
              "<style scoped>\n",
              "    .dataframe tbody tr th:only-of-type {\n",
              "        vertical-align: middle;\n",
              "    }\n",
              "\n",
              "    .dataframe tbody tr th {\n",
              "        vertical-align: top;\n",
              "    }\n",
              "\n",
              "    .dataframe thead th {\n",
              "        text-align: right;\n",
              "    }\n",
              "</style>\n",
              "<table border=\"1\" class=\"dataframe\">\n",
              "  <thead>\n",
              "    <tr style=\"text-align: right;\">\n",
              "      <th></th>\n",
              "      <th>0</th>\n",
              "    </tr>\n",
              "  </thead>\n",
              "  <tbody>\n",
              "    <tr>\n",
              "      <th>South Carolina</th>\n",
              "      <td>4903788</td>\n",
              "    </tr>\n",
              "    <tr>\n",
              "      <th>South Dakota</th>\n",
              "      <td>853832</td>\n",
              "    </tr>\n",
              "    <tr>\n",
              "      <th>Tennessee</th>\n",
              "      <td>6580953</td>\n",
              "    </tr>\n",
              "    <tr>\n",
              "      <th>Texas</th>\n",
              "      <td>27472626</td>\n",
              "    </tr>\n",
              "    <tr>\n",
              "      <th>Utah</th>\n",
              "      <td>3002244</td>\n",
              "    </tr>\n",
              "  </tbody>\n",
              "</table>\n",
              "</div><br><label><b>dtype:</b> int64</label>"
            ]
          },
          "metadata": {},
          "execution_count": 102
        }
      ],
      "source": [
        "population[\"S\":\"V\"]"
      ]
    },
    {
      "cell_type": "markdown",
      "metadata": {
        "id": "NCmEK9S8NR8b"
      },
      "source": [
        "Si può selezionare un sottoinsieme della serie indicando una lista di etichette"
      ]
    },
    {
      "cell_type": "code",
      "execution_count": 103,
      "metadata": {
        "id": "312pdqkPNR8r"
      },
      "outputs": [],
      "source": [
        "# lista di stati della costa ovest\n",
        "west_coast = [\"Washington\", \"Oregon\", \"California\"]"
      ]
    },
    {
      "cell_type": "code",
      "execution_count": 104,
      "metadata": {
        "colab": {
          "base_uri": "https://localhost:8080/",
          "height": 178
        },
        "id": "QPdbc_5ANR8r",
        "outputId": "9ea348c2-0535-47b6-bcfc-3c8ae0d677c2"
      },
      "outputs": [
        {
          "output_type": "execute_result",
          "data": {
            "text/plain": [
              "Washington     7202119\n",
              "Oregon         4052221\n",
              "California    38783436\n",
              "dtype: int64"
            ],
            "text/html": [
              "<div>\n",
              "<style scoped>\n",
              "    .dataframe tbody tr th:only-of-type {\n",
              "        vertical-align: middle;\n",
              "    }\n",
              "\n",
              "    .dataframe tbody tr th {\n",
              "        vertical-align: top;\n",
              "    }\n",
              "\n",
              "    .dataframe thead th {\n",
              "        text-align: right;\n",
              "    }\n",
              "</style>\n",
              "<table border=\"1\" class=\"dataframe\">\n",
              "  <thead>\n",
              "    <tr style=\"text-align: right;\">\n",
              "      <th></th>\n",
              "      <th>0</th>\n",
              "    </tr>\n",
              "  </thead>\n",
              "  <tbody>\n",
              "    <tr>\n",
              "      <th>Washington</th>\n",
              "      <td>7202119</td>\n",
              "    </tr>\n",
              "    <tr>\n",
              "      <th>Oregon</th>\n",
              "      <td>4052221</td>\n",
              "    </tr>\n",
              "    <tr>\n",
              "      <th>California</th>\n",
              "      <td>38783436</td>\n",
              "    </tr>\n",
              "  </tbody>\n",
              "</table>\n",
              "</div><br><label><b>dtype:</b> int64</label>"
            ]
          },
          "metadata": {},
          "execution_count": 104
        }
      ],
      "source": [
        "# popolazione stati della costa ovest\n",
        "population[west_coast]"
      ]
    },
    {
      "cell_type": "markdown",
      "metadata": {
        "id": "ZH3Q0Z26NR8s"
      },
      "source": [
        "### Creazione delle altre serie\n",
        "\n",
        "Creiamo una serie per altri vettori di dati, utilizzando sempre il vettore di nomi degli Stati `states` come indice"
      ]
    },
    {
      "cell_type": "code",
      "execution_count": 105,
      "metadata": {
        "id": "FUJPI0NKNR8s"
      },
      "outputs": [],
      "source": [
        "area        = pd.Series(data[\"area\"],        index=data[\"states\"])\n",
        "other_state = pd.Series(data[\"other_state\"], index=data[\"states\"])\n",
        "from_abroad = pd.Series(data[\"from_abroad\"], index=data[\"states\"])"
      ]
    },
    {
      "cell_type": "markdown",
      "metadata": {
        "id": "tURCdlZ4NR8u"
      },
      "source": [
        "### Operazioni tra serie\n",
        "\n",
        "Come per gli array, è possibile effettuare operazioni elemento per elemento tra due serie o tra una serie ed un valore singolo\n",
        "\n",
        "Si possono utilizzare operazioni binarie (`+`, `*`, ...) e funzioni universali di NumPy (`np.log`, ...)\n",
        "\n",
        "Nel caso di due serie, le operazioni sono applicate **tra elementi di uguale etichetta** (indipendentemente dalla posizione!); la serie risultante avrà valori mancanti (NA) in corrispondenza di etichette presenti in un solo operando"
      ]
    },
    {
      "cell_type": "markdown",
      "metadata": {
        "id": "UvDcFdWXNR8u"
      },
      "source": [
        "- Ad es. per ottenere la popolazione in milioni di abitanti"
      ]
    },
    {
      "cell_type": "code",
      "execution_count": 106,
      "metadata": {
        "colab": {
          "base_uri": "https://localhost:8080/",
          "height": 178
        },
        "id": "KBG4aca1NR8v",
        "outputId": "857f64e4-8bb2-4486-812e-2cd2cf2492e8"
      },
      "outputs": [
        {
          "output_type": "execute_result",
          "data": {
            "text/plain": [
              "Alabama    4.810126\n",
              "Alaska     0.731760\n",
              "Arizona    6.851836\n",
              "dtype: float64"
            ],
            "text/html": [
              "<div>\n",
              "<style scoped>\n",
              "    .dataframe tbody tr th:only-of-type {\n",
              "        vertical-align: middle;\n",
              "    }\n",
              "\n",
              "    .dataframe tbody tr th {\n",
              "        vertical-align: top;\n",
              "    }\n",
              "\n",
              "    .dataframe thead th {\n",
              "        text-align: right;\n",
              "    }\n",
              "</style>\n",
              "<table border=\"1\" class=\"dataframe\">\n",
              "  <thead>\n",
              "    <tr style=\"text-align: right;\">\n",
              "      <th></th>\n",
              "      <th>0</th>\n",
              "    </tr>\n",
              "  </thead>\n",
              "  <tbody>\n",
              "    <tr>\n",
              "      <th>Alabama</th>\n",
              "      <td>4.810126</td>\n",
              "    </tr>\n",
              "    <tr>\n",
              "      <th>Alaska</th>\n",
              "      <td>0.731760</td>\n",
              "    </tr>\n",
              "    <tr>\n",
              "      <th>Arizona</th>\n",
              "      <td>6.851836</td>\n",
              "    </tr>\n",
              "  </tbody>\n",
              "</table>\n",
              "</div><br><label><b>dtype:</b> float64</label>"
            ]
          },
          "metadata": {},
          "execution_count": 106
        }
      ],
      "source": [
        "(population / 1_000_000)    .head(3)"
      ]
    },
    {
      "cell_type": "markdown",
      "metadata": {
        "id": "0ylidb1uNR8w"
      },
      "source": [
        "- Per ottenere il logaritmo in base 10 della popolazione (ad es. per creare un grafico in tale scala):"
      ]
    },
    {
      "cell_type": "code",
      "execution_count": 107,
      "metadata": {
        "colab": {
          "base_uri": "https://localhost:8080/",
          "height": 178
        },
        "id": "fsvPpsrzNR8x",
        "outputId": "cf400799-f40b-411f-bc03-1705d89ef158"
      },
      "outputs": [
        {
          "output_type": "execute_result",
          "data": {
            "text/plain": [
              "Alabama    6.682156\n",
              "Alaska     5.864369\n",
              "Arizona    6.835807\n",
              "dtype: float64"
            ],
            "text/html": [
              "<div>\n",
              "<style scoped>\n",
              "    .dataframe tbody tr th:only-of-type {\n",
              "        vertical-align: middle;\n",
              "    }\n",
              "\n",
              "    .dataframe tbody tr th {\n",
              "        vertical-align: top;\n",
              "    }\n",
              "\n",
              "    .dataframe thead th {\n",
              "        text-align: right;\n",
              "    }\n",
              "</style>\n",
              "<table border=\"1\" class=\"dataframe\">\n",
              "  <thead>\n",
              "    <tr style=\"text-align: right;\">\n",
              "      <th></th>\n",
              "      <th>0</th>\n",
              "    </tr>\n",
              "  </thead>\n",
              "  <tbody>\n",
              "    <tr>\n",
              "      <th>Alabama</th>\n",
              "      <td>6.682156</td>\n",
              "    </tr>\n",
              "    <tr>\n",
              "      <th>Alaska</th>\n",
              "      <td>5.864369</td>\n",
              "    </tr>\n",
              "    <tr>\n",
              "      <th>Arizona</th>\n",
              "      <td>6.835807</td>\n",
              "    </tr>\n",
              "  </tbody>\n",
              "</table>\n",
              "</div><br><label><b>dtype:</b> float64</label>"
            ]
          },
          "metadata": {},
          "execution_count": 107
        }
      ],
      "source": [
        "np.log10(population)   .head(3)"
      ]
    },
    {
      "cell_type": "markdown",
      "metadata": {
        "id": "nqoU6oi_NR8x"
      },
      "source": [
        "### Esercizio 2: Operazioni tra serie\n",
        "\n",
        "- **(2a)** La serie `area` riporta la superficie degli stati in miglia quadrate: ricavare una serie `area_km2` con la superficie in chilometri quadrati (1 mi² = 2,59 km²)\n",
        "- **(2b)** Creare una serie `density` con la densità di popolazione di ciascuno stato in abitanti per km²"
      ]
    },
    {
      "cell_type": "code",
      "execution_count": 108,
      "metadata": {
        "colab": {
          "base_uri": "https://localhost:8080/",
          "height": 178
        },
        "id": "GCFU833wNR8y",
        "outputId": "bf1bd461-a591-4020-b0ef-3fc45368e56d"
      },
      "outputs": [
        {
          "output_type": "execute_result",
          "data": {
            "text/plain": [
              "Alabama    1.311714e+05\n",
              "Alaska     1.477960e+06\n",
              "Arizona    2.942087e+05\n",
              "dtype: float64"
            ],
            "text/html": [
              "<div>\n",
              "<style scoped>\n",
              "    .dataframe tbody tr th:only-of-type {\n",
              "        vertical-align: middle;\n",
              "    }\n",
              "\n",
              "    .dataframe tbody tr th {\n",
              "        vertical-align: top;\n",
              "    }\n",
              "\n",
              "    .dataframe thead th {\n",
              "        text-align: right;\n",
              "    }\n",
              "</style>\n",
              "<table border=\"1\" class=\"dataframe\">\n",
              "  <thead>\n",
              "    <tr style=\"text-align: right;\">\n",
              "      <th></th>\n",
              "      <th>0</th>\n",
              "    </tr>\n",
              "  </thead>\n",
              "  <tbody>\n",
              "    <tr>\n",
              "      <th>Alabama</th>\n",
              "      <td>1.311714e+05</td>\n",
              "    </tr>\n",
              "    <tr>\n",
              "      <th>Alaska</th>\n",
              "      <td>1.477960e+06</td>\n",
              "    </tr>\n",
              "    <tr>\n",
              "      <th>Arizona</th>\n",
              "      <td>2.942087e+05</td>\n",
              "    </tr>\n",
              "  </tbody>\n",
              "</table>\n",
              "</div><br><label><b>dtype:</b> float64</label>"
            ]
          },
          "metadata": {},
          "execution_count": 108
        }
      ],
      "source": [
        "area_km2 = area * 2.59\n",
        "area_km2.head(3)"
      ]
    },
    {
      "cell_type": "code",
      "execution_count": 109,
      "metadata": {
        "colab": {
          "base_uri": "https://localhost:8080/",
          "height": 178
        },
        "id": "Qwf0Wg8nNR8z",
        "outputId": "fd5a4e00-5c71-4258-8d07-67e5328fec3d"
      },
      "outputs": [
        {
          "output_type": "execute_result",
          "data": {
            "text/plain": [
              "Alabama    36.670538\n",
              "Alaska      0.495115\n",
              "Arizona    23.289035\n",
              "dtype: float64"
            ],
            "text/html": [
              "<div>\n",
              "<style scoped>\n",
              "    .dataframe tbody tr th:only-of-type {\n",
              "        vertical-align: middle;\n",
              "    }\n",
              "\n",
              "    .dataframe tbody tr th {\n",
              "        vertical-align: top;\n",
              "    }\n",
              "\n",
              "    .dataframe thead th {\n",
              "        text-align: right;\n",
              "    }\n",
              "</style>\n",
              "<table border=\"1\" class=\"dataframe\">\n",
              "  <thead>\n",
              "    <tr style=\"text-align: right;\">\n",
              "      <th></th>\n",
              "      <th>0</th>\n",
              "    </tr>\n",
              "  </thead>\n",
              "  <tbody>\n",
              "    <tr>\n",
              "      <th>Alabama</th>\n",
              "      <td>36.670538</td>\n",
              "    </tr>\n",
              "    <tr>\n",
              "      <th>Alaska</th>\n",
              "      <td>0.495115</td>\n",
              "    </tr>\n",
              "    <tr>\n",
              "      <th>Arizona</th>\n",
              "      <td>23.289035</td>\n",
              "    </tr>\n",
              "  </tbody>\n",
              "</table>\n",
              "</div><br><label><b>dtype:</b> float64</label>"
            ]
          },
          "metadata": {},
          "execution_count": 109
        }
      ],
      "source": [
        "density = population / area_km2\n",
        "density.head(3)"
      ]
    },
    {
      "cell_type": "markdown",
      "metadata": {
        "id": "wgU_GZZyNR8z"
      },
      "source": [
        "### Serie booleane e selezione per condizioni\n",
        "\n",
        "Usando operatori di confronto (`==`, `>`, ...) sulle serie, si ottiene una serie di valori booleani\n",
        "\n",
        "Ad esempio, per ottenere la serie che associa `True` agli stati non più grandi di 5.000 miglia quadrate:"
      ]
    },
    {
      "cell_type": "code",
      "execution_count": 110,
      "metadata": {
        "colab": {
          "base_uri": "https://localhost:8080/",
          "height": 397
        },
        "id": "m7Yb2Y4PNR8z",
        "outputId": "bc491016-25ef-481b-a357-b881d08473b5"
      },
      "outputs": [
        {
          "output_type": "execute_result",
          "data": {
            "text/plain": [
              "Alabama                 False\n",
              "Alaska                  False\n",
              "Arizona                 False\n",
              "Arkansas                False\n",
              "California              False\n",
              "Colorado                False\n",
              "Connecticut              True\n",
              "Delaware                 True\n",
              "District of Columbia     True\n",
              "Florida                 False\n",
              "dtype: bool"
            ],
            "text/html": [
              "<div>\n",
              "<style scoped>\n",
              "    .dataframe tbody tr th:only-of-type {\n",
              "        vertical-align: middle;\n",
              "    }\n",
              "\n",
              "    .dataframe tbody tr th {\n",
              "        vertical-align: top;\n",
              "    }\n",
              "\n",
              "    .dataframe thead th {\n",
              "        text-align: right;\n",
              "    }\n",
              "</style>\n",
              "<table border=\"1\" class=\"dataframe\">\n",
              "  <thead>\n",
              "    <tr style=\"text-align: right;\">\n",
              "      <th></th>\n",
              "      <th>0</th>\n",
              "    </tr>\n",
              "  </thead>\n",
              "  <tbody>\n",
              "    <tr>\n",
              "      <th>Alabama</th>\n",
              "      <td>False</td>\n",
              "    </tr>\n",
              "    <tr>\n",
              "      <th>Alaska</th>\n",
              "      <td>False</td>\n",
              "    </tr>\n",
              "    <tr>\n",
              "      <th>Arizona</th>\n",
              "      <td>False</td>\n",
              "    </tr>\n",
              "    <tr>\n",
              "      <th>Arkansas</th>\n",
              "      <td>False</td>\n",
              "    </tr>\n",
              "    <tr>\n",
              "      <th>California</th>\n",
              "      <td>False</td>\n",
              "    </tr>\n",
              "    <tr>\n",
              "      <th>Colorado</th>\n",
              "      <td>False</td>\n",
              "    </tr>\n",
              "    <tr>\n",
              "      <th>Connecticut</th>\n",
              "      <td>True</td>\n",
              "    </tr>\n",
              "    <tr>\n",
              "      <th>Delaware</th>\n",
              "      <td>True</td>\n",
              "    </tr>\n",
              "    <tr>\n",
              "      <th>District of Columbia</th>\n",
              "      <td>True</td>\n",
              "    </tr>\n",
              "    <tr>\n",
              "      <th>Florida</th>\n",
              "      <td>False</td>\n",
              "    </tr>\n",
              "  </tbody>\n",
              "</table>\n",
              "</div><br><label><b>dtype:</b> bool</label>"
            ]
          },
          "metadata": {},
          "execution_count": 110
        }
      ],
      "source": [
        "is_small = area <= 5000\n",
        "is_small.head(10)"
      ]
    },
    {
      "cell_type": "markdown",
      "metadata": {
        "id": "09VxikM7NR81"
      },
      "source": [
        "In modo simile agli array, una serie booleana può essere usata per selezionare in un'altra serie con stesse etichette solamente gli elementi a cui è associato `True`\n",
        "\n",
        "Ad esempio, per mostrare la superficie dei soli stati piccoli individuati sopra:"
      ]
    },
    {
      "cell_type": "code",
      "execution_count": 111,
      "metadata": {
        "colab": {
          "base_uri": "https://localhost:8080/",
          "height": 209
        },
        "id": "3ZIYNoz6NR82",
        "outputId": "e7d465b1-cf19-45f6-947d-21f0a96b5ed7"
      },
      "outputs": [
        {
          "output_type": "execute_result",
          "data": {
            "text/plain": [
              "Connecticut             4842.36\n",
              "Delaware                1948.54\n",
              "District of Columbia      61.05\n",
              "Rhode Island            1033.81\n",
              "dtype: float64"
            ],
            "text/html": [
              "<div>\n",
              "<style scoped>\n",
              "    .dataframe tbody tr th:only-of-type {\n",
              "        vertical-align: middle;\n",
              "    }\n",
              "\n",
              "    .dataframe tbody tr th {\n",
              "        vertical-align: top;\n",
              "    }\n",
              "\n",
              "    .dataframe thead th {\n",
              "        text-align: right;\n",
              "    }\n",
              "</style>\n",
              "<table border=\"1\" class=\"dataframe\">\n",
              "  <thead>\n",
              "    <tr style=\"text-align: right;\">\n",
              "      <th></th>\n",
              "      <th>0</th>\n",
              "    </tr>\n",
              "  </thead>\n",
              "  <tbody>\n",
              "    <tr>\n",
              "      <th>Connecticut</th>\n",
              "      <td>4842.36</td>\n",
              "    </tr>\n",
              "    <tr>\n",
              "      <th>Delaware</th>\n",
              "      <td>1948.54</td>\n",
              "    </tr>\n",
              "    <tr>\n",
              "      <th>District of Columbia</th>\n",
              "      <td>61.05</td>\n",
              "    </tr>\n",
              "    <tr>\n",
              "      <th>Rhode Island</th>\n",
              "      <td>1033.81</td>\n",
              "    </tr>\n",
              "  </tbody>\n",
              "</table>\n",
              "</div><br><label><b>dtype:</b> float64</label>"
            ]
          },
          "metadata": {},
          "execution_count": 111
        }
      ],
      "source": [
        "area[area <= 5000]\n",
        "# oppure: area[is_small]"
      ]
    },
    {
      "cell_type": "markdown",
      "metadata": {
        "id": "jF9akPXlNR82"
      },
      "source": [
        "La serie da cui sono selezionati i dati e quella usata come condizione possono anche differire..."
      ]
    },
    {
      "cell_type": "code",
      "execution_count": 112,
      "metadata": {
        "colab": {
          "base_uri": "https://localhost:8080/",
          "height": 209
        },
        "id": "PBn0-KOtNR83",
        "outputId": "dd3f915d-92a2-46a7-f15d-f1b66535d51f"
      },
      "outputs": [
        {
          "output_type": "execute_result",
          "data": {
            "text/plain": [
              "Connecticut             3541758\n",
              "Delaware                 942073\n",
              "District of Columbia     672022\n",
              "Rhode Island            1045691\n",
              "dtype: int64"
            ],
            "text/html": [
              "<div>\n",
              "<style scoped>\n",
              "    .dataframe tbody tr th:only-of-type {\n",
              "        vertical-align: middle;\n",
              "    }\n",
              "\n",
              "    .dataframe tbody tr th {\n",
              "        vertical-align: top;\n",
              "    }\n",
              "\n",
              "    .dataframe thead th {\n",
              "        text-align: right;\n",
              "    }\n",
              "</style>\n",
              "<table border=\"1\" class=\"dataframe\">\n",
              "  <thead>\n",
              "    <tr style=\"text-align: right;\">\n",
              "      <th></th>\n",
              "      <th>0</th>\n",
              "    </tr>\n",
              "  </thead>\n",
              "  <tbody>\n",
              "    <tr>\n",
              "      <th>Connecticut</th>\n",
              "      <td>3541758</td>\n",
              "    </tr>\n",
              "    <tr>\n",
              "      <th>Delaware</th>\n",
              "      <td>942073</td>\n",
              "    </tr>\n",
              "    <tr>\n",
              "      <th>District of Columbia</th>\n",
              "      <td>672022</td>\n",
              "    </tr>\n",
              "    <tr>\n",
              "      <th>Rhode Island</th>\n",
              "      <td>1045691</td>\n",
              "    </tr>\n",
              "  </tbody>\n",
              "</table>\n",
              "</div><br><label><b>dtype:</b> int64</label>"
            ]
          },
          "metadata": {},
          "execution_count": 112
        }
      ],
      "source": [
        "# popolazione degli stati piccoli\n",
        "population[area <= 5000]"
      ]
    },
    {
      "cell_type": "markdown",
      "metadata": {
        "id": "SabX_GtKNR85"
      },
      "source": [
        "Possiamo combinare serie booleane con gli operatori `&` (AND), `|` (OR), `^` (XOR), `~` (NOT)\n",
        "\n",
        "**Attenzione:** tali operatori nel linguaggio Python hanno priorità superiore alle comparazioni (`>`, `<=`, ...), **usare le parentesi** per evitare errori"
      ]
    },
    {
      "cell_type": "code",
      "execution_count": 113,
      "metadata": {
        "colab": {
          "base_uri": "https://localhost:8080/",
          "height": 146
        },
        "id": "azHLdfK0NR86",
        "outputId": "3bfc96d1-7044-42e1-d7f7-8866979aa895"
      },
      "outputs": [
        {
          "output_type": "execute_result",
          "data": {
            "text/plain": [
              "Connecticut     3541758\n",
              "Rhode Island    1045691\n",
              "dtype: int64"
            ],
            "text/html": [
              "<div>\n",
              "<style scoped>\n",
              "    .dataframe tbody tr th:only-of-type {\n",
              "        vertical-align: middle;\n",
              "    }\n",
              "\n",
              "    .dataframe tbody tr th {\n",
              "        vertical-align: top;\n",
              "    }\n",
              "\n",
              "    .dataframe thead th {\n",
              "        text-align: right;\n",
              "    }\n",
              "</style>\n",
              "<table border=\"1\" class=\"dataframe\">\n",
              "  <thead>\n",
              "    <tr style=\"text-align: right;\">\n",
              "      <th></th>\n",
              "      <th>0</th>\n",
              "    </tr>\n",
              "  </thead>\n",
              "  <tbody>\n",
              "    <tr>\n",
              "      <th>Connecticut</th>\n",
              "      <td>3541758</td>\n",
              "    </tr>\n",
              "    <tr>\n",
              "      <th>Rhode Island</th>\n",
              "      <td>1045691</td>\n",
              "    </tr>\n",
              "  </tbody>\n",
              "</table>\n",
              "</div><br><label><b>dtype:</b> int64</label>"
            ]
          },
          "metadata": {},
          "execution_count": 113
        }
      ],
      "source": [
        "# popolazione degli stati piccoli con più di un milione di abitanti\n",
        "population[   (area <= 5000) &   (population >= 1_000_000) ]"
      ]
    },
    {
      "cell_type": "markdown",
      "metadata": {
        "id": "BrvEQny0NR87"
      },
      "source": [
        "### Operazioni di riduzione sulle serie\n",
        "\n",
        "Le serie offrono metodi simili a quelli degli array per aggregare i dati: `sum`, `mean`, `min`, `max`, ...\n",
        "\n",
        "Ad esempio, per ottenere la popolazione totale di tutti gli stati:"
      ]
    },
    {
      "cell_type": "code",
      "execution_count": 114,
      "metadata": {
        "colab": {
          "base_uri": "https://localhost:8080/"
        },
        "id": "8PYbA7z7NR88",
        "outputId": "44b19447-0f88-4023-8b59-77ef84c13d98"
      },
      "outputs": [
        {
          "output_type": "execute_result",
          "data": {
            "text/plain": [
              "319361956"
            ]
          },
          "metadata": {},
          "execution_count": 114
        }
      ],
      "source": [
        "population.sum()"
      ]
    },
    {
      "cell_type": "markdown",
      "metadata": {
        "id": "Undpr1QQNR89"
      },
      "source": [
        "Per ottenere la popolazione nello stato dove è maggiore:"
      ]
    },
    {
      "cell_type": "code",
      "execution_count": 115,
      "metadata": {
        "colab": {
          "base_uri": "https://localhost:8080/"
        },
        "id": "SfiLLQg-NR89",
        "outputId": "f47590cb-218c-4033-e8ea-39b198bd5389"
      },
      "outputs": [
        {
          "output_type": "execute_result",
          "data": {
            "text/plain": [
              "38783436"
            ]
          },
          "metadata": {},
          "execution_count": 115
        }
      ],
      "source": [
        "population.max()"
      ]
    },
    {
      "cell_type": "markdown",
      "metadata": {
        "id": "y9fFsjbJNR8-"
      },
      "source": [
        "Per conoscere a quale Stato corrisponde, uso il metodo `idxmax` che restituisce l'etichetta del valore maggiore"
      ]
    },
    {
      "cell_type": "code",
      "execution_count": 116,
      "metadata": {
        "colab": {
          "base_uri": "https://localhost:8080/",
          "height": 35
        },
        "id": "euRnS209NR8_",
        "outputId": "7a8ca629-d562-4de8-b7b2-319b112004d7"
      },
      "outputs": [
        {
          "output_type": "execute_result",
          "data": {
            "text/plain": [
              "'California'"
            ],
            "application/vnd.google.colaboratory.intrinsic+json": {
              "type": "string"
            }
          },
          "metadata": {},
          "execution_count": 116
        }
      ],
      "source": [
        "population.idxmax()"
      ]
    },
    {
      "cell_type": "markdown",
      "metadata": {
        "id": "Tize3XRkNR9A"
      },
      "source": [
        "Sono definiti analogamente `min` e `idxmin` per il valore minimo e la sua etichetta"
      ]
    },
    {
      "cell_type": "code",
      "execution_count": 117,
      "metadata": {
        "colab": {
          "base_uri": "https://localhost:8080/"
        },
        "id": "RrzqDABlNR9A",
        "outputId": "9efddba4-10fb-4004-dceb-9c66ecb84d8b"
      },
      "outputs": [
        {
          "output_type": "execute_result",
          "data": {
            "text/plain": [
              "577567"
            ]
          },
          "metadata": {},
          "execution_count": 117
        }
      ],
      "source": [
        "population.min()"
      ]
    },
    {
      "cell_type": "code",
      "execution_count": 118,
      "metadata": {
        "colab": {
          "base_uri": "https://localhost:8080/",
          "height": 35
        },
        "id": "wbHOismvNR9C",
        "outputId": "a47981fa-797f-4609-a5a5-5af138cf1fd1"
      },
      "outputs": [
        {
          "output_type": "execute_result",
          "data": {
            "text/plain": [
              "'Wyoming'"
            ],
            "application/vnd.google.colaboratory.intrinsic+json": {
              "type": "string"
            }
          },
          "metadata": {},
          "execution_count": 118
        }
      ],
      "source": [
        "population.idxmin()"
      ]
    },
    {
      "cell_type": "markdown",
      "metadata": {
        "id": "Jo_9XTDVNR9D"
      },
      "source": [
        "Come in NumPy tali metodi si possono applicare anche alle serie booleane, con la tipica convenzione per cui `False` e `True` contano rispettivamente come 0 e 1"
      ]
    },
    {
      "cell_type": "markdown",
      "metadata": {
        "id": "IlOlbKAbNR9D"
      },
      "source": [
        "### Esercizio 3: Operazioni di riduzione su serie\n",
        "\n",
        "Ricavare:\n",
        "- **(3a)** il nome dello stato più piccolo\n",
        "- **(3b)** la densità di popolazione dello stato più piccolo\n",
        "- **(3c)** il numero di stati la cui popolazione è superiore al milione di abitanti\n",
        "- **(3d)** il totale della popolazione degli stati sulla costa ovest (usare lista `west_coast` definita sopra)\n",
        "- **(3e)** la densità media degli stati con almeno 10 milioni di abitanti"
      ]
    },
    {
      "cell_type": "code",
      "source": [
        "area.idxmin()"
      ],
      "metadata": {
        "colab": {
          "base_uri": "https://localhost:8080/",
          "height": 35
        },
        "id": "ziWT4kSmYkCG",
        "outputId": "ae4a82e1-51c1-4c97-a29e-3705048513d9"
      },
      "execution_count": 119,
      "outputs": [
        {
          "output_type": "execute_result",
          "data": {
            "text/plain": [
              "'District of Columbia'"
            ],
            "application/vnd.google.colaboratory.intrinsic+json": {
              "type": "string"
            }
          },
          "metadata": {},
          "execution_count": 119
        }
      ]
    },
    {
      "cell_type": "code",
      "source": [
        "density[area.idxmin()]"
      ],
      "metadata": {
        "colab": {
          "base_uri": "https://localhost:8080/"
        },
        "id": "L-A31EHdYpM7",
        "outputId": "cccbf682-96d3-465e-b62e-21d6d5ad3833"
      },
      "execution_count": 120,
      "outputs": [
        {
          "output_type": "execute_result",
          "data": {
            "text/plain": [
              "4250.089331170412"
            ]
          },
          "metadata": {},
          "execution_count": 120
        }
      ]
    },
    {
      "cell_type": "code",
      "source": [
        "len(population[population > 1_000_000])"
      ],
      "metadata": {
        "colab": {
          "base_uri": "https://localhost:8080/"
        },
        "id": "SMUk3PJwYvYM",
        "outputId": "7ede14b4-7ebb-41ef-e349-7407abd0ca56"
      },
      "execution_count": 121,
      "outputs": [
        {
          "output_type": "execute_result",
          "data": {
            "text/plain": [
              "44"
            ]
          },
          "metadata": {},
          "execution_count": 121
        }
      ]
    },
    {
      "cell_type": "code",
      "source": [
        "population[west_coast].sum()"
      ],
      "metadata": {
        "colab": {
          "base_uri": "https://localhost:8080/"
        },
        "id": "jCB7LObhZaXf",
        "outputId": "af66054f-1b3e-40ae-d119-cf6044923693"
      },
      "execution_count": 122,
      "outputs": [
        {
          "output_type": "execute_result",
          "data": {
            "text/plain": [
              "50037776"
            ]
          },
          "metadata": {},
          "execution_count": 122
        }
      ]
    },
    {
      "cell_type": "code",
      "source": [
        "density[population >= 10_000_000].mean()"
      ],
      "metadata": {
        "colab": {
          "base_uri": "https://localhost:8080/"
        },
        "id": "SGxKnGb-ZhkF",
        "outputId": "b407d153-f113-4070-e276-1e27f9c2a9d2"
      },
      "execution_count": 123,
      "outputs": [
        {
          "output_type": "execute_result",
          "data": {
            "text/plain": [
              "99.6921196099007"
            ]
          },
          "metadata": {},
          "execution_count": 123
        }
      ]
    },
    {
      "cell_type": "markdown",
      "metadata": {
        "id": "NNlmvGVSNR9D"
      },
      "source": [
        "## DataFrame\n",
        "\n",
        "Un `DataFrame` pandas contiene dati strutturati in **forma tabulare**, dove in genere\n",
        "\n",
        "- **ogni riga** della tabella rappresenta **un elemento** dell'insieme che si sta analizzando (una persona, un territorio, ...)\n",
        "- **ogni colonna** rappresenta **una caratteristica** di interesse (_feature_) degli elementi (età, popolazione, ...)\n",
        "\n",
        "Le colonne di un data frame costituiscono un insieme di serie tutte con la stessa sequenza di etichette\n",
        "\n",
        "- tale sequenza costituisce l'_indice delle righe_ del frame (o semplicemente _indice_)\n",
        "- ogni colonna ha un nome, i nomi delle colonne formano l'_indice delle colonne_ del frame\n",
        "- i datatype dei valori possono differire da una colonna all'altra"
      ]
    },
    {
      "cell_type": "markdown",
      "metadata": {
        "id": "80wqxchENR9E"
      },
      "source": [
        "### Creare un DataFrame\n",
        "\n",
        "Per creare un DataFrame possiamo passare un dizionario con una serie di valori per ciascuna colonna, la cui chiave è il nome\n",
        "\n",
        "L'indice delle serie, identico per tutte, è usato come indice delle righe del DataFrame; se alcune etichette sono presenti solo in alcune serie, si ottengono valori mancanti nelle altre colonne"
      ]
    },
    {
      "cell_type": "code",
      "execution_count": 124,
      "metadata": {
        "id": "asdjiaSzNR9F"
      },
      "outputs": [],
      "source": [
        "census = pd.DataFrame({\n",
        "    \"population\": population,\n",
        "    \"from_abroad\": from_abroad,\n",
        "    \"area\": area_km2\n",
        "})"
      ]
    },
    {
      "cell_type": "markdown",
      "metadata": {
        "id": "THAToeUXNR9G"
      },
      "source": [
        "Visualizziamo le prime righe del DataFrame come esempio..."
      ]
    },
    {
      "cell_type": "code",
      "execution_count": 125,
      "metadata": {
        "colab": {
          "base_uri": "https://localhost:8080/",
          "height": 206
        },
        "id": "dUmZ_zkTNR9H",
        "outputId": "5b706ac7-a7e0-4023-e394-1822eacf9b11"
      },
      "outputs": [
        {
          "output_type": "execute_result",
          "data": {
            "text/plain": [
              "            population  from_abroad          area\n",
              "Alabama        4810126        16062  1.311714e+05\n",
              "Alaska          731760         6559  1.477960e+06\n",
              "Arizona        6851836        53749  2.942087e+05\n",
              "Arkansas       2949650         9051  1.347719e+05\n",
              "California    38783436       336614  4.034682e+05"
            ],
            "text/html": [
              "\n",
              "  <div id=\"df-85b73e64-9a23-44c1-be18-be50959b507f\" class=\"colab-df-container\">\n",
              "    <div>\n",
              "<style scoped>\n",
              "    .dataframe tbody tr th:only-of-type {\n",
              "        vertical-align: middle;\n",
              "    }\n",
              "\n",
              "    .dataframe tbody tr th {\n",
              "        vertical-align: top;\n",
              "    }\n",
              "\n",
              "    .dataframe thead th {\n",
              "        text-align: right;\n",
              "    }\n",
              "</style>\n",
              "<table border=\"1\" class=\"dataframe\">\n",
              "  <thead>\n",
              "    <tr style=\"text-align: right;\">\n",
              "      <th></th>\n",
              "      <th>population</th>\n",
              "      <th>from_abroad</th>\n",
              "      <th>area</th>\n",
              "    </tr>\n",
              "  </thead>\n",
              "  <tbody>\n",
              "    <tr>\n",
              "      <th>Alabama</th>\n",
              "      <td>4810126</td>\n",
              "      <td>16062</td>\n",
              "      <td>1.311714e+05</td>\n",
              "    </tr>\n",
              "    <tr>\n",
              "      <th>Alaska</th>\n",
              "      <td>731760</td>\n",
              "      <td>6559</td>\n",
              "      <td>1.477960e+06</td>\n",
              "    </tr>\n",
              "    <tr>\n",
              "      <th>Arizona</th>\n",
              "      <td>6851836</td>\n",
              "      <td>53749</td>\n",
              "      <td>2.942087e+05</td>\n",
              "    </tr>\n",
              "    <tr>\n",
              "      <th>Arkansas</th>\n",
              "      <td>2949650</td>\n",
              "      <td>9051</td>\n",
              "      <td>1.347719e+05</td>\n",
              "    </tr>\n",
              "    <tr>\n",
              "      <th>California</th>\n",
              "      <td>38783436</td>\n",
              "      <td>336614</td>\n",
              "      <td>4.034682e+05</td>\n",
              "    </tr>\n",
              "  </tbody>\n",
              "</table>\n",
              "</div>\n",
              "    <div class=\"colab-df-buttons\">\n",
              "\n",
              "  <div class=\"colab-df-container\">\n",
              "    <button class=\"colab-df-convert\" onclick=\"convertToInteractive('df-85b73e64-9a23-44c1-be18-be50959b507f')\"\n",
              "            title=\"Convert this dataframe to an interactive table.\"\n",
              "            style=\"display:none;\">\n",
              "\n",
              "  <svg xmlns=\"http://www.w3.org/2000/svg\" height=\"24px\" viewBox=\"0 -960 960 960\">\n",
              "    <path d=\"M120-120v-720h720v720H120Zm60-500h600v-160H180v160Zm220 220h160v-160H400v160Zm0 220h160v-160H400v160ZM180-400h160v-160H180v160Zm440 0h160v-160H620v160ZM180-180h160v-160H180v160Zm440 0h160v-160H620v160Z\"/>\n",
              "  </svg>\n",
              "    </button>\n",
              "\n",
              "  <style>\n",
              "    .colab-df-container {\n",
              "      display:flex;\n",
              "      gap: 12px;\n",
              "    }\n",
              "\n",
              "    .colab-df-convert {\n",
              "      background-color: #E8F0FE;\n",
              "      border: none;\n",
              "      border-radius: 50%;\n",
              "      cursor: pointer;\n",
              "      display: none;\n",
              "      fill: #1967D2;\n",
              "      height: 32px;\n",
              "      padding: 0 0 0 0;\n",
              "      width: 32px;\n",
              "    }\n",
              "\n",
              "    .colab-df-convert:hover {\n",
              "      background-color: #E2EBFA;\n",
              "      box-shadow: 0px 1px 2px rgba(60, 64, 67, 0.3), 0px 1px 3px 1px rgba(60, 64, 67, 0.15);\n",
              "      fill: #174EA6;\n",
              "    }\n",
              "\n",
              "    .colab-df-buttons div {\n",
              "      margin-bottom: 4px;\n",
              "    }\n",
              "\n",
              "    [theme=dark] .colab-df-convert {\n",
              "      background-color: #3B4455;\n",
              "      fill: #D2E3FC;\n",
              "    }\n",
              "\n",
              "    [theme=dark] .colab-df-convert:hover {\n",
              "      background-color: #434B5C;\n",
              "      box-shadow: 0px 1px 3px 1px rgba(0, 0, 0, 0.15);\n",
              "      filter: drop-shadow(0px 1px 2px rgba(0, 0, 0, 0.3));\n",
              "      fill: #FFFFFF;\n",
              "    }\n",
              "  </style>\n",
              "\n",
              "    <script>\n",
              "      const buttonEl =\n",
              "        document.querySelector('#df-85b73e64-9a23-44c1-be18-be50959b507f button.colab-df-convert');\n",
              "      buttonEl.style.display =\n",
              "        google.colab.kernel.accessAllowed ? 'block' : 'none';\n",
              "\n",
              "      async function convertToInteractive(key) {\n",
              "        const element = document.querySelector('#df-85b73e64-9a23-44c1-be18-be50959b507f');\n",
              "        const dataTable =\n",
              "          await google.colab.kernel.invokeFunction('convertToInteractive',\n",
              "                                                    [key], {});\n",
              "        if (!dataTable) return;\n",
              "\n",
              "        const docLinkHtml = 'Like what you see? Visit the ' +\n",
              "          '<a target=\"_blank\" href=https://colab.research.google.com/notebooks/data_table.ipynb>data table notebook</a>'\n",
              "          + ' to learn more about interactive tables.';\n",
              "        element.innerHTML = '';\n",
              "        dataTable['output_type'] = 'display_data';\n",
              "        await google.colab.output.renderOutput(dataTable, element);\n",
              "        const docLink = document.createElement('div');\n",
              "        docLink.innerHTML = docLinkHtml;\n",
              "        element.appendChild(docLink);\n",
              "      }\n",
              "    </script>\n",
              "  </div>\n",
              "\n",
              "\n",
              "<div id=\"df-fef72473-e56d-4717-9c1a-b9d2e2224f0e\">\n",
              "  <button class=\"colab-df-quickchart\" onclick=\"quickchart('df-fef72473-e56d-4717-9c1a-b9d2e2224f0e')\"\n",
              "            title=\"Suggest charts\"\n",
              "            style=\"display:none;\">\n",
              "\n",
              "<svg xmlns=\"http://www.w3.org/2000/svg\" height=\"24px\"viewBox=\"0 0 24 24\"\n",
              "     width=\"24px\">\n",
              "    <g>\n",
              "        <path d=\"M19 3H5c-1.1 0-2 .9-2 2v14c0 1.1.9 2 2 2h14c1.1 0 2-.9 2-2V5c0-1.1-.9-2-2-2zM9 17H7v-7h2v7zm4 0h-2V7h2v10zm4 0h-2v-4h2v4z\"/>\n",
              "    </g>\n",
              "</svg>\n",
              "  </button>\n",
              "\n",
              "<style>\n",
              "  .colab-df-quickchart {\n",
              "      --bg-color: #E8F0FE;\n",
              "      --fill-color: #1967D2;\n",
              "      --hover-bg-color: #E2EBFA;\n",
              "      --hover-fill-color: #174EA6;\n",
              "      --disabled-fill-color: #AAA;\n",
              "      --disabled-bg-color: #DDD;\n",
              "  }\n",
              "\n",
              "  [theme=dark] .colab-df-quickchart {\n",
              "      --bg-color: #3B4455;\n",
              "      --fill-color: #D2E3FC;\n",
              "      --hover-bg-color: #434B5C;\n",
              "      --hover-fill-color: #FFFFFF;\n",
              "      --disabled-bg-color: #3B4455;\n",
              "      --disabled-fill-color: #666;\n",
              "  }\n",
              "\n",
              "  .colab-df-quickchart {\n",
              "    background-color: var(--bg-color);\n",
              "    border: none;\n",
              "    border-radius: 50%;\n",
              "    cursor: pointer;\n",
              "    display: none;\n",
              "    fill: var(--fill-color);\n",
              "    height: 32px;\n",
              "    padding: 0;\n",
              "    width: 32px;\n",
              "  }\n",
              "\n",
              "  .colab-df-quickchart:hover {\n",
              "    background-color: var(--hover-bg-color);\n",
              "    box-shadow: 0 1px 2px rgba(60, 64, 67, 0.3), 0 1px 3px 1px rgba(60, 64, 67, 0.15);\n",
              "    fill: var(--button-hover-fill-color);\n",
              "  }\n",
              "\n",
              "  .colab-df-quickchart-complete:disabled,\n",
              "  .colab-df-quickchart-complete:disabled:hover {\n",
              "    background-color: var(--disabled-bg-color);\n",
              "    fill: var(--disabled-fill-color);\n",
              "    box-shadow: none;\n",
              "  }\n",
              "\n",
              "  .colab-df-spinner {\n",
              "    border: 2px solid var(--fill-color);\n",
              "    border-color: transparent;\n",
              "    border-bottom-color: var(--fill-color);\n",
              "    animation:\n",
              "      spin 1s steps(1) infinite;\n",
              "  }\n",
              "\n",
              "  @keyframes spin {\n",
              "    0% {\n",
              "      border-color: transparent;\n",
              "      border-bottom-color: var(--fill-color);\n",
              "      border-left-color: var(--fill-color);\n",
              "    }\n",
              "    20% {\n",
              "      border-color: transparent;\n",
              "      border-left-color: var(--fill-color);\n",
              "      border-top-color: var(--fill-color);\n",
              "    }\n",
              "    30% {\n",
              "      border-color: transparent;\n",
              "      border-left-color: var(--fill-color);\n",
              "      border-top-color: var(--fill-color);\n",
              "      border-right-color: var(--fill-color);\n",
              "    }\n",
              "    40% {\n",
              "      border-color: transparent;\n",
              "      border-right-color: var(--fill-color);\n",
              "      border-top-color: var(--fill-color);\n",
              "    }\n",
              "    60% {\n",
              "      border-color: transparent;\n",
              "      border-right-color: var(--fill-color);\n",
              "    }\n",
              "    80% {\n",
              "      border-color: transparent;\n",
              "      border-right-color: var(--fill-color);\n",
              "      border-bottom-color: var(--fill-color);\n",
              "    }\n",
              "    90% {\n",
              "      border-color: transparent;\n",
              "      border-bottom-color: var(--fill-color);\n",
              "    }\n",
              "  }\n",
              "</style>\n",
              "\n",
              "  <script>\n",
              "    async function quickchart(key) {\n",
              "      const quickchartButtonEl =\n",
              "        document.querySelector('#' + key + ' button');\n",
              "      quickchartButtonEl.disabled = true;  // To prevent multiple clicks.\n",
              "      quickchartButtonEl.classList.add('colab-df-spinner');\n",
              "      try {\n",
              "        const charts = await google.colab.kernel.invokeFunction(\n",
              "            'suggestCharts', [key], {});\n",
              "      } catch (error) {\n",
              "        console.error('Error during call to suggestCharts:', error);\n",
              "      }\n",
              "      quickchartButtonEl.classList.remove('colab-df-spinner');\n",
              "      quickchartButtonEl.classList.add('colab-df-quickchart-complete');\n",
              "    }\n",
              "    (() => {\n",
              "      let quickchartButtonEl =\n",
              "        document.querySelector('#df-fef72473-e56d-4717-9c1a-b9d2e2224f0e button');\n",
              "      quickchartButtonEl.style.display =\n",
              "        google.colab.kernel.accessAllowed ? 'block' : 'none';\n",
              "    })();\n",
              "  </script>\n",
              "</div>\n",
              "\n",
              "    </div>\n",
              "  </div>\n"
            ],
            "application/vnd.google.colaboratory.intrinsic+json": {
              "type": "dataframe",
              "variable_name": "census",
              "summary": "{\n  \"name\": \"census\",\n  \"rows\": 51,\n  \"fields\": [\n    {\n      \"column\": \"population\",\n      \"properties\": {\n        \"dtype\": \"number\",\n        \"std\": 7156687,\n        \"min\": 577567,\n        \"max\": 38783436,\n        \"num_unique_values\": 51,\n        \"samples\": [\n          27472626,\n          4903788,\n          8312297\n        ],\n        \"semantic_type\": \"\",\n        \"description\": \"\"\n      }\n    },\n    {\n      \"column\": \"from_abroad\",\n      \"properties\": {\n        \"dtype\": \"number\",\n        \"std\": 65074,\n        \"min\": 2105,\n        \"max\": 336614,\n        \"num_unique_values\": 51,\n        \"samples\": [\n          234749,\n          19189,\n          78325\n        ],\n        \"semantic_type\": \"\",\n        \"description\": \"\"\n      }\n    },\n    {\n      \"column\": \"area\",\n      \"properties\": {\n        \"dtype\": \"number\",\n        \"std\": 221512.53689861612,\n        \"min\": 158.1195,\n        \"max\": 1477960.0605,\n        \"num_unique_values\": 51,\n        \"samples\": [\n          676590.1288999999,\n          77857.213,\n          102279.33309999999\n        ],\n        \"semantic_type\": \"\",\n        \"description\": \"\"\n      }\n    }\n  ]\n}"
            }
          },
          "metadata": {},
          "execution_count": 125
        }
      ],
      "source": [
        "census.head(5)"
      ]
    },
    {
      "cell_type": "markdown",
      "metadata": {
        "id": "vqoMqg5ENR9K"
      },
      "source": [
        "In alto sono scritti i nomi delle colonne, che costituiscono _l'indice delle colonne_\n",
        "\n",
        "A sinistra sono scritti i nomi degli stati, che costituiscono _l'indice delle righe_\n",
        "\n",
        "Gli indici **non** contano come righe o colonne del frame"
      ]
    },
    {
      "cell_type": "markdown",
      "metadata": {
        "id": "C5TXlC-MNR9L"
      },
      "source": [
        "Da un `DataFrame` possiamo estrarre i suoi componenti:\n",
        "\n",
        "- la matrice dei dati `values`\n",
        "- l'indice delle righe `index`\n",
        "- l'indice delle colonne `columns`"
      ]
    },
    {
      "cell_type": "code",
      "execution_count": 126,
      "metadata": {
        "colab": {
          "base_uri": "https://localhost:8080/"
        },
        "id": "Tky_qLw6NR9O",
        "outputId": "54d7a174-87c1-4d06-edc8-6634335636c6"
      },
      "outputs": [
        {
          "output_type": "execute_result",
          "data": {
            "text/plain": [
              "array([[4.81012600e+06, 1.60620000e+04, 1.31171405e+05],\n",
              "       [7.31760000e+05, 6.55900000e+03, 1.47796006e+06],\n",
              "       [6.85183600e+06, 5.37490000e+04, 2.94208667e+05],\n",
              "       [2.94965000e+06, 9.05100000e+03, 1.34771893e+05]])"
            ]
          },
          "metadata": {},
          "execution_count": 126
        }
      ],
      "source": [
        "census.values   [:4] # prime 4 righe"
      ]
    },
    {
      "cell_type": "code",
      "execution_count": 127,
      "metadata": {
        "colab": {
          "base_uri": "https://localhost:8080/"
        },
        "id": "5mzxbUroNR9Q",
        "outputId": "0991ecf1-2523-401f-ea9a-7a3d8e568ac5"
      },
      "outputs": [
        {
          "output_type": "execute_result",
          "data": {
            "text/plain": [
              "Index(['Alabama', 'Alaska', 'Arizona', 'Arkansas'], dtype='object')"
            ]
          },
          "metadata": {},
          "execution_count": 127
        }
      ],
      "source": [
        "census.index   [:4] # primi 4 stati"
      ]
    },
    {
      "cell_type": "code",
      "execution_count": 128,
      "metadata": {
        "colab": {
          "base_uri": "https://localhost:8080/"
        },
        "id": "LY9jD7wSNR9R",
        "outputId": "5ccb9dc9-953a-4b64-8de3-8d21db2c3416"
      },
      "outputs": [
        {
          "output_type": "execute_result",
          "data": {
            "text/plain": [
              "Index(['population', 'from_abroad', 'area'], dtype='object')"
            ]
          },
          "metadata": {},
          "execution_count": 128
        }
      ],
      "source": [
        "census.columns"
      ]
    },
    {
      "cell_type": "markdown",
      "metadata": {
        "id": "sKcYIYqTNR9R"
      },
      "source": [
        "Come per le matrici, possiamo ottenere il numero di righe e di colonne con `shape`"
      ]
    },
    {
      "cell_type": "code",
      "execution_count": 129,
      "metadata": {
        "colab": {
          "base_uri": "https://localhost:8080/"
        },
        "id": "KgZOcZeDNR9S",
        "outputId": "9a283758-1d25-462c-ddf6-0fd56ec0ecec"
      },
      "outputs": [
        {
          "output_type": "execute_result",
          "data": {
            "text/plain": [
              "(51, 3)"
            ]
          },
          "metadata": {},
          "execution_count": 129
        }
      ],
      "source": [
        "census.shape"
      ]
    },
    {
      "cell_type": "markdown",
      "metadata": {
        "id": "MBgivRKLNR9S"
      },
      "source": [
        "Un modo alternativo per creare un DataFrame è passare una matrice (array 2D) con i dati e vettori con nomi di righe e colonne\n",
        "\n",
        "Ad esempio, possiamo convertire in DataFrame la matrice `state_to_state` che indica il numero di persone trasferitesi da uno stato all'altro nell'ultimo anno\n",
        "\n",
        "Creiamo il DataFrame passando i dati nella matrice e usando il vettore dei nomi `states` come indice sia delle righe (`index`) che delle colonne (`columns`)"
      ]
    },
    {
      "cell_type": "code",
      "execution_count": 130,
      "metadata": {
        "id": "bN4cvpqkNR9T"
      },
      "outputs": [],
      "source": [
        "state_to_state = pd.DataFrame(data[\"state_to_state\"], index=data[\"states\"], columns=data[\"states\"])"
      ]
    },
    {
      "cell_type": "markdown",
      "metadata": {
        "id": "MPByLxkPNR9T"
      },
      "source": [
        "Abbiamo così convertito la matrice in una tabella leggibile, di cui quì visualizziamo una parte... _(essendoci un numero elevato di colonne, pandas mostra solo le prime 10 e ultime 10)_"
      ]
    },
    {
      "cell_type": "code",
      "execution_count": 131,
      "metadata": {
        "colab": {
          "base_uri": "https://localhost:8080/",
          "height": 290
        },
        "id": "8aWzRdJINR9U",
        "outputId": "00117f2c-607f-45ca-8d66-7447c97940a0"
      },
      "outputs": [
        {
          "output_type": "execute_result",
          "data": {
            "text/plain": [
              "            Alabama  Alaska  Arizona  Arkansas  California  Colorado  \\\n",
              "Alabama           0     576     1022       495        6611      2177   \n",
              "Alaska          423       0     1176        65        3593      1401   \n",
              "Arizona         894    1946        0      1205       64756     11895   \n",
              "Arkansas       2057     103      836         0        4026      3459   \n",
              "California     3045    4206    33757      4282           0     22540   \n",
              "\n",
              "            Connecticut  Delaware  District of Columbia  Florida  ...  \\\n",
              "Alabama             566         0                    97    16631  ...   \n",
              "Alaska                0        79                     0     1100  ...   \n",
              "Arizona            1596       420                   276     9306  ...   \n",
              "Arkansas            186         0                    69     1351  ...   \n",
              "California         2932      1372                  6319    25354  ...   \n",
              "\n",
              "            South Dakota  Tennessee  Texas   Utah  Vermont  Virginia  \\\n",
              "Alabama               52       9960   7689    525        0      3535   \n",
              "Alaska               370        243   1675    725       86       462   \n",
              "Arizona             2408       1834  14923   9979      817      8809   \n",
              "Arkansas               0       2635  13487    619        0      1333   \n",
              "California          1333       6158  39109  11114      400     14348   \n",
              "\n",
              "            Washington  West Virginia  Wisconsin  Wyoming  \n",
              "Alabama            677             42        874      539  \n",
              "Alaska            4888              0        260      291  \n",
              "Arizona          13897           1419       6736      925  \n",
              "Arkansas          2257             75        539      178  \n",
              "California       27973           1150       7354     2674  \n",
              "\n",
              "[5 rows x 51 columns]"
            ],
            "text/html": [
              "\n",
              "  <div id=\"df-df9ea043-8925-4b20-a9ca-98f28acacdbd\" class=\"colab-df-container\">\n",
              "    <div>\n",
              "<style scoped>\n",
              "    .dataframe tbody tr th:only-of-type {\n",
              "        vertical-align: middle;\n",
              "    }\n",
              "\n",
              "    .dataframe tbody tr th {\n",
              "        vertical-align: top;\n",
              "    }\n",
              "\n",
              "    .dataframe thead th {\n",
              "        text-align: right;\n",
              "    }\n",
              "</style>\n",
              "<table border=\"1\" class=\"dataframe\">\n",
              "  <thead>\n",
              "    <tr style=\"text-align: right;\">\n",
              "      <th></th>\n",
              "      <th>Alabama</th>\n",
              "      <th>Alaska</th>\n",
              "      <th>Arizona</th>\n",
              "      <th>Arkansas</th>\n",
              "      <th>California</th>\n",
              "      <th>Colorado</th>\n",
              "      <th>Connecticut</th>\n",
              "      <th>Delaware</th>\n",
              "      <th>District of Columbia</th>\n",
              "      <th>Florida</th>\n",
              "      <th>...</th>\n",
              "      <th>South Dakota</th>\n",
              "      <th>Tennessee</th>\n",
              "      <th>Texas</th>\n",
              "      <th>Utah</th>\n",
              "      <th>Vermont</th>\n",
              "      <th>Virginia</th>\n",
              "      <th>Washington</th>\n",
              "      <th>West Virginia</th>\n",
              "      <th>Wisconsin</th>\n",
              "      <th>Wyoming</th>\n",
              "    </tr>\n",
              "  </thead>\n",
              "  <tbody>\n",
              "    <tr>\n",
              "      <th>Alabama</th>\n",
              "      <td>0</td>\n",
              "      <td>576</td>\n",
              "      <td>1022</td>\n",
              "      <td>495</td>\n",
              "      <td>6611</td>\n",
              "      <td>2177</td>\n",
              "      <td>566</td>\n",
              "      <td>0</td>\n",
              "      <td>97</td>\n",
              "      <td>16631</td>\n",
              "      <td>...</td>\n",
              "      <td>52</td>\n",
              "      <td>9960</td>\n",
              "      <td>7689</td>\n",
              "      <td>525</td>\n",
              "      <td>0</td>\n",
              "      <td>3535</td>\n",
              "      <td>677</td>\n",
              "      <td>42</td>\n",
              "      <td>874</td>\n",
              "      <td>539</td>\n",
              "    </tr>\n",
              "    <tr>\n",
              "      <th>Alaska</th>\n",
              "      <td>423</td>\n",
              "      <td>0</td>\n",
              "      <td>1176</td>\n",
              "      <td>65</td>\n",
              "      <td>3593</td>\n",
              "      <td>1401</td>\n",
              "      <td>0</td>\n",
              "      <td>79</td>\n",
              "      <td>0</td>\n",
              "      <td>1100</td>\n",
              "      <td>...</td>\n",
              "      <td>370</td>\n",
              "      <td>243</td>\n",
              "      <td>1675</td>\n",
              "      <td>725</td>\n",
              "      <td>86</td>\n",
              "      <td>462</td>\n",
              "      <td>4888</td>\n",
              "      <td>0</td>\n",
              "      <td>260</td>\n",
              "      <td>291</td>\n",
              "    </tr>\n",
              "    <tr>\n",
              "      <th>Arizona</th>\n",
              "      <td>894</td>\n",
              "      <td>1946</td>\n",
              "      <td>0</td>\n",
              "      <td>1205</td>\n",
              "      <td>64756</td>\n",
              "      <td>11895</td>\n",
              "      <td>1596</td>\n",
              "      <td>420</td>\n",
              "      <td>276</td>\n",
              "      <td>9306</td>\n",
              "      <td>...</td>\n",
              "      <td>2408</td>\n",
              "      <td>1834</td>\n",
              "      <td>14923</td>\n",
              "      <td>9979</td>\n",
              "      <td>817</td>\n",
              "      <td>8809</td>\n",
              "      <td>13897</td>\n",
              "      <td>1419</td>\n",
              "      <td>6736</td>\n",
              "      <td>925</td>\n",
              "    </tr>\n",
              "    <tr>\n",
              "      <th>Arkansas</th>\n",
              "      <td>2057</td>\n",
              "      <td>103</td>\n",
              "      <td>836</td>\n",
              "      <td>0</td>\n",
              "      <td>4026</td>\n",
              "      <td>3459</td>\n",
              "      <td>186</td>\n",
              "      <td>0</td>\n",
              "      <td>69</td>\n",
              "      <td>1351</td>\n",
              "      <td>...</td>\n",
              "      <td>0</td>\n",
              "      <td>2635</td>\n",
              "      <td>13487</td>\n",
              "      <td>619</td>\n",
              "      <td>0</td>\n",
              "      <td>1333</td>\n",
              "      <td>2257</td>\n",
              "      <td>75</td>\n",
              "      <td>539</td>\n",
              "      <td>178</td>\n",
              "    </tr>\n",
              "    <tr>\n",
              "      <th>California</th>\n",
              "      <td>3045</td>\n",
              "      <td>4206</td>\n",
              "      <td>33757</td>\n",
              "      <td>4282</td>\n",
              "      <td>0</td>\n",
              "      <td>22540</td>\n",
              "      <td>2932</td>\n",
              "      <td>1372</td>\n",
              "      <td>6319</td>\n",
              "      <td>25354</td>\n",
              "      <td>...</td>\n",
              "      <td>1333</td>\n",
              "      <td>6158</td>\n",
              "      <td>39109</td>\n",
              "      <td>11114</td>\n",
              "      <td>400</td>\n",
              "      <td>14348</td>\n",
              "      <td>27973</td>\n",
              "      <td>1150</td>\n",
              "      <td>7354</td>\n",
              "      <td>2674</td>\n",
              "    </tr>\n",
              "  </tbody>\n",
              "</table>\n",
              "<p>5 rows × 51 columns</p>\n",
              "</div>\n",
              "    <div class=\"colab-df-buttons\">\n",
              "\n",
              "  <div class=\"colab-df-container\">\n",
              "    <button class=\"colab-df-convert\" onclick=\"convertToInteractive('df-df9ea043-8925-4b20-a9ca-98f28acacdbd')\"\n",
              "            title=\"Convert this dataframe to an interactive table.\"\n",
              "            style=\"display:none;\">\n",
              "\n",
              "  <svg xmlns=\"http://www.w3.org/2000/svg\" height=\"24px\" viewBox=\"0 -960 960 960\">\n",
              "    <path d=\"M120-120v-720h720v720H120Zm60-500h600v-160H180v160Zm220 220h160v-160H400v160Zm0 220h160v-160H400v160ZM180-400h160v-160H180v160Zm440 0h160v-160H620v160ZM180-180h160v-160H180v160Zm440 0h160v-160H620v160Z\"/>\n",
              "  </svg>\n",
              "    </button>\n",
              "\n",
              "  <style>\n",
              "    .colab-df-container {\n",
              "      display:flex;\n",
              "      gap: 12px;\n",
              "    }\n",
              "\n",
              "    .colab-df-convert {\n",
              "      background-color: #E8F0FE;\n",
              "      border: none;\n",
              "      border-radius: 50%;\n",
              "      cursor: pointer;\n",
              "      display: none;\n",
              "      fill: #1967D2;\n",
              "      height: 32px;\n",
              "      padding: 0 0 0 0;\n",
              "      width: 32px;\n",
              "    }\n",
              "\n",
              "    .colab-df-convert:hover {\n",
              "      background-color: #E2EBFA;\n",
              "      box-shadow: 0px 1px 2px rgba(60, 64, 67, 0.3), 0px 1px 3px 1px rgba(60, 64, 67, 0.15);\n",
              "      fill: #174EA6;\n",
              "    }\n",
              "\n",
              "    .colab-df-buttons div {\n",
              "      margin-bottom: 4px;\n",
              "    }\n",
              "\n",
              "    [theme=dark] .colab-df-convert {\n",
              "      background-color: #3B4455;\n",
              "      fill: #D2E3FC;\n",
              "    }\n",
              "\n",
              "    [theme=dark] .colab-df-convert:hover {\n",
              "      background-color: #434B5C;\n",
              "      box-shadow: 0px 1px 3px 1px rgba(0, 0, 0, 0.15);\n",
              "      filter: drop-shadow(0px 1px 2px rgba(0, 0, 0, 0.3));\n",
              "      fill: #FFFFFF;\n",
              "    }\n",
              "  </style>\n",
              "\n",
              "    <script>\n",
              "      const buttonEl =\n",
              "        document.querySelector('#df-df9ea043-8925-4b20-a9ca-98f28acacdbd button.colab-df-convert');\n",
              "      buttonEl.style.display =\n",
              "        google.colab.kernel.accessAllowed ? 'block' : 'none';\n",
              "\n",
              "      async function convertToInteractive(key) {\n",
              "        const element = document.querySelector('#df-df9ea043-8925-4b20-a9ca-98f28acacdbd');\n",
              "        const dataTable =\n",
              "          await google.colab.kernel.invokeFunction('convertToInteractive',\n",
              "                                                    [key], {});\n",
              "        if (!dataTable) return;\n",
              "\n",
              "        const docLinkHtml = 'Like what you see? Visit the ' +\n",
              "          '<a target=\"_blank\" href=https://colab.research.google.com/notebooks/data_table.ipynb>data table notebook</a>'\n",
              "          + ' to learn more about interactive tables.';\n",
              "        element.innerHTML = '';\n",
              "        dataTable['output_type'] = 'display_data';\n",
              "        await google.colab.output.renderOutput(dataTable, element);\n",
              "        const docLink = document.createElement('div');\n",
              "        docLink.innerHTML = docLinkHtml;\n",
              "        element.appendChild(docLink);\n",
              "      }\n",
              "    </script>\n",
              "  </div>\n",
              "\n",
              "\n",
              "<div id=\"df-7f7a2348-a80d-495d-aff4-0d93917e888b\">\n",
              "  <button class=\"colab-df-quickchart\" onclick=\"quickchart('df-7f7a2348-a80d-495d-aff4-0d93917e888b')\"\n",
              "            title=\"Suggest charts\"\n",
              "            style=\"display:none;\">\n",
              "\n",
              "<svg xmlns=\"http://www.w3.org/2000/svg\" height=\"24px\"viewBox=\"0 0 24 24\"\n",
              "     width=\"24px\">\n",
              "    <g>\n",
              "        <path d=\"M19 3H5c-1.1 0-2 .9-2 2v14c0 1.1.9 2 2 2h14c1.1 0 2-.9 2-2V5c0-1.1-.9-2-2-2zM9 17H7v-7h2v7zm4 0h-2V7h2v10zm4 0h-2v-4h2v4z\"/>\n",
              "    </g>\n",
              "</svg>\n",
              "  </button>\n",
              "\n",
              "<style>\n",
              "  .colab-df-quickchart {\n",
              "      --bg-color: #E8F0FE;\n",
              "      --fill-color: #1967D2;\n",
              "      --hover-bg-color: #E2EBFA;\n",
              "      --hover-fill-color: #174EA6;\n",
              "      --disabled-fill-color: #AAA;\n",
              "      --disabled-bg-color: #DDD;\n",
              "  }\n",
              "\n",
              "  [theme=dark] .colab-df-quickchart {\n",
              "      --bg-color: #3B4455;\n",
              "      --fill-color: #D2E3FC;\n",
              "      --hover-bg-color: #434B5C;\n",
              "      --hover-fill-color: #FFFFFF;\n",
              "      --disabled-bg-color: #3B4455;\n",
              "      --disabled-fill-color: #666;\n",
              "  }\n",
              "\n",
              "  .colab-df-quickchart {\n",
              "    background-color: var(--bg-color);\n",
              "    border: none;\n",
              "    border-radius: 50%;\n",
              "    cursor: pointer;\n",
              "    display: none;\n",
              "    fill: var(--fill-color);\n",
              "    height: 32px;\n",
              "    padding: 0;\n",
              "    width: 32px;\n",
              "  }\n",
              "\n",
              "  .colab-df-quickchart:hover {\n",
              "    background-color: var(--hover-bg-color);\n",
              "    box-shadow: 0 1px 2px rgba(60, 64, 67, 0.3), 0 1px 3px 1px rgba(60, 64, 67, 0.15);\n",
              "    fill: var(--button-hover-fill-color);\n",
              "  }\n",
              "\n",
              "  .colab-df-quickchart-complete:disabled,\n",
              "  .colab-df-quickchart-complete:disabled:hover {\n",
              "    background-color: var(--disabled-bg-color);\n",
              "    fill: var(--disabled-fill-color);\n",
              "    box-shadow: none;\n",
              "  }\n",
              "\n",
              "  .colab-df-spinner {\n",
              "    border: 2px solid var(--fill-color);\n",
              "    border-color: transparent;\n",
              "    border-bottom-color: var(--fill-color);\n",
              "    animation:\n",
              "      spin 1s steps(1) infinite;\n",
              "  }\n",
              "\n",
              "  @keyframes spin {\n",
              "    0% {\n",
              "      border-color: transparent;\n",
              "      border-bottom-color: var(--fill-color);\n",
              "      border-left-color: var(--fill-color);\n",
              "    }\n",
              "    20% {\n",
              "      border-color: transparent;\n",
              "      border-left-color: var(--fill-color);\n",
              "      border-top-color: var(--fill-color);\n",
              "    }\n",
              "    30% {\n",
              "      border-color: transparent;\n",
              "      border-left-color: var(--fill-color);\n",
              "      border-top-color: var(--fill-color);\n",
              "      border-right-color: var(--fill-color);\n",
              "    }\n",
              "    40% {\n",
              "      border-color: transparent;\n",
              "      border-right-color: var(--fill-color);\n",
              "      border-top-color: var(--fill-color);\n",
              "    }\n",
              "    60% {\n",
              "      border-color: transparent;\n",
              "      border-right-color: var(--fill-color);\n",
              "    }\n",
              "    80% {\n",
              "      border-color: transparent;\n",
              "      border-right-color: var(--fill-color);\n",
              "      border-bottom-color: var(--fill-color);\n",
              "    }\n",
              "    90% {\n",
              "      border-color: transparent;\n",
              "      border-bottom-color: var(--fill-color);\n",
              "    }\n",
              "  }\n",
              "</style>\n",
              "\n",
              "  <script>\n",
              "    async function quickchart(key) {\n",
              "      const quickchartButtonEl =\n",
              "        document.querySelector('#' + key + ' button');\n",
              "      quickchartButtonEl.disabled = true;  // To prevent multiple clicks.\n",
              "      quickchartButtonEl.classList.add('colab-df-spinner');\n",
              "      try {\n",
              "        const charts = await google.colab.kernel.invokeFunction(\n",
              "            'suggestCharts', [key], {});\n",
              "      } catch (error) {\n",
              "        console.error('Error during call to suggestCharts:', error);\n",
              "      }\n",
              "      quickchartButtonEl.classList.remove('colab-df-spinner');\n",
              "      quickchartButtonEl.classList.add('colab-df-quickchart-complete');\n",
              "    }\n",
              "    (() => {\n",
              "      let quickchartButtonEl =\n",
              "        document.querySelector('#df-7f7a2348-a80d-495d-aff4-0d93917e888b button');\n",
              "      quickchartButtonEl.style.display =\n",
              "        google.colab.kernel.accessAllowed ? 'block' : 'none';\n",
              "    })();\n",
              "  </script>\n",
              "</div>\n",
              "\n",
              "    </div>\n",
              "  </div>\n"
            ],
            "application/vnd.google.colaboratory.intrinsic+json": {
              "type": "dataframe",
              "variable_name": "state_to_state"
            }
          },
          "metadata": {},
          "execution_count": 131
        }
      ],
      "source": [
        "state_to_state.head(5)"
      ]
    },
    {
      "cell_type": "markdown",
      "metadata": {
        "id": "klutEE9CNR9V"
      },
      "source": [
        "Ogni riga rappresenta lo stato di destinazione, ogni colonna lo stato d'origine\n",
        "\n",
        "Ad esempio, 423 persone si sono trasferite dall'Alabama all'Alaska"
      ]
    },
    {
      "cell_type": "markdown",
      "metadata": {
        "id": "zqYMHe9ENR9V"
      },
      "source": [
        "### Estrarre ed aggiungere colonne\n",
        "\n",
        "Il DataFrame è utilizzabile come un dizionario i cui valori sono le colonne e le chiavi i loro nomi\n",
        "\n",
        "Selezionando una chiave viene restituita la colonna con quel nome in forma di serie, l'indice della serie restituita è l'indice del DataFrame"
      ]
    },
    {
      "cell_type": "code",
      "execution_count": 132,
      "metadata": {
        "colab": {
          "base_uri": "https://localhost:8080/",
          "height": 178
        },
        "id": "_WKaDBUnNR9X",
        "outputId": "1c7de97a-588b-414b-80fe-c05113ad49f5"
      },
      "outputs": [
        {
          "output_type": "execute_result",
          "data": {
            "text/plain": [
              "Alabama    4810126\n",
              "Alaska      731760\n",
              "Arizona    6851836\n",
              "Name: population, dtype: int64"
            ],
            "text/html": [
              "<div>\n",
              "<style scoped>\n",
              "    .dataframe tbody tr th:only-of-type {\n",
              "        vertical-align: middle;\n",
              "    }\n",
              "\n",
              "    .dataframe tbody tr th {\n",
              "        vertical-align: top;\n",
              "    }\n",
              "\n",
              "    .dataframe thead th {\n",
              "        text-align: right;\n",
              "    }\n",
              "</style>\n",
              "<table border=\"1\" class=\"dataframe\">\n",
              "  <thead>\n",
              "    <tr style=\"text-align: right;\">\n",
              "      <th></th>\n",
              "      <th>population</th>\n",
              "    </tr>\n",
              "  </thead>\n",
              "  <tbody>\n",
              "    <tr>\n",
              "      <th>Alabama</th>\n",
              "      <td>4810126</td>\n",
              "    </tr>\n",
              "    <tr>\n",
              "      <th>Alaska</th>\n",
              "      <td>731760</td>\n",
              "    </tr>\n",
              "    <tr>\n",
              "      <th>Arizona</th>\n",
              "      <td>6851836</td>\n",
              "    </tr>\n",
              "  </tbody>\n",
              "</table>\n",
              "</div><br><label><b>dtype:</b> int64</label>"
            ]
          },
          "metadata": {},
          "execution_count": 132
        }
      ],
      "source": [
        "census[\"population\"].head(3)"
      ]
    },
    {
      "cell_type": "markdown",
      "metadata": {
        "id": "Xzuv91XMNR9X"
      },
      "source": [
        "Seguendo la stessa logica, è possibile aggiungere colonne assegnando una serie di valori ad un nome\n",
        "\n",
        "- se una colonna col nome dato esiste già, viene sovrascritta\n",
        "- se viene passata una serie, i valori sono assegnati per corrispondenza tra etichette e indice delle righe\n",
        "- se viene passato un valore singolo (scalare), questo è replicato in tutte le righe\n",
        "\n",
        "Questo permette di creare facilmente colonne con valori derivati dalle altre\n",
        "\n",
        "Ad esempio, per aggiungere una colonna con la densità di popolazione _(senza usare la serie creata in precedenza)_:"
      ]
    },
    {
      "cell_type": "code",
      "execution_count": 133,
      "metadata": {
        "id": "N8YT_X9uNR9Y"
      },
      "outputs": [],
      "source": [
        "census[\"density\"] = census[\"population\"] / census[\"area\"]"
      ]
    },
    {
      "cell_type": "markdown",
      "metadata": {
        "id": "v8LBWvXiNR9Y"
      },
      "source": [
        "La colonna viene così aggiunta come ultima nel DataFrame:"
      ]
    },
    {
      "cell_type": "code",
      "execution_count": 134,
      "metadata": {
        "colab": {
          "base_uri": "https://localhost:8080/",
          "height": 206
        },
        "id": "cwl4RBxSNR9a",
        "outputId": "13dbc8e5-42b9-48da-e9aa-cf8099edfcce"
      },
      "outputs": [
        {
          "output_type": "execute_result",
          "data": {
            "text/plain": [
              "            population  from_abroad          area    density\n",
              "Alabama        4810126        16062  1.311714e+05  36.670538\n",
              "Alaska          731760         6559  1.477960e+06   0.495115\n",
              "Arizona        6851836        53749  2.942087e+05  23.289035\n",
              "Arkansas       2949650         9051  1.347719e+05  21.886240\n",
              "California    38783436       336614  4.034682e+05  96.125142"
            ],
            "text/html": [
              "\n",
              "  <div id=\"df-5d32625b-98d9-454c-8b16-a32f1d288419\" class=\"colab-df-container\">\n",
              "    <div>\n",
              "<style scoped>\n",
              "    .dataframe tbody tr th:only-of-type {\n",
              "        vertical-align: middle;\n",
              "    }\n",
              "\n",
              "    .dataframe tbody tr th {\n",
              "        vertical-align: top;\n",
              "    }\n",
              "\n",
              "    .dataframe thead th {\n",
              "        text-align: right;\n",
              "    }\n",
              "</style>\n",
              "<table border=\"1\" class=\"dataframe\">\n",
              "  <thead>\n",
              "    <tr style=\"text-align: right;\">\n",
              "      <th></th>\n",
              "      <th>population</th>\n",
              "      <th>from_abroad</th>\n",
              "      <th>area</th>\n",
              "      <th>density</th>\n",
              "    </tr>\n",
              "  </thead>\n",
              "  <tbody>\n",
              "    <tr>\n",
              "      <th>Alabama</th>\n",
              "      <td>4810126</td>\n",
              "      <td>16062</td>\n",
              "      <td>1.311714e+05</td>\n",
              "      <td>36.670538</td>\n",
              "    </tr>\n",
              "    <tr>\n",
              "      <th>Alaska</th>\n",
              "      <td>731760</td>\n",
              "      <td>6559</td>\n",
              "      <td>1.477960e+06</td>\n",
              "      <td>0.495115</td>\n",
              "    </tr>\n",
              "    <tr>\n",
              "      <th>Arizona</th>\n",
              "      <td>6851836</td>\n",
              "      <td>53749</td>\n",
              "      <td>2.942087e+05</td>\n",
              "      <td>23.289035</td>\n",
              "    </tr>\n",
              "    <tr>\n",
              "      <th>Arkansas</th>\n",
              "      <td>2949650</td>\n",
              "      <td>9051</td>\n",
              "      <td>1.347719e+05</td>\n",
              "      <td>21.886240</td>\n",
              "    </tr>\n",
              "    <tr>\n",
              "      <th>California</th>\n",
              "      <td>38783436</td>\n",
              "      <td>336614</td>\n",
              "      <td>4.034682e+05</td>\n",
              "      <td>96.125142</td>\n",
              "    </tr>\n",
              "  </tbody>\n",
              "</table>\n",
              "</div>\n",
              "    <div class=\"colab-df-buttons\">\n",
              "\n",
              "  <div class=\"colab-df-container\">\n",
              "    <button class=\"colab-df-convert\" onclick=\"convertToInteractive('df-5d32625b-98d9-454c-8b16-a32f1d288419')\"\n",
              "            title=\"Convert this dataframe to an interactive table.\"\n",
              "            style=\"display:none;\">\n",
              "\n",
              "  <svg xmlns=\"http://www.w3.org/2000/svg\" height=\"24px\" viewBox=\"0 -960 960 960\">\n",
              "    <path d=\"M120-120v-720h720v720H120Zm60-500h600v-160H180v160Zm220 220h160v-160H400v160Zm0 220h160v-160H400v160ZM180-400h160v-160H180v160Zm440 0h160v-160H620v160ZM180-180h160v-160H180v160Zm440 0h160v-160H620v160Z\"/>\n",
              "  </svg>\n",
              "    </button>\n",
              "\n",
              "  <style>\n",
              "    .colab-df-container {\n",
              "      display:flex;\n",
              "      gap: 12px;\n",
              "    }\n",
              "\n",
              "    .colab-df-convert {\n",
              "      background-color: #E8F0FE;\n",
              "      border: none;\n",
              "      border-radius: 50%;\n",
              "      cursor: pointer;\n",
              "      display: none;\n",
              "      fill: #1967D2;\n",
              "      height: 32px;\n",
              "      padding: 0 0 0 0;\n",
              "      width: 32px;\n",
              "    }\n",
              "\n",
              "    .colab-df-convert:hover {\n",
              "      background-color: #E2EBFA;\n",
              "      box-shadow: 0px 1px 2px rgba(60, 64, 67, 0.3), 0px 1px 3px 1px rgba(60, 64, 67, 0.15);\n",
              "      fill: #174EA6;\n",
              "    }\n",
              "\n",
              "    .colab-df-buttons div {\n",
              "      margin-bottom: 4px;\n",
              "    }\n",
              "\n",
              "    [theme=dark] .colab-df-convert {\n",
              "      background-color: #3B4455;\n",
              "      fill: #D2E3FC;\n",
              "    }\n",
              "\n",
              "    [theme=dark] .colab-df-convert:hover {\n",
              "      background-color: #434B5C;\n",
              "      box-shadow: 0px 1px 3px 1px rgba(0, 0, 0, 0.15);\n",
              "      filter: drop-shadow(0px 1px 2px rgba(0, 0, 0, 0.3));\n",
              "      fill: #FFFFFF;\n",
              "    }\n",
              "  </style>\n",
              "\n",
              "    <script>\n",
              "      const buttonEl =\n",
              "        document.querySelector('#df-5d32625b-98d9-454c-8b16-a32f1d288419 button.colab-df-convert');\n",
              "      buttonEl.style.display =\n",
              "        google.colab.kernel.accessAllowed ? 'block' : 'none';\n",
              "\n",
              "      async function convertToInteractive(key) {\n",
              "        const element = document.querySelector('#df-5d32625b-98d9-454c-8b16-a32f1d288419');\n",
              "        const dataTable =\n",
              "          await google.colab.kernel.invokeFunction('convertToInteractive',\n",
              "                                                    [key], {});\n",
              "        if (!dataTable) return;\n",
              "\n",
              "        const docLinkHtml = 'Like what you see? Visit the ' +\n",
              "          '<a target=\"_blank\" href=https://colab.research.google.com/notebooks/data_table.ipynb>data table notebook</a>'\n",
              "          + ' to learn more about interactive tables.';\n",
              "        element.innerHTML = '';\n",
              "        dataTable['output_type'] = 'display_data';\n",
              "        await google.colab.output.renderOutput(dataTable, element);\n",
              "        const docLink = document.createElement('div');\n",
              "        docLink.innerHTML = docLinkHtml;\n",
              "        element.appendChild(docLink);\n",
              "      }\n",
              "    </script>\n",
              "  </div>\n",
              "\n",
              "\n",
              "<div id=\"df-97cc4f89-58c3-4ec3-be09-e1e9b319e310\">\n",
              "  <button class=\"colab-df-quickchart\" onclick=\"quickchart('df-97cc4f89-58c3-4ec3-be09-e1e9b319e310')\"\n",
              "            title=\"Suggest charts\"\n",
              "            style=\"display:none;\">\n",
              "\n",
              "<svg xmlns=\"http://www.w3.org/2000/svg\" height=\"24px\"viewBox=\"0 0 24 24\"\n",
              "     width=\"24px\">\n",
              "    <g>\n",
              "        <path d=\"M19 3H5c-1.1 0-2 .9-2 2v14c0 1.1.9 2 2 2h14c1.1 0 2-.9 2-2V5c0-1.1-.9-2-2-2zM9 17H7v-7h2v7zm4 0h-2V7h2v10zm4 0h-2v-4h2v4z\"/>\n",
              "    </g>\n",
              "</svg>\n",
              "  </button>\n",
              "\n",
              "<style>\n",
              "  .colab-df-quickchart {\n",
              "      --bg-color: #E8F0FE;\n",
              "      --fill-color: #1967D2;\n",
              "      --hover-bg-color: #E2EBFA;\n",
              "      --hover-fill-color: #174EA6;\n",
              "      --disabled-fill-color: #AAA;\n",
              "      --disabled-bg-color: #DDD;\n",
              "  }\n",
              "\n",
              "  [theme=dark] .colab-df-quickchart {\n",
              "      --bg-color: #3B4455;\n",
              "      --fill-color: #D2E3FC;\n",
              "      --hover-bg-color: #434B5C;\n",
              "      --hover-fill-color: #FFFFFF;\n",
              "      --disabled-bg-color: #3B4455;\n",
              "      --disabled-fill-color: #666;\n",
              "  }\n",
              "\n",
              "  .colab-df-quickchart {\n",
              "    background-color: var(--bg-color);\n",
              "    border: none;\n",
              "    border-radius: 50%;\n",
              "    cursor: pointer;\n",
              "    display: none;\n",
              "    fill: var(--fill-color);\n",
              "    height: 32px;\n",
              "    padding: 0;\n",
              "    width: 32px;\n",
              "  }\n",
              "\n",
              "  .colab-df-quickchart:hover {\n",
              "    background-color: var(--hover-bg-color);\n",
              "    box-shadow: 0 1px 2px rgba(60, 64, 67, 0.3), 0 1px 3px 1px rgba(60, 64, 67, 0.15);\n",
              "    fill: var(--button-hover-fill-color);\n",
              "  }\n",
              "\n",
              "  .colab-df-quickchart-complete:disabled,\n",
              "  .colab-df-quickchart-complete:disabled:hover {\n",
              "    background-color: var(--disabled-bg-color);\n",
              "    fill: var(--disabled-fill-color);\n",
              "    box-shadow: none;\n",
              "  }\n",
              "\n",
              "  .colab-df-spinner {\n",
              "    border: 2px solid var(--fill-color);\n",
              "    border-color: transparent;\n",
              "    border-bottom-color: var(--fill-color);\n",
              "    animation:\n",
              "      spin 1s steps(1) infinite;\n",
              "  }\n",
              "\n",
              "  @keyframes spin {\n",
              "    0% {\n",
              "      border-color: transparent;\n",
              "      border-bottom-color: var(--fill-color);\n",
              "      border-left-color: var(--fill-color);\n",
              "    }\n",
              "    20% {\n",
              "      border-color: transparent;\n",
              "      border-left-color: var(--fill-color);\n",
              "      border-top-color: var(--fill-color);\n",
              "    }\n",
              "    30% {\n",
              "      border-color: transparent;\n",
              "      border-left-color: var(--fill-color);\n",
              "      border-top-color: var(--fill-color);\n",
              "      border-right-color: var(--fill-color);\n",
              "    }\n",
              "    40% {\n",
              "      border-color: transparent;\n",
              "      border-right-color: var(--fill-color);\n",
              "      border-top-color: var(--fill-color);\n",
              "    }\n",
              "    60% {\n",
              "      border-color: transparent;\n",
              "      border-right-color: var(--fill-color);\n",
              "    }\n",
              "    80% {\n",
              "      border-color: transparent;\n",
              "      border-right-color: var(--fill-color);\n",
              "      border-bottom-color: var(--fill-color);\n",
              "    }\n",
              "    90% {\n",
              "      border-color: transparent;\n",
              "      border-bottom-color: var(--fill-color);\n",
              "    }\n",
              "  }\n",
              "</style>\n",
              "\n",
              "  <script>\n",
              "    async function quickchart(key) {\n",
              "      const quickchartButtonEl =\n",
              "        document.querySelector('#' + key + ' button');\n",
              "      quickchartButtonEl.disabled = true;  // To prevent multiple clicks.\n",
              "      quickchartButtonEl.classList.add('colab-df-spinner');\n",
              "      try {\n",
              "        const charts = await google.colab.kernel.invokeFunction(\n",
              "            'suggestCharts', [key], {});\n",
              "      } catch (error) {\n",
              "        console.error('Error during call to suggestCharts:', error);\n",
              "      }\n",
              "      quickchartButtonEl.classList.remove('colab-df-spinner');\n",
              "      quickchartButtonEl.classList.add('colab-df-quickchart-complete');\n",
              "    }\n",
              "    (() => {\n",
              "      let quickchartButtonEl =\n",
              "        document.querySelector('#df-97cc4f89-58c3-4ec3-be09-e1e9b319e310 button');\n",
              "      quickchartButtonEl.style.display =\n",
              "        google.colab.kernel.accessAllowed ? 'block' : 'none';\n",
              "    })();\n",
              "  </script>\n",
              "</div>\n",
              "\n",
              "    </div>\n",
              "  </div>\n"
            ],
            "application/vnd.google.colaboratory.intrinsic+json": {
              "type": "dataframe",
              "variable_name": "census",
              "summary": "{\n  \"name\": \"census\",\n  \"rows\": 51,\n  \"fields\": [\n    {\n      \"column\": \"population\",\n      \"properties\": {\n        \"dtype\": \"number\",\n        \"std\": 7156687,\n        \"min\": 577567,\n        \"max\": 38783436,\n        \"num_unique_values\": 51,\n        \"samples\": [\n          27472626,\n          4903788,\n          8312297\n        ],\n        \"semantic_type\": \"\",\n        \"description\": \"\"\n      }\n    },\n    {\n      \"column\": \"from_abroad\",\n      \"properties\": {\n        \"dtype\": \"number\",\n        \"std\": 65074,\n        \"min\": 2105,\n        \"max\": 336614,\n        \"num_unique_values\": 51,\n        \"samples\": [\n          234749,\n          19189,\n          78325\n        ],\n        \"semantic_type\": \"\",\n        \"description\": \"\"\n      }\n    },\n    {\n      \"column\": \"area\",\n      \"properties\": {\n        \"dtype\": \"number\",\n        \"std\": 221512.53689861612,\n        \"min\": 158.1195,\n        \"max\": 1477960.0605,\n        \"num_unique_values\": 51,\n        \"samples\": [\n          676590.1288999999,\n          77857.213,\n          102279.33309999999\n        ],\n        \"semantic_type\": \"\",\n        \"description\": \"\"\n      }\n    },\n    {\n      \"column\": \"density\",\n      \"properties\": {\n        \"dtype\": \"number\",\n        \"std\": 592.9908174836127,\n        \"min\": 0.49511486782155845,\n        \"max\": 4250.089331170412,\n        \"num_unique_values\": 51,\n        \"samples\": [\n          40.60453268016929,\n          62.984376283800444,\n          81.27054359919366\n        ],\n        \"semantic_type\": \"\",\n        \"description\": \"\"\n      }\n    }\n  ]\n}"
            }
          },
          "metadata": {},
          "execution_count": 134
        }
      ],
      "source": [
        "census.head(5)"
      ]
    },
    {
      "cell_type": "markdown",
      "metadata": {
        "id": "3dqcphNuNR9b"
      },
      "source": [
        "### Statistiche sui dati\n",
        "\n",
        "Anche sui `DataFrame` sono disponibili i metodi `sum`, `mean`, `min`, ... per aggregare i dati\n",
        "\n",
        "Di default, restituiscono una serie con la statistica calcolata **colonna per colonna**"
      ]
    },
    {
      "cell_type": "code",
      "execution_count": 135,
      "metadata": {
        "colab": {
          "base_uri": "https://localhost:8080/",
          "height": 209
        },
        "id": "ptGecQkpNR9c",
        "outputId": "f9be2526-d31f-41a0-cc6d-bbb87b1ba139"
      },
      "outputs": [
        {
          "output_type": "execute_result",
          "data": {
            "text/plain": [
              "population     6.261999e+06\n",
              "from_abroad    4.307184e+04\n",
              "area           1.793654e+05\n",
              "density        1.585860e+02\n",
              "dtype: float64"
            ],
            "text/html": [
              "<div>\n",
              "<style scoped>\n",
              "    .dataframe tbody tr th:only-of-type {\n",
              "        vertical-align: middle;\n",
              "    }\n",
              "\n",
              "    .dataframe tbody tr th {\n",
              "        vertical-align: top;\n",
              "    }\n",
              "\n",
              "    .dataframe thead th {\n",
              "        text-align: right;\n",
              "    }\n",
              "</style>\n",
              "<table border=\"1\" class=\"dataframe\">\n",
              "  <thead>\n",
              "    <tr style=\"text-align: right;\">\n",
              "      <th></th>\n",
              "      <th>0</th>\n",
              "    </tr>\n",
              "  </thead>\n",
              "  <tbody>\n",
              "    <tr>\n",
              "      <th>population</th>\n",
              "      <td>6.261999e+06</td>\n",
              "    </tr>\n",
              "    <tr>\n",
              "      <th>from_abroad</th>\n",
              "      <td>4.307184e+04</td>\n",
              "    </tr>\n",
              "    <tr>\n",
              "      <th>area</th>\n",
              "      <td>1.793654e+05</td>\n",
              "    </tr>\n",
              "    <tr>\n",
              "      <th>density</th>\n",
              "      <td>1.585860e+02</td>\n",
              "    </tr>\n",
              "  </tbody>\n",
              "</table>\n",
              "</div><br><label><b>dtype:</b> float64</label>"
            ]
          },
          "metadata": {},
          "execution_count": 135
        }
      ],
      "source": [
        "# medie su tutti gli stati\n",
        "census.mean()"
      ]
    },
    {
      "cell_type": "code",
      "execution_count": 136,
      "metadata": {
        "colab": {
          "base_uri": "https://localhost:8080/",
          "height": 209
        },
        "id": "PL9ZnY84NR9e",
        "outputId": "5a4b9d66-d169-4b6b-be1b-41d668f72a2d"
      },
      "outputs": [
        {
          "output_type": "execute_result",
          "data": {
            "text/plain": [
              "population     3.193620e+08\n",
              "from_abroad    2.196664e+06\n",
              "area           9.147635e+06\n",
              "density        8.087884e+03\n",
              "dtype: float64"
            ],
            "text/html": [
              "<div>\n",
              "<style scoped>\n",
              "    .dataframe tbody tr th:only-of-type {\n",
              "        vertical-align: middle;\n",
              "    }\n",
              "\n",
              "    .dataframe tbody tr th {\n",
              "        vertical-align: top;\n",
              "    }\n",
              "\n",
              "    .dataframe thead th {\n",
              "        text-align: right;\n",
              "    }\n",
              "</style>\n",
              "<table border=\"1\" class=\"dataframe\">\n",
              "  <thead>\n",
              "    <tr style=\"text-align: right;\">\n",
              "      <th></th>\n",
              "      <th>0</th>\n",
              "    </tr>\n",
              "  </thead>\n",
              "  <tbody>\n",
              "    <tr>\n",
              "      <th>population</th>\n",
              "      <td>3.193620e+08</td>\n",
              "    </tr>\n",
              "    <tr>\n",
              "      <th>from_abroad</th>\n",
              "      <td>2.196664e+06</td>\n",
              "    </tr>\n",
              "    <tr>\n",
              "      <th>area</th>\n",
              "      <td>9.147635e+06</td>\n",
              "    </tr>\n",
              "    <tr>\n",
              "      <th>density</th>\n",
              "      <td>8.087884e+03</td>\n",
              "    </tr>\n",
              "  </tbody>\n",
              "</table>\n",
              "</div><br><label><b>dtype:</b> float64</label>"
            ]
          },
          "metadata": {},
          "execution_count": 136
        }
      ],
      "source": [
        "# somme su tutti gli stati\n",
        "census.sum()"
      ]
    },
    {
      "cell_type": "markdown",
      "metadata": {
        "id": "6-2gAywmNR9e"
      },
      "source": [
        "Si noti che non sempre tutte le statistiche che si possono estrarre sono significative!\n",
        "\n",
        "Ad esempio la somma ha senso sulla popolazione e sull'area, ma non sulla densità"
      ]
    },
    {
      "cell_type": "markdown",
      "metadata": {
        "id": "DwAFwe09NR9f"
      },
      "source": [
        "Il metodo `describe` (applicabile anche alle serie) fornisce rapidamente un'insieme di statistiche sui valori di ciascuna colonna, utili ad analizzarne la distribuzione"
      ]
    },
    {
      "cell_type": "code",
      "execution_count": 137,
      "metadata": {
        "colab": {
          "base_uri": "https://localhost:8080/",
          "height": 300
        },
        "id": "dwSb53ebNR9f",
        "outputId": "850485dc-7e11-4bef-cc1c-f7dbe18d0b4d"
      },
      "outputs": [
        {
          "output_type": "execute_result",
          "data": {
            "text/plain": [
              "         population    from_abroad          area      density\n",
              "count  5.100000e+01      51.000000  5.100000e+01    51.000000\n",
              "mean   6.261999e+06   43071.843137  1.793654e+05   158.585968\n",
              "std    7.156688e+06   65074.514352  2.215125e+05   592.990817\n",
              "min    5.775670e+05    2105.000000  1.581195e+02     0.495115\n",
              "25%    1.737232e+06    8790.000000  8.633639e+04    18.459321\n",
              "50%    4.385213e+06   19460.000000  1.388881e+05    40.722584\n",
              "75%    7.026978e+06   52012.000000  2.089942e+05    86.390197\n",
              "max    3.878344e+07  336614.000000  1.477960e+06  4250.089331"
            ],
            "text/html": [
              "\n",
              "  <div id=\"df-4002f184-9c97-498f-8b4d-463c38297039\" class=\"colab-df-container\">\n",
              "    <div>\n",
              "<style scoped>\n",
              "    .dataframe tbody tr th:only-of-type {\n",
              "        vertical-align: middle;\n",
              "    }\n",
              "\n",
              "    .dataframe tbody tr th {\n",
              "        vertical-align: top;\n",
              "    }\n",
              "\n",
              "    .dataframe thead th {\n",
              "        text-align: right;\n",
              "    }\n",
              "</style>\n",
              "<table border=\"1\" class=\"dataframe\">\n",
              "  <thead>\n",
              "    <tr style=\"text-align: right;\">\n",
              "      <th></th>\n",
              "      <th>population</th>\n",
              "      <th>from_abroad</th>\n",
              "      <th>area</th>\n",
              "      <th>density</th>\n",
              "    </tr>\n",
              "  </thead>\n",
              "  <tbody>\n",
              "    <tr>\n",
              "      <th>count</th>\n",
              "      <td>5.100000e+01</td>\n",
              "      <td>51.000000</td>\n",
              "      <td>5.100000e+01</td>\n",
              "      <td>51.000000</td>\n",
              "    </tr>\n",
              "    <tr>\n",
              "      <th>mean</th>\n",
              "      <td>6.261999e+06</td>\n",
              "      <td>43071.843137</td>\n",
              "      <td>1.793654e+05</td>\n",
              "      <td>158.585968</td>\n",
              "    </tr>\n",
              "    <tr>\n",
              "      <th>std</th>\n",
              "      <td>7.156688e+06</td>\n",
              "      <td>65074.514352</td>\n",
              "      <td>2.215125e+05</td>\n",
              "      <td>592.990817</td>\n",
              "    </tr>\n",
              "    <tr>\n",
              "      <th>min</th>\n",
              "      <td>5.775670e+05</td>\n",
              "      <td>2105.000000</td>\n",
              "      <td>1.581195e+02</td>\n",
              "      <td>0.495115</td>\n",
              "    </tr>\n",
              "    <tr>\n",
              "      <th>25%</th>\n",
              "      <td>1.737232e+06</td>\n",
              "      <td>8790.000000</td>\n",
              "      <td>8.633639e+04</td>\n",
              "      <td>18.459321</td>\n",
              "    </tr>\n",
              "    <tr>\n",
              "      <th>50%</th>\n",
              "      <td>4.385213e+06</td>\n",
              "      <td>19460.000000</td>\n",
              "      <td>1.388881e+05</td>\n",
              "      <td>40.722584</td>\n",
              "    </tr>\n",
              "    <tr>\n",
              "      <th>75%</th>\n",
              "      <td>7.026978e+06</td>\n",
              "      <td>52012.000000</td>\n",
              "      <td>2.089942e+05</td>\n",
              "      <td>86.390197</td>\n",
              "    </tr>\n",
              "    <tr>\n",
              "      <th>max</th>\n",
              "      <td>3.878344e+07</td>\n",
              "      <td>336614.000000</td>\n",
              "      <td>1.477960e+06</td>\n",
              "      <td>4250.089331</td>\n",
              "    </tr>\n",
              "  </tbody>\n",
              "</table>\n",
              "</div>\n",
              "    <div class=\"colab-df-buttons\">\n",
              "\n",
              "  <div class=\"colab-df-container\">\n",
              "    <button class=\"colab-df-convert\" onclick=\"convertToInteractive('df-4002f184-9c97-498f-8b4d-463c38297039')\"\n",
              "            title=\"Convert this dataframe to an interactive table.\"\n",
              "            style=\"display:none;\">\n",
              "\n",
              "  <svg xmlns=\"http://www.w3.org/2000/svg\" height=\"24px\" viewBox=\"0 -960 960 960\">\n",
              "    <path d=\"M120-120v-720h720v720H120Zm60-500h600v-160H180v160Zm220 220h160v-160H400v160Zm0 220h160v-160H400v160ZM180-400h160v-160H180v160Zm440 0h160v-160H620v160ZM180-180h160v-160H180v160Zm440 0h160v-160H620v160Z\"/>\n",
              "  </svg>\n",
              "    </button>\n",
              "\n",
              "  <style>\n",
              "    .colab-df-container {\n",
              "      display:flex;\n",
              "      gap: 12px;\n",
              "    }\n",
              "\n",
              "    .colab-df-convert {\n",
              "      background-color: #E8F0FE;\n",
              "      border: none;\n",
              "      border-radius: 50%;\n",
              "      cursor: pointer;\n",
              "      display: none;\n",
              "      fill: #1967D2;\n",
              "      height: 32px;\n",
              "      padding: 0 0 0 0;\n",
              "      width: 32px;\n",
              "    }\n",
              "\n",
              "    .colab-df-convert:hover {\n",
              "      background-color: #E2EBFA;\n",
              "      box-shadow: 0px 1px 2px rgba(60, 64, 67, 0.3), 0px 1px 3px 1px rgba(60, 64, 67, 0.15);\n",
              "      fill: #174EA6;\n",
              "    }\n",
              "\n",
              "    .colab-df-buttons div {\n",
              "      margin-bottom: 4px;\n",
              "    }\n",
              "\n",
              "    [theme=dark] .colab-df-convert {\n",
              "      background-color: #3B4455;\n",
              "      fill: #D2E3FC;\n",
              "    }\n",
              "\n",
              "    [theme=dark] .colab-df-convert:hover {\n",
              "      background-color: #434B5C;\n",
              "      box-shadow: 0px 1px 3px 1px rgba(0, 0, 0, 0.15);\n",
              "      filter: drop-shadow(0px 1px 2px rgba(0, 0, 0, 0.3));\n",
              "      fill: #FFFFFF;\n",
              "    }\n",
              "  </style>\n",
              "\n",
              "    <script>\n",
              "      const buttonEl =\n",
              "        document.querySelector('#df-4002f184-9c97-498f-8b4d-463c38297039 button.colab-df-convert');\n",
              "      buttonEl.style.display =\n",
              "        google.colab.kernel.accessAllowed ? 'block' : 'none';\n",
              "\n",
              "      async function convertToInteractive(key) {\n",
              "        const element = document.querySelector('#df-4002f184-9c97-498f-8b4d-463c38297039');\n",
              "        const dataTable =\n",
              "          await google.colab.kernel.invokeFunction('convertToInteractive',\n",
              "                                                    [key], {});\n",
              "        if (!dataTable) return;\n",
              "\n",
              "        const docLinkHtml = 'Like what you see? Visit the ' +\n",
              "          '<a target=\"_blank\" href=https://colab.research.google.com/notebooks/data_table.ipynb>data table notebook</a>'\n",
              "          + ' to learn more about interactive tables.';\n",
              "        element.innerHTML = '';\n",
              "        dataTable['output_type'] = 'display_data';\n",
              "        await google.colab.output.renderOutput(dataTable, element);\n",
              "        const docLink = document.createElement('div');\n",
              "        docLink.innerHTML = docLinkHtml;\n",
              "        element.appendChild(docLink);\n",
              "      }\n",
              "    </script>\n",
              "  </div>\n",
              "\n",
              "\n",
              "<div id=\"df-6acd5310-3827-4a15-b7c7-ac532738d786\">\n",
              "  <button class=\"colab-df-quickchart\" onclick=\"quickchart('df-6acd5310-3827-4a15-b7c7-ac532738d786')\"\n",
              "            title=\"Suggest charts\"\n",
              "            style=\"display:none;\">\n",
              "\n",
              "<svg xmlns=\"http://www.w3.org/2000/svg\" height=\"24px\"viewBox=\"0 0 24 24\"\n",
              "     width=\"24px\">\n",
              "    <g>\n",
              "        <path d=\"M19 3H5c-1.1 0-2 .9-2 2v14c0 1.1.9 2 2 2h14c1.1 0 2-.9 2-2V5c0-1.1-.9-2-2-2zM9 17H7v-7h2v7zm4 0h-2V7h2v10zm4 0h-2v-4h2v4z\"/>\n",
              "    </g>\n",
              "</svg>\n",
              "  </button>\n",
              "\n",
              "<style>\n",
              "  .colab-df-quickchart {\n",
              "      --bg-color: #E8F0FE;\n",
              "      --fill-color: #1967D2;\n",
              "      --hover-bg-color: #E2EBFA;\n",
              "      --hover-fill-color: #174EA6;\n",
              "      --disabled-fill-color: #AAA;\n",
              "      --disabled-bg-color: #DDD;\n",
              "  }\n",
              "\n",
              "  [theme=dark] .colab-df-quickchart {\n",
              "      --bg-color: #3B4455;\n",
              "      --fill-color: #D2E3FC;\n",
              "      --hover-bg-color: #434B5C;\n",
              "      --hover-fill-color: #FFFFFF;\n",
              "      --disabled-bg-color: #3B4455;\n",
              "      --disabled-fill-color: #666;\n",
              "  }\n",
              "\n",
              "  .colab-df-quickchart {\n",
              "    background-color: var(--bg-color);\n",
              "    border: none;\n",
              "    border-radius: 50%;\n",
              "    cursor: pointer;\n",
              "    display: none;\n",
              "    fill: var(--fill-color);\n",
              "    height: 32px;\n",
              "    padding: 0;\n",
              "    width: 32px;\n",
              "  }\n",
              "\n",
              "  .colab-df-quickchart:hover {\n",
              "    background-color: var(--hover-bg-color);\n",
              "    box-shadow: 0 1px 2px rgba(60, 64, 67, 0.3), 0 1px 3px 1px rgba(60, 64, 67, 0.15);\n",
              "    fill: var(--button-hover-fill-color);\n",
              "  }\n",
              "\n",
              "  .colab-df-quickchart-complete:disabled,\n",
              "  .colab-df-quickchart-complete:disabled:hover {\n",
              "    background-color: var(--disabled-bg-color);\n",
              "    fill: var(--disabled-fill-color);\n",
              "    box-shadow: none;\n",
              "  }\n",
              "\n",
              "  .colab-df-spinner {\n",
              "    border: 2px solid var(--fill-color);\n",
              "    border-color: transparent;\n",
              "    border-bottom-color: var(--fill-color);\n",
              "    animation:\n",
              "      spin 1s steps(1) infinite;\n",
              "  }\n",
              "\n",
              "  @keyframes spin {\n",
              "    0% {\n",
              "      border-color: transparent;\n",
              "      border-bottom-color: var(--fill-color);\n",
              "      border-left-color: var(--fill-color);\n",
              "    }\n",
              "    20% {\n",
              "      border-color: transparent;\n",
              "      border-left-color: var(--fill-color);\n",
              "      border-top-color: var(--fill-color);\n",
              "    }\n",
              "    30% {\n",
              "      border-color: transparent;\n",
              "      border-left-color: var(--fill-color);\n",
              "      border-top-color: var(--fill-color);\n",
              "      border-right-color: var(--fill-color);\n",
              "    }\n",
              "    40% {\n",
              "      border-color: transparent;\n",
              "      border-right-color: var(--fill-color);\n",
              "      border-top-color: var(--fill-color);\n",
              "    }\n",
              "    60% {\n",
              "      border-color: transparent;\n",
              "      border-right-color: var(--fill-color);\n",
              "    }\n",
              "    80% {\n",
              "      border-color: transparent;\n",
              "      border-right-color: var(--fill-color);\n",
              "      border-bottom-color: var(--fill-color);\n",
              "    }\n",
              "    90% {\n",
              "      border-color: transparent;\n",
              "      border-bottom-color: var(--fill-color);\n",
              "    }\n",
              "  }\n",
              "</style>\n",
              "\n",
              "  <script>\n",
              "    async function quickchart(key) {\n",
              "      const quickchartButtonEl =\n",
              "        document.querySelector('#' + key + ' button');\n",
              "      quickchartButtonEl.disabled = true;  // To prevent multiple clicks.\n",
              "      quickchartButtonEl.classList.add('colab-df-spinner');\n",
              "      try {\n",
              "        const charts = await google.colab.kernel.invokeFunction(\n",
              "            'suggestCharts', [key], {});\n",
              "      } catch (error) {\n",
              "        console.error('Error during call to suggestCharts:', error);\n",
              "      }\n",
              "      quickchartButtonEl.classList.remove('colab-df-spinner');\n",
              "      quickchartButtonEl.classList.add('colab-df-quickchart-complete');\n",
              "    }\n",
              "    (() => {\n",
              "      let quickchartButtonEl =\n",
              "        document.querySelector('#df-6acd5310-3827-4a15-b7c7-ac532738d786 button');\n",
              "      quickchartButtonEl.style.display =\n",
              "        google.colab.kernel.accessAllowed ? 'block' : 'none';\n",
              "    })();\n",
              "  </script>\n",
              "</div>\n",
              "\n",
              "    </div>\n",
              "  </div>\n"
            ],
            "application/vnd.google.colaboratory.intrinsic+json": {
              "type": "dataframe",
              "summary": "{\n  \"name\": \"census\",\n  \"rows\": 8,\n  \"fields\": [\n    {\n      \"column\": \"population\",\n      \"properties\": {\n        \"dtype\": \"number\",\n        \"std\": 12667246.605657728,\n        \"min\": 51.0,\n        \"max\": 38783436.0,\n        \"num_unique_values\": 8,\n        \"samples\": [\n          6261999.137254902,\n          4385213.0,\n          51.0\n        ],\n        \"semantic_type\": \"\",\n        \"description\": \"\"\n      }\n    },\n    {\n      \"column\": \"from_abroad\",\n      \"properties\": {\n        \"dtype\": \"number\",\n        \"std\": 112010.7590366438,\n        \"min\": 51.0,\n        \"max\": 336614.0,\n        \"num_unique_values\": 8,\n        \"samples\": [\n          43071.8431372549,\n          19460.0,\n          51.0\n        ],\n        \"semantic_type\": \"\",\n        \"description\": \"\"\n      }\n    },\n    {\n      \"column\": \"area\",\n      \"properties\": {\n        \"dtype\": \"number\",\n        \"std\": 488017.61241871695,\n        \"min\": 51.0,\n        \"max\": 1477960.0605,\n        \"num_unique_values\": 8,\n        \"samples\": [\n          179365.39391372542,\n          138888.1284,\n          51.0\n        ],\n        \"semantic_type\": \"\",\n        \"description\": \"\"\n      }\n    },\n    {\n      \"column\": \"density\",\n      \"properties\": {\n        \"dtype\": \"number\",\n        \"std\": 1467.4446689293898,\n        \"min\": 0.49511486782155845,\n        \"max\": 4250.089331170412,\n        \"num_unique_values\": 8,\n        \"samples\": [\n          158.58596758120513,\n          40.72258400166846,\n          51.0\n        ],\n        \"semantic_type\": \"\",\n        \"description\": \"\"\n      }\n    }\n  ]\n}"
            }
          },
          "metadata": {},
          "execution_count": 137
        }
      ],
      "source": [
        "census.describe()"
      ]
    },
    {
      "cell_type": "markdown",
      "metadata": {
        "id": "JXcD13IzNR9g"
      },
      "source": [
        "La tabella ottenuta mostra:\n",
        "- `count` = valori non mancanti, ovvero diversi da NA\n",
        "  - in questo caso non ci sono valori mancanti, quindi tutti i count sono pari al numero di righe (51)\n",
        "- `mean` = media\n",
        "  - ad es. la popolazione media per stato è di 6,26 milioni di abitanti\n",
        "- `std` = deviazione standard\n",
        "- `min`/`max` = valori minimo/massimo\n",
        "- `25%`/`50%`/`75%` = percentili\n",
        "  - ad es. il 25% degli stati ha densità di popolazione **inferiore a** 18,46 abitanti per km²"
      ]
    },
    {
      "cell_type": "markdown",
      "metadata": {
        "id": "S6FobBHvNR9g"
      },
      "source": [
        "Di default le statistiche sono calcolate per colonne (riducendo le righe), perché è l'esigenza più comune: nella tabella `census`, così come in altri casi pratici, ogni colonna ha valori in scale diverse per cui non ha senso calcolare somma, media, ecc. per riga\n",
        "\n",
        "`sum()` in un DataFrame corrisponde in pratica a `sum(0)` in una matrice NumPy\n",
        "\n",
        "Nel caso si vogliano calcolare le statistiche per righe (riducendo le colonne), si può specificare `axis=1`: questo corrisponde in pratica a `sum(1)` su una matrice NumPy"
      ]
    },
    {
      "cell_type": "markdown",
      "metadata": {
        "id": "2YnPE0kXNR9h"
      },
      "source": [
        "Ad esempio, applicando `sum()` in modo standard al DataFrame `state_to_state`, otteniamo il totale di abitanti trasferitisi **da** ogni stato (colonne)..."
      ]
    },
    {
      "cell_type": "code",
      "execution_count": 138,
      "metadata": {
        "colab": {
          "base_uri": "https://localhost:8080/",
          "height": 178
        },
        "id": "8k8C4GZSNR9h",
        "outputId": "aadd019a-5b7a-4344-8fb8-6d67e2fdde1d"
      },
      "outputs": [
        {
          "output_type": "execute_result",
          "data": {
            "text/plain": [
              "Alabama     99892\n",
              "Alaska      42074\n",
              "Arizona    192103\n",
              "dtype: int64"
            ],
            "text/html": [
              "<div>\n",
              "<style scoped>\n",
              "    .dataframe tbody tr th:only-of-type {\n",
              "        vertical-align: middle;\n",
              "    }\n",
              "\n",
              "    .dataframe tbody tr th {\n",
              "        vertical-align: top;\n",
              "    }\n",
              "\n",
              "    .dataframe thead th {\n",
              "        text-align: right;\n",
              "    }\n",
              "</style>\n",
              "<table border=\"1\" class=\"dataframe\">\n",
              "  <thead>\n",
              "    <tr style=\"text-align: right;\">\n",
              "      <th></th>\n",
              "      <th>0</th>\n",
              "    </tr>\n",
              "  </thead>\n",
              "  <tbody>\n",
              "    <tr>\n",
              "      <th>Alabama</th>\n",
              "      <td>99892</td>\n",
              "    </tr>\n",
              "    <tr>\n",
              "      <th>Alaska</th>\n",
              "      <td>42074</td>\n",
              "    </tr>\n",
              "    <tr>\n",
              "      <th>Arizona</th>\n",
              "      <td>192103</td>\n",
              "    </tr>\n",
              "  </tbody>\n",
              "</table>\n",
              "</div><br><label><b>dtype:</b> int64</label>"
            ]
          },
          "metadata": {},
          "execution_count": 138
        }
      ],
      "source": [
        "state_to_state.sum()   .head(3)"
      ]
    },
    {
      "cell_type": "markdown",
      "metadata": {
        "id": "u1JCYvV3NR9j"
      },
      "source": [
        "...mentre applicando `sum(axis=1)` o in breve `sum(1)` otteniamo il totale di abitanti trasferitisi **verso** ogni stato (righe)..."
      ]
    },
    {
      "cell_type": "code",
      "execution_count": 139,
      "metadata": {
        "colab": {
          "base_uri": "https://localhost:8080/",
          "height": 178
        },
        "id": "yhgavg3aNR9j",
        "outputId": "da3ec8ca-e3d2-4c25-e878-8ab4b20c37e1"
      },
      "outputs": [
        {
          "output_type": "execute_result",
          "data": {
            "text/plain": [
              "Alabama    122220\n",
              "Alaska      31300\n",
              "Arizona    273257\n",
              "dtype: int64"
            ],
            "text/html": [
              "<div>\n",
              "<style scoped>\n",
              "    .dataframe tbody tr th:only-of-type {\n",
              "        vertical-align: middle;\n",
              "    }\n",
              "\n",
              "    .dataframe tbody tr th {\n",
              "        vertical-align: top;\n",
              "    }\n",
              "\n",
              "    .dataframe thead th {\n",
              "        text-align: right;\n",
              "    }\n",
              "</style>\n",
              "<table border=\"1\" class=\"dataframe\">\n",
              "  <thead>\n",
              "    <tr style=\"text-align: right;\">\n",
              "      <th></th>\n",
              "      <th>0</th>\n",
              "    </tr>\n",
              "  </thead>\n",
              "  <tbody>\n",
              "    <tr>\n",
              "      <th>Alabama</th>\n",
              "      <td>122220</td>\n",
              "    </tr>\n",
              "    <tr>\n",
              "      <th>Alaska</th>\n",
              "      <td>31300</td>\n",
              "    </tr>\n",
              "    <tr>\n",
              "      <th>Arizona</th>\n",
              "      <td>273257</td>\n",
              "    </tr>\n",
              "  </tbody>\n",
              "</table>\n",
              "</div><br><label><b>dtype:</b> int64</label>"
            ]
          },
          "metadata": {},
          "execution_count": 139
        }
      ],
      "source": [
        "state_to_state.sum(axis=1)   .head(3)"
      ]
    },
    {
      "cell_type": "markdown",
      "metadata": {
        "id": "jz7EB8XCNR9k"
      },
      "source": [
        "...che è esattamente quanto riportato nella serie `other_state`: possiamo verificarlo col metodo `equals` che indica se due serie sono identiche"
      ]
    },
    {
      "cell_type": "code",
      "execution_count": 140,
      "metadata": {
        "colab": {
          "base_uri": "https://localhost:8080/"
        },
        "id": "Wq4Izr8jNR9k",
        "outputId": "0153487c-5180-4eb5-83fa-cdad718acbc9"
      },
      "outputs": [
        {
          "output_type": "execute_result",
          "data": {
            "text/plain": [
              "True"
            ]
          },
          "metadata": {},
          "execution_count": 140
        }
      ],
      "source": [
        "state_to_state.sum(axis=1).equals(other_state)"
      ]
    },
    {
      "cell_type": "markdown",
      "metadata": {
        "id": "JP1j5kORNR9l"
      },
      "source": [
        "### Esercizio 4: Operazioni sui DataFrame\n",
        "\n",
        "Utilizzando i frame `census` e `state_to_state` (senza utilizzare le serie usate in precedenza), ricavare\n",
        "\n",
        "- **(4a)** la superficie dello stato più grande\n",
        "- **(4b)** il numero totale di persone emigrate dall'Arizona ad un altro stato\n",
        "- **(4c)** il nome dello stato verso cui sono immigrate meno persone dagli altri stati\n",
        "  - promemoria per `state_to_state`: colonna = stato di origine, riga = stato di destinazione"
      ]
    },
    {
      "cell_type": "code",
      "source": [
        "census[\"area\"].max()"
      ],
      "metadata": {
        "colab": {
          "base_uri": "https://localhost:8080/"
        },
        "id": "4U3019oybofT",
        "outputId": "d535e760-c145-43d7-d462-4b99b8c17f7c"
      },
      "execution_count": 144,
      "outputs": [
        {
          "output_type": "execute_result",
          "data": {
            "text/plain": [
              "1477960.0605"
            ]
          },
          "metadata": {},
          "execution_count": 144
        }
      ]
    },
    {
      "cell_type": "code",
      "source": [
        "state_to_state['Arizona'].sum()"
      ],
      "metadata": {
        "colab": {
          "base_uri": "https://localhost:8080/"
        },
        "id": "nm9OMXutcF6o",
        "outputId": "26455bc7-b53a-4156-ad96-ec974414ba07"
      },
      "execution_count": 209,
      "outputs": [
        {
          "output_type": "execute_result",
          "data": {
            "text/plain": [
              "192103"
            ]
          },
          "metadata": {},
          "execution_count": 209
        }
      ]
    },
    {
      "cell_type": "code",
      "source": [
        "state_to_state.sum(axis=1).idxmin()"
      ],
      "metadata": {
        "colab": {
          "base_uri": "https://localhost:8080/",
          "height": 35
        },
        "id": "jJaiti3edawH",
        "outputId": "05faa89d-d902-45a2-acd9-c5a695fa73f7"
      },
      "execution_count": 157,
      "outputs": [
        {
          "output_type": "execute_result",
          "data": {
            "text/plain": [
              "'Vermont'"
            ],
            "application/vnd.google.colaboratory.intrinsic+json": {
              "type": "string"
            }
          },
          "metadata": {},
          "execution_count": 157
        }
      ]
    },
    {
      "cell_type": "markdown",
      "metadata": {
        "id": "m6rehWwvNR9l"
      },
      "source": [
        "### Selezione\n",
        "\n",
        "Per selezionare una porzione arbitraria di DataFrame, vanno indicate righe e colonne da includere\n",
        "\n",
        "Esistono diversi _selettori_, che consentono di selezionare parti di un DataFrame `X` in modo diverso:\n",
        "- `X.loc[...]` seleziona righe e colonne specificate **per etichetta** (es.: colonna \"population\")\n",
        "- `X.iloc[...]` seleziona righe e colonne specificate **per posizione** (es.: colonna 0)\n",
        "\n",
        "In entrambi i casi tra le parentesi vanno specificate righe e colonne da selezionare, come avviene nelle matrici\n",
        "- si può selezionare per valore singolo, intervallo, lista di valori o serie booleana con stesso indice\n",
        "- `:` indica di selezionare tutte le righe o le colonne, se usato per le colonne può essere omesso"
      ]
    },
    {
      "cell_type": "markdown",
      "metadata": {
        "id": "9KLFOfGrNR9l"
      },
      "source": [
        "Ad esempio per selezionare facilmente solo le prime righe e colonne di un DataFrame posso usare `iloc` per specificare gli intervalli per posizione:"
      ]
    },
    {
      "cell_type": "code",
      "execution_count": 158,
      "metadata": {
        "colab": {
          "base_uri": "https://localhost:8080/",
          "height": 143
        },
        "id": "bLro7sjWNR9m",
        "outputId": "68a9ec21-2c6c-4064-c445-1578695183d0"
      },
      "outputs": [
        {
          "output_type": "execute_result",
          "data": {
            "text/plain": [
              "         Alabama  Alaska  Arizona  Arkansas  California\n",
              "Alabama        0     576     1022       495        6611\n",
              "Alaska       423       0     1176        65        3593\n",
              "Arizona      894    1946        0      1205       64756"
            ],
            "text/html": [
              "\n",
              "  <div id=\"df-51ef5d70-d2c5-45b8-88b5-54f6e501e5d5\" class=\"colab-df-container\">\n",
              "    <div>\n",
              "<style scoped>\n",
              "    .dataframe tbody tr th:only-of-type {\n",
              "        vertical-align: middle;\n",
              "    }\n",
              "\n",
              "    .dataframe tbody tr th {\n",
              "        vertical-align: top;\n",
              "    }\n",
              "\n",
              "    .dataframe thead th {\n",
              "        text-align: right;\n",
              "    }\n",
              "</style>\n",
              "<table border=\"1\" class=\"dataframe\">\n",
              "  <thead>\n",
              "    <tr style=\"text-align: right;\">\n",
              "      <th></th>\n",
              "      <th>Alabama</th>\n",
              "      <th>Alaska</th>\n",
              "      <th>Arizona</th>\n",
              "      <th>Arkansas</th>\n",
              "      <th>California</th>\n",
              "    </tr>\n",
              "  </thead>\n",
              "  <tbody>\n",
              "    <tr>\n",
              "      <th>Alabama</th>\n",
              "      <td>0</td>\n",
              "      <td>576</td>\n",
              "      <td>1022</td>\n",
              "      <td>495</td>\n",
              "      <td>6611</td>\n",
              "    </tr>\n",
              "    <tr>\n",
              "      <th>Alaska</th>\n",
              "      <td>423</td>\n",
              "      <td>0</td>\n",
              "      <td>1176</td>\n",
              "      <td>65</td>\n",
              "      <td>3593</td>\n",
              "    </tr>\n",
              "    <tr>\n",
              "      <th>Arizona</th>\n",
              "      <td>894</td>\n",
              "      <td>1946</td>\n",
              "      <td>0</td>\n",
              "      <td>1205</td>\n",
              "      <td>64756</td>\n",
              "    </tr>\n",
              "  </tbody>\n",
              "</table>\n",
              "</div>\n",
              "    <div class=\"colab-df-buttons\">\n",
              "\n",
              "  <div class=\"colab-df-container\">\n",
              "    <button class=\"colab-df-convert\" onclick=\"convertToInteractive('df-51ef5d70-d2c5-45b8-88b5-54f6e501e5d5')\"\n",
              "            title=\"Convert this dataframe to an interactive table.\"\n",
              "            style=\"display:none;\">\n",
              "\n",
              "  <svg xmlns=\"http://www.w3.org/2000/svg\" height=\"24px\" viewBox=\"0 -960 960 960\">\n",
              "    <path d=\"M120-120v-720h720v720H120Zm60-500h600v-160H180v160Zm220 220h160v-160H400v160Zm0 220h160v-160H400v160ZM180-400h160v-160H180v160Zm440 0h160v-160H620v160ZM180-180h160v-160H180v160Zm440 0h160v-160H620v160Z\"/>\n",
              "  </svg>\n",
              "    </button>\n",
              "\n",
              "  <style>\n",
              "    .colab-df-container {\n",
              "      display:flex;\n",
              "      gap: 12px;\n",
              "    }\n",
              "\n",
              "    .colab-df-convert {\n",
              "      background-color: #E8F0FE;\n",
              "      border: none;\n",
              "      border-radius: 50%;\n",
              "      cursor: pointer;\n",
              "      display: none;\n",
              "      fill: #1967D2;\n",
              "      height: 32px;\n",
              "      padding: 0 0 0 0;\n",
              "      width: 32px;\n",
              "    }\n",
              "\n",
              "    .colab-df-convert:hover {\n",
              "      background-color: #E2EBFA;\n",
              "      box-shadow: 0px 1px 2px rgba(60, 64, 67, 0.3), 0px 1px 3px 1px rgba(60, 64, 67, 0.15);\n",
              "      fill: #174EA6;\n",
              "    }\n",
              "\n",
              "    .colab-df-buttons div {\n",
              "      margin-bottom: 4px;\n",
              "    }\n",
              "\n",
              "    [theme=dark] .colab-df-convert {\n",
              "      background-color: #3B4455;\n",
              "      fill: #D2E3FC;\n",
              "    }\n",
              "\n",
              "    [theme=dark] .colab-df-convert:hover {\n",
              "      background-color: #434B5C;\n",
              "      box-shadow: 0px 1px 3px 1px rgba(0, 0, 0, 0.15);\n",
              "      filter: drop-shadow(0px 1px 2px rgba(0, 0, 0, 0.3));\n",
              "      fill: #FFFFFF;\n",
              "    }\n",
              "  </style>\n",
              "\n",
              "    <script>\n",
              "      const buttonEl =\n",
              "        document.querySelector('#df-51ef5d70-d2c5-45b8-88b5-54f6e501e5d5 button.colab-df-convert');\n",
              "      buttonEl.style.display =\n",
              "        google.colab.kernel.accessAllowed ? 'block' : 'none';\n",
              "\n",
              "      async function convertToInteractive(key) {\n",
              "        const element = document.querySelector('#df-51ef5d70-d2c5-45b8-88b5-54f6e501e5d5');\n",
              "        const dataTable =\n",
              "          await google.colab.kernel.invokeFunction('convertToInteractive',\n",
              "                                                    [key], {});\n",
              "        if (!dataTable) return;\n",
              "\n",
              "        const docLinkHtml = 'Like what you see? Visit the ' +\n",
              "          '<a target=\"_blank\" href=https://colab.research.google.com/notebooks/data_table.ipynb>data table notebook</a>'\n",
              "          + ' to learn more about interactive tables.';\n",
              "        element.innerHTML = '';\n",
              "        dataTable['output_type'] = 'display_data';\n",
              "        await google.colab.output.renderOutput(dataTable, element);\n",
              "        const docLink = document.createElement('div');\n",
              "        docLink.innerHTML = docLinkHtml;\n",
              "        element.appendChild(docLink);\n",
              "      }\n",
              "    </script>\n",
              "  </div>\n",
              "\n",
              "\n",
              "<div id=\"df-7601ce69-0ea9-4214-bf05-64b55f2e2d2c\">\n",
              "  <button class=\"colab-df-quickchart\" onclick=\"quickchart('df-7601ce69-0ea9-4214-bf05-64b55f2e2d2c')\"\n",
              "            title=\"Suggest charts\"\n",
              "            style=\"display:none;\">\n",
              "\n",
              "<svg xmlns=\"http://www.w3.org/2000/svg\" height=\"24px\"viewBox=\"0 0 24 24\"\n",
              "     width=\"24px\">\n",
              "    <g>\n",
              "        <path d=\"M19 3H5c-1.1 0-2 .9-2 2v14c0 1.1.9 2 2 2h14c1.1 0 2-.9 2-2V5c0-1.1-.9-2-2-2zM9 17H7v-7h2v7zm4 0h-2V7h2v10zm4 0h-2v-4h2v4z\"/>\n",
              "    </g>\n",
              "</svg>\n",
              "  </button>\n",
              "\n",
              "<style>\n",
              "  .colab-df-quickchart {\n",
              "      --bg-color: #E8F0FE;\n",
              "      --fill-color: #1967D2;\n",
              "      --hover-bg-color: #E2EBFA;\n",
              "      --hover-fill-color: #174EA6;\n",
              "      --disabled-fill-color: #AAA;\n",
              "      --disabled-bg-color: #DDD;\n",
              "  }\n",
              "\n",
              "  [theme=dark] .colab-df-quickchart {\n",
              "      --bg-color: #3B4455;\n",
              "      --fill-color: #D2E3FC;\n",
              "      --hover-bg-color: #434B5C;\n",
              "      --hover-fill-color: #FFFFFF;\n",
              "      --disabled-bg-color: #3B4455;\n",
              "      --disabled-fill-color: #666;\n",
              "  }\n",
              "\n",
              "  .colab-df-quickchart {\n",
              "    background-color: var(--bg-color);\n",
              "    border: none;\n",
              "    border-radius: 50%;\n",
              "    cursor: pointer;\n",
              "    display: none;\n",
              "    fill: var(--fill-color);\n",
              "    height: 32px;\n",
              "    padding: 0;\n",
              "    width: 32px;\n",
              "  }\n",
              "\n",
              "  .colab-df-quickchart:hover {\n",
              "    background-color: var(--hover-bg-color);\n",
              "    box-shadow: 0 1px 2px rgba(60, 64, 67, 0.3), 0 1px 3px 1px rgba(60, 64, 67, 0.15);\n",
              "    fill: var(--button-hover-fill-color);\n",
              "  }\n",
              "\n",
              "  .colab-df-quickchart-complete:disabled,\n",
              "  .colab-df-quickchart-complete:disabled:hover {\n",
              "    background-color: var(--disabled-bg-color);\n",
              "    fill: var(--disabled-fill-color);\n",
              "    box-shadow: none;\n",
              "  }\n",
              "\n",
              "  .colab-df-spinner {\n",
              "    border: 2px solid var(--fill-color);\n",
              "    border-color: transparent;\n",
              "    border-bottom-color: var(--fill-color);\n",
              "    animation:\n",
              "      spin 1s steps(1) infinite;\n",
              "  }\n",
              "\n",
              "  @keyframes spin {\n",
              "    0% {\n",
              "      border-color: transparent;\n",
              "      border-bottom-color: var(--fill-color);\n",
              "      border-left-color: var(--fill-color);\n",
              "    }\n",
              "    20% {\n",
              "      border-color: transparent;\n",
              "      border-left-color: var(--fill-color);\n",
              "      border-top-color: var(--fill-color);\n",
              "    }\n",
              "    30% {\n",
              "      border-color: transparent;\n",
              "      border-left-color: var(--fill-color);\n",
              "      border-top-color: var(--fill-color);\n",
              "      border-right-color: var(--fill-color);\n",
              "    }\n",
              "    40% {\n",
              "      border-color: transparent;\n",
              "      border-right-color: var(--fill-color);\n",
              "      border-top-color: var(--fill-color);\n",
              "    }\n",
              "    60% {\n",
              "      border-color: transparent;\n",
              "      border-right-color: var(--fill-color);\n",
              "    }\n",
              "    80% {\n",
              "      border-color: transparent;\n",
              "      border-right-color: var(--fill-color);\n",
              "      border-bottom-color: var(--fill-color);\n",
              "    }\n",
              "    90% {\n",
              "      border-color: transparent;\n",
              "      border-bottom-color: var(--fill-color);\n",
              "    }\n",
              "  }\n",
              "</style>\n",
              "\n",
              "  <script>\n",
              "    async function quickchart(key) {\n",
              "      const quickchartButtonEl =\n",
              "        document.querySelector('#' + key + ' button');\n",
              "      quickchartButtonEl.disabled = true;  // To prevent multiple clicks.\n",
              "      quickchartButtonEl.classList.add('colab-df-spinner');\n",
              "      try {\n",
              "        const charts = await google.colab.kernel.invokeFunction(\n",
              "            'suggestCharts', [key], {});\n",
              "      } catch (error) {\n",
              "        console.error('Error during call to suggestCharts:', error);\n",
              "      }\n",
              "      quickchartButtonEl.classList.remove('colab-df-spinner');\n",
              "      quickchartButtonEl.classList.add('colab-df-quickchart-complete');\n",
              "    }\n",
              "    (() => {\n",
              "      let quickchartButtonEl =\n",
              "        document.querySelector('#df-7601ce69-0ea9-4214-bf05-64b55f2e2d2c button');\n",
              "      quickchartButtonEl.style.display =\n",
              "        google.colab.kernel.accessAllowed ? 'block' : 'none';\n",
              "    })();\n",
              "  </script>\n",
              "</div>\n",
              "\n",
              "    </div>\n",
              "  </div>\n"
            ],
            "application/vnd.google.colaboratory.intrinsic+json": {
              "type": "dataframe",
              "summary": "{\n  \"name\": \"state_to_state\",\n  \"rows\": 3,\n  \"fields\": [\n    {\n      \"column\": \"Alabama\",\n      \"properties\": {\n        \"dtype\": \"number\",\n        \"std\": 447,\n        \"min\": 0,\n        \"max\": 894,\n        \"num_unique_values\": 3,\n        \"samples\": [\n          0,\n          423,\n          894\n        ],\n        \"semantic_type\": \"\",\n        \"description\": \"\"\n      }\n    },\n    {\n      \"column\": \"Alaska\",\n      \"properties\": {\n        \"dtype\": \"number\",\n        \"std\": 999,\n        \"min\": 0,\n        \"max\": 1946,\n        \"num_unique_values\": 3,\n        \"samples\": [\n          576,\n          0,\n          1946\n        ],\n        \"semantic_type\": \"\",\n        \"description\": \"\"\n      }\n    },\n    {\n      \"column\": \"Arizona\",\n      \"properties\": {\n        \"dtype\": \"number\",\n        \"std\": 639,\n        \"min\": 0,\n        \"max\": 1176,\n        \"num_unique_values\": 3,\n        \"samples\": [\n          1022,\n          1176,\n          0\n        ],\n        \"semantic_type\": \"\",\n        \"description\": \"\"\n      }\n    },\n    {\n      \"column\": \"Arkansas\",\n      \"properties\": {\n        \"dtype\": \"number\",\n        \"std\": 575,\n        \"min\": 65,\n        \"max\": 1205,\n        \"num_unique_values\": 3,\n        \"samples\": [\n          495,\n          65,\n          1205\n        ],\n        \"semantic_type\": \"\",\n        \"description\": \"\"\n      }\n    },\n    {\n      \"column\": \"California\",\n      \"properties\": {\n        \"dtype\": \"number\",\n        \"std\": 34474,\n        \"min\": 3593,\n        \"max\": 64756,\n        \"num_unique_values\": 3,\n        \"samples\": [\n          6611,\n          3593,\n          64756\n        ],\n        \"semantic_type\": \"\",\n        \"description\": \"\"\n      }\n    }\n  ]\n}"
            }
          },
          "metadata": {},
          "execution_count": 158
        }
      ],
      "source": [
        "state_to_state.iloc[:3, :5]  # forma breve per [0:3, 0:5]"
      ]
    },
    {
      "cell_type": "markdown",
      "metadata": {
        "id": "wwtzlWFqNR9n"
      },
      "source": [
        "Selezionando una **singola riga** di un DataFrame, **otteniamo una serie** con i valori di tutte le colonne"
      ]
    },
    {
      "cell_type": "code",
      "execution_count": 161,
      "metadata": {
        "colab": {
          "base_uri": "https://localhost:8080/",
          "height": 209
        },
        "id": "DoIRV8anNR9n",
        "outputId": "0de4d6c2-6132-47d5-d403-2feb0fa2ab23"
      },
      "outputs": [
        {
          "output_type": "execute_result",
          "data": {
            "text/plain": [
              "population     3.878344e+07\n",
              "from_abroad    3.366140e+05\n",
              "area           4.034682e+05\n",
              "density        9.612514e+01\n",
              "Name: California, dtype: float64"
            ],
            "text/html": [
              "<div>\n",
              "<style scoped>\n",
              "    .dataframe tbody tr th:only-of-type {\n",
              "        vertical-align: middle;\n",
              "    }\n",
              "\n",
              "    .dataframe tbody tr th {\n",
              "        vertical-align: top;\n",
              "    }\n",
              "\n",
              "    .dataframe thead th {\n",
              "        text-align: right;\n",
              "    }\n",
              "</style>\n",
              "<table border=\"1\" class=\"dataframe\">\n",
              "  <thead>\n",
              "    <tr style=\"text-align: right;\">\n",
              "      <th></th>\n",
              "      <th>California</th>\n",
              "    </tr>\n",
              "  </thead>\n",
              "  <tbody>\n",
              "    <tr>\n",
              "      <th>population</th>\n",
              "      <td>3.878344e+07</td>\n",
              "    </tr>\n",
              "    <tr>\n",
              "      <th>from_abroad</th>\n",
              "      <td>3.366140e+05</td>\n",
              "    </tr>\n",
              "    <tr>\n",
              "      <th>area</th>\n",
              "      <td>4.034682e+05</td>\n",
              "    </tr>\n",
              "    <tr>\n",
              "      <th>density</th>\n",
              "      <td>9.612514e+01</td>\n",
              "    </tr>\n",
              "  </tbody>\n",
              "</table>\n",
              "</div><br><label><b>dtype:</b> float64</label>"
            ]
          },
          "metadata": {},
          "execution_count": 161
        }
      ],
      "source": [
        "census.loc[\"California\", :]   # \", :\" può essere omesso"
      ]
    },
    {
      "cell_type": "markdown",
      "metadata": {
        "id": "t1vvR8iVNR9p"
      },
      "source": [
        "Usando serie booleane, possiamo selezionare righe (o colonne) per condizioni"
      ]
    },
    {
      "cell_type": "code",
      "execution_count": 164,
      "metadata": {
        "colab": {
          "base_uri": "https://localhost:8080/",
          "height": 143
        },
        "id": "YhXkgGd9NR9p",
        "outputId": "a0438e5c-1f2c-4aa8-b1a4-3cb782425e83"
      },
      "outputs": [
        {
          "output_type": "execute_result",
          "data": {
            "text/plain": [
              "                      population  from_abroad         area      density\n",
              "District of Columbia      672022        11155     158.1195  4250.089331\n",
              "Vermont                   619387         2113   23871.1494    25.947096\n",
              "Wyoming                   577567         2105  251471.2326     2.296752"
            ],
            "text/html": [
              "\n",
              "  <div id=\"df-0d60af30-6a14-4961-ac01-88810ebee1a3\" class=\"colab-df-container\">\n",
              "    <div>\n",
              "<style scoped>\n",
              "    .dataframe tbody tr th:only-of-type {\n",
              "        vertical-align: middle;\n",
              "    }\n",
              "\n",
              "    .dataframe tbody tr th {\n",
              "        vertical-align: top;\n",
              "    }\n",
              "\n",
              "    .dataframe thead th {\n",
              "        text-align: right;\n",
              "    }\n",
              "</style>\n",
              "<table border=\"1\" class=\"dataframe\">\n",
              "  <thead>\n",
              "    <tr style=\"text-align: right;\">\n",
              "      <th></th>\n",
              "      <th>population</th>\n",
              "      <th>from_abroad</th>\n",
              "      <th>area</th>\n",
              "      <th>density</th>\n",
              "    </tr>\n",
              "  </thead>\n",
              "  <tbody>\n",
              "    <tr>\n",
              "      <th>District of Columbia</th>\n",
              "      <td>672022</td>\n",
              "      <td>11155</td>\n",
              "      <td>158.1195</td>\n",
              "      <td>4250.089331</td>\n",
              "    </tr>\n",
              "    <tr>\n",
              "      <th>Vermont</th>\n",
              "      <td>619387</td>\n",
              "      <td>2113</td>\n",
              "      <td>23871.1494</td>\n",
              "      <td>25.947096</td>\n",
              "    </tr>\n",
              "    <tr>\n",
              "      <th>Wyoming</th>\n",
              "      <td>577567</td>\n",
              "      <td>2105</td>\n",
              "      <td>251471.2326</td>\n",
              "      <td>2.296752</td>\n",
              "    </tr>\n",
              "  </tbody>\n",
              "</table>\n",
              "</div>\n",
              "    <div class=\"colab-df-buttons\">\n",
              "\n",
              "  <div class=\"colab-df-container\">\n",
              "    <button class=\"colab-df-convert\" onclick=\"convertToInteractive('df-0d60af30-6a14-4961-ac01-88810ebee1a3')\"\n",
              "            title=\"Convert this dataframe to an interactive table.\"\n",
              "            style=\"display:none;\">\n",
              "\n",
              "  <svg xmlns=\"http://www.w3.org/2000/svg\" height=\"24px\" viewBox=\"0 -960 960 960\">\n",
              "    <path d=\"M120-120v-720h720v720H120Zm60-500h600v-160H180v160Zm220 220h160v-160H400v160Zm0 220h160v-160H400v160ZM180-400h160v-160H180v160Zm440 0h160v-160H620v160ZM180-180h160v-160H180v160Zm440 0h160v-160H620v160Z\"/>\n",
              "  </svg>\n",
              "    </button>\n",
              "\n",
              "  <style>\n",
              "    .colab-df-container {\n",
              "      display:flex;\n",
              "      gap: 12px;\n",
              "    }\n",
              "\n",
              "    .colab-df-convert {\n",
              "      background-color: #E8F0FE;\n",
              "      border: none;\n",
              "      border-radius: 50%;\n",
              "      cursor: pointer;\n",
              "      display: none;\n",
              "      fill: #1967D2;\n",
              "      height: 32px;\n",
              "      padding: 0 0 0 0;\n",
              "      width: 32px;\n",
              "    }\n",
              "\n",
              "    .colab-df-convert:hover {\n",
              "      background-color: #E2EBFA;\n",
              "      box-shadow: 0px 1px 2px rgba(60, 64, 67, 0.3), 0px 1px 3px 1px rgba(60, 64, 67, 0.15);\n",
              "      fill: #174EA6;\n",
              "    }\n",
              "\n",
              "    .colab-df-buttons div {\n",
              "      margin-bottom: 4px;\n",
              "    }\n",
              "\n",
              "    [theme=dark] .colab-df-convert {\n",
              "      background-color: #3B4455;\n",
              "      fill: #D2E3FC;\n",
              "    }\n",
              "\n",
              "    [theme=dark] .colab-df-convert:hover {\n",
              "      background-color: #434B5C;\n",
              "      box-shadow: 0px 1px 3px 1px rgba(0, 0, 0, 0.15);\n",
              "      filter: drop-shadow(0px 1px 2px rgba(0, 0, 0, 0.3));\n",
              "      fill: #FFFFFF;\n",
              "    }\n",
              "  </style>\n",
              "\n",
              "    <script>\n",
              "      const buttonEl =\n",
              "        document.querySelector('#df-0d60af30-6a14-4961-ac01-88810ebee1a3 button.colab-df-convert');\n",
              "      buttonEl.style.display =\n",
              "        google.colab.kernel.accessAllowed ? 'block' : 'none';\n",
              "\n",
              "      async function convertToInteractive(key) {\n",
              "        const element = document.querySelector('#df-0d60af30-6a14-4961-ac01-88810ebee1a3');\n",
              "        const dataTable =\n",
              "          await google.colab.kernel.invokeFunction('convertToInteractive',\n",
              "                                                    [key], {});\n",
              "        if (!dataTable) return;\n",
              "\n",
              "        const docLinkHtml = 'Like what you see? Visit the ' +\n",
              "          '<a target=\"_blank\" href=https://colab.research.google.com/notebooks/data_table.ipynb>data table notebook</a>'\n",
              "          + ' to learn more about interactive tables.';\n",
              "        element.innerHTML = '';\n",
              "        dataTable['output_type'] = 'display_data';\n",
              "        await google.colab.output.renderOutput(dataTable, element);\n",
              "        const docLink = document.createElement('div');\n",
              "        docLink.innerHTML = docLinkHtml;\n",
              "        element.appendChild(docLink);\n",
              "      }\n",
              "    </script>\n",
              "  </div>\n",
              "\n",
              "\n",
              "<div id=\"df-f03ff031-365f-450e-ba5b-3f71d0d6b1aa\">\n",
              "  <button class=\"colab-df-quickchart\" onclick=\"quickchart('df-f03ff031-365f-450e-ba5b-3f71d0d6b1aa')\"\n",
              "            title=\"Suggest charts\"\n",
              "            style=\"display:none;\">\n",
              "\n",
              "<svg xmlns=\"http://www.w3.org/2000/svg\" height=\"24px\"viewBox=\"0 0 24 24\"\n",
              "     width=\"24px\">\n",
              "    <g>\n",
              "        <path d=\"M19 3H5c-1.1 0-2 .9-2 2v14c0 1.1.9 2 2 2h14c1.1 0 2-.9 2-2V5c0-1.1-.9-2-2-2zM9 17H7v-7h2v7zm4 0h-2V7h2v10zm4 0h-2v-4h2v4z\"/>\n",
              "    </g>\n",
              "</svg>\n",
              "  </button>\n",
              "\n",
              "<style>\n",
              "  .colab-df-quickchart {\n",
              "      --bg-color: #E8F0FE;\n",
              "      --fill-color: #1967D2;\n",
              "      --hover-bg-color: #E2EBFA;\n",
              "      --hover-fill-color: #174EA6;\n",
              "      --disabled-fill-color: #AAA;\n",
              "      --disabled-bg-color: #DDD;\n",
              "  }\n",
              "\n",
              "  [theme=dark] .colab-df-quickchart {\n",
              "      --bg-color: #3B4455;\n",
              "      --fill-color: #D2E3FC;\n",
              "      --hover-bg-color: #434B5C;\n",
              "      --hover-fill-color: #FFFFFF;\n",
              "      --disabled-bg-color: #3B4455;\n",
              "      --disabled-fill-color: #666;\n",
              "  }\n",
              "\n",
              "  .colab-df-quickchart {\n",
              "    background-color: var(--bg-color);\n",
              "    border: none;\n",
              "    border-radius: 50%;\n",
              "    cursor: pointer;\n",
              "    display: none;\n",
              "    fill: var(--fill-color);\n",
              "    height: 32px;\n",
              "    padding: 0;\n",
              "    width: 32px;\n",
              "  }\n",
              "\n",
              "  .colab-df-quickchart:hover {\n",
              "    background-color: var(--hover-bg-color);\n",
              "    box-shadow: 0 1px 2px rgba(60, 64, 67, 0.3), 0 1px 3px 1px rgba(60, 64, 67, 0.15);\n",
              "    fill: var(--button-hover-fill-color);\n",
              "  }\n",
              "\n",
              "  .colab-df-quickchart-complete:disabled,\n",
              "  .colab-df-quickchart-complete:disabled:hover {\n",
              "    background-color: var(--disabled-bg-color);\n",
              "    fill: var(--disabled-fill-color);\n",
              "    box-shadow: none;\n",
              "  }\n",
              "\n",
              "  .colab-df-spinner {\n",
              "    border: 2px solid var(--fill-color);\n",
              "    border-color: transparent;\n",
              "    border-bottom-color: var(--fill-color);\n",
              "    animation:\n",
              "      spin 1s steps(1) infinite;\n",
              "  }\n",
              "\n",
              "  @keyframes spin {\n",
              "    0% {\n",
              "      border-color: transparent;\n",
              "      border-bottom-color: var(--fill-color);\n",
              "      border-left-color: var(--fill-color);\n",
              "    }\n",
              "    20% {\n",
              "      border-color: transparent;\n",
              "      border-left-color: var(--fill-color);\n",
              "      border-top-color: var(--fill-color);\n",
              "    }\n",
              "    30% {\n",
              "      border-color: transparent;\n",
              "      border-left-color: var(--fill-color);\n",
              "      border-top-color: var(--fill-color);\n",
              "      border-right-color: var(--fill-color);\n",
              "    }\n",
              "    40% {\n",
              "      border-color: transparent;\n",
              "      border-right-color: var(--fill-color);\n",
              "      border-top-color: var(--fill-color);\n",
              "    }\n",
              "    60% {\n",
              "      border-color: transparent;\n",
              "      border-right-color: var(--fill-color);\n",
              "    }\n",
              "    80% {\n",
              "      border-color: transparent;\n",
              "      border-right-color: var(--fill-color);\n",
              "      border-bottom-color: var(--fill-color);\n",
              "    }\n",
              "    90% {\n",
              "      border-color: transparent;\n",
              "      border-bottom-color: var(--fill-color);\n",
              "    }\n",
              "  }\n",
              "</style>\n",
              "\n",
              "  <script>\n",
              "    async function quickchart(key) {\n",
              "      const quickchartButtonEl =\n",
              "        document.querySelector('#' + key + ' button');\n",
              "      quickchartButtonEl.disabled = true;  // To prevent multiple clicks.\n",
              "      quickchartButtonEl.classList.add('colab-df-spinner');\n",
              "      try {\n",
              "        const charts = await google.colab.kernel.invokeFunction(\n",
              "            'suggestCharts', [key], {});\n",
              "      } catch (error) {\n",
              "        console.error('Error during call to suggestCharts:', error);\n",
              "      }\n",
              "      quickchartButtonEl.classList.remove('colab-df-spinner');\n",
              "      quickchartButtonEl.classList.add('colab-df-quickchart-complete');\n",
              "    }\n",
              "    (() => {\n",
              "      let quickchartButtonEl =\n",
              "        document.querySelector('#df-f03ff031-365f-450e-ba5b-3f71d0d6b1aa button');\n",
              "      quickchartButtonEl.style.display =\n",
              "        google.colab.kernel.accessAllowed ? 'block' : 'none';\n",
              "    })();\n",
              "  </script>\n",
              "</div>\n",
              "\n",
              "    </div>\n",
              "  </div>\n"
            ],
            "application/vnd.google.colaboratory.intrinsic+json": {
              "type": "dataframe",
              "summary": "{\n  \"name\": \"census\",\n  \"rows\": 3,\n  \"fields\": [\n    {\n      \"column\": \"population\",\n      \"properties\": {\n        \"dtype\": \"number\",\n        \"std\": 47330,\n        \"min\": 577567,\n        \"max\": 672022,\n        \"num_unique_values\": 3,\n        \"samples\": [\n          672022,\n          619387,\n          577567\n        ],\n        \"semantic_type\": \"\",\n        \"description\": \"\"\n      }\n    },\n    {\n      \"column\": \"from_abroad\",\n      \"properties\": {\n        \"dtype\": \"number\",\n        \"std\": 5222,\n        \"min\": 2105,\n        \"max\": 11155,\n        \"num_unique_values\": 3,\n        \"samples\": [\n          11155,\n          2113,\n          2105\n        ],\n        \"semantic_type\": \"\",\n        \"description\": \"\"\n      }\n    },\n    {\n      \"column\": \"area\",\n      \"properties\": {\n        \"dtype\": \"number\",\n        \"std\": 138757.81448006126,\n        \"min\": 158.1195,\n        \"max\": 251471.2326,\n        \"num_unique_values\": 3,\n        \"samples\": [\n          158.1195,\n          23871.1494,\n          251471.2326\n        ],\n        \"semantic_type\": \"\",\n        \"description\": \"\"\n      }\n    },\n    {\n      \"column\": \"density\",\n      \"properties\": {\n        \"dtype\": \"number\",\n        \"std\": 2445.6655113722013,\n        \"min\": 2.2967517756541986,\n        \"max\": 4250.089331170412,\n        \"num_unique_values\": 3,\n        \"samples\": [\n          4250.089331170412,\n          25.947095785844315,\n          2.2967517756541986\n        ],\n        \"semantic_type\": \"\",\n        \"description\": \"\"\n      }\n    }\n  ]\n}"
            }
          },
          "metadata": {},
          "execution_count": 164
        }
      ],
      "source": [
        "# righe relative agli Stati con meno di 700.000 abitanti\n",
        "census.loc[census[\"population\"] < 700000]"
      ]
    },
    {
      "cell_type": "code",
      "execution_count": 166,
      "metadata": {
        "colab": {
          "base_uri": "https://localhost:8080/",
          "height": 178
        },
        "id": "sad3z9ntNR9q",
        "outputId": "c39fc508-a0a2-4f20-a5ed-08f2de0e7b72"
      },
      "outputs": [
        {
          "output_type": "execute_result",
          "data": {
            "text/plain": [
              "Delaware                 186.670404\n",
              "District of Columbia    4250.089331\n",
              "Rhode Island             390.537622\n",
              "Name: density, dtype: float64"
            ],
            "text/html": [
              "<div>\n",
              "<style scoped>\n",
              "    .dataframe tbody tr th:only-of-type {\n",
              "        vertical-align: middle;\n",
              "    }\n",
              "\n",
              "    .dataframe tbody tr th {\n",
              "        vertical-align: top;\n",
              "    }\n",
              "\n",
              "    .dataframe thead th {\n",
              "        text-align: right;\n",
              "    }\n",
              "</style>\n",
              "<table border=\"1\" class=\"dataframe\">\n",
              "  <thead>\n",
              "    <tr style=\"text-align: right;\">\n",
              "      <th></th>\n",
              "      <th>density</th>\n",
              "    </tr>\n",
              "  </thead>\n",
              "  <tbody>\n",
              "    <tr>\n",
              "      <th>Delaware</th>\n",
              "      <td>186.670404</td>\n",
              "    </tr>\n",
              "    <tr>\n",
              "      <th>District of Columbia</th>\n",
              "      <td>4250.089331</td>\n",
              "    </tr>\n",
              "    <tr>\n",
              "      <th>Rhode Island</th>\n",
              "      <td>390.537622</td>\n",
              "    </tr>\n",
              "  </tbody>\n",
              "</table>\n",
              "</div><br><label><b>dtype:</b> float64</label>"
            ]
          },
          "metadata": {},
          "execution_count": 166
        }
      ],
      "source": [
        "# densità di popolazione degli Stati con superficie minore di 10.000 km²\n",
        "census.loc[census[\"area\"] < 10000, \"density\"]"
      ]
    },
    {
      "cell_type": "markdown",
      "metadata": {
        "id": "H3QsEkZpNR9r"
      },
      "source": [
        "Per selezionare righe per posizione e colonne per etichetta (o viceversa), si possono concatenare le applicazioni di `loc` e `iloc`"
      ]
    },
    {
      "cell_type": "code",
      "execution_count": 167,
      "metadata": {
        "colab": {
          "base_uri": "https://localhost:8080/",
          "height": 178
        },
        "id": "rB7uvXWZNR9s",
        "outputId": "b3ac0241-7b0d-47e6-b778-7bbd36056995"
      },
      "outputs": [
        {
          "output_type": "execute_result",
          "data": {
            "text/plain": [
              "Alabama    4810126\n",
              "Alaska      731760\n",
              "Arizona    6851836\n",
              "Name: population, dtype: int64"
            ],
            "text/html": [
              "<div>\n",
              "<style scoped>\n",
              "    .dataframe tbody tr th:only-of-type {\n",
              "        vertical-align: middle;\n",
              "    }\n",
              "\n",
              "    .dataframe tbody tr th {\n",
              "        vertical-align: top;\n",
              "    }\n",
              "\n",
              "    .dataframe thead th {\n",
              "        text-align: right;\n",
              "    }\n",
              "</style>\n",
              "<table border=\"1\" class=\"dataframe\">\n",
              "  <thead>\n",
              "    <tr style=\"text-align: right;\">\n",
              "      <th></th>\n",
              "      <th>population</th>\n",
              "    </tr>\n",
              "  </thead>\n",
              "  <tbody>\n",
              "    <tr>\n",
              "      <th>Alabama</th>\n",
              "      <td>4810126</td>\n",
              "    </tr>\n",
              "    <tr>\n",
              "      <th>Alaska</th>\n",
              "      <td>731760</td>\n",
              "    </tr>\n",
              "    <tr>\n",
              "      <th>Arizona</th>\n",
              "      <td>6851836</td>\n",
              "    </tr>\n",
              "  </tbody>\n",
              "</table>\n",
              "</div><br><label><b>dtype:</b> int64</label>"
            ]
          },
          "metadata": {},
          "execution_count": 167
        }
      ],
      "source": [
        "# prime tre righe, colonna \"population\"\n",
        "census.iloc[:3].loc[:, \"population\"]"
      ]
    },
    {
      "cell_type": "markdown",
      "metadata": {
        "id": "LwQCCdYHNR9t"
      },
      "source": [
        "`loc` e `iloc` si possono usare con la stessa logica anche sulle serie, selezionando su una sola dimensione invece di due (`loc` equivale alla selezione normale per etichette)"
      ]
    },
    {
      "cell_type": "code",
      "execution_count": 168,
      "metadata": {
        "colab": {
          "base_uri": "https://localhost:8080/",
          "height": 241
        },
        "id": "m-PEoyh7NR9t",
        "outputId": "614a4225-036a-4db0-89b5-5f3fb3fc30c2"
      },
      "outputs": [
        {
          "output_type": "execute_result",
          "data": {
            "text/plain": [
              "Colorado                 5476928\n",
              "Connecticut              3541758\n",
              "Delaware                  942073\n",
              "District of Columbia      672022\n",
              "Florida                 20401575\n",
              "dtype: int64"
            ],
            "text/html": [
              "<div>\n",
              "<style scoped>\n",
              "    .dataframe tbody tr th:only-of-type {\n",
              "        vertical-align: middle;\n",
              "    }\n",
              "\n",
              "    .dataframe tbody tr th {\n",
              "        vertical-align: top;\n",
              "    }\n",
              "\n",
              "    .dataframe thead th {\n",
              "        text-align: right;\n",
              "    }\n",
              "</style>\n",
              "<table border=\"1\" class=\"dataframe\">\n",
              "  <thead>\n",
              "    <tr style=\"text-align: right;\">\n",
              "      <th></th>\n",
              "      <th>0</th>\n",
              "    </tr>\n",
              "  </thead>\n",
              "  <tbody>\n",
              "    <tr>\n",
              "      <th>Colorado</th>\n",
              "      <td>5476928</td>\n",
              "    </tr>\n",
              "    <tr>\n",
              "      <th>Connecticut</th>\n",
              "      <td>3541758</td>\n",
              "    </tr>\n",
              "    <tr>\n",
              "      <th>Delaware</th>\n",
              "      <td>942073</td>\n",
              "    </tr>\n",
              "    <tr>\n",
              "      <th>District of Columbia</th>\n",
              "      <td>672022</td>\n",
              "    </tr>\n",
              "    <tr>\n",
              "      <th>Florida</th>\n",
              "      <td>20401575</td>\n",
              "    </tr>\n",
              "  </tbody>\n",
              "</table>\n",
              "</div><br><label><b>dtype:</b> int64</label>"
            ]
          },
          "metadata": {},
          "execution_count": 168
        }
      ],
      "source": [
        "# valori di population dal 6° al 10°\n",
        "population.iloc[5:10]"
      ]
    },
    {
      "cell_type": "markdown",
      "metadata": {
        "id": "DMBKD9v6NR9u"
      },
      "source": [
        "### Ordinamento\n",
        "\n",
        "Sia serie che DataFrame forniscono metodi per cambiare l'ordinamento dei dati\n",
        "\n",
        "La funzione `sort_index` ordina una serie o le righe di un frame secondo le etichette (nel nostro caso le righe sono già ordinate alfabeticamente per etichetta)\n",
        "\n",
        "`sort_values` invece ordina una serie secondo i valori in essa o le righe di un frame secondo i valori di una colonna specificata per nome; è possibile specificare una lista di più colonne per risolvere i pareggi, come nella clausola `ORDER BY` di SQL\n",
        "\n",
        "In entrambi i metodi possiamo specificare:\n",
        "\n",
        "- `axis=1` (se applicato ad un frame) per cambiare l'ordinamento delle colonne invece delle righe\n",
        "- `ascending=False` per applicare un ordinamento decrescente\n",
        "\n",
        "Possiamo ad esempio per visualizzare i 5 Stati più popolati"
      ]
    },
    {
      "cell_type": "code",
      "execution_count": 169,
      "metadata": {
        "colab": {
          "base_uri": "https://localhost:8080/",
          "height": 206
        },
        "id": "TCEs9L0lNR9u",
        "outputId": "22b2bb7a-3b09-4883-bc7f-a47281eb5c83"
      },
      "outputs": [
        {
          "output_type": "execute_result",
          "data": {
            "text/plain": [
              "            population  from_abroad         area     density\n",
              "California    38783436       336614  403468.1798   96.125142\n",
              "Texas         27472626       234749  676590.1289   40.604533\n",
              "Florida       20401575       232838  138888.1284  146.892144\n",
              "New York      19526443       166069  122057.3760  159.977575\n",
              "Illinois      12654142        65886  143794.0287   88.001860"
            ],
            "text/html": [
              "\n",
              "  <div id=\"df-0b765b5e-57f6-412a-b2bf-58f16934346b\" class=\"colab-df-container\">\n",
              "    <div>\n",
              "<style scoped>\n",
              "    .dataframe tbody tr th:only-of-type {\n",
              "        vertical-align: middle;\n",
              "    }\n",
              "\n",
              "    .dataframe tbody tr th {\n",
              "        vertical-align: top;\n",
              "    }\n",
              "\n",
              "    .dataframe thead th {\n",
              "        text-align: right;\n",
              "    }\n",
              "</style>\n",
              "<table border=\"1\" class=\"dataframe\">\n",
              "  <thead>\n",
              "    <tr style=\"text-align: right;\">\n",
              "      <th></th>\n",
              "      <th>population</th>\n",
              "      <th>from_abroad</th>\n",
              "      <th>area</th>\n",
              "      <th>density</th>\n",
              "    </tr>\n",
              "  </thead>\n",
              "  <tbody>\n",
              "    <tr>\n",
              "      <th>California</th>\n",
              "      <td>38783436</td>\n",
              "      <td>336614</td>\n",
              "      <td>403468.1798</td>\n",
              "      <td>96.125142</td>\n",
              "    </tr>\n",
              "    <tr>\n",
              "      <th>Texas</th>\n",
              "      <td>27472626</td>\n",
              "      <td>234749</td>\n",
              "      <td>676590.1289</td>\n",
              "      <td>40.604533</td>\n",
              "    </tr>\n",
              "    <tr>\n",
              "      <th>Florida</th>\n",
              "      <td>20401575</td>\n",
              "      <td>232838</td>\n",
              "      <td>138888.1284</td>\n",
              "      <td>146.892144</td>\n",
              "    </tr>\n",
              "    <tr>\n",
              "      <th>New York</th>\n",
              "      <td>19526443</td>\n",
              "      <td>166069</td>\n",
              "      <td>122057.3760</td>\n",
              "      <td>159.977575</td>\n",
              "    </tr>\n",
              "    <tr>\n",
              "      <th>Illinois</th>\n",
              "      <td>12654142</td>\n",
              "      <td>65886</td>\n",
              "      <td>143794.0287</td>\n",
              "      <td>88.001860</td>\n",
              "    </tr>\n",
              "  </tbody>\n",
              "</table>\n",
              "</div>\n",
              "    <div class=\"colab-df-buttons\">\n",
              "\n",
              "  <div class=\"colab-df-container\">\n",
              "    <button class=\"colab-df-convert\" onclick=\"convertToInteractive('df-0b765b5e-57f6-412a-b2bf-58f16934346b')\"\n",
              "            title=\"Convert this dataframe to an interactive table.\"\n",
              "            style=\"display:none;\">\n",
              "\n",
              "  <svg xmlns=\"http://www.w3.org/2000/svg\" height=\"24px\" viewBox=\"0 -960 960 960\">\n",
              "    <path d=\"M120-120v-720h720v720H120Zm60-500h600v-160H180v160Zm220 220h160v-160H400v160Zm0 220h160v-160H400v160ZM180-400h160v-160H180v160Zm440 0h160v-160H620v160ZM180-180h160v-160H180v160Zm440 0h160v-160H620v160Z\"/>\n",
              "  </svg>\n",
              "    </button>\n",
              "\n",
              "  <style>\n",
              "    .colab-df-container {\n",
              "      display:flex;\n",
              "      gap: 12px;\n",
              "    }\n",
              "\n",
              "    .colab-df-convert {\n",
              "      background-color: #E8F0FE;\n",
              "      border: none;\n",
              "      border-radius: 50%;\n",
              "      cursor: pointer;\n",
              "      display: none;\n",
              "      fill: #1967D2;\n",
              "      height: 32px;\n",
              "      padding: 0 0 0 0;\n",
              "      width: 32px;\n",
              "    }\n",
              "\n",
              "    .colab-df-convert:hover {\n",
              "      background-color: #E2EBFA;\n",
              "      box-shadow: 0px 1px 2px rgba(60, 64, 67, 0.3), 0px 1px 3px 1px rgba(60, 64, 67, 0.15);\n",
              "      fill: #174EA6;\n",
              "    }\n",
              "\n",
              "    .colab-df-buttons div {\n",
              "      margin-bottom: 4px;\n",
              "    }\n",
              "\n",
              "    [theme=dark] .colab-df-convert {\n",
              "      background-color: #3B4455;\n",
              "      fill: #D2E3FC;\n",
              "    }\n",
              "\n",
              "    [theme=dark] .colab-df-convert:hover {\n",
              "      background-color: #434B5C;\n",
              "      box-shadow: 0px 1px 3px 1px rgba(0, 0, 0, 0.15);\n",
              "      filter: drop-shadow(0px 1px 2px rgba(0, 0, 0, 0.3));\n",
              "      fill: #FFFFFF;\n",
              "    }\n",
              "  </style>\n",
              "\n",
              "    <script>\n",
              "      const buttonEl =\n",
              "        document.querySelector('#df-0b765b5e-57f6-412a-b2bf-58f16934346b button.colab-df-convert');\n",
              "      buttonEl.style.display =\n",
              "        google.colab.kernel.accessAllowed ? 'block' : 'none';\n",
              "\n",
              "      async function convertToInteractive(key) {\n",
              "        const element = document.querySelector('#df-0b765b5e-57f6-412a-b2bf-58f16934346b');\n",
              "        const dataTable =\n",
              "          await google.colab.kernel.invokeFunction('convertToInteractive',\n",
              "                                                    [key], {});\n",
              "        if (!dataTable) return;\n",
              "\n",
              "        const docLinkHtml = 'Like what you see? Visit the ' +\n",
              "          '<a target=\"_blank\" href=https://colab.research.google.com/notebooks/data_table.ipynb>data table notebook</a>'\n",
              "          + ' to learn more about interactive tables.';\n",
              "        element.innerHTML = '';\n",
              "        dataTable['output_type'] = 'display_data';\n",
              "        await google.colab.output.renderOutput(dataTable, element);\n",
              "        const docLink = document.createElement('div');\n",
              "        docLink.innerHTML = docLinkHtml;\n",
              "        element.appendChild(docLink);\n",
              "      }\n",
              "    </script>\n",
              "  </div>\n",
              "\n",
              "\n",
              "<div id=\"df-93ce820e-d834-4633-ad7d-7b20ca5967cb\">\n",
              "  <button class=\"colab-df-quickchart\" onclick=\"quickchart('df-93ce820e-d834-4633-ad7d-7b20ca5967cb')\"\n",
              "            title=\"Suggest charts\"\n",
              "            style=\"display:none;\">\n",
              "\n",
              "<svg xmlns=\"http://www.w3.org/2000/svg\" height=\"24px\"viewBox=\"0 0 24 24\"\n",
              "     width=\"24px\">\n",
              "    <g>\n",
              "        <path d=\"M19 3H5c-1.1 0-2 .9-2 2v14c0 1.1.9 2 2 2h14c1.1 0 2-.9 2-2V5c0-1.1-.9-2-2-2zM9 17H7v-7h2v7zm4 0h-2V7h2v10zm4 0h-2v-4h2v4z\"/>\n",
              "    </g>\n",
              "</svg>\n",
              "  </button>\n",
              "\n",
              "<style>\n",
              "  .colab-df-quickchart {\n",
              "      --bg-color: #E8F0FE;\n",
              "      --fill-color: #1967D2;\n",
              "      --hover-bg-color: #E2EBFA;\n",
              "      --hover-fill-color: #174EA6;\n",
              "      --disabled-fill-color: #AAA;\n",
              "      --disabled-bg-color: #DDD;\n",
              "  }\n",
              "\n",
              "  [theme=dark] .colab-df-quickchart {\n",
              "      --bg-color: #3B4455;\n",
              "      --fill-color: #D2E3FC;\n",
              "      --hover-bg-color: #434B5C;\n",
              "      --hover-fill-color: #FFFFFF;\n",
              "      --disabled-bg-color: #3B4455;\n",
              "      --disabled-fill-color: #666;\n",
              "  }\n",
              "\n",
              "  .colab-df-quickchart {\n",
              "    background-color: var(--bg-color);\n",
              "    border: none;\n",
              "    border-radius: 50%;\n",
              "    cursor: pointer;\n",
              "    display: none;\n",
              "    fill: var(--fill-color);\n",
              "    height: 32px;\n",
              "    padding: 0;\n",
              "    width: 32px;\n",
              "  }\n",
              "\n",
              "  .colab-df-quickchart:hover {\n",
              "    background-color: var(--hover-bg-color);\n",
              "    box-shadow: 0 1px 2px rgba(60, 64, 67, 0.3), 0 1px 3px 1px rgba(60, 64, 67, 0.15);\n",
              "    fill: var(--button-hover-fill-color);\n",
              "  }\n",
              "\n",
              "  .colab-df-quickchart-complete:disabled,\n",
              "  .colab-df-quickchart-complete:disabled:hover {\n",
              "    background-color: var(--disabled-bg-color);\n",
              "    fill: var(--disabled-fill-color);\n",
              "    box-shadow: none;\n",
              "  }\n",
              "\n",
              "  .colab-df-spinner {\n",
              "    border: 2px solid var(--fill-color);\n",
              "    border-color: transparent;\n",
              "    border-bottom-color: var(--fill-color);\n",
              "    animation:\n",
              "      spin 1s steps(1) infinite;\n",
              "  }\n",
              "\n",
              "  @keyframes spin {\n",
              "    0% {\n",
              "      border-color: transparent;\n",
              "      border-bottom-color: var(--fill-color);\n",
              "      border-left-color: var(--fill-color);\n",
              "    }\n",
              "    20% {\n",
              "      border-color: transparent;\n",
              "      border-left-color: var(--fill-color);\n",
              "      border-top-color: var(--fill-color);\n",
              "    }\n",
              "    30% {\n",
              "      border-color: transparent;\n",
              "      border-left-color: var(--fill-color);\n",
              "      border-top-color: var(--fill-color);\n",
              "      border-right-color: var(--fill-color);\n",
              "    }\n",
              "    40% {\n",
              "      border-color: transparent;\n",
              "      border-right-color: var(--fill-color);\n",
              "      border-top-color: var(--fill-color);\n",
              "    }\n",
              "    60% {\n",
              "      border-color: transparent;\n",
              "      border-right-color: var(--fill-color);\n",
              "    }\n",
              "    80% {\n",
              "      border-color: transparent;\n",
              "      border-right-color: var(--fill-color);\n",
              "      border-bottom-color: var(--fill-color);\n",
              "    }\n",
              "    90% {\n",
              "      border-color: transparent;\n",
              "      border-bottom-color: var(--fill-color);\n",
              "    }\n",
              "  }\n",
              "</style>\n",
              "\n",
              "  <script>\n",
              "    async function quickchart(key) {\n",
              "      const quickchartButtonEl =\n",
              "        document.querySelector('#' + key + ' button');\n",
              "      quickchartButtonEl.disabled = true;  // To prevent multiple clicks.\n",
              "      quickchartButtonEl.classList.add('colab-df-spinner');\n",
              "      try {\n",
              "        const charts = await google.colab.kernel.invokeFunction(\n",
              "            'suggestCharts', [key], {});\n",
              "      } catch (error) {\n",
              "        console.error('Error during call to suggestCharts:', error);\n",
              "      }\n",
              "      quickchartButtonEl.classList.remove('colab-df-spinner');\n",
              "      quickchartButtonEl.classList.add('colab-df-quickchart-complete');\n",
              "    }\n",
              "    (() => {\n",
              "      let quickchartButtonEl =\n",
              "        document.querySelector('#df-93ce820e-d834-4633-ad7d-7b20ca5967cb button');\n",
              "      quickchartButtonEl.style.display =\n",
              "        google.colab.kernel.accessAllowed ? 'block' : 'none';\n",
              "    })();\n",
              "  </script>\n",
              "</div>\n",
              "\n",
              "    </div>\n",
              "  </div>\n"
            ],
            "application/vnd.google.colaboratory.intrinsic+json": {
              "type": "dataframe",
              "summary": "{\n  \"name\": \"census\",\n  \"rows\": 5,\n  \"fields\": [\n    {\n      \"column\": \"population\",\n      \"properties\": {\n        \"dtype\": \"number\",\n        \"std\": 9899861,\n        \"min\": 12654142,\n        \"max\": 38783436,\n        \"num_unique_values\": 5,\n        \"samples\": [\n          27472626,\n          12654142,\n          20401575\n        ],\n        \"semantic_type\": \"\",\n        \"description\": \"\"\n      }\n    },\n    {\n      \"column\": \"from_abroad\",\n      \"properties\": {\n        \"dtype\": \"number\",\n        \"std\": 99781,\n        \"min\": 65886,\n        \"max\": 336614,\n        \"num_unique_values\": 5,\n        \"samples\": [\n          234749,\n          65886,\n          232838\n        ],\n        \"semantic_type\": \"\",\n        \"description\": \"\"\n      }\n    },\n    {\n      \"column\": \"area\",\n      \"properties\": {\n        \"dtype\": \"number\",\n        \"std\": 242126.25134911167,\n        \"min\": 122057.376,\n        \"max\": 676590.1288999999,\n        \"num_unique_values\": 5,\n        \"samples\": [\n          676590.1288999999,\n          143794.0287,\n          138888.1284\n        ],\n        \"semantic_type\": \"\",\n        \"description\": \"\"\n      }\n    },\n    {\n      \"column\": \"density\",\n      \"properties\": {\n        \"dtype\": \"number\",\n        \"std\": 48.174802166579816,\n        \"min\": 40.60453268016929,\n        \"max\": 159.97757480875222,\n        \"num_unique_values\": 5,\n        \"samples\": [\n          40.60453268016929,\n          88.00186012174788,\n          146.89214431087404\n        ],\n        \"semantic_type\": \"\",\n        \"description\": \"\"\n      }\n    }\n  ]\n}"
            }
          },
          "metadata": {},
          "execution_count": 169
        }
      ],
      "source": [
        "census.sort_values(\"population\", ascending=False).head(5)"
      ]
    },
    {
      "cell_type": "markdown",
      "metadata": {
        "id": "KvrFmoMhNR9v"
      },
      "source": [
        "Sia questi metodi che altri che vedremo per trasformare serie o DataFrame **restistuiscono un nuovo oggetto** senza modificare quello esistente.\n",
        "\n",
        "Ad esempio in questo caso il frame `census` non è stato modificato, bensì è stato creato un nuovo frame che è stato restituito da `sort_values` per essere visualizzato.\n",
        "\n",
        "È comune in pandas applicare trasformazioni composte di più passaggi concatenando chiamate a diversi metodi, come in questo caso, in cui a `sort_values` è seguito `head`.\n",
        "\n",
        "_In questi e in altri metodi che vedremo è possibile specificare `inplace=True` per modificare l'oggetto esistente invece di restituirne un altro. Questo però è generalmente sconsigliato, specialmente lavorando in Jupyter o simili, per mantenere il codice più facilmente interpretabile._"
      ]
    },
    {
      "cell_type": "markdown",
      "metadata": {
        "id": "Z6GPSxyVNR9v"
      },
      "source": [
        "### Esercizio 5: Selezione da DataFrame\n",
        "\n",
        "Utilizzando il frame `census` (senza utilizzare le serie usate in precedenza), ricavare\n",
        "\n",
        "- **(5a)** la superficie della California\n",
        "- **(5b)** la popolazione (colonna 0) del 13° stato nella tabella\n",
        "- **(5c)** la densità di popolazione dello stato con superficie maggiore\n",
        "- **(5d)** la popolazione totale degli stati con nome che inizia per M\n",
        "- **(5e)** la superficie complessiva degli stati con almeno 20 milioni di abitanti\n",
        "- **(5f)** la popolazione media degli stati con almeno l'1% di popolazione immigrato dall'estero (`from_abroad`) nell'ultimo anno\n",
        "- **(5g)** la superficie totale dei 5 stati con densità di popolazione minore\n",
        "- **(5h)** la popolazione (colonna 0) del 3° stato con superficie maggiore"
      ]
    },
    {
      "cell_type": "code",
      "source": [
        "census.loc[\"California\", \"area\"]"
      ],
      "metadata": {
        "colab": {
          "base_uri": "https://localhost:8080/"
        },
        "id": "g00dCzXSg2OY",
        "outputId": "f545706c-b8ec-4ed1-916f-386d2fd633d1"
      },
      "execution_count": 170,
      "outputs": [
        {
          "output_type": "execute_result",
          "data": {
            "text/plain": [
              "403468.1798"
            ]
          },
          "metadata": {},
          "execution_count": 170
        }
      ]
    },
    {
      "cell_type": "code",
      "source": [
        "census.iloc[12, 0]"
      ],
      "metadata": {
        "colab": {
          "base_uri": "https://localhost:8080/"
        },
        "id": "yToQ4brUhDpF",
        "outputId": "12226218-910e-4417-f232-87e23d5f8fc3"
      },
      "execution_count": 183,
      "outputs": [
        {
          "output_type": "execute_result",
          "data": {
            "text/plain": [
              "1663756"
            ]
          },
          "metadata": {},
          "execution_count": 183
        }
      ]
    },
    {
      "cell_type": "code",
      "source": [
        "census.loc[census['area'].idxmax(), 'density']"
      ],
      "metadata": {
        "colab": {
          "base_uri": "https://localhost:8080/"
        },
        "id": "ZpK2Xj4VhGVp",
        "outputId": "da2d089f-a7b2-4cba-bc63-f976550bbe6d"
      },
      "execution_count": 212,
      "outputs": [
        {
          "output_type": "execute_result",
          "data": {
            "text/plain": [
              "0.49511486782155845"
            ]
          },
          "metadata": {},
          "execution_count": 212
        }
      ]
    },
    {
      "cell_type": "code",
      "source": [
        "census.loc[\"M\":\"N\", \"population\"].sum()"
      ],
      "metadata": {
        "colab": {
          "base_uri": "https://localhost:8080/"
        },
        "id": "FJ1-iMKkhgHW",
        "outputId": "d0d0e2e9-a75d-4ec3-dc36-1b67f29cca92"
      },
      "execution_count": 179,
      "outputs": [
        {
          "output_type": "execute_result",
          "data": {
            "text/plain": [
              "39290015"
            ]
          },
          "metadata": {},
          "execution_count": 179
        }
      ]
    },
    {
      "cell_type": "code",
      "source": [
        "census.loc[census[\"population\"] >= 20_000_000, \"area\"].sum()"
      ],
      "metadata": {
        "colab": {
          "base_uri": "https://localhost:8080/"
        },
        "id": "1LLA10H2h2cl",
        "outputId": "a4b78f7d-9cdb-4ee0-9eec-8f9e6a2e0154"
      },
      "execution_count": 213,
      "outputs": [
        {
          "output_type": "execute_result",
          "data": {
            "text/plain": [
              "1218946.4370999997"
            ]
          },
          "metadata": {},
          "execution_count": 213
        }
      ]
    },
    {
      "cell_type": "code",
      "source": [
        "census.loc[(census[\"from_abroad\"] / census[\"population\"]) >= 0.01, \"population\"].mean()"
      ],
      "metadata": {
        "colab": {
          "base_uri": "https://localhost:8080/"
        },
        "id": "CZdeozstiTLZ",
        "outputId": "279b4831-7380-4f6f-eed7-a1a4fd499cdb"
      },
      "execution_count": 214,
      "outputs": [
        {
          "output_type": "execute_result",
          "data": {
            "text/plain": [
              "7307324.0"
            ]
          },
          "metadata": {},
          "execution_count": 214
        }
      ]
    },
    {
      "cell_type": "code",
      "source": [
        "census.sort_values('density')[:5][\"area\"].sum()"
      ],
      "metadata": {
        "colab": {
          "base_uri": "https://localhost:8080/"
        },
        "id": "sikTmLbBi3-M",
        "outputId": "f5ad467b-ffd5-4689-94aa-723bfd21e3a6"
      },
      "execution_count": 216,
      "outputs": [
        {
          "output_type": "execute_result",
          "data": {
            "text/plain": [
              "2481457.4771"
            ]
          },
          "metadata": {},
          "execution_count": 216
        }
      ]
    },
    {
      "cell_type": "code",
      "source": [
        "census.sort_values('area', ascending=False).iloc[2, 0]"
      ],
      "metadata": {
        "colab": {
          "base_uri": "https://localhost:8080/"
        },
        "id": "B_HwdC3BjQbn",
        "outputId": "67964a00-0053-48d4-cd9d-2eff74afe5dc"
      },
      "execution_count": 219,
      "outputs": [
        {
          "output_type": "execute_result",
          "data": {
            "text/plain": [
              "38783436"
            ]
          },
          "metadata": {},
          "execution_count": 219
        }
      ]
    },
    {
      "cell_type": "markdown",
      "metadata": {
        "id": "KKlTsCiWNR9w"
      },
      "source": [
        "## Creazione di grafici con matplotlib"
      ]
    },
    {
      "cell_type": "markdown",
      "metadata": {
        "id": "nfiFYV9zNR9w"
      },
      "source": [
        "I grafici sono in generale utili nell'analisi preliminare di dati per visualizzare come sono distribuiti i valori in una serie di dati\n",
        "\n",
        "**matplotlib** è tra le librerie Python più diffuse per la creazione di svariati tipi di grafici (a barre, a torta, a dispersione, ...)\n",
        "\n",
        "Iniziamo in questo laboratorio a vedere come creare alcune tipologie di grafici, vedremo nel prossimo altri tipi di grafici e opzioni più avanzate\n",
        "\n",
        "Vediamo due approcci alternativi per creare dei grafici con matplotlib\n",
        "\n",
        "- invocando direttamente le funzioni dell'interfaccia semplificata `pyplot` (che riprende quella di Matlab), a cui vanno esplicitamente passati i dati da graficare\n",
        "- utilizzando i metodi `plot.*` forniti da pandas per creare rapidamente grafici dai dati contenuti in serie e DataFrame"
      ]
    },
    {
      "cell_type": "markdown",
      "metadata": {
        "id": "9iL9AkzHNR9x"
      },
      "source": [
        "Per iniziare, importiamo l'interfaccia `pyplot` con l'alias convenzionale `plt`"
      ]
    },
    {
      "cell_type": "code",
      "execution_count": 220,
      "metadata": {
        "id": "1JjMhXmpNR9y"
      },
      "outputs": [],
      "source": [
        "import matplotlib.pyplot as plt"
      ]
    },
    {
      "cell_type": "markdown",
      "metadata": {
        "id": "JY81caTDNR9y"
      },
      "source": [
        "È inoltre comune eseguire il seguente comando per assicurarsi che i grafici siano disegnati all'interno dei file Jupyter (necessario in versioni più vecchie di Jupyter)"
      ]
    },
    {
      "cell_type": "code",
      "execution_count": 221,
      "metadata": {
        "id": "fDaqS78ENR9z"
      },
      "outputs": [],
      "source": [
        "%matplotlib inline"
      ]
    },
    {
      "cell_type": "markdown",
      "metadata": {
        "id": "sBfxwmf1NR9z"
      },
      "source": [
        "### Grafici a barre\n",
        "\n",
        "Un grafico a barre raffigura una serie di valori come barre di diversa altezza, consentendone un confronto rapido\n",
        "\n",
        "Si crea con la funzione `bar`, indicando in ordine le etichette da assegnare alle barre e i rispettivi valori da usare come altezze\n",
        "\n",
        "I dati possono essere passati in qualsiasi oggetto _array-like_ (liste, array NumPy, serie pandas, ...)"
      ]
    },
    {
      "cell_type": "code",
      "execution_count": 222,
      "metadata": {
        "colab": {
          "base_uri": "https://localhost:8080/",
          "height": 447
        },
        "id": "QhB5EOSJNR90",
        "outputId": "a2910f41-6679-400d-bc68-0356d9bbf14b"
      },
      "outputs": [
        {
          "output_type": "execute_result",
          "data": {
            "text/plain": [
              "<BarContainer object of 4 artists>"
            ]
          },
          "metadata": {},
          "execution_count": 222
        },
        {
          "output_type": "display_data",
          "data": {
            "text/plain": [
              "<Figure size 640x480 with 1 Axes>"
            ],
            "image/png": "[encoded data removed]"
          },
          "metadata": {}
        }
      ],
      "source": [
        "plt.bar(\n",
        "    [ \"two\", \"four\",   \"pi\",    \"e\"],  # etichette\n",
        "    [     2,      4,   3.14,   2.71]   # valori\n",
        ")"
      ]
    },
    {
      "cell_type": "markdown",
      "metadata": {
        "id": "GUtI0PL3NR91"
      },
      "source": [
        "Possiamo utilizzarli ad esempio per visualizzare i valori di una serie\n",
        "\n",
        "Prendiamo come esempio la popolazione dei paesi della costa ovest\n",
        "\n",
        "Essendo numeri molto grandi, matplotlib li visualizza in notazione scientifica (\"1e7\" = decine di milioni)"
      ]
    },
    {
      "cell_type": "code",
      "execution_count": 223,
      "metadata": {
        "colab": {
          "base_uri": "https://localhost:8080/",
          "height": 178
        },
        "id": "8VFvqgBgNR91",
        "outputId": "eea7420f-646f-44bb-ca18-2a944bb18fd1"
      },
      "outputs": [
        {
          "output_type": "execute_result",
          "data": {
            "text/plain": [
              "Washington     7202119\n",
              "Oregon         4052221\n",
              "California    38783436\n",
              "dtype: int64"
            ],
            "text/html": [
              "<div>\n",
              "<style scoped>\n",
              "    .dataframe tbody tr th:only-of-type {\n",
              "        vertical-align: middle;\n",
              "    }\n",
              "\n",
              "    .dataframe tbody tr th {\n",
              "        vertical-align: top;\n",
              "    }\n",
              "\n",
              "    .dataframe thead th {\n",
              "        text-align: right;\n",
              "    }\n",
              "</style>\n",
              "<table border=\"1\" class=\"dataframe\">\n",
              "  <thead>\n",
              "    <tr style=\"text-align: right;\">\n",
              "      <th></th>\n",
              "      <th>0</th>\n",
              "    </tr>\n",
              "  </thead>\n",
              "  <tbody>\n",
              "    <tr>\n",
              "      <th>Washington</th>\n",
              "      <td>7202119</td>\n",
              "    </tr>\n",
              "    <tr>\n",
              "      <th>Oregon</th>\n",
              "      <td>4052221</td>\n",
              "    </tr>\n",
              "    <tr>\n",
              "      <th>California</th>\n",
              "      <td>38783436</td>\n",
              "    </tr>\n",
              "  </tbody>\n",
              "</table>\n",
              "</div><br><label><b>dtype:</b> int64</label>"
            ]
          },
          "metadata": {},
          "execution_count": 223
        }
      ],
      "source": [
        "west_coast_population = population[west_coast]\n",
        "west_coast_population"
      ]
    },
    {
      "cell_type": "code",
      "execution_count": 224,
      "metadata": {
        "colab": {
          "base_uri": "https://localhost:8080/",
          "height": 445
        },
        "id": "4F5u5qyZNR91",
        "outputId": "ec7947ab-cf72-4c6b-bafe-f9f08de2c4b3"
      },
      "outputs": [
        {
          "output_type": "display_data",
          "data": {
            "text/plain": [
              "<Figure size 640x480 with 1 Axes>"
            ],
            "image/png": "[encoded data removed]"
          },
          "metadata": {}
        }
      ],
      "source": [
        "plt.bar(\n",
        "    west_coast_population.index,  # etichette\n",
        "    west_coast_population.values  # valori\n",
        ");  # <-- aggiungere \";\" alla fine per non visualizzare l'output testuale \"<...>\""
      ]
    },
    {
      "cell_type": "markdown",
      "metadata": {
        "id": "Mlx4U5PpNR92"
      },
      "source": [
        "Come alternativa più semplice, si può usare il metodo `plot.bar` disponibile sulle strutture dati pandas, che crea un grafico"
      ]
    },
    {
      "cell_type": "code",
      "execution_count": 225,
      "metadata": {
        "colab": {
          "base_uri": "https://localhost:8080/",
          "height": 513
        },
        "id": "V_YMO9sGNR92",
        "outputId": "5898b1f1-62d2-4c0a-a24a-857c05607c7a"
      },
      "outputs": [
        {
          "output_type": "display_data",
          "data": {
            "text/plain": [
              "<Figure size 640x480 with 1 Axes>"
            ],
            "image/png": "[encoded data removed]"
          },
          "metadata": {}
        }
      ],
      "source": [
        "west_coast_population.plot.bar();"
      ]
    },
    {
      "cell_type": "markdown",
      "metadata": {
        "id": "8jBFIHj5NR93"
      },
      "source": [
        "Nei grafici successivi visualizziamo la popolazione di tutti i 51 stati in milioni di abitanti (dividiamo tutti i valori per 1.000.000), in modo da leggere più facilmente l'asse y"
      ]
    },
    {
      "cell_type": "code",
      "execution_count": 226,
      "metadata": {
        "id": "kP88phXUNR95"
      },
      "outputs": [],
      "source": [
        "population_mln = population / 1_000_000"
      ]
    },
    {
      "cell_type": "markdown",
      "metadata": {
        "id": "vfNGP2ZzNR96"
      },
      "source": [
        "Tramite la funzione `figure` è possibile configurare alcune opzioni del grafico costruito con le istruzioni successive nella medesima cella di codice\n",
        "\n",
        "In particolare possiamo regolare le dimensioni del grafico `figsize` in forma di tupla `(larghezza, altezza)`\n",
        "\n",
        "Utilizziamola creare un grafico più largo con la popolazione di tutti gli stati"
      ]
    },
    {
      "cell_type": "code",
      "execution_count": 227,
      "metadata": {
        "colab": {
          "base_uri": "https://localhost:8080/",
          "height": 429
        },
        "id": "ELLIoKX7NR96",
        "outputId": "a8f6f191-493d-406f-dca7-6d296ce42f92"
      },
      "outputs": [
        {
          "output_type": "display_data",
          "data": {
            "text/plain": [
              "<Figure size 1600x400 with 1 Axes>"
            ],
            "image/png": "[encoded data removed]"
          },
          "metadata": {}
        }
      ],
      "source": [
        "plt.figure(figsize=(16, 4))\n",
        "population_mln.plot.bar();"
      ]
    },
    {
      "cell_type": "markdown",
      "metadata": {
        "id": "VYNBDcIJNR97"
      },
      "source": [
        "L'opzione `figsize` può anche essere passata direttamente ai metodi `plot.*` di pandas"
      ]
    },
    {
      "cell_type": "code",
      "execution_count": 228,
      "metadata": {
        "colab": {
          "base_uri": "https://localhost:8080/",
          "height": 429
        },
        "id": "zYaRRndYNR98",
        "outputId": "2ea51602-2059-44f1-f02d-68b49d22eaba"
      },
      "outputs": [
        {
          "output_type": "display_data",
          "data": {
            "text/plain": [
              "<Figure size 1600x400 with 1 Axes>"
            ],
            "image/png": "[encoded data removed]"
          },
          "metadata": {}
        }
      ],
      "source": [
        "population_mln.plot.bar(figsize=(16, 4));"
      ]
    },
    {
      "cell_type": "markdown",
      "metadata": {
        "id": "BPn4ChUYNR99"
      },
      "source": [
        "Con la funzione `grid` è possibile aggiungere al grafico una griglia su entrambi gli assi o su un solo asse (\"x\" o \"y\") indicato\n",
        "\n",
        "_(per aggiungerla ad entrambi gli assi usare `plt.grid()` oppure specificare `grid=True` in `plot.bar`)_"
      ]
    },
    {
      "cell_type": "code",
      "execution_count": 229,
      "metadata": {
        "colab": {
          "base_uri": "https://localhost:8080/",
          "height": 429
        },
        "id": "BuQEQap3NR9-",
        "outputId": "3d1f3f08-8149-4082-f129-e17d2e118821"
      },
      "outputs": [
        {
          "output_type": "display_data",
          "data": {
            "text/plain": [
              "<Figure size 1600x400 with 1 Axes>"
            ],
            "image/png": "[encoded data removed]"
          },
          "metadata": {}
        }
      ],
      "source": [
        "population_mln.plot.bar(figsize=(16, 4));\n",
        "plt.grid(axis=\"y\");"
      ]
    },
    {
      "cell_type": "markdown",
      "metadata": {
        "id": "B60-v9q5NR9_"
      },
      "source": [
        "Con le funzioni `title`, `xlabel` e `ylabel` è possibile specificare un titolo del grafico, un'etichetta per l'asse X e una per l'asse Y"
      ]
    },
    {
      "cell_type": "code",
      "execution_count": 230,
      "metadata": {
        "colab": {
          "base_uri": "https://localhost:8080/",
          "height": 459
        },
        "id": "alsxP4hXNR-A",
        "outputId": "5b3e5a2c-805f-44b3-915c-58ffc56802cb"
      },
      "outputs": [
        {
          "output_type": "display_data",
          "data": {
            "text/plain": [
              "<Figure size 1600x400 with 1 Axes>"
            ],
            "image/png": "[encoded data removed]"
          },
          "metadata": {}
        }
      ],
      "source": [
        "population_mln.plot.bar(figsize=(16, 4))\n",
        "plt.grid(axis=\"y\")\n",
        "plt.title(\"Popolazione stati USA nel 2016\")\n",
        "plt.xlabel(\"Stato\")\n",
        "plt.ylabel(\"Popolazione (milioni di abitanti)\");"
      ]
    },
    {
      "cell_type": "markdown",
      "metadata": {
        "id": "JfGT8CLmNR-A"
      },
      "source": [
        "### Box plot\n",
        "\n",
        "Un _box plot_ visualizza in modo compatto le statistiche di base di una o più serie di dati\n",
        "\n",
        "In pratica fornisce visivamente molte delle informazioni restituite dal metodo `describe` visto sopra\n",
        "\n",
        "Vediamolo ad esempio sulla popolazione degli stati usando la funzione `boxplot`..."
      ]
    },
    {
      "cell_type": "code",
      "execution_count": 231,
      "metadata": {
        "colab": {
          "base_uri": "https://localhost:8080/",
          "height": 522
        },
        "id": "DGcJCX4LNR-C",
        "outputId": "99a8f5e0-0949-4fa1-91d3-652070bc6114"
      },
      "outputs": [
        {
          "output_type": "display_data",
          "data": {
            "text/plain": [
              "<Figure size 400x600 with 1 Axes>"
            ],
            "image/png": "[encoded data removed]"
          },
          "metadata": {}
        }
      ],
      "source": [
        "plt.figure(figsize=(4, 6))\n",
        "plt.boxplot(population_mln, showmeans=True)\n",
        "plt.grid(axis=\"y\");"
      ]
    },
    {
      "cell_type": "markdown",
      "metadata": {
        "id": "JL65_xv-NR-D"
      },
      "source": [
        "...o alternativamente il metodo `plot.box`"
      ]
    },
    {
      "cell_type": "code",
      "execution_count": 232,
      "metadata": {
        "colab": {
          "base_uri": "https://localhost:8080/",
          "height": 503
        },
        "id": "XQoB0mMONR-D",
        "outputId": "c0eabecc-54aa-427e-a3ac-aec121f824be"
      },
      "outputs": [
        {
          "output_type": "display_data",
          "data": {
            "text/plain": [
              "<Figure size 400x600 with 1 Axes>"
            ],
            "image/png": "[encoded data removed]"
          },
          "metadata": {}
        }
      ],
      "source": [
        "population_mln.plot.box(showmeans=True, figsize=(4, 6))\n",
        "plt.grid(axis=\"y\");"
      ]
    },
    {
      "cell_type": "markdown",
      "metadata": {
        "id": "BQzgtBvWNR-E"
      },
      "source": [
        "Il grafico contiene i seguenti componenti\n",
        "\n",
        "- Gli estremi inferiore e superiore del rettangolo (circa 2 e 7 milioni di abitanti) sono il **primo e terzo quartile** ($Q_1$ e $Q_3$) dei dati, visualizzati come \"25%\" e \"75%\" nell'output di `describe`\n",
        "  - il rettangolo rappresenta in pratica il 50% \"centrale\" dei valori\n",
        "  - la distanza dal primo al terzo quartile ($Q_3-Q_1$) è detta _interquartile range_ (IQR)\n",
        "- La linea centrale (circa 4 milioni) indica la **mediana**, ovvero il secondo quartile (\"50%\" in `describe`)\n",
        "- I cerchi rappresentano i valori molto distanti dalla mediana, detti **outlier**\n",
        "  - nello specifico, sono outlier tutti i valori che sono distanti dal quartile più vicino più di 1,5 volte l'IQR\n",
        "  - formalmente, un valore $x$ è outlier se $x < Q_1 - 1.5\\cdot{IQR}$ oppure $x > Q_3 + 1.5\\cdot{IQR}$\n",
        "  - 1,5 è un valore usato convenzionalmente, che può essere cambiato col parametro `whis` di `boxplot`/`box`\n",
        "- I \"baffi\" (_whiskers_) indicano i valori **minimo** e **massimo** dei dati, escludendo gli outlier\n",
        "- Il triangolo (circa 6 milioni) indica la **media**, che viene omessa se non si specifica `showmeans=True`\n",
        "\n",
        "Si riporta sotto l'output di `describe` sulla medesima serie, da cui ritornano i valori evidenziati nel box plot"
      ]
    },
    {
      "cell_type": "code",
      "execution_count": 233,
      "metadata": {
        "colab": {
          "base_uri": "https://localhost:8080/",
          "height": 335
        },
        "id": "XUwx1rbHNR-F",
        "outputId": "c90c0fef-b6f1-4d86-ec9b-f2361411cc54"
      },
      "outputs": [
        {
          "output_type": "execute_result",
          "data": {
            "text/plain": [
              "count    51.000000\n",
              "mean      6.261999\n",
              "std       7.156688\n",
              "min       0.577567\n",
              "25%       1.737232\n",
              "50%       4.385213\n",
              "75%       7.026977\n",
              "max      38.783436\n",
              "dtype: float64"
            ],
            "text/html": [
              "<div>\n",
              "<style scoped>\n",
              "    .dataframe tbody tr th:only-of-type {\n",
              "        vertical-align: middle;\n",
              "    }\n",
              "\n",
              "    .dataframe tbody tr th {\n",
              "        vertical-align: top;\n",
              "    }\n",
              "\n",
              "    .dataframe thead th {\n",
              "        text-align: right;\n",
              "    }\n",
              "</style>\n",
              "<table border=\"1\" class=\"dataframe\">\n",
              "  <thead>\n",
              "    <tr style=\"text-align: right;\">\n",
              "      <th></th>\n",
              "      <th>0</th>\n",
              "    </tr>\n",
              "  </thead>\n",
              "  <tbody>\n",
              "    <tr>\n",
              "      <th>count</th>\n",
              "      <td>51.000000</td>\n",
              "    </tr>\n",
              "    <tr>\n",
              "      <th>mean</th>\n",
              "      <td>6.261999</td>\n",
              "    </tr>\n",
              "    <tr>\n",
              "      <th>std</th>\n",
              "      <td>7.156688</td>\n",
              "    </tr>\n",
              "    <tr>\n",
              "      <th>min</th>\n",
              "      <td>0.577567</td>\n",
              "    </tr>\n",
              "    <tr>\n",
              "      <th>25%</th>\n",
              "      <td>1.737232</td>\n",
              "    </tr>\n",
              "    <tr>\n",
              "      <th>50%</th>\n",
              "      <td>4.385213</td>\n",
              "    </tr>\n",
              "    <tr>\n",
              "      <th>75%</th>\n",
              "      <td>7.026977</td>\n",
              "    </tr>\n",
              "    <tr>\n",
              "      <th>max</th>\n",
              "      <td>38.783436</td>\n",
              "    </tr>\n",
              "  </tbody>\n",
              "</table>\n",
              "</div><br><label><b>dtype:</b> float64</label>"
            ]
          },
          "metadata": {},
          "execution_count": 233
        }
      ],
      "source": [
        "population_mln.describe()"
      ]
    },
    {
      "cell_type": "markdown",
      "metadata": {
        "id": "wKt3aI3HNR-F"
      },
      "source": [
        "Dagli outlier nella parte superiore e dalla media superiore alla mediana, si intuisce ad occhio che la serie `population` ha pochi valori molto superiori alla mediana\n",
        "\n",
        "Per confronto, si osservi sotto il box plot di un array di 1.000 valori casuali con distribuzione normale: il grafico tende ad essere simmetrico (media = mediana, pochi outlier distribuiti equamente)"
      ]
    },
    {
      "cell_type": "code",
      "execution_count": 234,
      "metadata": {
        "colab": {
          "base_uri": "https://localhost:8080/",
          "height": 522
        },
        "id": "d95h2iA8NR-F",
        "outputId": "f0c94e6d-fe7e-4de7-b9ff-488f0aefac6e"
      },
      "outputs": [
        {
          "output_type": "display_data",
          "data": {
            "text/plain": [
              "<Figure size 400x600 with 1 Axes>"
            ],
            "image/png": "[encoded data removed]"
          },
          "metadata": {}
        }
      ],
      "source": [
        "np.random.seed(123)\n",
        "random_values = np.random.normal(size=1000)\n",
        "plt.figure(figsize=(4, 6))\n",
        "plt.boxplot(random_values, showmeans=True)\n",
        "plt.grid(axis=\"y\");"
      ]
    },
    {
      "cell_type": "markdown",
      "metadata": {
        "id": "T-URO68TNR-G"
      },
      "source": [
        "Invocando `plot.box` su un DataFrame viene generato un grafico unico con i box plot di tutte le colonne numeriche\n",
        "\n",
        "Notare che un grafico con più variabili può essere difficilmente leggibile se le scale di valori sono molto diverse, come in questo caso"
      ]
    },
    {
      "cell_type": "code",
      "execution_count": 235,
      "metadata": {
        "colab": {
          "base_uri": "https://localhost:8080/",
          "height": 445
        },
        "id": "AABTFmC1NR-H",
        "outputId": "f152d428-11bf-4651-ca6f-5fcba2ee8570"
      },
      "outputs": [
        {
          "output_type": "display_data",
          "data": {
            "text/plain": [
              "<Figure size 640x480 with 1 Axes>"
            ],
            "image/png": "[encoded data removed]"
          },
          "metadata": {}
        }
      ],
      "source": [
        "census.plot.box(showmeans=True)\n",
        "plt.grid(axis=\"y\");"
      ]
    },
    {
      "cell_type": "code",
      "execution_count": 236,
      "metadata": {
        "colab": {
          "base_uri": "https://localhost:8080/",
          "height": 445
        },
        "id": "L7cAoJfRNR-H",
        "outputId": "9dcf6e36-7abe-4fb5-dce1-0da588c98185"
      },
      "outputs": [
        {
          "output_type": "display_data",
          "data": {
            "text/plain": [
              "<Figure size 640x480 with 1 Axes>"
            ],
            "image/png": "[encoded data removed]"
          },
          "metadata": {}
        }
      ],
      "source": [
        "# grafico solo su due colonne, parzialmente più leggibile\n",
        "census[[\"from_abroad\", \"area\"]].plot.box(showmeans=True)\n",
        "plt.grid(axis=\"y\");"
      ]
    },
    {
      "cell_type": "markdown",
      "metadata": {
        "id": "P4VaEXL5NR-J"
      },
      "source": [
        "### Esercizio 6: Creazione di grafici\n",
        "\n",
        "- **(6a)** Visualizzare un diagramma a barre con la densità di popolazione degli stati, ordinandoli per densità decrescente\n",
        "- **(6b)** Visualizzare in un boxplot la distribuzione della popolazione dei soli stati con superficie superiore a 100.000 mi²"
      ]
    },
    {
      "cell_type": "code",
      "source": [
        "census.sort_values(\"density\", ascending=False)[\"density\"].plot.bar(figsize=(16,4))"
      ],
      "metadata": {
        "colab": {
          "base_uri": "https://localhost:8080/",
          "height": 441
        },
        "id": "LYPkHh3np9uK",
        "outputId": "e69b0724-4f91-45a1-82b1-86455d890b65"
      },
      "execution_count": 242,
      "outputs": [
        {
          "output_type": "execute_result",
          "data": {
            "text/plain": [
              "<Axes: >"
            ]
          },
          "metadata": {},
          "execution_count": 242
        },
        {
          "output_type": "display_data",
          "data": {
            "text/plain": [
              "<Figure size 1600x400 with 1 Axes>"
            ],
            "image/png": "[encoded data removed]"
          },
          "metadata": {}
        }
      ]
    },
    {
      "cell_type": "code",
      "source": [
        "census.loc[census[\"area\"] > 100_000, \"population\"].plot.box()"
      ],
      "metadata": {
        "colab": {
          "base_uri": "https://localhost:8080/",
          "height": 462
        },
        "id": "pBYrDb7sqVJO",
        "outputId": "5c32be6e-3fe8-4164-cfd9-1a688f529d08"
      },
      "execution_count": 241,
      "outputs": [
        {
          "output_type": "execute_result",
          "data": {
            "text/plain": [
              "<Axes: >"
            ]
          },
          "metadata": {},
          "execution_count": 241
        },
        {
          "output_type": "display_data",
          "data": {
            "text/plain": [
              "<Figure size 640x480 with 1 Axes>"
            ],
            "image/png": "[encoded data removed]"
          },
          "metadata": {}
        }
      ]
    }
  ],
  "metadata": {
    "kernelspec": {
      "display_name": "DIA",
      "language": "python",
      "name": "dia"
    },
    "language_info": {
      "codemirror_mode": {
        "name": "ipython",
        "version": 3
      },
      "file_extension": ".py",
      "mimetype": "text/x-python",
      "name": "python",
      "nbconvert_exporter": "python",
      "pygments_lexer": "ipython3",
      "version": "3.9.15"
    },
    "colab": {
      "provenance": [],
      "include_colab_link": true
    }
  },
  "nbformat": 4,
  "nbformat_minor": 0
}